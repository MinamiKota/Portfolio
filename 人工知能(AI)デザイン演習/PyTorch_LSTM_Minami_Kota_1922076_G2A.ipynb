{
 "cells": [
  {
   "cell_type": "markdown",
   "metadata": {},
   "source": [
    "# PyTorchで LSTM 体験\n",
    "### LSTMの対象：時系列データ（文章、音声、気温、株価、動き(3軸加速度)など）\n",
    "### この演習では X軸方向の加速度データ（sin波で単純化した疑似データ）の値をLSTMに予測させる。=次の動きを予測させるようなイメージ\n",
    "### CPU（ノートPCで十分に計算可能）\n",
    "\n",
    "```\n",
    "以下の問に対して、すべての解答をこの.ipynbファイルに入力し、所定のGoogleClassroomに提出しなさい。\n",
    "\n",
    "\n",
    "【必須】\n",
    "問1 LSTMについて、用語（RNN、再帰、長期記憶、短期記憶）を用いて簡単に説明しなさい。\n",
    "問2 シーケンスとは何か、sequentialの意味から説明しなさい。\n",
    "問3 下記のコードとコメントを参照しながら、予測結果表示までの作業手順（実装方法）を番号付き箇条書きで示しなさい。\n",
    "問4 シーケンス長を変更し、予測値の精度を上げなさい（2つの曲線がぴったり重なるように）。実際に下記のコードに対してシーケンス長を変更して実行し、予測結果（グラフ）を示すとともに、シーケンス長と精度の関係性について簡単に述べなさい。\n",
    "\n",
    "【任意】\n",
    "問5 入力データを下記の例とは異なる波で設定し、実行した結果を示しなさい。\n",
    "問6 実際の株価や気温などの時系列データを用いて予測結果を示しなさい（ネットや書籍のコードを模倣しても構わない）。\n",
    "```"
   ]
  },
  {
   "cell_type": "markdown",
   "metadata": {},
   "source": [
    "【必須】問1　解答欄\n",
    "\n",
    "RNNとは、再帰型ニューラルネットワークであり、ニューラルネットワークを拡張して時系列データを扱えるようにしたものである。LSTMとは、過去の中間層出力の反映が困難であるというRNNの欠点を改善したネットワークである。LSTMは、神経科学をベースにデザインされたものである。長期記憶は、長期間にわたって記憶されているものである。一方、短期記憶は、一時的な想起は可能であるが、長い期間がたつと忘れてしまう記憶である。LSTMは、RNNの中間層出力に対して、記憶期間の長さの考え方を導入することにより、過去の出力の影響を保持することを可能にしている。"
   ]
  },
  {
   "cell_type": "markdown",
   "metadata": {},
   "source": [
    "【必須】問2　解答欄\n",
    "\n",
    "sequentialとは、連続的という意味である。したがってシーケンスとは、系列データ(同質のデータを直列に並べたデータ)である。"
   ]
  },
  {
   "cell_type": "markdown",
   "metadata": {},
   "source": [
    "【必須】問3　解答欄\n",
    "\n",
    "予測結果表示までの実装手順\n",
    "1. ライブラリのインポート\n",
    "1. 入力データの用意\n",
    "1. シーケンス長を設定、入力データをシーケンスに変換(学習データと教師データそれぞれに対して行う)\n",
    "1. 訓練データと検証データの作成(学習データと教師データそれぞれに対して行う)\n",
    "1. LSTMへの入力形式（シーケンス長、バッチサイズ、入力次元）に合わせてデータを前処理\n",
    "1. ネットワークモデルの定義\n",
    "1. ネットワークモデルの実装\n",
    "1. 損失関数と最適化関数の設定\n",
    "1. ネットワークモデルの学習\n",
    "1. 予測結果表示、グラフ化"
   ]
  },
  {
   "cell_type": "markdown",
   "metadata": {},
   "source": [
    "【必須】問4　解答欄\n",
    "\n",
    "下記のコードはシーケンス長を10から55に変更して実行し、予測値の精度を上げたグラフを示している。  \n",
    "シーケンス長を増やすことで、誤差の振れ幅を抑えることができる。シーケンス長を増やすことで基本的には精度を上げることができるが、増やしすぎると精度は低下する。"
   ]
  },
  {
   "cell_type": "markdown",
   "metadata": {},
   "source": [
    "## ライブラリのインポート"
   ]
  },
  {
   "cell_type": "code",
   "execution_count": 159,
   "metadata": {
    "colab": {},
    "colab_type": "code",
    "id": "Vv3Y_1AbNSmp"
   },
   "outputs": [],
   "source": [
    "import torch\n",
    "import torch.nn as nn\n",
    "import torch.optim as optim\n",
    "import matplotlib.pyplot as plt\n",
    "import numpy as np\n",
    "plt.style.use('seaborn') # すべてのグラフに縦線を入れたかったので\n",
    "%matplotlib inline"
   ]
  },
  {
   "cell_type": "markdown",
   "metadata": {},
   "source": [
    "## 入力データの用意\n",
    "\n",
    "```今回は例として、X軸方向の加速度データ【sin波で単純化した疑似データ】を自作 ```"
   ]
  },
  {
   "cell_type": "code",
   "execution_count": 160,
   "metadata": {
    "colab": {},
    "colab_type": "code",
    "id": "Ec4qpj0kSd_9"
   },
   "outputs": [],
   "source": [
    "# 入力データとしてsin波を設定\n",
    "t = np.linspace(0, 499, 500) # 時刻t：0〜499まで1刻みで設定\n",
    "x_acc = np.sin(t * np.pi / 50)"
   ]
  },
  {
   "cell_type": "code",
   "execution_count": 161,
   "metadata": {
    "colab": {
     "base_uri": "https://localhost:8080/",
     "height": 283
    },
    "colab_type": "code",
    "id": "QObIn6JJSnKz",
    "outputId": "75433405-0256-46bc-a5b0-f2008aa395c1"
   },
   "outputs": [
    {
     "data": {
      "image/png": "[encoded data removed]",
      "text/plain": [
       "<Figure size 432x288 with 1 Axes>"
      ]
     },
     "metadata": {
      "needs_background": "light"
     },
     "output_type": "display_data"
    }
   ],
   "source": [
    "plt.grid(linewidth=1)\n",
    "plt.ylabel(' x_acc (G)') # X軸方向の加速度と想定\n",
    "plt.xlabel(' t (sec)') # 時間軸と想定\n",
    "plt.plot(t, x_acc);"
   ]
  },
  {
   "cell_type": "markdown",
   "metadata": {},
   "source": [
    "## シーケンスの作成　（学習データと教師データのそれぞれに対して）\n",
    "``` LSTMのモデルを利用するためには入力データを一定長のデータ＝シーケンスに変換する必要がある ```\n",
    "\n",
    "``` 下記の例では シーケンス長を10に設定（10秒間隔で切り出したデータと想定）```"
   ]
  },
  {
   "cell_type": "code",
   "execution_count": 162,
   "metadata": {},
   "outputs": [
    {
     "name": "stdout",
     "output_type": "stream",
     "text": [
      "学習データ： (445, 55)\n",
      "教師データ： (445, 1)\n"
     ]
    }
   ],
   "source": [
    "# 入力データ：x_acc = np.sin(x * np.pi / 50)\n",
    "\n",
    "#######################################\n",
    "\n",
    "seq_length = 55 # シーケンス長を 10 に設定 \n",
    "                # 検証データ数を10とするとき シーケンス長のMaxは489\n",
    "#######################################\n",
    "\n",
    "input_length = len(x_acc)\n",
    "\n",
    "input_seq_data = [] # 学習データのシーケンス格納用配列\n",
    "teaching_seq_data = [] # 教師データのシーケンス格納用配列\n",
    "\n",
    "for i in range(input_length - seq_length): # 500の全データから10のシーケンス長を引いた「490」回繰り返す\n",
    "    input_seq_data.append( x_acc[ i : i+seq_length])\n",
    "    # 入力データ「x_acc」に対して、シーケンス分「10個」のデータを切り出し、配列に追加していく\n",
    "    # i=0  1回目：x_acc[0]からx_acc[9]までの値をinput_seq_data配列に追加\n",
    "    # i=1  2回目：x_acc[1]からx_acc[10]までの　　　　 〃  \n",
    "    # ・・・\n",
    "    # i=489 490回目：x_acc[489]からx_acc[499]までの　〃  \n",
    "    \n",
    "    teaching_seq_data.append( x_acc[ i+seq_length : i+seq_length+1]) \n",
    "    # 教師データには学習データのシーケンス分だけ先「10個先」のデータを格納\n",
    "    # i=0：  x_acc[10]の値をinput_seq_data配列に追加\n",
    "    # i=1：  x_acc[11]の   　     〃  \n",
    "    # ・・・\n",
    "    # i=489：x_acc[499]の　      〃\n",
    "\n",
    "# numpy 配列に変換\n",
    "np_arr_input = np.array(input_seq_data)\n",
    "np_arr_teach = np.array(teaching_seq_data)\n",
    "\n",
    "print('学習データ：', np_arr_input.shape)\n",
    "# シーケンス長=10なので10刻みでデータが格納されている\n",
    "# 490行 x 10列 のデータ（1行あたり10個のデータが格納されている）\n",
    "\n",
    "print('教師データ：', np_arr_teach.shape)\n",
    "# 490行 x 1列 のデータ（１行あたり１個のデータが格納されている）"
   ]
  },
  {
   "cell_type": "markdown",
   "metadata": {},
   "source": [
    "## 訓練データと検証データの作成　（学習データと教師データのそれぞれに対して）"
   ]
  },
  {
   "cell_type": "code",
   "execution_count": 163,
   "metadata": {
    "colab": {},
    "colab_type": "code",
    "id": "9t2YlmrcT70B"
   },
   "outputs": [
    {
     "name": "stdout",
     "output_type": "stream",
     "text": [
      "(435, 55)\n",
      "(10, 55)\n",
      "(435, 1)\n",
      "(10, 1)\n"
     ]
    }
   ],
   "source": [
    "#検証データ数を設定\n",
    "num_test = 10\n",
    "\n",
    "# 学習データについて\n",
    "# 訓練データを作成（全490行のうち、先頭から480行を訓練データとする）\n",
    "input_seq_train = np_arr_input[:-num_test] # 下の処理を簡略化した書き方\n",
    "#input_seq_train = np_arr_input[0:len(np_arr_input)-num_test]\n",
    "\n",
    "# 検証データを作成（全490行のうち、下から10行を検証データとする）\n",
    "input_seq_test = np_arr_input[-num_test:]\n",
    "\n",
    "\n",
    "\n",
    "# 教師データについて\n",
    "# 訓練データを作成（全490行のうち、先頭から480行を訓練データとする）\n",
    "teach_seq_train = np_arr_teach[:-num_test] # 下の処理を簡略化した書き方\n",
    "#teach_seq_train = np_arr_teach[0:len(np_arr_teach)-num_test]\n",
    "\n",
    "# 検証データを作成（全490行のうち、下から10行を検証データとする）\n",
    "teach_seq_test = np_arr_teach[-num_test:]\n",
    "\n",
    "print(input_seq_train.shape) # 480行 x 10列 のデータ\n",
    "print(input_seq_test.shape)  #  10列 x 10列 のデータ\n",
    "print(teach_seq_train.shape) # 480行 x  1列 のデータ\n",
    "print(teach_seq_test.shape)  #  10列 x  1列 のデータ\n",
    "# 全部で490個あったデータから最初の480を訓練データ、残りの10個を検証データに分けたことを確認できる"
   ]
  },
  {
   "cell_type": "markdown",
   "metadata": {},
   "source": [
    "## LSTMのモデルに入力するためにデータを前処理する\n",
    "``` LSTMへの入力形式（シーケンス長、バッチサイズ、入力次元）```\n",
    "\n",
    "``` 今回はバッチサイズ＝訓練データ数（つまり480）```\n",
    "\n",
    "``` 入力次元は x_acc だけなので 1次元 ```"
   ]
  },
  {
   "cell_type": "code",
   "execution_count": 164,
   "metadata": {
    "colab": {},
    "colab_type": "code",
    "id": "hrBOpFK_Uah5"
   },
   "outputs": [
    {
     "name": "stdout",
     "output_type": "stream",
     "text": [
      "torch.Size([435, 55])\n",
      "torch.Size([435, 1])\n"
     ]
    }
   ],
   "source": [
    "# 32bitの浮動小数点数型tensorに変換する\n",
    "train_t = torch.FloatTensor(input_seq_train)\n",
    "teach_t = torch.FloatTensor(teach_seq_train)\n",
    "\n",
    "print(train_t.size())\n",
    "print(teach_t.size())\n",
    "# Tensor型に変換されていることを確認、データ数、シーケンス長の順番で格納されている"
   ]
  },
  {
   "cell_type": "code",
   "execution_count": 165,
   "metadata": {
    "colab": {},
    "colab_type": "code",
    "id": "YZ3CvwayV2Da"
   },
   "outputs": [
    {
     "name": "stdout",
     "output_type": "stream",
     "text": [
      "torch.Size([55, 435])\n",
      "torch.Size([1, 435])\n"
     ]
    }
   ],
   "source": [
    "# 列の順番を入れ替える　シーケンス長を1番目最初に移動する\n",
    "seq_train_t = train_t.permute(1, 0)\n",
    "seq_teach_t = teach_t.permute(1, 0)\n",
    "\n",
    "print(seq_train_t.size())\n",
    "print(seq_teach_t.size())"
   ]
  },
  {
   "cell_type": "code",
   "execution_count": 166,
   "metadata": {
    "colab": {},
    "colab_type": "code",
    "id": "4-0dZsuhWMRJ"
   },
   "outputs": [
    {
     "name": "stdout",
     "output_type": "stream",
     "text": [
      "torch.Size([55, 435, 1])\n",
      "torch.Size([1, 435, 1])\n"
     ]
    }
   ],
   "source": [
    "# ３つ目の軸、入力次元数を設定するために unsquesszeを用いて　一番最後に1を付与する\n",
    "train_data = seq_train_t.unsqueeze(dim= -1)\n",
    "teach_data = seq_teach_t.unsqueeze(dim= -1)\n",
    "\n",
    "print(train_data.size())\n",
    "print(teach_data.size())"
   ]
  },
  {
   "cell_type": "markdown",
   "metadata": {},
   "source": [
    "## ネットワークモデルの定義"
   ]
  },
  {
   "cell_type": "code",
   "execution_count": 167,
   "metadata": {
    "colab": {},
    "colab_type": "code",
    "id": "a9BMdDdrUoji"
   },
   "outputs": [],
   "source": [
    "# LSTMは全結合(Linear)層とセットで使用する\n",
    "\n",
    "class LSTM(nn.Module):\n",
    "    def __init__(self, hidden_size):\n",
    "        super().__init__()\n",
    "\n",
    "        self.hidden_size = hidden_size\n",
    "        # input_size：入力次元 シーケンス長：10、1次元データ        \n",
    "        self.lstm = nn.LSTM(input_size=1, hidden_size=self.hidden_size)\n",
    "        self.linear = nn.Linear(self.hidden_size, 1)\n",
    "    def forward(self, x):\n",
    "        x, _ = self.lstm(x) # 2つの値が返ってくる：出力値(シーケンス)、隠れ層やセルの状態がタプル型でまとまったもの\n",
    "                            # xに格納される1つ目の出力値だけを用いる。２つ目の返り値は不要なので変数を用意しない（メモリ節約）\n",
    "        # print(len(x))\n",
    "        x_last = x[-1] # 出力値(シーケンス)の一番最後の値だけを取り出す\n",
    "        x = self.linear(x_last) \n",
    "        return x"
   ]
  },
  {
   "cell_type": "markdown",
   "metadata": {},
   "source": [
    "## ネットモデルの実装"
   ]
  },
  {
   "cell_type": "code",
   "execution_count": 168,
   "metadata": {
    "colab": {},
    "colab_type": "code",
    "id": "L9lE_iTnVmp2"
   },
   "outputs": [],
   "source": [
    "# モデルの実装　隠れ層のサイズを100として実装\n",
    "model = LSTM(100)"
   ]
  },
  {
   "cell_type": "markdown",
   "metadata": {},
   "source": [
    "## 損失関数と最適化関数を定義する（設定する）"
   ]
  },
  {
   "cell_type": "code",
   "execution_count": 169,
   "metadata": {
    "colab": {},
    "colab_type": "code",
    "id": "Mt206f2bVpuB"
   },
   "outputs": [],
   "source": [
    "criterion = nn.MSELoss() # 損失関数として回帰問題用のMSEを用いる\n",
    "optimizer = optim.Adam(model.parameters(), lr=0.001) # 最適化関数のAdamを用いる"
   ]
  },
  {
   "cell_type": "markdown",
   "metadata": {},
   "source": [
    "## ネットワークモデルの学習"
   ]
  },
  {
   "cell_type": "code",
   "execution_count": 170,
   "metadata": {
    "colab": {
     "base_uri": "https://localhost:8080/",
     "height": 217
    },
    "colab_type": "code",
    "id": "9ZoEzlz7WjKq",
    "outputId": "12562ff1-4570-4dbf-f1ff-bb2201ee051c",
    "tags": []
   },
   "outputs": [
    {
     "name": "stderr",
     "output_type": "stream",
     "text": [
      "/Users/minamikota/AI_design_1/.venv/lib/python3.6/site-packages/torch/nn/modules/loss.py:445: UserWarning: Using a target size (torch.Size([1, 435, 1])) that is different to the input size (torch.Size([435, 1])). This will likely lead to incorrect results due to broadcasting. Please ensure they have the same size.\n",
      "  return F.mse_loss(input, target, reduction=self.reduction)\n"
     ]
    },
    {
     "name": "stdout",
     "output_type": "stream",
     "text": [
      "epoch: 0, loss: 0.5212289094924927\n",
      "epoch: 1, loss: 0.5074931383132935\n",
      "epoch: 2, loss: 0.49416422843933105\n",
      "epoch: 3, loss: 0.4811447262763977\n",
      "epoch: 4, loss: 0.46831566095352173\n",
      "epoch: 5, loss: 0.45555830001831055\n",
      "epoch: 6, loss: 0.4427546262741089\n",
      "epoch: 7, loss: 0.4297730326652527\n",
      "epoch: 8, loss: 0.41645848751068115\n",
      "epoch: 9, loss: 0.40263187885284424\n",
      "epoch: 10, loss: 0.3880908489227295\n",
      "epoch: 11, loss: 0.3726087212562561\n",
      "epoch: 12, loss: 0.35592901706695557\n",
      "epoch: 13, loss: 0.3377537131309509\n",
      "epoch: 14, loss: 0.31773829460144043\n",
      "epoch: 15, loss: 0.29551225900650024\n",
      "epoch: 16, loss: 0.2707715332508087\n",
      "epoch: 17, loss: 0.24357961118221283\n",
      "epoch: 18, loss: 0.21531327068805695\n",
      "epoch: 19, loss: 0.19142474234104156\n",
      "epoch: 20, loss: 0.18119266629219055\n",
      "epoch: 21, loss: 0.16440799832344055\n",
      "epoch: 22, loss: 0.13796520233154297\n",
      "epoch: 23, loss: 0.11883452534675598\n",
      "epoch: 24, loss: 0.11096299439668655\n",
      "epoch: 25, loss: 0.10972022265195847\n",
      "epoch: 26, loss: 0.1097341775894165\n",
      "epoch: 27, loss: 0.10635370016098022\n",
      "epoch: 28, loss: 0.09729281812906265\n",
      "epoch: 29, loss: 0.08444555103778839\n",
      "epoch: 30, loss: 0.07203204929828644\n",
      "epoch: 31, loss: 0.06299605965614319\n",
      "epoch: 32, loss: 0.05694558471441269\n",
      "epoch: 33, loss: 0.0518353134393692\n",
      "epoch: 34, loss: 0.047095611691474915\n",
      "epoch: 35, loss: 0.043331731110811234\n",
      "epoch: 36, loss: 0.0405789315700531\n",
      "epoch: 37, loss: 0.03814125806093216\n",
      "epoch: 38, loss: 0.035257793962955475\n",
      "epoch: 39, loss: 0.031528130173683167\n",
      "epoch: 40, loss: 0.027005547657608986\n",
      "epoch: 41, loss: 0.022142115980386734\n",
      "epoch: 42, loss: 0.01766113005578518\n",
      "epoch: 43, loss: 0.014313405379652977\n",
      "epoch: 44, loss: 0.012459090910851955\n",
      "epoch: 45, loss: 0.011634312570095062\n",
      "epoch: 46, loss: 0.010692392475903034\n",
      "epoch: 47, loss: 0.008860633708536625\n",
      "epoch: 48, loss: 0.006537303328514099\n",
      "epoch: 49, loss: 0.004648440983146429\n",
      "epoch: 50, loss: 0.0036076700780540705\n",
      "epoch: 51, loss: 0.003194945165887475\n",
      "epoch: 52, loss: 0.0030730883590877056\n",
      "epoch: 53, loss: 0.0030740532092750072\n",
      "epoch: 54, loss: 0.003056336659938097\n",
      "epoch: 55, loss: 0.0027715221513062716\n",
      "epoch: 56, loss: 0.0021266418043524027\n",
      "epoch: 57, loss: 0.0014887036522850394\n",
      "epoch: 58, loss: 0.001345783588476479\n",
      "epoch: 59, loss: 0.0016539344796910882\n",
      "epoch: 60, loss: 0.001871912507340312\n",
      "epoch: 61, loss: 0.0016461956547573209\n",
      "epoch: 62, loss: 0.0011531566269695759\n",
      "epoch: 63, loss: 0.000749033410102129\n",
      "epoch: 64, loss: 0.0005459741805680096\n",
      "epoch: 65, loss: 0.0004410038818605244\n",
      "epoch: 66, loss: 0.0003577920433599502\n",
      "epoch: 67, loss: 0.00030584228807128966\n",
      "epoch: 68, loss: 0.00029376783641055226\n",
      "epoch: 69, loss: 0.0002947768953163177\n",
      "epoch: 70, loss: 0.0002872113254852593\n",
      "epoch: 71, loss: 0.0002810315927490592\n",
      "epoch: 72, loss: 0.0002937129756901413\n",
      "epoch: 73, loss: 0.0003175937454216182\n",
      "epoch: 74, loss: 0.00032493931939825416\n",
      "epoch: 75, loss: 0.0003019632713403553\n",
      "epoch: 76, loss: 0.0002657998993527144\n",
      "epoch: 77, loss: 0.00024356585345230997\n",
      "epoch: 78, loss: 0.00024143887276295573\n",
      "epoch: 79, loss: 0.00024104716430883855\n",
      "epoch: 80, loss: 0.0002242905757157132\n",
      "epoch: 81, loss: 0.0001944760006153956\n",
      "epoch: 82, loss: 0.0001704169117147103\n",
      "epoch: 83, loss: 0.00016437626618426293\n",
      "epoch: 84, loss: 0.00017007076530717313\n",
      "epoch: 85, loss: 0.00017165661847684532\n",
      "epoch: 86, loss: 0.0001616911613382399\n",
      "epoch: 87, loss: 0.00014774991723243147\n",
      "epoch: 88, loss: 0.0001411758566973731\n",
      "epoch: 89, loss: 0.0001431796990800649\n",
      "epoch: 90, loss: 0.00014534474757965654\n",
      "epoch: 91, loss: 0.00014107220340520144\n",
      "epoch: 92, loss: 0.00013207504525780678\n",
      "epoch: 93, loss: 0.00012431232607923448\n",
      "epoch: 94, loss: 0.00012083994079148397\n",
      "epoch: 95, loss: 0.00011934036592720076\n",
      "epoch: 96, loss: 0.00011565033491933718\n",
      "epoch: 97, loss: 0.00010871786798816174\n",
      "epoch: 98, loss: 0.00010130012378795072\n",
      "epoch: 99, loss: 9.626780956750736e-05\n"
     ]
    }
   ],
   "source": [
    "num_epochs = 100\n",
    "losses = []\n",
    "for epoch in range(num_epochs):\n",
    "    # 今回はミニバッチ学習ではなく、バッチ学習なので最適化関数の初期化から始める\n",
    "    optimizer.zero_grad()\n",
    "    output = model(train_data)\n",
    "    loss = criterion(output, teach_data)\n",
    "    loss.backward()\n",
    "    losses.append(loss.item())\n",
    "    optimizer.step()\n",
    "    print(\"epoch: {}, loss: {}\".format(epoch, loss.item()))"
   ]
  },
  {
   "cell_type": "code",
   "execution_count": 171,
   "metadata": {
    "colab": {
     "base_uri": "https://localhost:8080/",
     "height": 283
    },
    "colab_type": "code",
    "id": "KJ5pd7BCXLvN",
    "outputId": "d5464a7e-aeea-4489-894b-d79479526d85"
   },
   "outputs": [
    {
     "data": {
      "text/plain": [
       "[<matplotlib.lines.Line2D at 0x120267128>]"
      ]
     },
     "execution_count": 171,
     "metadata": {},
     "output_type": "execute_result"
    },
    {
     "data": {
      "image/png": "[encoded data removed]",
      "text/plain": [
       "<Figure size 432x288 with 1 Axes>"
      ]
     },
     "metadata": {
      "needs_background": "light"
     },
     "output_type": "display_data"
    }
   ],
   "source": [
    "plt.plot(losses)"
   ]
  },
  {
   "cell_type": "code",
   "execution_count": 172,
   "metadata": {
    "colab": {},
    "colab_type": "code",
    "id": "pqpd_QIlXTLq"
   },
   "outputs": [
    {
     "data": {
      "text/plain": [
       "torch.Size([55, 10, 1])"
      ]
     },
     "execution_count": 172,
     "metadata": {},
     "output_type": "execute_result"
    }
   ],
   "source": [
    "# 訓練データのときと同様に Tensor変換、列の入れ替え、次元の追加をおこなう\n",
    "test_data = torch.FloatTensor(input_seq_test)\n",
    "test_data = test_data.permute(1, 0)\n",
    "test_data = test_data.unsqueeze(dim=-1)\n",
    "test_data.size()"
   ]
  },
  {
   "cell_type": "code",
   "execution_count": 173,
   "metadata": {
    "colab": {},
    "colab_type": "code",
    "id": "HwkgeHNVX0qb",
    "tags": []
   },
   "outputs": [
    {
     "data": {
      "text/plain": [
       "torch.Size([10, 1])"
      ]
     },
     "execution_count": 173,
     "metadata": {},
     "output_type": "execute_result"
    }
   ],
   "source": [
    "x_acc_pred = model(test_data)\n",
    "x_acc_pred.size()"
   ]
  },
  {
   "cell_type": "code",
   "execution_count": 174,
   "metadata": {
    "colab": {
     "base_uri": "https://localhost:8080/",
     "height": 283
    },
    "colab_type": "code",
    "id": "tzUFTFdjX-Vx",
    "outputId": "4a14b3c1-092f-400b-8863-5cbd773513f7"
   },
   "outputs": [
    {
     "data": {
      "text/plain": [
       "[<matplotlib.lines.Line2D at 0x1202947f0>]"
      ]
     },
     "execution_count": 174,
     "metadata": {},
     "output_type": "execute_result"
    },
    {
     "data": {
      "image/png": "[encoded data removed]",
      "text/plain": [
       "<Figure size 432x288 with 1 Axes>"
      ]
     },
     "metadata": {
      "needs_background": "light"
     },
     "output_type": "display_data"
    }
   ],
   "source": [
    "# まずは全体を表示　x = 490 〜 500 の一致度を確認　緑色が予測線\n",
    "plt.plot(t, x_acc)\n",
    "plt.plot(np.arange(490, 500), x_acc_pred.detach())"
   ]
  },
  {
   "cell_type": "code",
   "execution_count": 175,
   "metadata": {},
   "outputs": [
    {
     "data": {
      "text/plain": [
       "(450.0, 500.0)"
      ]
     },
     "execution_count": 175,
     "metadata": {},
     "output_type": "execute_result"
    },
    {
     "data": {
      "image/png": "[encoded data removed]",
      "text/plain": [
       "<Figure size 432x288 with 1 Axes>"
      ]
     },
     "metadata": {
      "needs_background": "light"
     },
     "output_type": "display_data"
    }
   ],
   "source": [
    "# 一致度を分かりやすくするために450-500付近を拡大表示\n",
    "\n",
    "plt.plot(t, x_acc)\n",
    "plt.plot(np.arange(490, 500), x_acc_pred.detach())\n",
    "plt.xlim([450, 500])"
   ]
  }
 ],
 "metadata": {
  "colab": {
   "name": "LSTM.ipynb",
   "provenance": []
  },
  "kernelspec": {
   "display_name": "Python 3",
   "language": "python",
   "name": "python3"
  },
  "language_info": {
   "codemirror_mode": {
    "name": "ipython",
    "version": 3
   },
   "file_extension": ".py",
   "mimetype": "text/x-python",
   "name": "python",
   "nbconvert_exporter": "python",
   "pygments_lexer": "ipython3",
   "version": "3.6.1"
  }
 },
 "nbformat": 4,
 "nbformat_minor": 4
}
