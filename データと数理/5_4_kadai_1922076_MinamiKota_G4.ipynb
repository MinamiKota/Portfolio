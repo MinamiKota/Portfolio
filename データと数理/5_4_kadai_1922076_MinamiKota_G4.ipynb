{
  "nbformat": 4,
  "nbformat_minor": 0,
  "metadata": {
    "colab": {
      "name": "5_4_kadai_1922076_MinamiKota_G4",
      "provenance": [],
      "collapsed_sections": []
    },
    "kernelspec": {
      "name": "python3",
      "display_name": "Python 3"
    }
  },
  "cells": [
    {
      "cell_type": "markdown",
      "metadata": {
        "id": "GzmIKD7Qh1lg",
        "colab_type": "text"
      },
      "source": [
        "**5月4日の課題**  \n",
        "1922076 南 昂汰 G4"
      ]
    },
    {
      "cell_type": "markdown",
      "metadata": {
        "id": "hygfO8idiIYX",
        "colab_type": "text"
      },
      "source": [
        "1. 連立1次方程式をガウス・ジョルダンの消去法で解く関数gauss_jordan_elimination(A,b)をプログラムしてください。\n",
        "- 次を必ず満たすこと\n",
        "- Aは行列、bはベクトルを与えることとする。\n",
        "- 解が一意に定まる場合は解を列ベクトル(numpy array)で返し、不定、不能の場合をその旨をエラーとして返すこと。\n",
        "- 連立1次方程式を解く関数としてnumpy.linalg.solve(A, b)やscipy.linalg.lu_solve(LU, b), sympy.solve()などがあるが、そのような関数は使わずあくまでもスクラッチからプログラミングすること。\n",
        "- 必要に応じてコメントを入れること、何もない場合は理解していないものとして、減点対象とする。\n",
        "- なお、より精度のいいアルゴリズムにするために「ピボット選択」という方法がある。それを調べ、実装している場合は加点評価する。"
      ]
    },
    {
      "cell_type": "markdown",
      "metadata": {
        "id": "GkcVeFsisoEH",
        "colab_type": "text"
      },
      "source": [
        "**<h3>ピボット選択とは</h3>**\n",
        "対角要素に０が来ると０で割れず、対角要素を１にできない。<br>\n",
        "そこで、対角要素に０が来ないように行を入れ替える。<br>\n",
        "さらに、ある値を割る場合、分母の値は絶対値が大きい方が割り算の誤差が小さくなる。<br>\n",
        "<br>\n",
        "参考文献・参考資料<br>\n",
        "イメージングソリューション「ピボット選択を行ったGauss-Jordan法」<br>\n",
        "https://imagingsolution.net/math/gauss-jordan-with-pivot/"
      ]
    },
    {
      "cell_type": "code",
      "metadata": {
        "id": "dN_ERqmLjz2_",
        "colab_type": "code",
        "colab": {}
      },
      "source": [
        "import numpy as np\n",
        "\n",
        "#連立1次方程式をガウス・ジョルダンの消去法で解く関数(A：行列,b：ベクトル)\n",
        "def gauss_jordan_elimination(A,b):\n",
        "    #拡大係数行列を用意\n",
        "    b=np.reshape( b,(-1,1) )#列ベクトルに変換\n",
        "    Ab=np.concatenate( (A,b),axis=1 )#横方向に結合\n",
        "    #行列Aのランクを求める\n",
        "    A_rank=np.linalg.matrix_rank(A)\n",
        "    #拡大係数行列のランクを求める\n",
        "    Ab_rank=np.linalg.matrix_rank(Ab)\n",
        "    if Ab_rank==A_rank:\n",
        "      if A_rank == A.shape[1]:\n",
        "        print(\"解が一意に定まる\")\n",
        "      else:\n",
        "        print(\"不定\")\n",
        "    else:\n",
        "      print(\"不能\")\n",
        "    x=Ab.shape[0]#未知数\n",
        "    #行列の確認\n",
        "    print(\"pre matrix=\")\n",
        "    print(Ab)\n",
        "\n",
        "#ピボット選択-----------------------------------------------------------------------------------------------\n",
        "    #各行でピボット選択して掃き出す\n",
        "    for pivot in range(x):\n",
        "        #ピボット列で成分の絶対値が最大の行を探す\n",
        "        row_max=pivot\n",
        "        val_max=Ab[pivot,pivot]\n",
        "        for row in range(pivot+1,x):\n",
        "            if ( val_max<abs(Ab[row,pivot]) ):\n",
        "                row_max=row\n",
        "                val_max=abs(Ab[row,pivot])\n",
        "        #ピボットの行と入れ替え\n",
        "        if (pivot!=row_max):\n",
        "            Ab[pivot,:],Ab[row_max,:]=Ab[row_max,:],Ab[pivot,:].copy()\n",
        "        #ピボット行をピボットで割る(Ab[pivot,pivot]=1にする)\n",
        "        Ab[pivot,:]=Ab[pivot,:]/val_max\n",
        "        #掃き出し操作で、Ab[pivot,pivot]より下の係数を0にする\n",
        "        for row in range(0,x):\n",
        "            #ピボット行をAb[row,pivot]倍してrow行から引く\n",
        "            if row!=pivot:\n",
        "                pivot_row=Ab[row,pivot]*Ab[pivot,range(pivot,x+1)]\n",
        "                Ab[row,range(pivot,x+1)]-=pivot_row\n",
        "        print(Ab)\n",
        "#ピボット選択-----------------------------------------------------------------------------------------------\n",
        "\n",
        "    #行列の確認\n",
        "    print(\"Post matrix=\")\n",
        "    print(Ab)\n",
        "    #解の取り出し\n",
        "    return Ab[:,x]"
      ],
      "execution_count": 0,
      "outputs": []
    },
    {
      "cell_type": "markdown",
      "metadata": {
        "id": "Y98WK7KGiRrY",
        "colab_type": "text"
      },
      "source": [
        "2.上記で作った関数を用いて次の3つの連立1次方程式を解いてください。<br>\n",
        "(1)<br>\n",
        "4𝑥−7𝑦+4𝑧=1<br>\n",
        "𝑥+𝑦−𝑧=6<br>\n",
        "2𝑥+5𝑦−8𝑧=3"
      ]
    },
    {
      "cell_type": "code",
      "metadata": {
        "id": "5NDr2A7msqdr",
        "colab_type": "code",
        "colab": {
          "base_uri": "https://localhost:8080/",
          "height": 340
        },
        "outputId": "5352c273-7321-4dac-96d5-36a0e64a7a55"
      },
      "source": [
        "A=np.array([\n",
        "  [ 4., -7., 4.],\n",
        "  [ 1., 1., -1.],\n",
        "  [ 2., 5., -8.],\n",
        "])\n",
        "\n",
        "b=np.array([1.,6.,3.])\n",
        "\n",
        "print( \"x=\",gauss_jordan_elimination(A,b) )"
      ],
      "execution_count": 32,
      "outputs": [
        {
          "output_type": "stream",
          "text": [
            "解が一意に定まる\n",
            "pre matrix=\n",
            "[[ 4. -7.  4.  1.]\n",
            " [ 1.  1. -1.  6.]\n",
            " [ 2.  5. -8.  3.]]\n",
            "[[  1.    -1.75   1.     0.25]\n",
            " [  0.     2.75  -2.     5.75]\n",
            " [  0.     8.5  -10.     2.5 ]]\n",
            "[[ 1.          0.         -1.05882353  0.76470588]\n",
            " [ 0.          1.         -1.17647059  0.29411765]\n",
            " [ 0.          0.          1.23529412  4.94117647]]\n",
            "[[1. 0. 0. 5.]\n",
            " [0. 1. 0. 5.]\n",
            " [0. 0. 1. 4.]]\n",
            "Post matrix=\n",
            "[[1. 0. 0. 5.]\n",
            " [0. 1. 0. 5.]\n",
            " [0. 0. 1. 4.]]\n",
            "x= [5. 5. 4.]\n"
          ],
          "name": "stdout"
        }
      ]
    },
    {
      "cell_type": "markdown",
      "metadata": {
        "colab_type": "text",
        "id": "0FFTY77Wq81w"
      },
      "source": [
        "(2)<br>\n",
        "𝑥+2𝑦−5𝑧=4<br>\n",
        "2𝑥+3𝑦−7𝑧=7<br>\n",
        "4𝑥−𝑦+7𝑧=7"
      ]
    },
    {
      "cell_type": "code",
      "metadata": {
        "id": "l-Q19e0ZtbZu",
        "colab_type": "code",
        "colab": {
          "base_uri": "https://localhost:8080/",
          "height": 357
        },
        "outputId": "1343cb5f-f722-41f9-db16-742f3a8f4f8f"
      },
      "source": [
        "A=np.array([\n",
        "  [ 1., 2., -5.],\n",
        "  [ 2., 3., -7.],\n",
        "  [ 4., -1., 7.],\n",
        "])\n",
        "\n",
        "b=np.array([4.,7.,7.])\n",
        "\n",
        "print( \"x=\",gauss_jordan_elimination(A,b) )"
      ],
      "execution_count": 33,
      "outputs": [
        {
          "output_type": "stream",
          "text": [
            "不定\n",
            "pre matrix=\n",
            "[[ 1.  2. -5.  4.]\n",
            " [ 2.  3. -7.  7.]\n",
            " [ 4. -1.  7.  7.]]\n",
            "[[  1.    -0.25   1.75   1.75]\n",
            " [  0.     3.5  -10.5    3.5 ]\n",
            " [  0.     2.25  -6.75   2.25]]\n",
            "[[ 1.  0.  1.  2.]\n",
            " [ 0.  1. -3.  1.]\n",
            " [ 0.  0.  0.  0.]]\n",
            "[[ 1.  0. nan nan]\n",
            " [ 0.  1. nan nan]\n",
            " [nan nan nan nan]]\n",
            "Post matrix=\n",
            "[[ 1.  0. nan nan]\n",
            " [ 0.  1. nan nan]\n",
            " [nan nan nan nan]]\n",
            "x= [nan nan nan]\n"
          ],
          "name": "stdout"
        },
        {
          "output_type": "stream",
          "text": [
            "/usr/local/lib/python3.6/dist-packages/ipykernel_launcher.py:38: RuntimeWarning: invalid value encountered in true_divide\n"
          ],
          "name": "stderr"
        }
      ]
    },
    {
      "cell_type": "markdown",
      "metadata": {
        "colab_type": "text",
        "id": "9PSdHgwCq8KU"
      },
      "source": [
        "(3)<br>\n",
        "𝑥+2𝑦−5𝑧=4<br>\n",
        "2𝑥+3𝑦−7𝑧=7<br>\n",
        "4𝑥−𝑦+7𝑧=8"
      ]
    },
    {
      "cell_type": "code",
      "metadata": {
        "id": "cIv1KD9MtbxV",
        "colab_type": "code",
        "colab": {
          "base_uri": "https://localhost:8080/",
          "height": 374
        },
        "outputId": "c9dfa350-ac51-420f-880b-78677e876274"
      },
      "source": [
        "A=np.array([\n",
        "  [ 1., 2., -5.],\n",
        "  [ 2., 3., -7.],\n",
        "  [ 4., -1., 7.],\n",
        "])\n",
        "\n",
        "b=np.array([4.,7.,8.])\n",
        "\n",
        "print( \"x=\",gauss_jordan_elimination(A,b) )"
      ],
      "execution_count": 34,
      "outputs": [
        {
          "output_type": "stream",
          "text": [
            "不能\n",
            "pre matrix=\n",
            "[[ 1.  2. -5.  4.]\n",
            " [ 2.  3. -7.  7.]\n",
            " [ 4. -1.  7.  8.]]\n",
            "[[  1.    -0.25   1.75   2.  ]\n",
            " [  0.     3.5  -10.5    3.  ]\n",
            " [  0.     2.25  -6.75   2.  ]]\n",
            "[[ 1.          0.          1.          2.21428571]\n",
            " [ 0.          1.         -3.          0.85714286]\n",
            " [ 0.          0.          0.          0.07142857]]\n",
            "[[  1.   0.  nan -inf]\n",
            " [  0.   1.  nan  inf]\n",
            " [ nan  nan  nan  inf]]\n",
            "Post matrix=\n",
            "[[  1.   0.  nan -inf]\n",
            " [  0.   1.  nan  inf]\n",
            " [ nan  nan  nan  inf]]\n",
            "x= [-inf  inf  inf]\n"
          ],
          "name": "stdout"
        },
        {
          "output_type": "stream",
          "text": [
            "/usr/local/lib/python3.6/dist-packages/ipykernel_launcher.py:38: RuntimeWarning: divide by zero encountered in true_divide\n",
            "/usr/local/lib/python3.6/dist-packages/ipykernel_launcher.py:38: RuntimeWarning: invalid value encountered in true_divide\n"
          ],
          "name": "stderr"
        }
      ]
    }
  ]
}