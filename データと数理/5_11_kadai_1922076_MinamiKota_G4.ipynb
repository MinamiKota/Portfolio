{
  "nbformat": 4,
  "nbformat_minor": 0,
  "metadata": {
    "colab": {
      "name": "5_11_kadai_1922076_MinamiKota_G4",
      "provenance": [],
      "collapsed_sections": []
    },
    "kernelspec": {
      "name": "python3",
      "display_name": "Python 3"
    }
  },
  "cells": [
    {
      "cell_type": "markdown",
      "metadata": {
        "id": "GzmIKD7Qh1lg",
        "colab_type": "text"
      },
      "source": [
        "**5月11日の課題**  \n",
        "1922076 南 昂汰 G4"
      ]
    },
    {
      "cell_type": "markdown",
      "metadata": {
        "id": "hygfO8idiIYX",
        "colab_type": "text"
      },
      "source": [
        "Lec04.ipynbの\u000b個人課題のサンプルプログラムの部分を用いて、画像データを入れればその画像の色彩に基づく印象を表す語を出力するプログラムを線形写像の概念を使って完成してください。\n",
        "- 「15分で理解する色彩と心理学の関係－色が人間の心に与える影響」(https://re-sta.jp/color-psychology-7787 )を読みながら印象を表す語と10色の関係を表す行列を作ってみよう。\n",
        "- 画像データをファイルパスで指定するとその画像データの色の印象から喚起される語が出力されるようなプログラムを作ってみよう。\n",
        "- 上記のサイトはあくまでも例示で、他の文献等から行列をつくることも可。\n",
        "- サンプルプログラムの部分も精度をあげるために改変等もしてください。\n",
        "- よい改変であれば、大幅加点いたします。"
      ]
    },
    {
      "cell_type": "code",
      "metadata": {
        "id": "scEE8GUeBq75",
        "colab_type": "code",
        "outputId": "c8464af2-6e10-41c2-b7ac-e1eded407768",
        "colab": {
          "base_uri": "https://localhost:8080/",
          "height": 122
        }
      },
      "source": [
        "from google.colab import drive\n",
        "drive.mount('/content/drive')"
      ],
      "execution_count": 0,
      "outputs": [
        {
          "output_type": "stream",
          "text": [
            "Go to this URL in a browser: https://accounts.google.com/o/oauth2/auth?client_id=947318989803-6bn6qk8qdgf4n4g3pfee6491hc0brc4i.apps.googleusercontent.com&redirect_uri=urn%3aietf%3awg%3aoauth%3a2.0%3aoob&response_type=code&scope=email%20https%3a%2f%2fwww.googleapis.com%2fauth%2fdocs.test%20https%3a%2f%2fwww.googleapis.com%2fauth%2fdrive%20https%3a%2f%2fwww.googleapis.com%2fauth%2fdrive.photos.readonly%20https%3a%2f%2fwww.googleapis.com%2fauth%2fpeopleapi.readonly\n",
            "\n",
            "Enter your authorization code:\n",
            "··········\n",
            "Mounted at /content/drive\n"
          ],
          "name": "stdout"
        }
      ]
    },
    {
      "cell_type": "code",
      "metadata": {
        "id": "FjiTTSn_Br7c",
        "colab_type": "code",
        "colab": {}
      },
      "source": [
        "from PIL import Image\n",
        "import numpy as np\n",
        "import os\n",
        "\n",
        "# filepathで指定した画像ファイルを読み込み、その画像のRGB値の平均をNumpyのArrayで【行ベクトルで】返す関数　ext_mean_rgb(filepath)\n",
        "def ext_mean_rgb(filepath):\n",
        "  image = np.array(Image.open(filepath).convert('RGB')).reshape(-1,3)\n",
        "  return np.array([np.mean(image[:,0]),np.mean(image[:,1]),np.mean(image[:,2])])"
      ],
      "execution_count": 0,
      "outputs": []
    },
    {
      "cell_type": "code",
      "metadata": {
        "id": "wtlKtsCeBuqd",
        "colab_type": "code",
        "colab": {}
      },
      "source": [
        "import numpy as np\n",
        "from scipy.spatial import distance\n",
        "\n",
        "# RGB値をnumpy array、qcolor=np.array([r,g,b])で与えられると[赤,橙,黄,緑,青,紫,ピンク,白,グレー,黒]の重みを成分とする10次元ベクトルが出力される関数gen_color_vec(qcolor)\n",
        "def gen_color_vec(qcolor):\n",
        "  colorvec=np.array([])\n",
        "  palette=np.array([\n",
        "    [255,0,0],#赤\n",
        "    [255,102,0],#橙\n",
        "    [255,255,0],#黄\n",
        "    [0,128,0],#緑\n",
        "    [0,0,255],#青\n",
        "    [128,0,128],#紫\n",
        "    [255,0,255],#ピンク\n",
        "    [255,255,255],#白\n",
        "    [128,128,128],#グレー\n",
        "    [0,0,0]#黒\n",
        "  ])\n",
        "  for col in palette:\n",
        "    colorvec=np.append(colorvec,distance.euclidean(col,qcolor))\n",
        "  colorvec=1-colorvec/np.linalg.norm(colorvec,np.inf)\n",
        "  return colorvec"
      ],
      "execution_count": 0,
      "outputs": []
    },
    {
      "cell_type": "code",
      "metadata": {
        "id": "FsUuIG2WB1Kk",
        "colab_type": "code",
        "outputId": "22492410-02e5-4641-e5e5-8e6d47d2bebb",
        "colab": {
          "base_uri": "https://localhost:8080/",
          "height": 187
        }
      },
      "source": [
        "filepath=\"/content/drive/My Drive/Colab Notebooks/MU.png\"\n",
        "x=gen_color_vec(ext_mean_rgb(filepath)).reshape(-1,1)\n",
        "x"
      ],
      "execution_count": 0,
      "outputs": [
        {
          "output_type": "execute_result",
          "data": {
            "text/plain": [
              "array([[0.18178544],\n",
              "       [0.34059058],\n",
              "       [0.41141062],\n",
              "       [0.14676091],\n",
              "       [0.17811299],\n",
              "       [0.32803229],\n",
              "       [0.41265569],\n",
              "       [0.85189288],\n",
              "       [0.57625769],\n",
              "       [0.        ]])"
            ]
          },
          "metadata": {
            "tags": []
          },
          "execution_count": 97
        }
      ]
    },
    {
      "cell_type": "code",
      "metadata": {
        "id": "Wo-HPPnf5rSn",
        "colab_type": "code",
        "outputId": "b13f9702-810a-4e31-e0de-8f5a1385fcef",
        "colab": {
          "base_uri": "https://localhost:8080/",
          "height": 34
        }
      },
      "source": [
        "#赤\n",
        "#熱い、強い、危険、闘争、怖い、派手、情熱的、明るい、元気、興奮\n",
        "A1=np.array([\n",
        "  [1.,0.,0.,0.,0.,0.,0.,0.,0.,0.]\n",
        "])  \n",
        "print(\"熱い、強い、危険、闘争、怖い、派手、情熱的、明るい、元気、興奮\",np.dot(A1,x)[0,0])"
      ],
      "execution_count": 0,
      "outputs": [
        {
          "output_type": "stream",
          "text": [
            "熱い、強い、危険、闘争、怖い、派手、情熱的、明るい、元気、興奮 0.18178543753217846\n"
          ],
          "name": "stdout"
        }
      ]
    },
    {
      "cell_type": "code",
      "metadata": {
        "id": "QXU5Gd818xmt",
        "colab_type": "code",
        "outputId": "4cf247b7-ddd2-4ce1-b4c4-519f973672ac",
        "colab": {
          "base_uri": "https://localhost:8080/",
          "height": 34
        }
      },
      "source": [
        "#橙\n",
        "#暖かい、明るい、元気、友情、青春、希望、かわいい、楽しい、夏、希望\n",
        "A2=np.array([\n",
        "  [0.,1.,0.,0.,0.,0.,0.,0.,0.,0.]\n",
        "])\n",
        "print(\"暖かい、明るい、元気、友情、青春、希望、かわいい、楽しい、夏、希望\",np.dot(A2,x)[0,0])"
      ],
      "execution_count": 0,
      "outputs": [
        {
          "output_type": "stream",
          "text": [
            "暖かい、明るい、元気、友情、青春、希望、かわいい、楽しい、夏、希望 0.34059057516830893\n"
          ],
          "name": "stdout"
        }
      ]
    },
    {
      "cell_type": "code",
      "metadata": {
        "id": "dqjPqyQJ82Go",
        "colab_type": "code",
        "outputId": "440a9cd8-e0d6-49c3-9f77-e838766f18cf",
        "colab": {
          "base_uri": "https://localhost:8080/",
          "height": 34
        }
      },
      "source": [
        "#黄\n",
        "#明るい、元気、喜び、幸福、輝き、未来、優しい、夢、友情、危険、注意\n",
        "A3=np.array([\n",
        "  [0.,0.,1.,0.,0.,0.,0.,0.,0.,0.]\n",
        "])\n",
        "print(\"明るい、元気、喜び、幸福、輝き、未来、優しい、夢、友情、危険、注意\",np.dot(A3,x)[0,0])"
      ],
      "execution_count": 0,
      "outputs": [
        {
          "output_type": "stream",
          "text": [
            "明るい、元気、喜び、幸福、輝き、未来、優しい、夢、友情、危険、注意 0.4114106221345891\n"
          ],
          "name": "stdout"
        }
      ]
    },
    {
      "cell_type": "code",
      "metadata": {
        "id": "Ep4z_k3X83LN",
        "colab_type": "code",
        "outputId": "ba28cd75-e3e5-4201-e147-6b91be7d28b4",
        "colab": {
          "base_uri": "https://localhost:8080/",
          "height": 34
        }
      },
      "source": [
        "#緑\n",
        "#自然、安らぎ、落ち着き、安心、平和、生鮮、夏、若さ、成長、健康\n",
        "A4=np.array([\n",
        "  [0.,0.,0.,1.,0.,0.,0.,0.,0.,0.]\n",
        "])\n",
        "print(\"自然、安らぎ、落ち着き、安心、平和、生鮮、夏、若さ、成長、健康\",np.dot(A4,x)[0,0])"
      ],
      "execution_count": 0,
      "outputs": [
        {
          "output_type": "stream",
          "text": [
            "自然、安らぎ、落ち着き、安心、平和、生鮮、夏、若さ、成長、健康 0.14676091368609734\n"
          ],
          "name": "stdout"
        }
      ]
    },
    {
      "cell_type": "code",
      "metadata": {
        "id": "_z_WsHl183lw",
        "colab_type": "code",
        "outputId": "11857511-8937-4ba4-9d6a-b4ba5b4afae7",
        "colab": {
          "base_uri": "https://localhost:8080/",
          "height": 34
        }
      },
      "source": [
        "#青\n",
        "#冷たい、冷静、悲しみ、涼しい、寒い、青春、広大、夏、誠実、平和、自由\n",
        "A5=np.array([\n",
        "  [0.,0.,0.,0.,1.,0.,0.,0.,0.,0.]\n",
        "])\n",
        "print(\"冷たい、冷静、悲しみ、涼しい、寒い、青春、広大、夏、誠実、平和、自由\",np.dot(A5,x)[0,0])"
      ],
      "execution_count": 0,
      "outputs": [
        {
          "output_type": "stream",
          "text": [
            "冷たい、冷静、悲しみ、涼しい、寒い、青春、広大、夏、誠実、平和、自由 0.17811298607043435\n"
          ],
          "name": "stdout"
        }
      ]
    },
    {
      "cell_type": "code",
      "metadata": {
        "id": "B5ItnIHc834g",
        "colab_type": "code",
        "outputId": "8bf7314e-f635-4dbb-f12f-935a0aa35ab8",
        "colab": {
          "base_uri": "https://localhost:8080/",
          "height": 34
        }
      },
      "source": [
        "#紫\n",
        "#高貴、高級、大人っぽい、嫉妬、不安、セクシー、神秘的、和風、悪趣味、孤独\n",
        "A6=np.array([\n",
        "  [0.,0.,0.,0.,0.,1.,0.,0.,0.,0.]\n",
        "])\n",
        "print(\"高貴、高級、大人っぽい、嫉妬、不安、セクシー、神秘的、和風、悪趣味、孤独\",np.dot(A6,x)[0,0])"
      ],
      "execution_count": 0,
      "outputs": [
        {
          "output_type": "stream",
          "text": [
            "高貴、高級、大人っぽい、嫉妬、不安、セクシー、神秘的、和風、悪趣味、孤独 0.3280322876515861\n"
          ],
          "name": "stdout"
        }
      ]
    },
    {
      "cell_type": "code",
      "metadata": {
        "id": "dHVxzSGh84iT",
        "colab_type": "code",
        "outputId": "c4b62c20-23e0-4139-e5e2-45d386f66a73",
        "colab": {
          "base_uri": "https://localhost:8080/",
          "height": 34
        }
      },
      "source": [
        "#ピンク\n",
        "#かわいい、優しい、幸せ、恋愛、甘い、やわらかい、心、春、夢、明るい、わがまま\n",
        "A7=np.array([\n",
        "  [0.,0.,0.,0.,0.,0.,1.,0.,0.,0.]\n",
        "])\n",
        "print(\"かわいい、優しい、幸せ、恋愛、甘い、やわらかい、心、春、夢、明るい、わがまま\",np.dot(A7,x)[0,0])"
      ],
      "execution_count": 0,
      "outputs": [
        {
          "output_type": "stream",
          "text": [
            "かわいい、優しい、幸せ、恋愛、甘い、やわらかい、心、春、夢、明るい、わがまま 0.4126556939064904\n"
          ],
          "name": "stdout"
        }
      ]
    },
    {
      "cell_type": "code",
      "metadata": {
        "id": "Y9dmDSPX8447",
        "colab_type": "code",
        "outputId": "b7528661-893a-40a6-a75b-94cde34f212d",
        "colab": {
          "base_uri": "https://localhost:8080/",
          "height": 34
        }
      },
      "source": [
        "#白\n",
        "#純粋、清潔、神聖、清楚、無、天使、平和、自由、潔白、きれい、雪、うさぎ、天国\n",
        "A8=np.array([\n",
        "  [0.,0.,0.,0.,0.,0.,0.,1.,0.,0.]\n",
        "])\n",
        "print(\"純粋、清潔、神聖、清楚、無、天使、平和、自由、潔白、きれい、雪、うさぎ、天国\",np.dot(A8,x)[0,0])"
      ],
      "execution_count": 0,
      "outputs": [
        {
          "output_type": "stream",
          "text": [
            "純粋、清潔、神聖、清楚、無、天使、平和、自由、潔白、きれい、雪、うさぎ、天国 0.851892878624796\n"
          ],
          "name": "stdout"
        }
      ]
    },
    {
      "cell_type": "code",
      "metadata": {
        "id": "vDJajIv_85KL",
        "colab_type": "code",
        "outputId": "a74716e8-842d-4507-86af-02819e280528",
        "colab": {
          "base_uri": "https://localhost:8080/",
          "height": 34
        }
      },
      "source": [
        "#グレー\n",
        "#不安、曖昧、暗い、悩み、迷い、控えめ、疑惑、不正、孤独、寂しい、悲しい\n",
        "A9=np.array([\n",
        "  [0.,0.,0.,0.,0.,0.,0.,0.,1.,0.]\n",
        "])\n",
        "print(\"不安、曖昧、暗い、悩み、迷い、控えめ、疑惑、不正、孤独、寂しい、悲しい\",np.dot(A9,x)[0,0])"
      ],
      "execution_count": 0,
      "outputs": [
        {
          "output_type": "stream",
          "text": [
            "不安、曖昧、暗い、悩み、迷い、控えめ、疑惑、不正、孤独、寂しい、悲しい 0.5762576905092621\n"
          ],
          "name": "stdout"
        }
      ]
    },
    {
      "cell_type": "code",
      "metadata": {
        "id": "bonbHRYS85Zh",
        "colab_type": "code",
        "outputId": "93611834-dfa4-4a92-a657-cac4f8046c80",
        "colab": {
          "base_uri": "https://localhost:8080/",
          "height": 34
        }
      },
      "source": [
        "#黒\n",
        "#恐怖、孤独、闇、強さ、絶望、夜、静寂、高級感、シック、かっこいい、重い\n",
        "A10=np.array([\n",
        "  [0.,0.,0.,0.,0.,0.,0.,0.,0.,1.]\n",
        "])\n",
        "print(\"恐怖、孤独、闇、強さ、絶望、夜、静寂、高級感、シック、かっこいい、重い\",np.dot(A10,x)[0,0])"
      ],
      "execution_count": 0,
      "outputs": [
        {
          "output_type": "stream",
          "text": [
            "恐怖、孤独、闇、強さ、絶望、夜、静寂、高級感、シック、かっこいい、重い 0.0\n"
          ],
          "name": "stdout"
        }
      ]
    }
  ]
}