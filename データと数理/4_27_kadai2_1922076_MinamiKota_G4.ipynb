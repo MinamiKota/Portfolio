{
  "nbformat": 4,
  "nbformat_minor": 0,
  "metadata": {
    "colab": {
      "name": "4_27_kadai2_1922076_MinamiKota_G4.ipynb",
      "provenance": [],
      "collapsed_sections": [
        "G1dvpfyzn40-"
      ]
    },
    "kernelspec": {
      "name": "python3",
      "display_name": "Python 3"
    }
  },
  "cells": [
    {
      "cell_type": "markdown",
      "metadata": {
        "id": "t08ceq0lvAbH",
        "colab_type": "text"
      },
      "source": [
        "**4月27日の課題**  \n",
        "1922076 南 昂汰 G4"
      ]
    },
    {
      "cell_type": "markdown",
      "metadata": {
        "id": "wEz-b6liu2qv",
        "colab_type": "text"
      },
      "source": [
        "2. Lec02.ipynbの「入力画像ファイルから指定したディレクトリの中の画像から一番類似性が高い画像ファイル名を検索するプログラム」の部分のcomp_sim(qvec,tvec)にqvecとtvecコサイン類似度を計算するプログラムを作成し、意図するプログラムを完成してください。"
      ]
    },
    {
      "cell_type": "markdown",
      "metadata": {
        "id": "AdDcVx-ftUPc",
        "colab_type": "text"
      },
      "source": [
        "# \b入力画像ファイルから指定したディレクトリの中の画像から一番類似性が高い画像ファイル名を検索するプログラム"
      ]
    },
    {
      "cell_type": "code",
      "metadata": {
        "id": "Ycrben6NrFY5",
        "colab_type": "code",
        "outputId": "32f28390-57b9-4374-d0d9-94adb16a0acb",
        "colab": {
          "base_uri": "https://localhost:8080/",
          "height": 120
        }
      },
      "source": [
        "from google.colab import drive\n",
        "drive.mount('/content/drive')"
      ],
      "execution_count": 0,
      "outputs": [
        {
          "output_type": "stream",
          "text": [
            "Go to this URL in a browser: https://accounts.google.com/o/oauth2/auth?client_id=947318989803-6bn6qk8qdgf4n4g3pfee6491hc0brc4i.apps.googleusercontent.com&redirect_uri=urn%3aietf%3awg%3aoauth%3a2.0%3aoob&response_type=code&scope=email%20https%3a%2f%2fwww.googleapis.com%2fauth%2fdocs.test%20https%3a%2f%2fwww.googleapis.com%2fauth%2fdrive%20https%3a%2f%2fwww.googleapis.com%2fauth%2fdrive.photos.readonly%20https%3a%2f%2fwww.googleapis.com%2fauth%2fpeopleapi.readonly\n",
            "\n",
            "Enter your authorization code:\n",
            "··········\n",
            "Mounted at /content/drive\n"
          ],
          "name": "stdout"
        }
      ]
    },
    {
      "cell_type": "code",
      "metadata": {
        "id": "AjJNhNqSuwHC",
        "colab_type": "code",
        "colab": {}
      },
      "source": [
        "from PIL import Image\n",
        "import numpy as np\n",
        "import os\n",
        "\n",
        "# filepathで指定した画像ファイルを読み込み、その画像のRGB値の平均をNumpyのArrayで【行ベクトルで】返す関数　ext_mean_rgb(filepath)\n",
        "def ext_mean_rgb(filepath):\n",
        "  image = np.array(Image.open(filepath).convert('RGB')).reshape(-1,3)\n",
        "  return np.array([np.mean(image[:,0]),np.mean(image[:,1]),np.mean(image[:,0])])\n",
        "\n",
        "# dirで指定したディレクトリ(フォルダ)の全ファイルを読み込み、全ての画像\bファイルの名前をimg_namesに、\n",
        "# RGB値の平均値をNumpyのArrayで【行ベクトル群として】img_vecに格納する関数ext_metadata(dir)\n",
        "def ext_metadata(dir):\n",
        "  img_vec=np.array([])\n",
        "  img_names=np.array([])\n",
        "  for file in os.listdir(dir):\n",
        "    if file != \".DS_Store\":\n",
        "      img_names = np.append(img_names, file)\n",
        "      filepath = dir + \"/\" + file    \n",
        "      img_vec=np.append(img_vec,ext_mean_rgb(filepath))\n",
        "  return img_names, img_vec.reshape(-1,3)"
      ],
      "execution_count": 0,
      "outputs": []
    },
    {
      "cell_type": "code",
      "metadata": {
        "id": "roqQ1frf5V0l",
        "colab_type": "code",
        "colab": {}
      },
      "source": [
        "# ここを書き足す！\n",
        "# これが宿題\b\n",
        "\n",
        "import numpy as np\n",
        "\n",
        "# qvecとtvecを与えるとコサイン類似度が返ってくる関数 comp_sim(qvec,tvec):\n",
        "def comp_sim(qvec,tvec):\n",
        "  return np.dot(qvec.T,tvec)[0][0]/(np.linalg.norm(qvec)*np.linalg.norm(tvec))"
      ],
      "execution_count": 0,
      "outputs": []
    },
    {
      "cell_type": "code",
      "metadata": {
        "id": "rDINwliQ5Bfw",
        "colab_type": "code",
        "colab": {}
      },
      "source": [
        "import numpy as np\n",
        "def search_img(qfilepath,tdirname):\n",
        "  img_names, img_vec=ext_metadata(tdirname)\n",
        "  qvec=ext_mean_rgb(qfilepath).reshape(-1,1)\n",
        "  sim_arr=np.array([])\n",
        "  for tvec in img_vec:\n",
        "    tvec=tvec.reshape(-1,1)\n",
        "    sim_arr=np.append(sim_arr, comp_sim(qvec,tvec))\n",
        "  return img_names[np.argmax(sim_arr)]"
      ],
      "execution_count": 0,
      "outputs": []
    },
    {
      "cell_type": "code",
      "metadata": {
        "id": "XR17VXhU8-DC",
        "colab_type": "code",
        "outputId": "fee15780-5fc6-44bb-925d-44007aebd104",
        "colab": {
          "base_uri": "https://localhost:8080/",
          "height": 345
        }
      },
      "source": [
        "qfilepath='/content/drive/My Drive/Colab Notebooks/DataMathematicsI/Lec02img/sdg_icon_06_ja_2.png'\n",
        "tdirname='/content/drive/My Drive/Colab Notebooks/DataMathematicsI/Lec02img'\n",
        "print(search_img(qfilepath,tdirname))"
      ],
      "execution_count": 0,
      "outputs": [
        {
          "output_type": "error",
          "ename": "FileNotFoundError",
          "evalue": "ignored",
          "traceback": [
            "\u001b[0;31m---------------------------------------------------------------------------\u001b[0m",
            "\u001b[0;31mFileNotFoundError\u001b[0m                         Traceback (most recent call last)",
            "\u001b[0;32m<ipython-input-4-8ef6fdde18db>\u001b[0m in \u001b[0;36m<module>\u001b[0;34m()\u001b[0m\n\u001b[1;32m      1\u001b[0m \u001b[0mqfilepath\u001b[0m\u001b[0;34m=\u001b[0m\u001b[0;34m'/content/drive/My Drive/Colab Notebooks/DataMathematicsI/Lec02img/sdg_icon_06_ja_2.png'\u001b[0m\u001b[0;34m\u001b[0m\u001b[0;34m\u001b[0m\u001b[0m\n\u001b[1;32m      2\u001b[0m \u001b[0mtdirname\u001b[0m\u001b[0;34m=\u001b[0m\u001b[0;34m'/content/drive/My Drive/Colab Notebooks/DataMathematicsI/Lec02img'\u001b[0m\u001b[0;34m\u001b[0m\u001b[0;34m\u001b[0m\u001b[0m\n\u001b[0;32m----> 3\u001b[0;31m \u001b[0mprint\u001b[0m\u001b[0;34m(\u001b[0m\u001b[0msearch_img\u001b[0m\u001b[0;34m(\u001b[0m\u001b[0mqfilepath\u001b[0m\u001b[0;34m,\u001b[0m\u001b[0mtdirname\u001b[0m\u001b[0;34m)\u001b[0m\u001b[0;34m)\u001b[0m\u001b[0;34m\u001b[0m\u001b[0;34m\u001b[0m\u001b[0m\n\u001b[0m",
            "\u001b[0;32m<ipython-input-3-6abe7d2c98d8>\u001b[0m in \u001b[0;36msearch_img\u001b[0;34m(qfilepath, tdirname)\u001b[0m\n\u001b[1;32m      1\u001b[0m \u001b[0;32mimport\u001b[0m \u001b[0mnumpy\u001b[0m \u001b[0;32mas\u001b[0m \u001b[0mnp\u001b[0m\u001b[0;34m\u001b[0m\u001b[0;34m\u001b[0m\u001b[0m\n\u001b[1;32m      2\u001b[0m \u001b[0;32mdef\u001b[0m \u001b[0msearch_img\u001b[0m\u001b[0;34m(\u001b[0m\u001b[0mqfilepath\u001b[0m\u001b[0;34m,\u001b[0m\u001b[0mtdirname\u001b[0m\u001b[0;34m)\u001b[0m\u001b[0;34m:\u001b[0m\u001b[0;34m\u001b[0m\u001b[0;34m\u001b[0m\u001b[0m\n\u001b[0;32m----> 3\u001b[0;31m   \u001b[0mimg_names\u001b[0m\u001b[0;34m,\u001b[0m \u001b[0mimg_vec\u001b[0m\u001b[0;34m=\u001b[0m\u001b[0mext_metadata\u001b[0m\u001b[0;34m(\u001b[0m\u001b[0mtdirname\u001b[0m\u001b[0;34m)\u001b[0m\u001b[0;34m\u001b[0m\u001b[0;34m\u001b[0m\u001b[0m\n\u001b[0m\u001b[1;32m      4\u001b[0m   \u001b[0mqvec\u001b[0m\u001b[0;34m=\u001b[0m\u001b[0mext_mean_rgb\u001b[0m\u001b[0;34m(\u001b[0m\u001b[0mqfilepath\u001b[0m\u001b[0;34m)\u001b[0m\u001b[0;34m.\u001b[0m\u001b[0mreshape\u001b[0m\u001b[0;34m(\u001b[0m\u001b[0;34m-\u001b[0m\u001b[0;36m1\u001b[0m\u001b[0;34m,\u001b[0m\u001b[0;36m1\u001b[0m\u001b[0;34m)\u001b[0m\u001b[0;34m\u001b[0m\u001b[0;34m\u001b[0m\u001b[0m\n\u001b[1;32m      5\u001b[0m   \u001b[0msim_arr\u001b[0m\u001b[0;34m=\u001b[0m\u001b[0mnp\u001b[0m\u001b[0;34m.\u001b[0m\u001b[0marray\u001b[0m\u001b[0;34m(\u001b[0m\u001b[0;34m[\u001b[0m\u001b[0;34m]\u001b[0m\u001b[0;34m)\u001b[0m\u001b[0;34m\u001b[0m\u001b[0;34m\u001b[0m\u001b[0m\n",
            "\u001b[0;32m<ipython-input-1-efd896c7b023>\u001b[0m in \u001b[0;36mext_metadata\u001b[0;34m(dir)\u001b[0m\n\u001b[1;32m     13\u001b[0m   \u001b[0mimg_vec\u001b[0m\u001b[0;34m=\u001b[0m\u001b[0mnp\u001b[0m\u001b[0;34m.\u001b[0m\u001b[0marray\u001b[0m\u001b[0;34m(\u001b[0m\u001b[0;34m[\u001b[0m\u001b[0;34m]\u001b[0m\u001b[0;34m)\u001b[0m\u001b[0;34m\u001b[0m\u001b[0;34m\u001b[0m\u001b[0m\n\u001b[1;32m     14\u001b[0m   \u001b[0mimg_names\u001b[0m\u001b[0;34m=\u001b[0m\u001b[0mnp\u001b[0m\u001b[0;34m.\u001b[0m\u001b[0marray\u001b[0m\u001b[0;34m(\u001b[0m\u001b[0;34m[\u001b[0m\u001b[0;34m]\u001b[0m\u001b[0;34m)\u001b[0m\u001b[0;34m\u001b[0m\u001b[0;34m\u001b[0m\u001b[0m\n\u001b[0;32m---> 15\u001b[0;31m   \u001b[0;32mfor\u001b[0m \u001b[0mfile\u001b[0m \u001b[0;32min\u001b[0m \u001b[0mos\u001b[0m\u001b[0;34m.\u001b[0m\u001b[0mlistdir\u001b[0m\u001b[0;34m(\u001b[0m\u001b[0mdir\u001b[0m\u001b[0;34m)\u001b[0m\u001b[0;34m:\u001b[0m\u001b[0;34m\u001b[0m\u001b[0;34m\u001b[0m\u001b[0m\n\u001b[0m\u001b[1;32m     16\u001b[0m     \u001b[0;32mif\u001b[0m \u001b[0mfile\u001b[0m \u001b[0;34m!=\u001b[0m \u001b[0;34m\".DS_Store\"\u001b[0m\u001b[0;34m:\u001b[0m\u001b[0;34m\u001b[0m\u001b[0;34m\u001b[0m\u001b[0m\n\u001b[1;32m     17\u001b[0m       \u001b[0mimg_names\u001b[0m \u001b[0;34m=\u001b[0m \u001b[0mnp\u001b[0m\u001b[0;34m.\u001b[0m\u001b[0mappend\u001b[0m\u001b[0;34m(\u001b[0m\u001b[0mimg_names\u001b[0m\u001b[0;34m,\u001b[0m \u001b[0mfile\u001b[0m\u001b[0;34m)\u001b[0m\u001b[0;34m\u001b[0m\u001b[0;34m\u001b[0m\u001b[0m\n",
            "\u001b[0;31mFileNotFoundError\u001b[0m: [Errno 2] No such file or directory: '/content/drive/My Drive/Colab Notebooks/DataMathematicsI/Lec02img'"
          ]
        }
      ]
    }
  ]
}