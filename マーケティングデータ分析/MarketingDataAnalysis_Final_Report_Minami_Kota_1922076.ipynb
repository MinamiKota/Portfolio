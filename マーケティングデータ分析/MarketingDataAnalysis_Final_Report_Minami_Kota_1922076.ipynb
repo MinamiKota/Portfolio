{
  "nbformat": 4,
  "nbformat_minor": 0,
  "metadata": {
    "colab": {
      "name": "MarketingDataAnalysis_Final_Report_Minami_Kota_1922076.ipynb",
      "provenance": [],
      "collapsed_sections": []
    },
    "kernelspec": {
      "name": "python3",
      "display_name": "Python 3"
    }
  },
  "cells": [
    {
      "cell_type": "markdown",
      "metadata": {
        "id": "q9Mg9rCH9hBf"
      },
      "source": [
        "<h1>個人最終レポート課題</h1>\n",
        "南 昂汰 1922076"
      ]
    },
    {
      "cell_type": "code",
      "metadata": {
        "id": "Fi68k_YnSt9x"
      },
      "source": [
        "import pandas as pd\n",
        "import numpy as np\n",
        "import matplotlib.pyplot as plt\n",
        "import seaborn as sns\n",
        "import time\n",
        "from sklearn.cluster import KMeans"
      ],
      "execution_count": null,
      "outputs": []
    },
    {
      "cell_type": "code",
      "metadata": {
        "colab": {
          "base_uri": "https://localhost:8080/",
          "height": 204
        },
        "id": "n4u2bHJUwW8o",
        "outputId": "c83ac5aa-f509-4cdd-c8f4-8c9cd0daf090"
      },
      "source": [
        "# 分析対象候補データ3 (Ad Conversion Data):\n",
        "# https://www.kaggle.com/loveall/clicks-conversion-tracking\n",
        "df = pd.read_csv('KAG_conversion_data.csv')\n",
        "df.head()"
      ],
      "execution_count": null,
      "outputs": [
        {
          "output_type": "execute_result",
          "data": {
            "text/html": [
              "<div>\n",
              "<style scoped>\n",
              "    .dataframe tbody tr th:only-of-type {\n",
              "        vertical-align: middle;\n",
              "    }\n",
              "\n",
              "    .dataframe tbody tr th {\n",
              "        vertical-align: top;\n",
              "    }\n",
              "\n",
              "    .dataframe thead th {\n",
              "        text-align: right;\n",
              "    }\n",
              "</style>\n",
              "<table border=\"1\" class=\"dataframe\">\n",
              "  <thead>\n",
              "    <tr style=\"text-align: right;\">\n",
              "      <th></th>\n",
              "      <th>ad_id</th>\n",
              "      <th>xyz_campaign_id</th>\n",
              "      <th>fb_campaign_id</th>\n",
              "      <th>age</th>\n",
              "      <th>gender</th>\n",
              "      <th>interest</th>\n",
              "      <th>Impressions</th>\n",
              "      <th>Clicks</th>\n",
              "      <th>Spent</th>\n",
              "      <th>Total_Conversion</th>\n",
              "      <th>Approved_Conversion</th>\n",
              "    </tr>\n",
              "  </thead>\n",
              "  <tbody>\n",
              "    <tr>\n",
              "      <th>0</th>\n",
              "      <td>708746</td>\n",
              "      <td>916</td>\n",
              "      <td>103916</td>\n",
              "      <td>30-34</td>\n",
              "      <td>M</td>\n",
              "      <td>15</td>\n",
              "      <td>7350</td>\n",
              "      <td>1</td>\n",
              "      <td>1.43</td>\n",
              "      <td>2</td>\n",
              "      <td>1</td>\n",
              "    </tr>\n",
              "    <tr>\n",
              "      <th>1</th>\n",
              "      <td>708749</td>\n",
              "      <td>916</td>\n",
              "      <td>103917</td>\n",
              "      <td>30-34</td>\n",
              "      <td>M</td>\n",
              "      <td>16</td>\n",
              "      <td>17861</td>\n",
              "      <td>2</td>\n",
              "      <td>1.82</td>\n",
              "      <td>2</td>\n",
              "      <td>0</td>\n",
              "    </tr>\n",
              "    <tr>\n",
              "      <th>2</th>\n",
              "      <td>708771</td>\n",
              "      <td>916</td>\n",
              "      <td>103920</td>\n",
              "      <td>30-34</td>\n",
              "      <td>M</td>\n",
              "      <td>20</td>\n",
              "      <td>693</td>\n",
              "      <td>0</td>\n",
              "      <td>0.00</td>\n",
              "      <td>1</td>\n",
              "      <td>0</td>\n",
              "    </tr>\n",
              "    <tr>\n",
              "      <th>3</th>\n",
              "      <td>708815</td>\n",
              "      <td>916</td>\n",
              "      <td>103928</td>\n",
              "      <td>30-34</td>\n",
              "      <td>M</td>\n",
              "      <td>28</td>\n",
              "      <td>4259</td>\n",
              "      <td>1</td>\n",
              "      <td>1.25</td>\n",
              "      <td>1</td>\n",
              "      <td>0</td>\n",
              "    </tr>\n",
              "    <tr>\n",
              "      <th>4</th>\n",
              "      <td>708818</td>\n",
              "      <td>916</td>\n",
              "      <td>103928</td>\n",
              "      <td>30-34</td>\n",
              "      <td>M</td>\n",
              "      <td>28</td>\n",
              "      <td>4133</td>\n",
              "      <td>1</td>\n",
              "      <td>1.29</td>\n",
              "      <td>1</td>\n",
              "      <td>1</td>\n",
              "    </tr>\n",
              "  </tbody>\n",
              "</table>\n",
              "</div>"
            ],
            "text/plain": [
              "    ad_id  xyz_campaign_id  ...  Total_Conversion Approved_Conversion\n",
              "0  708746              916  ...                 2                   1\n",
              "1  708749              916  ...                 2                   0\n",
              "2  708771              916  ...                 1                   0\n",
              "3  708815              916  ...                 1                   0\n",
              "4  708818              916  ...                 1                   1\n",
              "\n",
              "[5 rows x 11 columns]"
            ]
          },
          "metadata": {
            "tags": []
          },
          "execution_count": 696
        }
      ]
    },
    {
      "cell_type": "code",
      "metadata": {
        "colab": {
          "base_uri": "https://localhost:8080/",
          "height": 317
        },
        "id": "qSEA2DynrQFE",
        "outputId": "0eda1e16-5971-4a3e-c938-31679ed2243d"
      },
      "source": [
        "df.describe()"
      ],
      "execution_count": null,
      "outputs": [
        {
          "output_type": "execute_result",
          "data": {
            "text/html": [
              "<div>\n",
              "<style scoped>\n",
              "    .dataframe tbody tr th:only-of-type {\n",
              "        vertical-align: middle;\n",
              "    }\n",
              "\n",
              "    .dataframe tbody tr th {\n",
              "        vertical-align: top;\n",
              "    }\n",
              "\n",
              "    .dataframe thead th {\n",
              "        text-align: right;\n",
              "    }\n",
              "</style>\n",
              "<table border=\"1\" class=\"dataframe\">\n",
              "  <thead>\n",
              "    <tr style=\"text-align: right;\">\n",
              "      <th></th>\n",
              "      <th>ad_id</th>\n",
              "      <th>xyz_campaign_id</th>\n",
              "      <th>fb_campaign_id</th>\n",
              "      <th>interest</th>\n",
              "      <th>Impressions</th>\n",
              "      <th>Clicks</th>\n",
              "      <th>Spent</th>\n",
              "      <th>Total_Conversion</th>\n",
              "      <th>Approved_Conversion</th>\n",
              "      <th>cluster_id</th>\n",
              "    </tr>\n",
              "  </thead>\n",
              "  <tbody>\n",
              "    <tr>\n",
              "      <th>count</th>\n",
              "      <td>1.143000e+03</td>\n",
              "      <td>1143.000000</td>\n",
              "      <td>1143.000000</td>\n",
              "      <td>1143.000000</td>\n",
              "      <td>1.143000e+03</td>\n",
              "      <td>1143.000000</td>\n",
              "      <td>1143.000000</td>\n",
              "      <td>1143.000000</td>\n",
              "      <td>1143.000000</td>\n",
              "      <td>1143.000000</td>\n",
              "    </tr>\n",
              "    <tr>\n",
              "      <th>mean</th>\n",
              "      <td>9.872611e+05</td>\n",
              "      <td>1067.382327</td>\n",
              "      <td>133783.989501</td>\n",
              "      <td>32.766404</td>\n",
              "      <td>1.867321e+05</td>\n",
              "      <td>33.390201</td>\n",
              "      <td>51.360656</td>\n",
              "      <td>2.855643</td>\n",
              "      <td>0.944007</td>\n",
              "      <td>1.568679</td>\n",
              "    </tr>\n",
              "    <tr>\n",
              "      <th>std</th>\n",
              "      <td>1.939928e+05</td>\n",
              "      <td>121.629393</td>\n",
              "      <td>20500.308622</td>\n",
              "      <td>26.952131</td>\n",
              "      <td>3.127622e+05</td>\n",
              "      <td>56.892438</td>\n",
              "      <td>86.908418</td>\n",
              "      <td>4.483593</td>\n",
              "      <td>1.737708</td>\n",
              "      <td>0.781999</td>\n",
              "    </tr>\n",
              "    <tr>\n",
              "      <th>min</th>\n",
              "      <td>7.087460e+05</td>\n",
              "      <td>916.000000</td>\n",
              "      <td>103916.000000</td>\n",
              "      <td>2.000000</td>\n",
              "      <td>8.700000e+01</td>\n",
              "      <td>0.000000</td>\n",
              "      <td>0.000000</td>\n",
              "      <td>0.000000</td>\n",
              "      <td>0.000000</td>\n",
              "      <td>0.000000</td>\n",
              "    </tr>\n",
              "    <tr>\n",
              "      <th>25%</th>\n",
              "      <td>7.776325e+05</td>\n",
              "      <td>936.000000</td>\n",
              "      <td>115716.000000</td>\n",
              "      <td>16.000000</td>\n",
              "      <td>6.503500e+03</td>\n",
              "      <td>1.000000</td>\n",
              "      <td>1.480000</td>\n",
              "      <td>1.000000</td>\n",
              "      <td>0.000000</td>\n",
              "      <td>1.000000</td>\n",
              "    </tr>\n",
              "    <tr>\n",
              "      <th>50%</th>\n",
              "      <td>1.121185e+06</td>\n",
              "      <td>1178.000000</td>\n",
              "      <td>144549.000000</td>\n",
              "      <td>25.000000</td>\n",
              "      <td>5.150900e+04</td>\n",
              "      <td>8.000000</td>\n",
              "      <td>12.370000</td>\n",
              "      <td>1.000000</td>\n",
              "      <td>1.000000</td>\n",
              "      <td>2.000000</td>\n",
              "    </tr>\n",
              "    <tr>\n",
              "      <th>75%</th>\n",
              "      <td>1.121804e+06</td>\n",
              "      <td>1178.000000</td>\n",
              "      <td>144657.500000</td>\n",
              "      <td>31.000000</td>\n",
              "      <td>2.217690e+05</td>\n",
              "      <td>37.500000</td>\n",
              "      <td>60.025000</td>\n",
              "      <td>3.000000</td>\n",
              "      <td>1.000000</td>\n",
              "      <td>2.000000</td>\n",
              "    </tr>\n",
              "    <tr>\n",
              "      <th>max</th>\n",
              "      <td>1.314415e+06</td>\n",
              "      <td>1178.000000</td>\n",
              "      <td>179982.000000</td>\n",
              "      <td>114.000000</td>\n",
              "      <td>3.052003e+06</td>\n",
              "      <td>421.000000</td>\n",
              "      <td>639.949998</td>\n",
              "      <td>60.000000</td>\n",
              "      <td>21.000000</td>\n",
              "      <td>3.000000</td>\n",
              "    </tr>\n",
              "  </tbody>\n",
              "</table>\n",
              "</div>"
            ],
            "text/plain": [
              "              ad_id  xyz_campaign_id  ...  Approved_Conversion   cluster_id\n",
              "count  1.143000e+03      1143.000000  ...          1143.000000  1143.000000\n",
              "mean   9.872611e+05      1067.382327  ...             0.944007     1.568679\n",
              "std    1.939928e+05       121.629393  ...             1.737708     0.781999\n",
              "min    7.087460e+05       916.000000  ...             0.000000     0.000000\n",
              "25%    7.776325e+05       936.000000  ...             0.000000     1.000000\n",
              "50%    1.121185e+06      1178.000000  ...             1.000000     2.000000\n",
              "75%    1.121804e+06      1178.000000  ...             1.000000     2.000000\n",
              "max    1.314415e+06      1178.000000  ...            21.000000     3.000000\n",
              "\n",
              "[8 rows x 10 columns]"
            ]
          },
          "metadata": {
            "tags": []
          },
          "execution_count": 712
        }
      ]
    },
    {
      "cell_type": "code",
      "metadata": {
        "colab": {
          "base_uri": "https://localhost:8080/"
        },
        "id": "aLFLqlXA5yQy",
        "outputId": "9eb78c85-4941-4b45-dc4c-bc1e6e5560fc"
      },
      "source": [
        "# 欠損値を調べる\n",
        "df.isnull().sum()"
      ],
      "execution_count": null,
      "outputs": [
        {
          "output_type": "execute_result",
          "data": {
            "text/plain": [
              "ad_id                  0\n",
              "xyz_campaign_id        0\n",
              "fb_campaign_id         0\n",
              "age                    0\n",
              "gender                 0\n",
              "interest               0\n",
              "Impressions            0\n",
              "Clicks                 0\n",
              "Spent                  0\n",
              "Total_Conversion       0\n",
              "Approved_Conversion    0\n",
              "dtype: int64"
            ]
          },
          "metadata": {
            "tags": []
          },
          "execution_count": 697
        }
      ]
    },
    {
      "cell_type": "code",
      "metadata": {
        "colab": {
          "base_uri": "https://localhost:8080/"
        },
        "id": "AsRtf11q3dGc",
        "outputId": "685445df-88a2-45bd-a165-c40844ad9eb6"
      },
      "source": [
        "array1 = np.array([df['Impressions'].tolist(),\n",
        "                   df['Clicks'].tolist(),\n",
        "                   df['Spent'].tolist(),\n",
        "                   df['Total_Conversion'].tolist(),\n",
        "                   df['Approved_Conversion'].tolist(),\n",
        "                   ], np.float32)\n",
        "#行列を転置\n",
        "array1=array1.T\n",
        "array1"
      ],
      "execution_count": null,
      "outputs": [
        {
          "output_type": "execute_result",
          "data": {
            "text/plain": [
              "array([[7.35000e+03, 1.00000e+00, 1.43000e+00, 2.00000e+00, 1.00000e+00],\n",
              "       [1.78610e+04, 2.00000e+00, 1.82000e+00, 2.00000e+00, 0.00000e+00],\n",
              "       [6.93000e+02, 0.00000e+00, 0.00000e+00, 1.00000e+00, 0.00000e+00],\n",
              "       ...,\n",
              "       [1.51531e+05, 2.80000e+01, 4.02900e+01, 2.00000e+00, 0.00000e+00],\n",
              "       [7.90253e+05, 1.35000e+02, 1.98710e+02, 8.00000e+00, 2.00000e+00],\n",
              "       [5.13161e+05, 1.14000e+02, 1.65610e+02, 5.00000e+00, 2.00000e+00]],\n",
              "      dtype=float32)"
            ]
          },
          "metadata": {
            "tags": []
          },
          "execution_count": 698
        }
      ]
    },
    {
      "cell_type": "code",
      "metadata": {
        "id": "TtXJVp2PJIlM"
      },
      "source": [
        "#クラスター数を決めてクラスタリング\n",
        "NofC=4\n",
        "pred = KMeans(n_clusters=NofC).fit_predict(array1)\n",
        "df['cluster_id']=pred"
      ],
      "execution_count": null,
      "outputs": []
    },
    {
      "cell_type": "code",
      "metadata": {
        "colab": {
          "base_uri": "https://localhost:8080/",
          "height": 419
        },
        "id": "uIPfzgqtWzv9",
        "outputId": "25071681-3c5c-49dc-b719-b69c466c80e9"
      },
      "source": [
        "df2=df.copy(deep=True)\n",
        "del(df2['ad_id'])\n",
        "del(df2['xyz_campaign_id'])\n",
        "del(df2['fb_campaign_id'])\n",
        "del(df2['interest'])\n",
        "del(df2['age'])\n",
        "del(df2['gender'])\n",
        "df2"
      ],
      "execution_count": null,
      "outputs": [
        {
          "output_type": "execute_result",
          "data": {
            "text/html": [
              "<div>\n",
              "<style scoped>\n",
              "    .dataframe tbody tr th:only-of-type {\n",
              "        vertical-align: middle;\n",
              "    }\n",
              "\n",
              "    .dataframe tbody tr th {\n",
              "        vertical-align: top;\n",
              "    }\n",
              "\n",
              "    .dataframe thead th {\n",
              "        text-align: right;\n",
              "    }\n",
              "</style>\n",
              "<table border=\"1\" class=\"dataframe\">\n",
              "  <thead>\n",
              "    <tr style=\"text-align: right;\">\n",
              "      <th></th>\n",
              "      <th>Impressions</th>\n",
              "      <th>Clicks</th>\n",
              "      <th>Spent</th>\n",
              "      <th>Total_Conversion</th>\n",
              "      <th>Approved_Conversion</th>\n",
              "      <th>cluster_id</th>\n",
              "    </tr>\n",
              "  </thead>\n",
              "  <tbody>\n",
              "    <tr>\n",
              "      <th>0</th>\n",
              "      <td>7350</td>\n",
              "      <td>1</td>\n",
              "      <td>1.430000</td>\n",
              "      <td>2</td>\n",
              "      <td>1</td>\n",
              "      <td>2</td>\n",
              "    </tr>\n",
              "    <tr>\n",
              "      <th>1</th>\n",
              "      <td>17861</td>\n",
              "      <td>2</td>\n",
              "      <td>1.820000</td>\n",
              "      <td>2</td>\n",
              "      <td>0</td>\n",
              "      <td>2</td>\n",
              "    </tr>\n",
              "    <tr>\n",
              "      <th>2</th>\n",
              "      <td>693</td>\n",
              "      <td>0</td>\n",
              "      <td>0.000000</td>\n",
              "      <td>1</td>\n",
              "      <td>0</td>\n",
              "      <td>2</td>\n",
              "    </tr>\n",
              "    <tr>\n",
              "      <th>3</th>\n",
              "      <td>4259</td>\n",
              "      <td>1</td>\n",
              "      <td>1.250000</td>\n",
              "      <td>1</td>\n",
              "      <td>0</td>\n",
              "      <td>2</td>\n",
              "    </tr>\n",
              "    <tr>\n",
              "      <th>4</th>\n",
              "      <td>4133</td>\n",
              "      <td>1</td>\n",
              "      <td>1.290000</td>\n",
              "      <td>1</td>\n",
              "      <td>1</td>\n",
              "      <td>2</td>\n",
              "    </tr>\n",
              "    <tr>\n",
              "      <th>...</th>\n",
              "      <td>...</td>\n",
              "      <td>...</td>\n",
              "      <td>...</td>\n",
              "      <td>...</td>\n",
              "      <td>...</td>\n",
              "      <td>...</td>\n",
              "    </tr>\n",
              "    <tr>\n",
              "      <th>1138</th>\n",
              "      <td>1129773</td>\n",
              "      <td>252</td>\n",
              "      <td>358.189997</td>\n",
              "      <td>13</td>\n",
              "      <td>2</td>\n",
              "      <td>1</td>\n",
              "    </tr>\n",
              "    <tr>\n",
              "      <th>1139</th>\n",
              "      <td>637549</td>\n",
              "      <td>120</td>\n",
              "      <td>173.880003</td>\n",
              "      <td>3</td>\n",
              "      <td>0</td>\n",
              "      <td>0</td>\n",
              "    </tr>\n",
              "    <tr>\n",
              "      <th>1140</th>\n",
              "      <td>151531</td>\n",
              "      <td>28</td>\n",
              "      <td>40.289999</td>\n",
              "      <td>2</td>\n",
              "      <td>0</td>\n",
              "      <td>2</td>\n",
              "    </tr>\n",
              "    <tr>\n",
              "      <th>1141</th>\n",
              "      <td>790253</td>\n",
              "      <td>135</td>\n",
              "      <td>198.710000</td>\n",
              "      <td>8</td>\n",
              "      <td>2</td>\n",
              "      <td>1</td>\n",
              "    </tr>\n",
              "    <tr>\n",
              "      <th>1142</th>\n",
              "      <td>513161</td>\n",
              "      <td>114</td>\n",
              "      <td>165.609999</td>\n",
              "      <td>5</td>\n",
              "      <td>2</td>\n",
              "      <td>0</td>\n",
              "    </tr>\n",
              "  </tbody>\n",
              "</table>\n",
              "<p>1143 rows × 6 columns</p>\n",
              "</div>"
            ],
            "text/plain": [
              "      Impressions  Clicks  ...  Approved_Conversion  cluster_id\n",
              "0            7350       1  ...                    1           2\n",
              "1           17861       2  ...                    0           2\n",
              "2             693       0  ...                    0           2\n",
              "3            4259       1  ...                    0           2\n",
              "4            4133       1  ...                    1           2\n",
              "...           ...     ...  ...                  ...         ...\n",
              "1138      1129773     252  ...                    2           1\n",
              "1139       637549     120  ...                    0           0\n",
              "1140       151531      28  ...                    0           2\n",
              "1141       790253     135  ...                    2           1\n",
              "1142       513161     114  ...                    2           0\n",
              "\n",
              "[1143 rows x 6 columns]"
            ]
          },
          "metadata": {
            "tags": []
          },
          "execution_count": 700
        }
      ]
    },
    {
      "cell_type": "code",
      "metadata": {
        "colab": {
          "base_uri": "https://localhost:8080/",
          "height": 419
        },
        "id": "Vl8WTXLfMv6l",
        "outputId": "b6b021de-e4f3-4a78-aa4c-98290ff2d0b6"
      },
      "source": [
        "df3=df.copy(deep=True)\n",
        "del(df3['ad_id'])\n",
        "del(df3['xyz_campaign_id'])\n",
        "del(df3['fb_campaign_id'])\n",
        "del(df3['interest'])\n",
        "del(df3['Impressions'])\n",
        "del(df3['Clicks'])\n",
        "del(df3['Spent'])\n",
        "del(df3['Total_Conversion'])\n",
        "del(df3['Approved_Conversion'])\n",
        "# カテゴリ変数を展開\n",
        "df3=pd.get_dummies(df3, columns = ['age', 'gender'])\n",
        "df3"
      ],
      "execution_count": null,
      "outputs": [
        {
          "output_type": "execute_result",
          "data": {
            "text/html": [
              "<div>\n",
              "<style scoped>\n",
              "    .dataframe tbody tr th:only-of-type {\n",
              "        vertical-align: middle;\n",
              "    }\n",
              "\n",
              "    .dataframe tbody tr th {\n",
              "        vertical-align: top;\n",
              "    }\n",
              "\n",
              "    .dataframe thead th {\n",
              "        text-align: right;\n",
              "    }\n",
              "</style>\n",
              "<table border=\"1\" class=\"dataframe\">\n",
              "  <thead>\n",
              "    <tr style=\"text-align: right;\">\n",
              "      <th></th>\n",
              "      <th>cluster_id</th>\n",
              "      <th>age_30-34</th>\n",
              "      <th>age_35-39</th>\n",
              "      <th>age_40-44</th>\n",
              "      <th>age_45-49</th>\n",
              "      <th>gender_F</th>\n",
              "      <th>gender_M</th>\n",
              "    </tr>\n",
              "  </thead>\n",
              "  <tbody>\n",
              "    <tr>\n",
              "      <th>0</th>\n",
              "      <td>2</td>\n",
              "      <td>1</td>\n",
              "      <td>0</td>\n",
              "      <td>0</td>\n",
              "      <td>0</td>\n",
              "      <td>0</td>\n",
              "      <td>1</td>\n",
              "    </tr>\n",
              "    <tr>\n",
              "      <th>1</th>\n",
              "      <td>2</td>\n",
              "      <td>1</td>\n",
              "      <td>0</td>\n",
              "      <td>0</td>\n",
              "      <td>0</td>\n",
              "      <td>0</td>\n",
              "      <td>1</td>\n",
              "    </tr>\n",
              "    <tr>\n",
              "      <th>2</th>\n",
              "      <td>2</td>\n",
              "      <td>1</td>\n",
              "      <td>0</td>\n",
              "      <td>0</td>\n",
              "      <td>0</td>\n",
              "      <td>0</td>\n",
              "      <td>1</td>\n",
              "    </tr>\n",
              "    <tr>\n",
              "      <th>3</th>\n",
              "      <td>2</td>\n",
              "      <td>1</td>\n",
              "      <td>0</td>\n",
              "      <td>0</td>\n",
              "      <td>0</td>\n",
              "      <td>0</td>\n",
              "      <td>1</td>\n",
              "    </tr>\n",
              "    <tr>\n",
              "      <th>4</th>\n",
              "      <td>2</td>\n",
              "      <td>1</td>\n",
              "      <td>0</td>\n",
              "      <td>0</td>\n",
              "      <td>0</td>\n",
              "      <td>0</td>\n",
              "      <td>1</td>\n",
              "    </tr>\n",
              "    <tr>\n",
              "      <th>...</th>\n",
              "      <td>...</td>\n",
              "      <td>...</td>\n",
              "      <td>...</td>\n",
              "      <td>...</td>\n",
              "      <td>...</td>\n",
              "      <td>...</td>\n",
              "      <td>...</td>\n",
              "    </tr>\n",
              "    <tr>\n",
              "      <th>1138</th>\n",
              "      <td>1</td>\n",
              "      <td>0</td>\n",
              "      <td>0</td>\n",
              "      <td>0</td>\n",
              "      <td>1</td>\n",
              "      <td>1</td>\n",
              "      <td>0</td>\n",
              "    </tr>\n",
              "    <tr>\n",
              "      <th>1139</th>\n",
              "      <td>0</td>\n",
              "      <td>0</td>\n",
              "      <td>0</td>\n",
              "      <td>0</td>\n",
              "      <td>1</td>\n",
              "      <td>1</td>\n",
              "      <td>0</td>\n",
              "    </tr>\n",
              "    <tr>\n",
              "      <th>1140</th>\n",
              "      <td>2</td>\n",
              "      <td>0</td>\n",
              "      <td>0</td>\n",
              "      <td>0</td>\n",
              "      <td>1</td>\n",
              "      <td>1</td>\n",
              "      <td>0</td>\n",
              "    </tr>\n",
              "    <tr>\n",
              "      <th>1141</th>\n",
              "      <td>1</td>\n",
              "      <td>0</td>\n",
              "      <td>0</td>\n",
              "      <td>0</td>\n",
              "      <td>1</td>\n",
              "      <td>1</td>\n",
              "      <td>0</td>\n",
              "    </tr>\n",
              "    <tr>\n",
              "      <th>1142</th>\n",
              "      <td>0</td>\n",
              "      <td>0</td>\n",
              "      <td>0</td>\n",
              "      <td>0</td>\n",
              "      <td>1</td>\n",
              "      <td>1</td>\n",
              "      <td>0</td>\n",
              "    </tr>\n",
              "  </tbody>\n",
              "</table>\n",
              "<p>1143 rows × 7 columns</p>\n",
              "</div>"
            ],
            "text/plain": [
              "      cluster_id  age_30-34  age_35-39  ...  age_45-49  gender_F  gender_M\n",
              "0              2          1          0  ...          0         0         1\n",
              "1              2          1          0  ...          0         0         1\n",
              "2              2          1          0  ...          0         0         1\n",
              "3              2          1          0  ...          0         0         1\n",
              "4              2          1          0  ...          0         0         1\n",
              "...          ...        ...        ...  ...        ...       ...       ...\n",
              "1138           1          0          0  ...          1         1         0\n",
              "1139           0          0          0  ...          1         1         0\n",
              "1140           2          0          0  ...          1         1         0\n",
              "1141           1          0          0  ...          1         1         0\n",
              "1142           0          0          0  ...          1         1         0\n",
              "\n",
              "[1143 rows x 7 columns]"
            ]
          },
          "metadata": {
            "tags": []
          },
          "execution_count": 701
        }
      ]
    },
    {
      "cell_type": "code",
      "metadata": {
        "colab": {
          "base_uri": "https://localhost:8080/",
          "height": 419
        },
        "id": "0aKBLPJGlrvU",
        "outputId": "817aba0e-4216-400d-e8de-5bd57f12b9fe"
      },
      "source": [
        "df4=df.copy(deep=True)\n",
        "del(df4['ad_id'])\n",
        "del(df4['fb_campaign_id'])\n",
        "del(df4['interest'])\n",
        "del(df4['Impressions'])\n",
        "del(df4['Clicks'])\n",
        "del(df4['Spent'])\n",
        "del(df4['Total_Conversion'])\n",
        "del(df4['Approved_Conversion'])\n",
        "del(df4['age'])\n",
        "del(df4['gender'])\n",
        "# カテゴリ変数を展開\n",
        "df4=pd.get_dummies(df4, columns = ['xyz_campaign_id'])\n",
        "df4"
      ],
      "execution_count": null,
      "outputs": [
        {
          "output_type": "execute_result",
          "data": {
            "text/html": [
              "<div>\n",
              "<style scoped>\n",
              "    .dataframe tbody tr th:only-of-type {\n",
              "        vertical-align: middle;\n",
              "    }\n",
              "\n",
              "    .dataframe tbody tr th {\n",
              "        vertical-align: top;\n",
              "    }\n",
              "\n",
              "    .dataframe thead th {\n",
              "        text-align: right;\n",
              "    }\n",
              "</style>\n",
              "<table border=\"1\" class=\"dataframe\">\n",
              "  <thead>\n",
              "    <tr style=\"text-align: right;\">\n",
              "      <th></th>\n",
              "      <th>cluster_id</th>\n",
              "      <th>xyz_campaign_id_916</th>\n",
              "      <th>xyz_campaign_id_936</th>\n",
              "      <th>xyz_campaign_id_1178</th>\n",
              "    </tr>\n",
              "  </thead>\n",
              "  <tbody>\n",
              "    <tr>\n",
              "      <th>0</th>\n",
              "      <td>2</td>\n",
              "      <td>1</td>\n",
              "      <td>0</td>\n",
              "      <td>0</td>\n",
              "    </tr>\n",
              "    <tr>\n",
              "      <th>1</th>\n",
              "      <td>2</td>\n",
              "      <td>1</td>\n",
              "      <td>0</td>\n",
              "      <td>0</td>\n",
              "    </tr>\n",
              "    <tr>\n",
              "      <th>2</th>\n",
              "      <td>2</td>\n",
              "      <td>1</td>\n",
              "      <td>0</td>\n",
              "      <td>0</td>\n",
              "    </tr>\n",
              "    <tr>\n",
              "      <th>3</th>\n",
              "      <td>2</td>\n",
              "      <td>1</td>\n",
              "      <td>0</td>\n",
              "      <td>0</td>\n",
              "    </tr>\n",
              "    <tr>\n",
              "      <th>4</th>\n",
              "      <td>2</td>\n",
              "      <td>1</td>\n",
              "      <td>0</td>\n",
              "      <td>0</td>\n",
              "    </tr>\n",
              "    <tr>\n",
              "      <th>...</th>\n",
              "      <td>...</td>\n",
              "      <td>...</td>\n",
              "      <td>...</td>\n",
              "      <td>...</td>\n",
              "    </tr>\n",
              "    <tr>\n",
              "      <th>1138</th>\n",
              "      <td>1</td>\n",
              "      <td>0</td>\n",
              "      <td>0</td>\n",
              "      <td>1</td>\n",
              "    </tr>\n",
              "    <tr>\n",
              "      <th>1139</th>\n",
              "      <td>0</td>\n",
              "      <td>0</td>\n",
              "      <td>0</td>\n",
              "      <td>1</td>\n",
              "    </tr>\n",
              "    <tr>\n",
              "      <th>1140</th>\n",
              "      <td>2</td>\n",
              "      <td>0</td>\n",
              "      <td>0</td>\n",
              "      <td>1</td>\n",
              "    </tr>\n",
              "    <tr>\n",
              "      <th>1141</th>\n",
              "      <td>1</td>\n",
              "      <td>0</td>\n",
              "      <td>0</td>\n",
              "      <td>1</td>\n",
              "    </tr>\n",
              "    <tr>\n",
              "      <th>1142</th>\n",
              "      <td>0</td>\n",
              "      <td>0</td>\n",
              "      <td>0</td>\n",
              "      <td>1</td>\n",
              "    </tr>\n",
              "  </tbody>\n",
              "</table>\n",
              "<p>1143 rows × 4 columns</p>\n",
              "</div>"
            ],
            "text/plain": [
              "      cluster_id  ...  xyz_campaign_id_1178\n",
              "0              2  ...                     0\n",
              "1              2  ...                     0\n",
              "2              2  ...                     0\n",
              "3              2  ...                     0\n",
              "4              2  ...                     0\n",
              "...          ...  ...                   ...\n",
              "1138           1  ...                     1\n",
              "1139           0  ...                     1\n",
              "1140           2  ...                     1\n",
              "1141           1  ...                     1\n",
              "1142           0  ...                     1\n",
              "\n",
              "[1143 rows x 4 columns]"
            ]
          },
          "metadata": {
            "tags": []
          },
          "execution_count": 702
        }
      ]
    },
    {
      "cell_type": "code",
      "metadata": {
        "colab": {
          "base_uri": "https://localhost:8080/"
        },
        "id": "oCoTnag714qN",
        "outputId": "33f81cc1-62c0-4ec8-9980-20bc4a52851d"
      },
      "source": [
        "df['xyz_campaign_id'].value_counts()"
      ],
      "execution_count": null,
      "outputs": [
        {
          "output_type": "execute_result",
          "data": {
            "text/plain": [
              "1178    625\n",
              "936     464\n",
              "916      54\n",
              "Name: xyz_campaign_id, dtype: int64"
            ]
          },
          "metadata": {
            "tags": []
          },
          "execution_count": 713
        }
      ]
    },
    {
      "cell_type": "code",
      "metadata": {
        "id": "egsTkhI2Y6Pp"
      },
      "source": [
        "#正規化\n",
        "df2['Impressions']=df['Impressions']/1000\n",
        "df2['Clicks']=df['Clicks']*10\n",
        "df2['Spent']=df['Spent']*5\n",
        "df2['Total_Conversion']=df['Total_Conversion']*50\n",
        "df2['Approved_Conversion']=df['Approved_Conversion']*120"
      ],
      "execution_count": null,
      "outputs": []
    },
    {
      "cell_type": "code",
      "metadata": {
        "colab": {
          "base_uri": "https://localhost:8080/",
          "height": 411
        },
        "id": "WfoYGqzx9yei",
        "outputId": "7ecb9aa5-c4c4-4731-a412-4878f226c82f"
      },
      "source": [
        "clusterinfo = pd.DataFrame()\n",
        "for i in range(NofC):\n",
        "    clusterinfo['cluster' + str(i)] = df2[df2['cluster_id'] == i].mean()\n",
        "clusterinfo = clusterinfo.drop('cluster_id')\n",
        " \n",
        "my_plot = clusterinfo.T.plot(kind='bar', stacked=True, title=\"\")\n",
        "my_plot.set_xticklabels(my_plot.xaxis.get_majorticklabels(), rotation=0)\n",
        "plt.legend(bbox_to_anchor=(0, -0.1), loc='upper left', borderaxespad=0, fontsize=18)\n",
        "sns.set_style(\"darkgrid\")\n",
        "plt.tick_params(colors='black')"
      ],
      "execution_count": null,
      "outputs": [
        {
          "output_type": "display_data",
          "data": {
            "image/png": "[encoded data removed]",
            "text/plain": [
              "<Figure size 432x288 with 1 Axes>"
            ]
          },
          "metadata": {
            "tags": []
          }
        }
      ]
    },
    {
      "cell_type": "code",
      "metadata": {
        "colab": {
          "base_uri": "https://localhost:8080/"
        },
        "id": "GMtu9gOaey99",
        "outputId": "c47c9ced-a131-4218-b061-adf58a6bea9f"
      },
      "source": [
        "df['cluster_id'].value_counts()"
      ],
      "execution_count": null,
      "outputs": [
        {
          "output_type": "execute_result",
          "data": {
            "text/plain": [
              "2    841\n",
              "0    203\n",
              "1     93\n",
              "3      6\n",
              "Name: cluster_id, dtype: int64"
            ]
          },
          "metadata": {
            "tags": []
          },
          "execution_count": 705
        }
      ]
    },
    {
      "cell_type": "code",
      "metadata": {
        "colab": {
          "base_uri": "https://localhost:8080/",
          "height": 439
        },
        "id": "97tP7fvzVquU",
        "outputId": "e81561b8-90d7-4d46-9be0-e85d3a5854ea"
      },
      "source": [
        "clusterinfo = pd.DataFrame()\n",
        "for i in range(NofC):\n",
        "    clusterinfo['cluster' + str(i)] = df3[df3['cluster_id'] == i].mean()\n",
        "clusterinfo = clusterinfo.drop('cluster_id')\n",
        " \n",
        "my_plot = clusterinfo.T.plot(kind='bar', stacked=True, title=\"\")\n",
        "my_plot.set_xticklabels(my_plot.xaxis.get_majorticklabels(), rotation=0)\n",
        "plt.legend(bbox_to_anchor=(0, -0.1), loc='upper left', borderaxespad=0, fontsize=18)\n",
        "sns.set_style(\"darkgrid\")\n",
        "plt.tick_params(colors='black')"
      ],
      "execution_count": null,
      "outputs": [
        {
          "output_type": "display_data",
          "data": {
            "image/png": "[encoded data removed]",
            "text/plain": [
              "<Figure size 432x288 with 1 Axes>"
            ]
          },
          "metadata": {
            "tags": []
          }
        }
      ]
    },
    {
      "cell_type": "code",
      "metadata": {
        "colab": {
          "base_uri": "https://localhost:8080/",
          "height": 357
        },
        "id": "xV3sFkdppFT9",
        "outputId": "02d5c96e-636f-4486-f24a-06d2c9d724ce"
      },
      "source": [
        "clusterinfo = pd.DataFrame()\n",
        "for i in range(NofC):\n",
        "    clusterinfo['cluster' + str(i)] = df4[df4['cluster_id'] == i].mean()\n",
        "clusterinfo = clusterinfo.drop('cluster_id')\n",
        " \n",
        "my_plot = clusterinfo.T.plot(kind='bar', stacked=True, title=\"\")\n",
        "my_plot.set_xticklabels(my_plot.xaxis.get_majorticklabels(), rotation=0)\n",
        "plt.legend(bbox_to_anchor=(0, -0.1), loc='upper left', borderaxespad=0, fontsize=18)\n",
        "sns.set_style(\"darkgrid\")\n",
        "plt.tick_params(colors='black')"
      ],
      "execution_count": null,
      "outputs": [
        {
          "output_type": "display_data",
          "data": {
            "image/png": "[encoded data removed]",
            "text/plain": [
              "<Figure size 432x288 with 1 Axes>"
            ]
          },
          "metadata": {
            "tags": []
          }
        }
      ]
    },
    {
      "cell_type": "code",
      "metadata": {
        "colab": {
          "base_uri": "https://localhost:8080/"
        },
        "id": "Kqk7rv9ZgxXN",
        "outputId": "80b2c983-9d55-41b5-9069-aac57ef99794"
      },
      "source": [
        "df[ df['cluster_id']==0 ].mean()"
      ],
      "execution_count": null,
      "outputs": [
        {
          "output_type": "execute_result",
          "data": {
            "text/plain": [
              "ad_id                  1.148451e+06\n",
              "xyz_campaign_id        1.175616e+03\n",
              "fb_campaign_id         1.498828e+05\n",
              "interest               3.934483e+01\n",
              "Impressions            3.661416e+05\n",
              "Clicks                 6.521182e+01\n",
              "Spent                  1.007867e+02\n",
              "Total_Conversion       4.236453e+00\n",
              "Approved_Conversion    1.330049e+00\n",
              "cluster_id             0.000000e+00\n",
              "dtype: float64"
            ]
          },
          "metadata": {
            "tags": []
          },
          "execution_count": 708
        }
      ]
    },
    {
      "cell_type": "code",
      "metadata": {
        "colab": {
          "base_uri": "https://localhost:8080/"
        },
        "id": "payugDNag9n7",
        "outputId": "cce60ba0-cc84-471c-a737-fdcf8f34cfd8"
      },
      "source": [
        "df[ df['cluster_id']==1 ].mean()"
      ],
      "execution_count": null,
      "outputs": [
        {
          "output_type": "execute_result",
          "data": {
            "text/plain": [
              "ad_id                  1.156975e+06\n",
              "xyz_campaign_id        1.178000e+03\n",
              "fb_campaign_id         1.511037e+05\n",
              "interest               3.766667e+01\n",
              "Impressions            9.489708e+05\n",
              "Clicks                 1.762473e+02\n",
              "Spent                  2.692053e+02\n",
              "Total_Conversion       1.127957e+01\n",
              "Approved_Conversion    3.537634e+00\n",
              "cluster_id             1.000000e+00\n",
              "dtype: float64"
            ]
          },
          "metadata": {
            "tags": []
          },
          "execution_count": 709
        }
      ]
    },
    {
      "cell_type": "code",
      "metadata": {
        "colab": {
          "base_uri": "https://localhost:8080/"
        },
        "id": "BfkjlWxkg_L9",
        "outputId": "9166bf55-617e-45a4-e04a-2531f8dde828"
      },
      "source": [
        "df[ df['cluster_id']==2 ].mean()"
      ],
      "execution_count": null,
      "outputs": [
        {
          "output_type": "execute_result",
          "data": {
            "text/plain": [
              "ad_id                  928628.241379\n",
              "xyz_campaign_id          1028.235434\n",
              "fb_campaign_id         127905.644471\n",
              "interest                   30.728894\n",
              "Impressions             44997.542212\n",
              "Clicks                      7.990488\n",
              "Spent                      12.134031\n",
              "Total_Conversion            1.380499\n",
              "Approved_Conversion         0.482759\n",
              "cluster_id                  2.000000\n",
              "dtype: float64"
            ]
          },
          "metadata": {
            "tags": []
          },
          "execution_count": 717
        }
      ]
    },
    {
      "cell_type": "code",
      "metadata": {
        "colab": {
          "base_uri": "https://localhost:8080/"
        },
        "id": "sL6MXmcpphhb",
        "outputId": "e150dd43-bb06-4d9c-f6f5-fab61b5f5205"
      },
      "source": [
        "df[ df['cluster_id']==3 ].mean()"
      ],
      "execution_count": null,
      "outputs": [
        {
          "output_type": "execute_result",
          "data": {
            "text/plain": [
              "ad_id                  1.121482e+06\n",
              "xyz_campaign_id        1.178000e+03\n",
              "fb_campaign_id         1.446013e+05\n",
              "interest               1.983333e+01\n",
              "Impressions            2.168477e+06\n",
              "Clicks                 3.026667e+02\n",
              "Spent                  5.007883e+02\n",
              "Total_Conversion       3.233333e+01\n",
              "Approved_Conversion    1.233333e+01\n",
              "cluster_id             3.000000e+00\n",
              "dtype: float64"
            ]
          },
          "metadata": {
            "tags": []
          },
          "execution_count": 714
        }
      ]
    }
  ]
}