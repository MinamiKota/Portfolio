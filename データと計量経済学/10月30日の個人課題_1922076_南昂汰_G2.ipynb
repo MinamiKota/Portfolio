{
  "nbformat": 4,
  "nbformat_minor": 0,
  "metadata": {
    "colab": {
      "name": "10月30日の個人課題_1922076_南昂汰_G2.ipynb",
      "provenance": [],
      "collapsed_sections": []
    },
    "kernelspec": {
      "name": "python3",
      "display_name": "Python 3"
    }
  },
  "cells": [
    {
      "cell_type": "markdown",
      "metadata": {
        "id": "ETvmlhThTeL7"
      },
      "source": [
        "適切なベイジアンネットワークをプログラミングし、購入したときの年齢層、購入していないときの年齢層の確率をそれぞれもとめてみよう。また、女性、40代、CM見た人がどれくらいの確率で商品を買うかを推定しよう。"
      ]
    },
    {
      "cell_type": "markdown",
      "metadata": {
        "id": "PfzHyPuSOB6N"
      },
      "source": [
        "- pgmpyを用いる\n",
        "  - Ankan, A., & Panda, A. (2015). pgmpy: Probabilistic graphical models using python. In Proceedings of the 14th Python in Science Conference (SCIPY 2015). Citeseer (Vol. 10).,\n"
      ]
    },
    {
      "cell_type": "code",
      "metadata": {
        "id": "nVe--9s0OAgl",
        "outputId": "40849844-2dfc-4100-cf1a-e40d64932b56",
        "colab": {
          "base_uri": "https://localhost:8080/"
        }
      },
      "source": [
        "#pgmpyをインストール\n",
        "!pip install pgmpy"
      ],
      "execution_count": 1,
      "outputs": [
        {
          "output_type": "stream",
          "text": [
            "Collecting pgmpy\n",
            "\u001b[?25l  Downloading https://files.pythonhosted.org/packages/22/16/e2edff21fca7a2cacaedd293caaaae5eaea832af0dd347c1159b4455be6b/pgmpy-0.1.12-py3-none-any.whl (322kB)\n",
            "\r\u001b[K     |█                               | 10kB 18.6MB/s eta 0:00:01\r\u001b[K     |██                              | 20kB 3.1MB/s eta 0:00:01\r\u001b[K     |███                             | 30kB 3.8MB/s eta 0:00:01\r\u001b[K     |████                            | 40kB 4.1MB/s eta 0:00:01\r\u001b[K     |█████                           | 51kB 3.5MB/s eta 0:00:01\r\u001b[K     |██████                          | 61kB 3.8MB/s eta 0:00:01\r\u001b[K     |███████                         | 71kB 4.2MB/s eta 0:00:01\r\u001b[K     |████████▏                       | 81kB 4.5MB/s eta 0:00:01\r\u001b[K     |█████████▏                      | 92kB 4.8MB/s eta 0:00:01\r\u001b[K     |██████████▏                     | 102kB 4.7MB/s eta 0:00:01\r\u001b[K     |███████████▏                    | 112kB 4.7MB/s eta 0:00:01\r\u001b[K     |████████████▏                   | 122kB 4.7MB/s eta 0:00:01\r\u001b[K     |█████████████▏                  | 133kB 4.7MB/s eta 0:00:01\r\u001b[K     |██████████████▏                 | 143kB 4.7MB/s eta 0:00:01\r\u001b[K     |███████████████▏                | 153kB 4.7MB/s eta 0:00:01\r\u001b[K     |████████████████▎               | 163kB 4.7MB/s eta 0:00:01\r\u001b[K     |█████████████████▎              | 174kB 4.7MB/s eta 0:00:01\r\u001b[K     |██████████████████▎             | 184kB 4.7MB/s eta 0:00:01\r\u001b[K     |███████████████████▎            | 194kB 4.7MB/s eta 0:00:01\r\u001b[K     |████████████████████▎           | 204kB 4.7MB/s eta 0:00:01\r\u001b[K     |█████████████████████▎          | 215kB 4.7MB/s eta 0:00:01\r\u001b[K     |██████████████████████▎         | 225kB 4.7MB/s eta 0:00:01\r\u001b[K     |███████████████████████▍        | 235kB 4.7MB/s eta 0:00:01\r\u001b[K     |████████████████████████▍       | 245kB 4.7MB/s eta 0:00:01\r\u001b[K     |█████████████████████████▍      | 256kB 4.7MB/s eta 0:00:01\r\u001b[K     |██████████████████████████▍     | 266kB 4.7MB/s eta 0:00:01\r\u001b[K     |███████████████████████████▍    | 276kB 4.7MB/s eta 0:00:01\r\u001b[K     |████████████████████████████▍   | 286kB 4.7MB/s eta 0:00:01\r\u001b[K     |█████████████████████████████▍  | 296kB 4.7MB/s eta 0:00:01\r\u001b[K     |██████████████████████████████▍ | 307kB 4.7MB/s eta 0:00:01\r\u001b[K     |███████████████████████████████▌| 317kB 4.7MB/s eta 0:00:01\r\u001b[K     |████████████████████████████████| 327kB 4.7MB/s \n",
            "\u001b[?25hRequirement already satisfied: pandas in /usr/local/lib/python3.6/dist-packages (from pgmpy) (1.1.4)\n",
            "Requirement already satisfied: scikit-learn in /usr/local/lib/python3.6/dist-packages (from pgmpy) (0.22.2.post1)\n",
            "Requirement already satisfied: joblib in /usr/local/lib/python3.6/dist-packages (from pgmpy) (0.17.0)\n",
            "Requirement already satisfied: torch in /usr/local/lib/python3.6/dist-packages (from pgmpy) (1.7.0+cu101)\n",
            "Requirement already satisfied: scipy in /usr/local/lib/python3.6/dist-packages (from pgmpy) (1.4.1)\n",
            "Requirement already satisfied: statsmodels in /usr/local/lib/python3.6/dist-packages (from pgmpy) (0.10.2)\n",
            "Requirement already satisfied: networkx in /usr/local/lib/python3.6/dist-packages (from pgmpy) (2.5)\n",
            "Requirement already satisfied: pyparsing in /usr/local/lib/python3.6/dist-packages (from pgmpy) (2.4.7)\n",
            "Requirement already satisfied: tqdm in /usr/local/lib/python3.6/dist-packages (from pgmpy) (4.41.1)\n",
            "Requirement already satisfied: numpy in /usr/local/lib/python3.6/dist-packages (from pgmpy) (1.18.5)\n",
            "Requirement already satisfied: pytz>=2017.2 in /usr/local/lib/python3.6/dist-packages (from pandas->pgmpy) (2018.9)\n",
            "Requirement already satisfied: python-dateutil>=2.7.3 in /usr/local/lib/python3.6/dist-packages (from pandas->pgmpy) (2.8.1)\n",
            "Requirement already satisfied: dataclasses in /usr/local/lib/python3.6/dist-packages (from torch->pgmpy) (0.7)\n",
            "Requirement already satisfied: future in /usr/local/lib/python3.6/dist-packages (from torch->pgmpy) (0.16.0)\n",
            "Requirement already satisfied: typing-extensions in /usr/local/lib/python3.6/dist-packages (from torch->pgmpy) (3.7.4.3)\n",
            "Requirement already satisfied: patsy>=0.4.0 in /usr/local/lib/python3.6/dist-packages (from statsmodels->pgmpy) (0.5.1)\n",
            "Requirement already satisfied: decorator>=4.3.0 in /usr/local/lib/python3.6/dist-packages (from networkx->pgmpy) (4.4.2)\n",
            "Requirement already satisfied: six>=1.5 in /usr/local/lib/python3.6/dist-packages (from python-dateutil>=2.7.3->pandas->pgmpy) (1.15.0)\n",
            "Installing collected packages: pgmpy\n",
            "Successfully installed pgmpy-0.1.12\n"
          ],
          "name": "stdout"
        }
      ]
    },
    {
      "cell_type": "markdown",
      "metadata": {
        "id": "osOWg1o_O2U-"
      },
      "source": [
        "![image.png](data:image/png;base64,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)\n",
        "\n",
        "- 涌井良幸, 涌井貞美, “これならわかるベイズ統計学”, ナツメ社, p.160-174, 2012"
      ]
    },
    {
      "cell_type": "code",
      "metadata": {
        "id": "-h5NhO9qOLeX"
      },
      "source": [
        "from pgmpy.models import BayesianModel\n",
        "from pgmpy.factors.discrete import TabularCPD, DiscreteFactor"
      ],
      "execution_count": 2,
      "outputs": []
    },
    {
      "cell_type": "code",
      "metadata": {
        "id": "Wlr5p5dyO9rA",
        "outputId": "e921b994-e3f1-4058-b2e4-91ad464a4589",
        "colab": {
          "base_uri": "https://localhost:8080/"
        }
      },
      "source": [
        "# Defining the model structure. We can define the network by just passing a list of edges.\n",
        "model = BayesianModel([('B', 'A'), ('E', 'A'), ('A', 'S')])\n",
        "\n",
        "# Defining individual CPDs.\n",
        "cpd_b = TabularCPD(variable='B', variable_card=2, values=[[0.99], [0.01]])\n",
        "\n",
        "cpd_e = TabularCPD(variable='E', variable_card=2, values=[[0.98], [0.02]])\n",
        "\n",
        "cpd_a = TabularCPD(variable='A', variable_card=2, \n",
        "                   values=[[0.92, 0.74, 0.06, 0.05],\n",
        "                           [0.08, 0.26, 0.94, 0.95]],\n",
        "                  evidence=['B', 'E'],\n",
        "                  evidence_card=[2, 2])\n",
        "\n",
        "cpd_s = TabularCPD(variable='S', variable_card=2, \n",
        "                   values=[[0.9, 0.3],\n",
        "                           [0.1, 0.7]], \n",
        "                   evidence=['A'], evidence_card=[2])\n",
        "\n",
        "\n",
        "\n",
        "# Associating the CPDs with the network\n",
        "model.add_cpds(cpd_b, cpd_e, cpd_a, cpd_s)\n",
        "\n",
        "# check_model checks for the network structure and CPDs and verifies that the CPDs are correctly \n",
        "# defined and sum to 1.\n",
        "model.check_model()"
      ],
      "execution_count": 3,
      "outputs": [
        {
          "output_type": "execute_result",
          "data": {
            "text/plain": [
              "True"
            ]
          },
          "metadata": {
            "tags": []
          },
          "execution_count": 3
        }
      ]
    },
    {
      "cell_type": "code",
      "metadata": {
        "id": "3WbtTBBUPmrU"
      },
      "source": [
        "from pgmpy.inference import VariableElimination\n",
        "infer = VariableElimination(model)"
      ],
      "execution_count": 4,
      "outputs": []
    },
    {
      "cell_type": "code",
      "metadata": {
        "id": "JkzHLeypPY62",
        "outputId": "65098e0c-da5f-4957-bef2-da4a68c7d2a1",
        "colab": {
          "base_uri": "https://localhost:8080/"
        }
      },
      "source": [
        "print(infer.query(['B'], evidence={'S': 1}))"
      ],
      "execution_count": 5,
      "outputs": [
        {
          "output_type": "stream",
          "text": [
            "Finding Elimination Order: : 100%|██████████| 2/2 [00:00<00:00, 293.84it/s]\n",
            "Eliminating: A: 100%|██████████| 2/2 [00:00<00:00, 258.71it/s]"
          ],
          "name": "stderr"
        },
        {
          "output_type": "stream",
          "text": [
            "+------+----------+\n",
            "| B    |   phi(B) |\n",
            "+======+==========+\n",
            "| B(0) |   0.9572 |\n",
            "+------+----------+\n",
            "| B(1) |   0.0428 |\n",
            "+------+----------+\n"
          ],
          "name": "stdout"
        },
        {
          "output_type": "stream",
          "text": [
            "\n"
          ],
          "name": "stderr"
        }
      ]
    },
    {
      "cell_type": "code",
      "metadata": {
        "id": "x0stxpI9QAki",
        "outputId": "6de46b85-d136-4637-e8b4-a876f2a4984f",
        "colab": {
          "base_uri": "https://localhost:8080/"
        }
      },
      "source": [
        "print(infer.query(['E'], evidence={'S': 1}))"
      ],
      "execution_count": 6,
      "outputs": [
        {
          "output_type": "stream",
          "text": [
            "Finding Elimination Order: : 100%|██████████| 2/2 [00:00<00:00, 1277.58it/s]\n",
            "Eliminating: B: 100%|██████████| 2/2 [00:00<00:00, 436.36it/s]"
          ],
          "name": "stderr"
        },
        {
          "output_type": "stream",
          "text": [
            "+------+----------+\n",
            "| E    |   phi(E) |\n",
            "+======+==========+\n",
            "| E(0) |   0.9665 |\n",
            "+------+----------+\n",
            "| E(1) |   0.0335 |\n",
            "+------+----------+\n"
          ],
          "name": "stdout"
        },
        {
          "output_type": "stream",
          "text": [
            "\n"
          ],
          "name": "stderr"
        }
      ]
    },
    {
      "cell_type": "markdown",
      "metadata": {
        "id": "G7dnD_LCpMBW"
      },
      "source": [
        "# どのWebページが効いていて購入したのか(コンバージョンを測る)\n",
        "![image.png](data:image/png;base64,iVBORw0KGgoAAAANSUhEUgAAAL8AAADwCAYAAABR5LW/AAAgAElEQVR4Ae1dB3gc1bWWIJQkhJa8JCQ8CCm8hACPQAgJPCBgU2xrRm5yQ5YlF8kVe2dUrbbqxbLVbclqVnfDheIA1t6xyqrY6lpZLoQ8XhxCGji0gB37vu8faeTValdeSTNbRqPvu9+OZu6cc/5zzty5c+6593p4KPTns1a4iQ2ue3BBRP3MwMSW0LWpLcXr01r3rk9rfWN9aqtB/E1r3bsupaUI11EP9XGfQiJpZBXVAPVkQ9/+HsMJv/bTG31XJxvT1qe2Vq5Paz24Pq317aFyEOdwDXVQF/d4eFBPRUVzBHGGF761KKKeXZfSWshvO96cWtpzLrfGdLlo3wCtOHyaVr92hta+fpbuOfKO+Iv/cR7XUQ/1cd/a5JadoAN6jpBb4zFRDVBPr5D6nyyLa1y3LrX5UGReR/e2ir6Pt+/up6UHTtGqV8/QmtfO0N1vnBULjnEO11BnW0XfP3EP7gUN0HKzB4F6zgoW7g9Kak0PzTpxIrvS9MWug6fpniODTg5HH2/B/TlVpn+BHuiCvpspZaLe5Bb3zdhw5Aaf0GPPrUluqdUXdJ4u2HNSbNjGa2epPhpB0AAt0JwfXv88eLi0MuCUq5NbtscWdL5b/MoA3S06PJxengJ6oAv6QUnNOwYfApdWiaqF+61e+MqCcGH6+rSWw+m7ej6sOHxKNltLPgOaoA0e4AWeLqXUORF13/SPM4bFbO88U7x/YPi1Jr3elPgFH/ADX/B3KYVMAWFm8oa7Vyc1F6SVdP+t4tBpxW0OHuAFnuDtEiqeG37s0U1bWo/m1Zgu7H7jSn9OCYcfTfMMBV/whxwuoRCVC6HX6695KaphflhOe0fRvpOKO72lzcETvCEDZHGKuh8JbL/ON7rRLyq/4wyeSny4OquAP+Tw0zf4Qi6nKGQKMGVDm76xIr4pJnln91+kYIUzbI4PZcgAWSCTQ1X/W71w4/K4Rn1aac+HEMQZCrDkCTkgD+SCfA5VyBRgNiu88bagxObirMq+Lyx176z/IQtkgmwOMQFa1hXxTVu2lvd+Wvs6HN+1Slpp92d+sY0lTnslOsQKjmWC1nVNSkvl9tr+f7uavfNq+v4dENf0quLRIHxpL4tpKs4o6/kCLa2rli2lPV+sjGtK99Hvvd6xbqI+bj665q8ujWkkedWmS65q79yqvstBicYqxbpAaEkD9E3BcQWdn7qqEszlSi/t+Rjyam+AiT+QaDzwlk8t6b5grltXPM6q7L0AWRVp8BZFNMzfWt7zJ1cEbkumpKLuD/yiGqdP3PxT+85lMQ1rsqv6PrKlX1c7v2VX7z9XJhjny2q12SGGH4VkHu9CVKX6VfcpkBdyQ35ZFTIFiLHc0V9E5nacqUIaipvYHLJCZsgui4nQ58MQM+Kr7qIEczkhN+QHDlkUMgWI+IQdvQWJhmUHBtzO5pAZsgPDpE31UmT9wrTSno+rDp+i7lrQ/weOSStjihDwi2kK2lbe+4W72huyA8OkzMVurPuOLqOtufyg+zo+DAj5gQN4JqWQKXCzN1f/n8FiF9d9bV5x6BQN3na8E1gmbDJ/fSOXU2W65K4tgLncOVV9l4BnwsqYIjcuTzDG5teY3PYtL9kcGIBlQmZD7rwuo60VrWblIfcvQ61/qzYnwLY7zN3UcAdaTLSc7m5zqfUfnBxjG7PVK0ujG/y3lfdcqDw0QNVSgAe4rALWTnosizGuyarovaQWewMLMI3LtBjJXZvacqT0lZO04uCAagrwrE1pOaIlv412B6QHrEttqSt7RT32Bpb1qS1Hx5X6gEkisTs63lOT40tYgEubBDPa+b048t9xOzr/JOlJLb/ANDtEeGg0YhtnAuKadLnVfbT84IDqCnABnw3oU/Z0QFxThBptnjdo7wg7DUs9VycbD5fsO0nLDww4rCxYytP7H3qCbk6sVJQncAGfNgfY3B2o55qU5tdL9ytr82WBsaKNYWepPPLYdOrts5ZuLTQoYndgAja77D0zRPguUgJ2HThJHVVK95voN26+nd70jVvpk8/OUZwv8AGnufmn8jGiPKFZbT1K23v6zJfoLbd+i85/SSeWuYtfps97LaV33fNT6ul5DV24LEQR2wObXVEfL53hV8nFXR8prQhz+qFxZfS6626gvisj6ddvuoWW7OtVRAkST+ADzqns8ObYvYPJYynFXecl/Sj1C+e/+4f3WbXtY0/MEH2gZF+f1euTkQnY7LK3mL25q4eWvXLSYeWZFxbSBx5+kmaVNFBPT0/KRxcpynvrrh4KnOYOMJWPF0XWL4ROlLb5tBmDzm+Nz/J1SdTDw4Om7zgquxzAtnhz/YKr2hjzInOr+mQXwBpgnCvZZ6I333I7XboqWuR5z48foE9Nm6cof+Cb8OjfVTXofhVWJhhj8bFry0ZynR/L+e974Nf0O3fcLfqDXPwkOsAGjFe1TFCSsaxwdz8t23/SISVUv0t84rcWEpHfvCWbxL5/8Z4+xfgDX1BSS9lVlTFFKkAXjrA5nP8/f/BftKC6Uyw5ZUYak7aPPvviYnrNtdfSdcHZitjcbnuvTjLu37nHREv39zukAPgPfvTzYV5J2a+LDwMfUzx8Tm5ZgA84p4hvXxWmo2w+bcYS0bbo3pgXfOdtCMt1vr1XJ7e8UbzPMY6PLg++/vHVb+7gd3z/Hvr0cz4jzplfn+wx8K1Oaj5yVa+YIhUcZXM4P2ybmPWaWCISK8WozwO/eJJee+1XKDN/tSI2t9veq5ONhpJ9/dQRJTRusMtz41e/Tm+97dvDBa9AhD6L9vQpJgdwThHfvipMR9n82ReXiNEea77lF6QXw50ZBUQRm9tlb7QCO/f00+K9yhco45v/8T3KRRWPKL4ro8XXYnBMqSJyAJ/W8l95Jhxlc9H577nPqk0La3voV667ns5/ibd6fTL+aLe9g5Ka9+2oNdGivf2KFvS7b7ntP+jzjP8oPuK1W79Fn35u4ahrcsgFfMB5xfxT+ygw0bjfETaH8991z31WbZpf2SG2/IzPWqvXJ2N3YAPGq1o5KNFYtr1GeecPjasQW/eIpBqrYJ9+bgG9+ZZvUjwIkwFu7V7gA86rKmOKVHCUzW05f0Ftj9jQofubmn/UefZGnD+zvJfiVaFkeXaGL73tm9+hhbtNVvlsiiwSHw4+dpfV65ORDfiWxzVePe47RZwfYx6OsPkzLy4RR/Cfmr6Aojw5bT596JfP0ltv/44Y6gxYmyy7reEnor3tifNj5DOtpFsRIcwd1nvhBrpsTaJNPjtqekQFbQjbbrOOOb3xHAOfNsJ75cnGCK8jbL5qY4bo8HB6qTzntYwu8o+gqdsNsttZ8glgs2uEFzkQcQWdH2FgQK0F+OzK9bjiH6o+Qm5PQkHnebXaO76g077cHmQ76jLaugp291O1FuDTsjqvPM/IeOQz2nrUam9gsyurE3nPqxKMh/Or+2hBrUl1BbiAz6787iv+ofIj6hmYaHxdjTYHJmCz297LYpp0W0q7KUJEaivABXwq9+Zxw1sW0xCxpaxHffYu66HAZrdCMMc1IvvEe2pzfOABLm0O72hXwBzezbntf1KbzYEJ2EYjtnEGqzcEJjYfQeovYuJqKcADXNrqDaMNjxUOVic2H8WcV7XYG1iAaVyrN0A1SzY3+Cft7LyAla/UUoAHuEabXjsDDfjGNKxJLuq6pBZ7Awswjdu6WNlsXUpLa16VieZXu38BDuDRVmyz7QqYy/tyWlunGuwNDC+ntXTaGeUZrRTf6EYueWf3pbxqE3X3AhzAMxqldsZcA34xjbGpJd1ub29gABZzbOM6xqrG61Kam3Mq+9xaGZAfOLRVmq9ufqxsvCGtrTO3yn0bPMgODJNapRmqWhRevzAmv+NjEHTXAvmB4+qm12pAA75RTUHxO7q+cFd7Q3ZgmLQ1saPJinhjLWLA7qgMyA35tZ1Z7HcF7GoSlGh8Y1t5r9vZHDJDdll2ZoHKsKfV+rTWrqyKPppTaXKbAnkht7Ynl/2OL9XEvla6LW1ncircx96QFTLLtieXpAyfCGF+ePaJD9zJ+SEv5JYwaL/j08CSqIY10Xkd/3QXm0NWyDw+lHbUxn62vtFNwZE57R9nV5ioK5etu/qob3TDxUWb61O1fXjtMK6NKgwv/HRuiNCu3955wZXtDdkicjou+MUqtA8v9IMNfv1imtIjczu+cGVlrEww/pvhCGU54QLLCblalMeGd9s4zQS+9jWWFxIYjnwBPS6IqD8ev6PrsqvaPKGg+9LiyAaD4t91aEkXR9aXbM5t/yyrwkRdrWzOaf+M5cmXMJpZ+ZTlDPoZG47cbMPe2ukhDTDBZAHLkz+a6Q56/JtvdMMb8QVd/3Y1eycUdv07QG+sZEObvuEQI/5WL9zoF9Ooj8xp/8e2Xb00q7zP6QVyQB7I5cUL/8PwRLAwoGhEhjdsUGSLeodoXjkmSPZjOYGM0hkvNM/mySOzNwm3+uubimO3d/zLFewNGSALZIJsymnGCmUkhy3a3OC/Mb3tzJbSHppZ3ue0Av6QA/KYJ615cWQmw5FuS4OyHPkDoyNLtO8BDw+EBBlOyGQ4ctFCTx946QwB5nnwaF19oxpjQzOP/2Xrrl6n2Ru8IQNkcViLb+UZ8Jgd2vCrVQnNR/FRhNZ3264+B5ZeCr7gP5c/9qg1+WA8hjcsZTjyroVxKcuTHm+evGD9PrWfpZ4MJ/izHPmLhV4u4mGw1UVEg4H5z+tSWzsSC7sdaOtBvwJP8IYMLtF4zYmo+6ZvVGPYpi1tZ5J2OkYh4AN+4Av+V3NVdHUYzrCJ4chfLYxN0UXCPNar0VDLdYY/9ijLk9ZReuBInTdfd589OGfyhrv99U0FYVkn/pZW0qP4QwAe4AWe4G2PjA6tg37jstimHbotbe/iCc0o66Vby/pkK6AHuqAPPt66+gfGCxCvSUQyWI58Yml8lhf2sRvJf42XprvUn7Gh4T9YjuxkOHLZAvt7LGfwGS8OzPuYH9owbXm88XB4dvuHqcU9stla8hvQBG3wAC/wHK+cDqxPPfEQ+Oub0tcmt55AWDS5qGfCDwIcHvdH5XX8C/RAd3AmFvWcDCiEP1mObGc5csHCEdD3LZhwKuxkhFLoXh+fvdd6ccI6liMfjcDKk38xnCERoc3JsMZkEZ/QY88t1xtrN21pOx23o4umlUy84cO9oAFaoDk3XJg+7gkpkwEkx73InfcJrWcD9MbCoKTm5pDM9nNReR2X4wu6aEpxj6ggvM4yyvpoemmv+D/O4zrqoT7uw/2go0QuPlIfGJ7ssWwNWY58zvAkSbYcETkUOgEajI48zXJC7winRxiYF16dpav74QRIjnEL9fQKqf/JS5GNa5frjQfXp7Z2R2S3fxy7vZMm7uymaMXh2FvKBguOcQ7XUAd1cQ/uBQ3QMv/gHoOxa1/yWSvcxAbXPTg/7NiMpdENoQhR+cc2HvTmhS/mhx875xfTRJbHGffiPK6jHurjPkcg89pkeJjhSN0oJ+HIP1iOcAjvOkIOuXh46QzfZzhSbYmH5chpVie8KBcf23SoJ96eDCf8evHmBt9lsY1piMe/FNVUvzC8/vdzQo596K9veh3ncA11UHfwjTu5t7ptmVzoCssbooaNw5M+VxDNWydMZzjSPizX0GAZy5H/Y3lhmUtEGMZQ1OCHvRDGcORTcwz4xvHiDeHOHuNgONI2LJeOeI8BRb2XxDcBT/4+rAjesNR10Irh0cUMR84Oy3dlxNjEcIKX68h6RRKGN8xgeMMZS5lZXqjFm+BKTecdMbyQYiZfjvMkcSJntEKSElievIOPMieKY5U1BsxYnWE9w5EPJFnNfhvZTeQJqzc6+CT67ixHDpvJJqZ2YByD5Q1POVicMdkNvVml1BPTmJXVePH54Le+bh5vHxxJdF2kkJflhFiWIx9bOhjDGQ7aGxuXGyGiNF4ciZcS0IZl48mHYhqHCzYoSD4zz72ackmHDGcIlgyFVAMXj90O+yyiTQxHcsyNBxwsR5BFWjw3VLhzuLLCB968MB/fIZIeh+S4BDmUiIrJCYfhyLFhuXnDYjlpuzQtPPnm3QiWM6xyaYGtCDd7k/ADRFJYjsDZpFc4Ror/xXIkbVZ4421WbpPlFKMjP2d4YhjBFw8gT1pZnfBLWZgoTITlSPQV+YUihdm5DnmGJ7orwMl75oloriOlfZJgGTyWI2+a4Rnsa3PkI5YnoXLml4sJaDzZZpmAhtwcliPL3Skejm8lM529a5+23bwWYuUsR96XgLO8sNrNIYniewULvx0RwrvyNjjH6IQVk/uYp54IsZq/LYf0d5HVGbLccRBODCSYpZfgTaoGPxgTAz7CJMdnOHLO7Yasx0Tn4SH2w3lyygyj1CUaYHhh9lVuH3UZ3RiGIy2j6KHboyM/H3WDG51geOHIMC6dsMKNRB+/qHB0OLwEGCHE8VNx/Tvw8c5wQhDLkz9JWM1+W+wJPYof1jwptPymED9wg8kC19fC1SVkeYE300v11e9w4xoMT9ZKYNH1cbd0gfGqHmFIhiebWZ6cl3BLvyxPXkfqhiVNKQGNQajyStcJb48vkGc02QQ0S37O/J/l6n9hhvHPzpRFUd7o4zEcee8KWMMmRRm6EPEXdG/eznJkq2UsHq06y5FyKTfdW1f3JAalruhIiiIZXlPjukNIE2E48g8Jr7PGShR3FYYngRJIfLjJGQVRXHiZGGDdSJYnu0Z3ZQyYbD9gpp/B7wTecAbTMGVi75JkGI7sl3CrshuMPrA4Z3boNY6+nktawkFCiXF6zvCaZPTRv4bPWI5EODsBzRHqMO8KY6TcETwdygMxaDMD/xWpAg4VwAWZIaXYcnTWXEcIAbvLqPdk1ItZc8O4efKhq2fMjgsrPuCQtDYMkBPCxkVAZZWRgMZw5NAVfUj9+sHFoUac5w1nBqcWqju33Twq5i4j1Ha55dDgzOCoJ0/+7qiJKXYJ58BKYkoHT+KQ/mDu4EPTCl8Wc/B1wgori0Uhb+gEE2x41oHiOpQVw5MKSScYFXcoc6WYia0+R05LwBD2U4qXK9NlODJvZKRLbO0xgbwYE8rNZRdHwHkSaiXUiYfgTYQHzeur4RjLpwz7CEfeUgMmD5YXXhoGxZMPba0DowqwVkAgdGdjWmQblg6xcsvwKaxAhgQ5cR7xyHg/Hppq+efeDrN2+IHXy0fvGvYTjnzm9h/6QzHcK+E7HYlxuFadxBAP+VBcf8QKaBNJQBuah1s8lDItpUrgLYAVJ3LmBL/1bSfBlJWt+Yw5jHfIStzRxLw4YaH0NGOE0+FrKToasMiPenpzxM9aAhrDkezJJKBhqXCEAiWdSr+Yl4tJNu7+LcXwpPAKJoPeKeaThymWwSMmCQxmGslD13WpiCs/8EKzhHn4lyfC4BpD8sgurm7Akfph+tLYCdKadYb17poejpWhJUwsJzRI2nK70CcyG68AIR8rObFDUpKzfrFMorjAlcWkFkRt8PZTSi42mMyyuhYPR37PiDOj3Cs8ig9/ad2kwS4dlpU0HMQEHaV0qABd5J6b5afwJEkBJk4niUiWODppJQGN5UiyIwby0CoOdbP+V2pspF+WEzoZneF5pyvKDgGY4Pp7MOfB2vKRCIPaQcI1qiBn/YoByCf2LCDrGpLbL4W49r+1Zc+RqakTfmw/JXlqiqniPNGx5svASBEi5P1fJbIkjxQTo2Ix+j/8QT/sQ+6U9s5wpGNYcI6kTUwlrnkXVhJjOVIl4TP7PYtuiLOlRpRJXHfTYrEqdCdYTtg7uPSfs6UczR/dRjNdjngAvHSGX42+wwXPeOkMjBmIzywHcFxQZLtEEqfc6UiIldfypxi4c7XZaDNDhO+yvLDDcq4v/sd5XLcLuIMqiV1Ijrxh5jtSRsCXbhPzZ3jhuAQAcW4H6U5RNti4grU2LZEnexy5TMlEQKKlR4svfUhKtmE48hneEK406IhQrXmvYUjWtongdvg94jJ5V8Jun7ta6zJehYgfYVbi6gxP+jBZfbz0nFlfnAdsfamTv2MlDVd5c83d1HCHRRqIeyxlaD7JGisKONPYk+FtMwGNJ+dZXtjozmnG4lsMUSDpY/jK7/8iauQKMXXMdZD2EGA5wXcytlTsXqy3KE2/Y/m658wU+oW7burA8mQuwxHLsOFlliMlakkjEPcn05ElDMYDrjj/YB+bE3pd4cOd5eqewYp4rvqB7sHyhozBwQihyHy9GpYjebaeOPQxscjT/AjBKzCxOXxtakvx+rTWvevTWt9Yn9pqEH/TWvfiPK6jHurL1TfFdkTWRkBnbar/GcuTo5bOgG8Yt4k22FK6jfPinGresMHKZnTIG6rHSLKNWz3kWxyLeiJ3ySu47jdrklo2BGedqA3NOt4cmnWiZ3Vy8/uhWSfO4hjncA11UHdwtWknDuKxPEm3dBY8rZYfgej7+0Ya561LbS0NzjzRmlbS/X5eTf/lon0DtPLwaVr92hla+/pZuufIO+Iv/q84fJriOuqhPu7D/aAzmW8JRDpYHQmRjDq4N5f0EA9PKkEr+FcMushnZImj6/2Ky8RzBr2VSBZ2rz+AnCJzqVmOsJPJuRcTHnnhpwFxTbp1qS2vRuV39GRW9n2yY/dJWnrgFK169Qytee0M3f3GWbHgGOdwDXVQF/fgXtCAfA7vriHddpTzi4u1CpWzNh39GTYtDkpuzgvPae/MrTZdKD90WnRwOPlECu7PqTZ9CXqgC/rjAY1MwcF4N/lY3C1kcGvSP5tjGMqczJkaSXjmLu3hgW4dywm5lvuTDepEKEJrKzouR0xo5MY7rwBLriyKqGfXp7W+ElfQ/fvCvSfFhm8ivoB70EiCBmiBJmg7bFkXhjOkmjuO+bE3L1yIzGv/c+mBAbrnCFp1eQvoJuzs+uOalNby2eIgyNivwKElEocn1VhbRwerBk9kZ8eRLuT+/w1Ns6yxDI8OzSswi8UbTtqzAgciSUsiG7w3pLe+tbWi9+PKV9EIyusPoAna4AFeikevkL9i7vDSsU94/YXsqr7h15b0+lLit+zAKZpQ2PXeyvimlLE+si12AhkxgogENFYnLHJ/t5UXwdCCUm9JdrX2O9b3HaTBt9S61Jbqrbt6zle9elpxnwAP8AJP8JZXI2bUxNXDLKIFQUnN1BEgLR+kgj39l/ltx40Lw+tHJXLNDhEesjLSORTdIGmOSEAzU5vbHWLusDiH2MLWww8Db5hhCQqjsr7RjYHReR0Dpa8MKO70lv4AnuANGRQZIR7KIRGdyJsXLscVdIofrPh4dUbBR1F8Qec5/7imEKnvNzRsPpxrNGwwyZA8WWtpOO3/0RpASvrgqPCIoID0Bv2zeRoLjlclGHO2lPWcr319MJjhDH8Ab8gAWczlG41uAmdYfvCDd0F4/eXttf1OcfjRSj1DMyt7P1+V2JKPWVOISoxyeMnxB3//ocas0wmYc8xbxuo2Qr/YCwwE0PXEx+f22v5Lo23jnEYRskCmsbrFY4K3vDj45d7QvSLBeLn80Ck6+ITjKXeNklnZe3FJVEMzywmfD32onRua+HFMDN9xpBihWmyIp33kWlp35P9iOJgjJ7D20tCyKn/DvmRWokLchvSW3xXtO+kyfiD5Y8Gefhqgb+yYdBQPfWS/mMa6LWU9lxGDddWSVdl7OSjRWAXjjTSn9p9cGkDoExEfLKLrG9V4aufeky7rD4V7+un61NY3J7z5HUKGK+ObMrfs6rngqk5vLld2Vd8FyKv2pdDlcuaJ0MHo+5qUlsrcapNLN4bwCwRGIOuEMgb8Yho3Zlf1fWLuYK5+vLW895OV8c1+EzGsds/YGkDLvyLOmIhBTFf3A0k+yAqZxzNA6jE/rP7x6PzOdxHKrHajAnkhN+Qf25Ta1fFqYGFEo1dCYdcH7uQPkBUyL9rcYN/MO4SKXk5vJbsODriV40tGgdyQX/aQ13i9RUX1sdcAv62tteLQKbfzCcgM2YHhqibxj2sMy6rsvVh1+BR11wL5A2KN6lgE9aoWU77C8vimlPwa02V39QfIDgxjagpZc5tz2wcq3djxYSDIDxxYD35MwNrFq2pgbojh4ZjtHX9wV8eX5AYGljtqe+HfwERj9o7d/W7b4ktA8QscwHNV62oVxtAA9QxMai7Zudf9fQIYgMVq6jpm0mzOOXGq8tApqpYCPC47Q2gMl3OVS5hmGJ3X/q5a/AFYrO5nvDzBGJtf00crDw2opgDP8rhGd14I1anPwcqEpvQdu02q8QdgWRVvHLm+FAYCNm5pM5YfGKAVB9VTgAe4JjTQ4VS3cz5zJLjpMtpay9XkDwcHKDCNWE92blj9UynFXecBVG0FuOaEkKed707uJcHcYGF6akn3J2rzB2ACtmFrrEo0bt1Ra6JoKdVWgAv4hsFqB3ZpIDCxJbugtl91/gBMwCYqARMA1qW2CGWvnKS7DihfSvb10nlLNtJ773uEfv2mm+kd3/8hfXLaXLptJ1GEP3ABnyITHexyI/erhKmBG9JajpUp7A9+gTH0/oeeGC4PPvIUfd5rKfVfHUfTtr+pjD8cOEmBTZz+iJWGI/PazzrC8XN3Gek9P7qf3nDjV+n0mS/RlRuS6TMvLKTfuPl2euNXv67YAwB8WtTH/odwDld3b3Re+ztK+wR8ALafs2i9WGbMXk5/8eiz9Nbbv02vu+4Gusg/lJa90i/7QwBswOjB6MjTaaXdX6KFVLo8NX0+/drXv0Ejk2tG8NpeeZzedPNt9Je/eWHEebnkAT7gtN/8U7vm7GDht2klXRfl0r8tOtNmvETvvPveUTbfububzpyzknp6elLWZ82o67bo2Xse2IDRwy+mKSirold2BpaC6Lfsp56e19Alyzdb5eW7MopihaTY9H1Wr1vSG8//wAecU9ul7Ufvr29a7QifsOX8km0ff5ql199wI80sOiarTwAbMHoEJjVv215jomX7TypavBesozfc+D/X1HgAABVMSURBVDW6o/KEVT7Fe/poau7vrF6brGzAB5z2m39q1wxMbM50hE+Izn/XvTZtnlFgEBvExf7hNutMxDdEf0hszvQISjbWFO420dL9/YqWXz85i/7gRz9XlIctDMAHnFPbpe1HL/rEHuV9YtqMJfTOu+4d0yduvuV2+uyLS8asY8vuts4X7hnyh9VJxkNFe5UHCsd/+LHpsoKwBc7yPPABp/3mn9o1VycZDzvCJ+xx/h/+5EH6wC+elNVvRH9INh72WJ3YfLR4bz8t2adsuefH99MHH35acT7WcAAfcE5tl7YfvaN8Ai06Wn5rNpPO3fWDn9L7Hnx8zDpSXXt/h/1hdZLxbUc4/6OPv0jvuPOHsoIYN1j77T+lazrKJ+xxfoTAp89cKqvfDDt/UJLxEPrEOKFkmTUnkH7luutpTlmLVT5Fe0x0Q1g+Lajusnp9MrKJfX6t22P3A41ujyN8QnJ+W7YNi6sQP3jXh+bJ6hPABoweQYnGmu21Jlq0t1/RkpTzO3rNNdfQF71XWOWzbE2CCDRwY4bV65ORD/iA027rT/GKjvIJOP/377rXqr0Ld/fRe37yIL31tm/T3PLjVutM1CeG/WFVQvO23Ko+WYnbEuo3T7H0uutvpJsii0bwyy5rFUHe/q07aGFt74hrtmiN5zzwAecU92m74SPU6QifsOX8aCh/dO9D9Jprr6WhcRXK+QMGfzLKeujOPf2Kl/zKTvrwY8+Jg12PPj6Dzl2iow/98llxKBt9u6jUfYrIAHzaIJfdvu+BASBH+MQzLy4RR/yfeGYuRYEvfPu7d4n+8b3//LHYSCrhl8AmDnJh2D+5qOtLJZhYo4nX2bI1ifQ3T3uLr7yf/OyX9Dkvf5peICji+JAB+LT0BvudH0P/yTs7L1qzn5znVm3MoE9Omz9cnp3hSxcFbBadvqC2Tzl/2Nk5mN6AxLbwrBNnC3f3U7UW4ANO+80/tWsi6Wtz9ol31OoPwCYmtiHVd3Vys7Cjtp8W7FZfAS7g01Ka7X+gke67JrnlmBr9AZiAbXhHlxX6xq2Z5T20oNakugJcwGe/6bWa0MDKeGN2Vnmv6vwBmIBt2Mpz+fqnYnd0nMesJ7UV4NKmMQ6b2u6D+aFkWlxBx6dq84f4gs6R0xgxwXttSosxv9pEkfGmlgI8wKVNYLfb54crYpL3+tTWVrX4goQDmEZMYAdi/5jG2PTSbppfY1JNAR7gGraodjAuDfjrm9K3lPWoxh+GQpzpo5SAaX58RtsptJZqKcCjTV8cZWq7T2CBp5Btx99Viz8Ai9VFq6CRAL0xO720h+ZVm9y+AEdAnDHLbktrFa1ogHquiDeWoMV0d58ABmCxulwhkGOhWm7r8QF3Bwr5gUNbqNaKP4/zFBaqDc08/gd39wlgGHOhWujFN6oxLLGw62JulYm6a4H8S6MbtCXKx+notqr7xTampBR3X3ZXf4DswGAL3/B5bOoQlGQkmRV9bun8kBvya5tTDJt00gfY2GFdaktrdqX7+QRkhux2bU4BTWFbH37r8XdzKk3U3Qrk1rYlmrS/jyIwP0LwCs868YG7+QNk9gmzc1siCfWSqPqNMfmdn7gTWMgLuSUM2q98GsCmbktjGhMTCrsuuItPQFbIPK4N6aAybOm5LLYpM25H54XsChN19RKV13EB8mpbkcrn8JaUMFi4Qm+sTC7qvuzq/hBf0HUZsk54gBObOgfENe8CIVcGG1/QfWlJZEMdNs22NJj2v7wawMbOK+ONb6YUdbtsg5hS1EMXb27oZ3jhW5NCj+y3xZENhpj8jotZFSbqaiW+oOtCgL6pnAl87WuTAqrdbLcGZm8SbvWNbmxP2tntcv6QUtxDVyY0/27Sji9pwyfs6C3+sY350Xkdn2eW99EsFyiQA/JALsgnyar9OkYDbOjb31sZ3/xKQkHXJVfwB8gAWSATZJNVC2hZfaMaQvitbecyynopnM9ZBfwhB+TRWnxZzTwuYmhd/fRNOZtz289vc6I/gDdk8IttyFU0xD0vjLywJqnFiO+Abbv6qKML+II/5BiXpbTKimjgkcD26xZH1Ae9nN46kFzU7XB/AE/wXhLZGAhZFAFpThSvlaXRjSnB246/hw8fRzwA4AN+4Cv7a80cnHY8IQ3M2lT/swB9U/XmnPbzW0p7FfcJ8AAv8ATvCQk98ZuoJ8PXPYqPTT7j+B+TdnbTrWV9shfQBX3wma0z/MpmYtLEgWh3yqQBBEfmhzV4r4g3vrU5u/3jtOIe2f0BNEEbPMBreDqiTBjGRQYDCF6bDA/765vy1qa0dSLejlDTZB4E3A86oAe6oD/ugYpxodAqy6kBfIf5hNazK+KbX9FlHP993I4uml7SO2GfwL2gAVqgCdou9603d1PDHQvCG+YFxBlLg5JaWkMzT7wfnd95Ob6giyIElVbSS9NLe2lykbhuCg3PbhfP4zrqoT7uw/2gA3pyGkWj5VgNoMFCl2RpVINuRVzzqxvSWns353Z8Eru9kybu7Bb9QJdxnAYlNtMtZb2if6QW94jXUAd1cQ/uBQ3QcotGECNrXhz577lhZJZfTGOYv76peHmccW+A3vjGgoj6dxmOUJTZwcJH88PqD80LaZiH+hMekXOsXTVu49YA9fTSGb7vFVz3m4URDZvmhQmtLE++lPzAL6apeXm88eDyOGPVslhj2sLN9X6oi3tU09XFk8vy5E8SaLPff7I6Q5Y282rcXuU2N8CZWV6oZThy0czuYiPIciTPbYBMRtDZIYYfMZyQyfLkvKUSGI5cZjjyhjePUCb1nAwf7V7nawDhR1YnLGI40mbF1pTlyTssL2xEKo3zpXWgBD5rhZsYnqxlOMNJq4rhyGmGN2yYcopxoA2UYjUnou6bXrwhnOHIOeu2FQijI95u0YdXSkkSXZave47hhVdZjlyyVBbLkY8ZjuSIS8xJN2i/LqkBTBBneFLIcuRzSzsyPPkXw5NSNrjuQZcU3tlCzdLV/ZDlyFaWIx+NUh5HLrMc+R3DG2ZoXSJnW8qcP/X04shMhiNvWbEZZTnyPsuRaEVTD8zFcfdjpCezvLCa4YjJmkIZjpxFX1GLDjnP0rARuq0suqdD0TuL33aGNyx1SNqB89SgLGcvjkxjOHLIRpfoE0QKsPKEslJo1CUNzOQNdzOcsMXa25nlyL8Zjuz34oX/keprvzJoYPYm4QdQOsOTDy1aGITLECV6iw0ms7SPKBmUbYUEu4k8wfLCviEHF0OUkh3wILC8IQMPhpVbtVNyaQBD2wxPAhme9EnKN/9F+IzhDJu0PP/JaxxLu7Oc4MtwpN1cx9IxujxenLBOm0U3eV2PmwLL1T3DcsIBa60Rw5FPWY5sd0LW37hxuNoN+DhleUMUw5E/S45u/stywtt4y2qBBxewHF63LEfSGI78w9xI0jHLk6NeOgOjdYnGNhbCkCxHShiOfCHpTvpF+JLlyE5vvu6+saloV52iAR9d81e9eGEly5MeyWgWv++yHOEwD9UpArogUzHlhCMswxODha6kfv05liMRGLhyQfE1kaxpAJvQsTx5xUaX6DOGIwU2V+21RlBl5zByznDk5cFvpMFEQwvnb2N4w+Lf6oWvqAz61IGDpeoYXkhhefJ3C+MOtmxo8abQUDsGEpFbxXDkn1b0gaSz3Qwn/HrqeMgUQIoFrViOLGd50mXF6BiJ/APDGYJH7dyhEt3gTchwhoPWxksGv5UMqXNDhTtVAleDYUsD3rq6JxGztpZey3DkM+SneOvqH7B1v7ucxzQ/hhP8GY5023jg+xlOCMK3krtg0uSUSQNo6RieJDEc+Zs152B4InjrDHN8fPZeKxNLh5CZGSJ8l+UMepYjf7GC6zLDC0cG08YdIo7GxJU1gC4RWkiWEzqtOAu+Dd5jeRL6gu7N210ZB+Y7sxwpN58lZYZHHPfQNu1wZQs6WTYM4zM82WOtSzSYqisUuVJaLt5KLE/mshypN3N0KUw5+ODqSIgW3nWyY7kTe8wfZThDIsORv1pzqiFnm+esLhHSNzBmMfihPjpUyXLEyHIGH2fJ50621mS1oQF8NHpzxG+M/Jb/w6wlW4NAyI9BeNEGeaun0TWxtTwH5jmznJDLcuQTy4eS5cgFliNVrE74pVXC2klNAxPVgDQJG05m6XiYqYTUgNkhwkPm9JHTzvLklL0hVHxXDM1XWG1OZzC12/DaUAarebcGx3/DW0pb7sVcY9qxIhqAk3lxJJ7hyAejHgKOUJYTGtDlwOgowwvHxTo8MVxtYoc44ZsTyCBNw0kpXcNmBisn9DI6YYW2KYciZtaIjqWB4ZRfycFHz2iyeDiEorHoYXzB/GEamr88opUXB6l44VUm2PDsWLS0a5oGHKYB72DyGMORaqtdohEPhSHYmlCYlmnu+JbHQ338HFYn/Nja/do5TQNO14A0wGQ7F55cQi6RuaCsTnjRRgLeYNoFT3Ta5BxzjWnHLq0BjLBatt5m/3/KcvW/AABMtrGxgJfY3cGEHJcGqgmnacBcA/gWsNXymz0A55BSPUZKsdTX/8zeSJG5DNqxpgGnaECc7I01hpAezJNShjOUzQ45Vr00ulFYlWA0rU5uObsupeV/X05v/eO61NY/rElpOROYaOzzi208OifkWAlWpGB5IYvlhR2I23vrhOlOAaIx1TQwXg2g3+8baZy3LrW1NDjzRGtaSff7eTX9l4v2DdDKw6dp9WtnaO3rZ+meI++Iv/i/4vBpiuuoh/q4D/eDDuiNVwatvqYBh2kA0wFn8+SRoOTmvPCc9s7catOF8kOnRQeHk0+k4P6catOXoAe6oK/NQ3aYSTVGV9cA9ZzL1z26JqW1PGFn1x9LDwzQPUfQqstbQBf0wUfbounqVtFqKKwBbI63Mr4pJaGw672yA6fo7jfOKl7AB/zAV9ucT2EDa+Sta2BheP3z/LbjxoI9/Zcd4fSWPMAX/CGHdQm1s5oGZNYAsi3945pC4gs6z1W9Ovjhio9XZxTwhxyQx1YWqMzwNXJTVQMYZV2V2JKfWdn7ee3rznX8Kw/bGQp5IJc2CjxVPVNh3GhZ1yQ1l+fVmC4MOj6c33VKZmXvxaXRDQan7k2rsA008k7QABZi9YtprMutNl2qee0MddWSW913OSipuVzbyskJTqJGlsiVXxnflLllV88FV3V6c7myq/ouQF4tx1+N3uhgTH4xjRuzq/o+MXcwVz/eWt77ycr4Zj8Hq0pjpyYNzA+rfzw6v/PdqldP02o3KpAXckN+NdlDw+IgDWCN+pfTW8mugwNu5fjSQwq5Ib+2EZyDHEZNbPzjGsOyKnsvVh0+Rd21QP6AWGOomuyiYVFYA9jgbnNu+0ClGzs+HljIDxzaKm0KO4yayAcmGrN37O532xbf/E0FHMCjJvtoWBTSABaF2pxz4lTloVNULQV4gEshlWlk1aKB5QnG2PyaPlp5aEA1BXiWxzXq1WIjDYcCGsCO7hu3tBnLDwzQioPqKcADXNqO9Qo4jVpIzg2rfyqluOt8+cEBqrYCXHNCyNNqsZWGQ2YNrEo0bt1Ra6JoKdVWgAv4ZFaZRk4NGsByI+tSW4SyV07SXQeULX6BMfT+h54YUR5+bBplfdbQ+G0HFeEPXMAHnGqwl4ZBRg1gGcDIvPazSjs+6E+f+RK9+Zbb6fyXdGKZu/hlOm3GEvqdO+6m11xzDfVdGaXIAwB8WtRHRqdRCynsVphW2v0lWkily7QZL9E77753FJ/S/f300cdfoF+57nqaU2YcdX2ycgEfcKrFZhoOmTTgF9MUlFXRK7vDWXNYW86PupHJNdTDw4OG6EtllwX4gFMmlWlk1KKBwKTmbdtrTLRs/0nFi+j8d91rlU9EYpXo/FzUTqvXJyMf8AGnWmym4ZBJA0HJxprC3SaKrofSBf37O++6dxSfkn0m+sivn6Pf/u5dtKCmc9T1ycoFfMApk8o0MmrRwOok46GivY5z/ltu/RZd5B8mFp+lPH3ea9ngB++119Kw+HLZHR8PDvABp1pspuGQSQOrE5uPFu/tpyX7lC/PvriEXn/DjfRn9z82XH71xEwx1Jm+/ahiMgAfcMqkMo2MWjSwOsn4tiOdH90eRzxo5jw051eLt8qMIyjJeAh9YjiI0gUtP5xfaT6W9MU+v9btkdlzVEAuKNFYs73WRIv2om+sbIHzf/+uexXnY4kD+IBTBebSIMipgVUJzdtyq/oc4pDOcn7gA0459abRUoEGMPiTUdZDd+7pV7w8M9TyO4KXOQ/g0wa5VOCsckPAsH9yUdeX5s6i1PGqjRnUe8EGxR8yS/mBT0tvkNtzVEAPiW3hWSfOFu7up2otwKft46sCZ5UbAlJ9Vyc3Cztq+2nBbvUV4AI+LaVZbs9RCb0V+satmeU9tKDWpLoCXMCnElNpMOTWwFy+/qnYHR3nMetJbQW4tGmMcnuMiuhhgvfalBZjfrWJIgNSLQV4gEubwK4iZ1UCin9MY2x6aTfNrzGppgAPcCmhL42mijSAaX58RtsptJZqKcCjTV9UkZMqCSVAb8xOL+2hedUmty/AERBnzFJSXxptFWkAC9VyW48PqMH5gUNbqFZFzukIKL5RjWGJhV0Xc6tM1F0L5F8a3aAtUe4Ih1ETD2zqEJRkJJkVfW7p/JAb8mubU6jJKx2IBdv68FuPv5tTaaLuViC3ti2RA51FjayWRNVvjMnv/MSdnB/yQm412kPD5EANYEvPZbFNmXE7Oi9kV5ioq5eovI4LkFfbitSBTqJmVtjUOSCueVd8QddlV3b++ILuS0siG+qwabaa7aFhc7AGZmw4csPiyAZDTH7HxawKE3W1El/QdSFA31TOBL72NQerRmM3FTTgE3b0Fv/YxvzovI7PM8v7aJYLFMgBeSAX5JsKdtAwOkkDaFl9oxpC+K1t5zLKeimcz1kF/CEH5NFafCc5xFRkOy+MvLAmqcWI74Btu/qoowv4gj/kmIr61zA7WQNs6NvfWxrdmBK87fh7KUXdDnkAwAf8wBf8nawCjf3U1gD1ZPi6R/GxyWcc/2PSzm66taxP9gK6oA8+s3WGX3l4UM+prXcNvctoQK/XX+O1yfCwv74pb21KWyfi7SlFPZN6CHA/6IAe6II++LgMaE0QTQOWGpi7qeGOBeEN8wLijKVBSS2toZkn3o/O77wcX9BFU4p7aFpJL00v7aUZZX3iL/7HeVxHPdTHfbgfdEDPkof2v6YBl9cApg56ceS/54aRWX4xjWH++qbi5XHGvQF64xsBeqMBv/gf53Ed9VBfm3KorGn/H0sZsGR/9PWuAAAAAElFTkSuQmCC)\n",
        "\n",
        "\n",
        "- どのWebページが効いていて購入したか\n",
        "  - 事象A:ユーザがページAをアクセスした\n",
        "  - 事象B:ユーザがページBをアクセスした\n",
        "  - 事象C:ユーザがページCをアクセスした\n",
        "  - 事象D:ユーザがページDをアクセスした\n",
        "  - 事象P:ユーザが商品を購入した\n",
        "\n",
        "- 商品を購入したときに、ページAがのアクセスがされている確率\n",
        "\n"
      ]
    },
    {
      "cell_type": "code",
      "metadata": {
        "id": "xcCxPqo6Hp37",
        "outputId": "60546f41-16ca-420a-f0fa-6c5b150c36b0",
        "colab": {
          "base_uri": "https://localhost:8080/",
          "height": 450
        }
      },
      "source": [
        "import pandas as pd\n",
        "\n",
        "df = pd.read_csv('conversion.csv', index_col=0)\n",
        "df"
      ],
      "execution_count": 10,
      "outputs": [
        {
          "output_type": "execute_result",
          "data": {
            "text/html": [
              "<div>\n",
              "<style scoped>\n",
              "    .dataframe tbody tr th:only-of-type {\n",
              "        vertical-align: middle;\n",
              "    }\n",
              "\n",
              "    .dataframe tbody tr th {\n",
              "        vertical-align: top;\n",
              "    }\n",
              "\n",
              "    .dataframe thead th {\n",
              "        text-align: right;\n",
              "    }\n",
              "</style>\n",
              "<table border=\"1\" class=\"dataframe\">\n",
              "  <thead>\n",
              "    <tr style=\"text-align: right;\">\n",
              "      <th></th>\n",
              "      <th>A</th>\n",
              "      <th>B</th>\n",
              "      <th>C</th>\n",
              "      <th>D</th>\n",
              "      <th>P</th>\n",
              "    </tr>\n",
              "    <tr>\n",
              "      <th>userid</th>\n",
              "      <th></th>\n",
              "      <th></th>\n",
              "      <th></th>\n",
              "      <th></th>\n",
              "      <th></th>\n",
              "    </tr>\n",
              "  </thead>\n",
              "  <tbody>\n",
              "    <tr>\n",
              "      <th>0</th>\n",
              "      <td>1</td>\n",
              "      <td>1</td>\n",
              "      <td>1</td>\n",
              "      <td>1</td>\n",
              "      <td>0</td>\n",
              "    </tr>\n",
              "    <tr>\n",
              "      <th>1</th>\n",
              "      <td>0</td>\n",
              "      <td>0</td>\n",
              "      <td>1</td>\n",
              "      <td>0</td>\n",
              "      <td>0</td>\n",
              "    </tr>\n",
              "    <tr>\n",
              "      <th>2</th>\n",
              "      <td>1</td>\n",
              "      <td>1</td>\n",
              "      <td>1</td>\n",
              "      <td>1</td>\n",
              "      <td>1</td>\n",
              "    </tr>\n",
              "    <tr>\n",
              "      <th>3</th>\n",
              "      <td>0</td>\n",
              "      <td>0</td>\n",
              "      <td>1</td>\n",
              "      <td>0</td>\n",
              "      <td>1</td>\n",
              "    </tr>\n",
              "    <tr>\n",
              "      <th>4</th>\n",
              "      <td>1</td>\n",
              "      <td>1</td>\n",
              "      <td>0</td>\n",
              "      <td>0</td>\n",
              "      <td>1</td>\n",
              "    </tr>\n",
              "    <tr>\n",
              "      <th>...</th>\n",
              "      <td>...</td>\n",
              "      <td>...</td>\n",
              "      <td>...</td>\n",
              "      <td>...</td>\n",
              "      <td>...</td>\n",
              "    </tr>\n",
              "    <tr>\n",
              "      <th>95</th>\n",
              "      <td>1</td>\n",
              "      <td>1</td>\n",
              "      <td>0</td>\n",
              "      <td>0</td>\n",
              "      <td>0</td>\n",
              "    </tr>\n",
              "    <tr>\n",
              "      <th>96</th>\n",
              "      <td>1</td>\n",
              "      <td>1</td>\n",
              "      <td>1</td>\n",
              "      <td>1</td>\n",
              "      <td>0</td>\n",
              "    </tr>\n",
              "    <tr>\n",
              "      <th>97</th>\n",
              "      <td>1</td>\n",
              "      <td>0</td>\n",
              "      <td>1</td>\n",
              "      <td>0</td>\n",
              "      <td>0</td>\n",
              "    </tr>\n",
              "    <tr>\n",
              "      <th>98</th>\n",
              "      <td>1</td>\n",
              "      <td>0</td>\n",
              "      <td>0</td>\n",
              "      <td>0</td>\n",
              "      <td>0</td>\n",
              "    </tr>\n",
              "    <tr>\n",
              "      <th>99</th>\n",
              "      <td>1</td>\n",
              "      <td>1</td>\n",
              "      <td>1</td>\n",
              "      <td>0</td>\n",
              "      <td>1</td>\n",
              "    </tr>\n",
              "  </tbody>\n",
              "</table>\n",
              "<p>100 rows × 5 columns</p>\n",
              "</div>"
            ],
            "text/plain": [
              "        A  B  C  D  P\n",
              "userid               \n",
              "0       1  1  1  1  0\n",
              "1       0  0  1  0  0\n",
              "2       1  1  1  1  1\n",
              "3       0  0  1  0  1\n",
              "4       1  1  0  0  1\n",
              "...    .. .. .. .. ..\n",
              "95      1  1  0  0  0\n",
              "96      1  1  1  1  0\n",
              "97      1  0  1  0  0\n",
              "98      1  0  0  0  0\n",
              "99      1  1  1  0  1\n",
              "\n",
              "[100 rows x 5 columns]"
            ]
          },
          "metadata": {
            "tags": []
          },
          "execution_count": 10
        }
      ]
    },
    {
      "cell_type": "code",
      "metadata": {
        "id": "rImmmaaepZv5"
      },
      "source": [
        "train_data = df[:80]\n",
        "predict_data = df[80:]"
      ],
      "execution_count": 11,
      "outputs": []
    },
    {
      "cell_type": "code",
      "metadata": {
        "id": "E3JtqtfrrFz4",
        "outputId": "55a3271f-3975-43e6-9ba4-dde7e7e698d6",
        "colab": {
          "base_uri": "https://localhost:8080/"
        }
      },
      "source": [
        "from pgmpy.models import BayesianModel\n",
        "model = BayesianModel([('A', 'C'), ('A', 'D'), ('B', 'C'),  ('B', 'D'), ('C', 'P'), ('D', 'P'),])\n",
        "model.fit(train_data)\n",
        "model.check_model()"
      ],
      "execution_count": 12,
      "outputs": [
        {
          "output_type": "stream",
          "text": [
            "/usr/local/lib/python3.6/dist-packages/statsmodels/tools/_testing.py:19: FutureWarning: pandas.util.testing is deprecated. Use the functions in the public API at pandas.testing instead.\n",
            "  import pandas.util.testing as tm\n"
          ],
          "name": "stderr"
        },
        {
          "output_type": "execute_result",
          "data": {
            "text/plain": [
              "True"
            ]
          },
          "metadata": {
            "tags": []
          },
          "execution_count": 12
        }
      ]
    },
    {
      "cell_type": "code",
      "metadata": {
        "id": "L9ctsUwNsVnb"
      },
      "source": [
        "from pgmpy.inference import VariableElimination\n",
        "infer = VariableElimination(model)"
      ],
      "execution_count": 13,
      "outputs": []
    },
    {
      "cell_type": "code",
      "metadata": {
        "id": "ReXRZb96rvOX",
        "outputId": "318ca1ae-ab43-42d3-d00d-04f727f2eccd",
        "colab": {
          "base_uri": "https://localhost:8080/"
        }
      },
      "source": [
        "print(infer.query(['A'], evidence={'P': 1}))"
      ],
      "execution_count": 14,
      "outputs": [
        {
          "output_type": "stream",
          "text": [
            "Finding Elimination Order: : 100%|██████████| 3/3 [00:00<00:00, 1048.31it/s]\n",
            "Eliminating: B: 100%|██████████| 3/3 [00:00<00:00, 323.57it/s]"
          ],
          "name": "stderr"
        },
        {
          "output_type": "stream",
          "text": [
            "+------+----------+\n",
            "| A    |   phi(A) |\n",
            "+======+==========+\n",
            "| A(0) |   0.5268 |\n",
            "+------+----------+\n",
            "| A(1) |   0.4732 |\n",
            "+------+----------+\n"
          ],
          "name": "stdout"
        },
        {
          "output_type": "stream",
          "text": [
            "\n"
          ],
          "name": "stderr"
        }
      ]
    },
    {
      "cell_type": "code",
      "metadata": {
        "id": "bfFhjgBjLFrh",
        "outputId": "f02ad84e-34af-4657-9ad3-1301d5a31709",
        "colab": {
          "base_uri": "https://localhost:8080/"
        }
      },
      "source": [
        "print(infer.query(['B'], evidence={'P': 1}))"
      ],
      "execution_count": 15,
      "outputs": [
        {
          "output_type": "stream",
          "text": [
            "Finding Elimination Order: : 100%|██████████| 3/3 [00:00<00:00, 1984.06it/s]\n",
            "Eliminating: A: 100%|██████████| 3/3 [00:00<00:00, 203.03it/s]"
          ],
          "name": "stderr"
        },
        {
          "output_type": "stream",
          "text": [
            "+------+----------+\n",
            "| B    |   phi(B) |\n",
            "+======+==========+\n",
            "| B(0) |   0.4733 |\n",
            "+------+----------+\n",
            "| B(1) |   0.5267 |\n",
            "+------+----------+\n"
          ],
          "name": "stdout"
        },
        {
          "output_type": "stream",
          "text": [
            "\n"
          ],
          "name": "stderr"
        }
      ]
    },
    {
      "cell_type": "code",
      "metadata": {
        "id": "4oytNWP2sQOO",
        "outputId": "b83733d1-96b5-4d7a-f14b-d91a41dc9eec",
        "colab": {
          "base_uri": "https://localhost:8080/"
        }
      },
      "source": [
        "print(infer.query(['C'], evidence={'P': 1}))"
      ],
      "execution_count": 16,
      "outputs": [
        {
          "output_type": "stream",
          "text": [
            "Finding Elimination Order: : 100%|██████████| 3/3 [00:00<00:00, 500.75it/s]\n",
            "Eliminating: B: 100%|██████████| 3/3 [00:00<00:00, 218.86it/s]"
          ],
          "name": "stderr"
        },
        {
          "output_type": "stream",
          "text": [
            "+------+----------+\n",
            "| C    |   phi(C) |\n",
            "+======+==========+\n",
            "| C(0) |   0.5498 |\n",
            "+------+----------+\n",
            "| C(1) |   0.4502 |\n",
            "+------+----------+\n"
          ],
          "name": "stdout"
        },
        {
          "output_type": "stream",
          "text": [
            "\n"
          ],
          "name": "stderr"
        }
      ]
    },
    {
      "cell_type": "code",
      "metadata": {
        "id": "6me9PyZ6K5UD",
        "outputId": "288dbda8-5f10-4c3e-f5d0-d9b297ca5fab",
        "colab": {
          "base_uri": "https://localhost:8080/"
        }
      },
      "source": [
        "print(infer.query(['D'], evidence={'P': 1}))"
      ],
      "execution_count": 17,
      "outputs": [
        {
          "output_type": "stream",
          "text": [
            "Finding Elimination Order: : 100%|██████████| 3/3 [00:00<00:00, 1801.16it/s]\n",
            "Eliminating: B: 100%|██████████| 3/3 [00:00<00:00, 308.51it/s]"
          ],
          "name": "stderr"
        },
        {
          "output_type": "stream",
          "text": [
            "+------+----------+\n",
            "| D    |   phi(D) |\n",
            "+======+==========+\n",
            "| D(0) |   0.5440 |\n",
            "+------+----------+\n",
            "| D(1) |   0.4560 |\n",
            "+------+----------+\n"
          ],
          "name": "stdout"
        },
        {
          "output_type": "stream",
          "text": [
            "\n"
          ],
          "name": "stderr"
        }
      ]
    },
    {
      "cell_type": "markdown",
      "metadata": {
        "id": "34-fcrt_kctL"
      },
      "source": [
        "# ベイジアンネットワーク例\n",
        "![image.png](data:image/png;base64,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)\n",
        "\n",
        "- 事象A: A好きである\n",
        "- 事象B: B好きである\n",
        "- 事象C: C好きである\n",
        "- 事象D: お店Dに来店する\n",
        "- 事象E: 商品Eを購入する\n",
        "\n"
      ]
    },
    {
      "cell_type": "code",
      "metadata": {
        "id": "JvXcIfyNtVcz",
        "outputId": "a4765213-7dd6-4a32-9021-169a35f655f3",
        "colab": {
          "base_uri": "https://localhost:8080/",
          "height": 419
        }
      },
      "source": [
        "import pandas as pd\n",
        "\n",
        "df = pd.read_csv('sample.csv', index_col=0)\n",
        "df"
      ],
      "execution_count": 18,
      "outputs": [
        {
          "output_type": "execute_result",
          "data": {
            "text/html": [
              "<div>\n",
              "<style scoped>\n",
              "    .dataframe tbody tr th:only-of-type {\n",
              "        vertical-align: middle;\n",
              "    }\n",
              "\n",
              "    .dataframe tbody tr th {\n",
              "        vertical-align: top;\n",
              "    }\n",
              "\n",
              "    .dataframe thead th {\n",
              "        text-align: right;\n",
              "    }\n",
              "</style>\n",
              "<table border=\"1\" class=\"dataframe\">\n",
              "  <thead>\n",
              "    <tr style=\"text-align: right;\">\n",
              "      <th></th>\n",
              "      <th>A</th>\n",
              "      <th>B</th>\n",
              "      <th>C</th>\n",
              "      <th>D</th>\n",
              "      <th>E</th>\n",
              "    </tr>\n",
              "  </thead>\n",
              "  <tbody>\n",
              "    <tr>\n",
              "      <th>0</th>\n",
              "      <td>1</td>\n",
              "      <td>1</td>\n",
              "      <td>1</td>\n",
              "      <td>1</td>\n",
              "      <td>0</td>\n",
              "    </tr>\n",
              "    <tr>\n",
              "      <th>1</th>\n",
              "      <td>1</td>\n",
              "      <td>1</td>\n",
              "      <td>0</td>\n",
              "      <td>1</td>\n",
              "      <td>0</td>\n",
              "    </tr>\n",
              "    <tr>\n",
              "      <th>2</th>\n",
              "      <td>0</td>\n",
              "      <td>0</td>\n",
              "      <td>0</td>\n",
              "      <td>1</td>\n",
              "      <td>1</td>\n",
              "    </tr>\n",
              "    <tr>\n",
              "      <th>3</th>\n",
              "      <td>0</td>\n",
              "      <td>1</td>\n",
              "      <td>1</td>\n",
              "      <td>0</td>\n",
              "      <td>0</td>\n",
              "    </tr>\n",
              "    <tr>\n",
              "      <th>4</th>\n",
              "      <td>1</td>\n",
              "      <td>0</td>\n",
              "      <td>0</td>\n",
              "      <td>0</td>\n",
              "      <td>1</td>\n",
              "    </tr>\n",
              "    <tr>\n",
              "      <th>...</th>\n",
              "      <td>...</td>\n",
              "      <td>...</td>\n",
              "      <td>...</td>\n",
              "      <td>...</td>\n",
              "      <td>...</td>\n",
              "    </tr>\n",
              "    <tr>\n",
              "      <th>95</th>\n",
              "      <td>1</td>\n",
              "      <td>1</td>\n",
              "      <td>1</td>\n",
              "      <td>0</td>\n",
              "      <td>0</td>\n",
              "    </tr>\n",
              "    <tr>\n",
              "      <th>96</th>\n",
              "      <td>0</td>\n",
              "      <td>0</td>\n",
              "      <td>1</td>\n",
              "      <td>1</td>\n",
              "      <td>0</td>\n",
              "    </tr>\n",
              "    <tr>\n",
              "      <th>97</th>\n",
              "      <td>0</td>\n",
              "      <td>1</td>\n",
              "      <td>1</td>\n",
              "      <td>0</td>\n",
              "      <td>1</td>\n",
              "    </tr>\n",
              "    <tr>\n",
              "      <th>98</th>\n",
              "      <td>1</td>\n",
              "      <td>1</td>\n",
              "      <td>0</td>\n",
              "      <td>1</td>\n",
              "      <td>1</td>\n",
              "    </tr>\n",
              "    <tr>\n",
              "      <th>99</th>\n",
              "      <td>0</td>\n",
              "      <td>1</td>\n",
              "      <td>1</td>\n",
              "      <td>0</td>\n",
              "      <td>0</td>\n",
              "    </tr>\n",
              "  </tbody>\n",
              "</table>\n",
              "<p>100 rows × 5 columns</p>\n",
              "</div>"
            ],
            "text/plain": [
              "    A  B  C  D  E\n",
              "0   1  1  1  1  0\n",
              "1   1  1  0  1  0\n",
              "2   0  0  0  1  1\n",
              "3   0  1  1  0  0\n",
              "4   1  0  0  0  1\n",
              ".. .. .. .. .. ..\n",
              "95  1  1  1  0  0\n",
              "96  0  0  1  1  0\n",
              "97  0  1  1  0  1\n",
              "98  1  1  0  1  1\n",
              "99  0  1  1  0  0\n",
              "\n",
              "[100 rows x 5 columns]"
            ]
          },
          "metadata": {
            "tags": []
          },
          "execution_count": 18
        }
      ]
    },
    {
      "cell_type": "code",
      "metadata": {
        "id": "Wlg9WlMwtey4"
      },
      "source": [
        "train_data = df[:80]\n",
        "predict_data = df[80:]"
      ],
      "execution_count": 19,
      "outputs": []
    },
    {
      "cell_type": "code",
      "metadata": {
        "id": "1AQFr7SWtTuh",
        "outputId": "4587a62e-e56a-4e63-a14b-a44ed909c310",
        "colab": {
          "base_uri": "https://localhost:8080/"
        }
      },
      "source": [
        "from pgmpy.models import BayesianModel\n",
        "model = BayesianModel([('A', 'D'), ('B', 'D'),  ('C', 'D'), ('D', 'E')])\n",
        "model.fit(train_data)\n",
        "model.check_model()"
      ],
      "execution_count": 20,
      "outputs": [
        {
          "output_type": "execute_result",
          "data": {
            "text/plain": [
              "True"
            ]
          },
          "metadata": {
            "tags": []
          },
          "execution_count": 20
        }
      ]
    },
    {
      "cell_type": "code",
      "metadata": {
        "id": "BDlh5gXxlVb-"
      },
      "source": [
        "from pgmpy.inference import VariableElimination\n",
        "infer = VariableElimination(model)"
      ],
      "execution_count": 21,
      "outputs": []
    },
    {
      "cell_type": "code",
      "metadata": {
        "id": "Ojcq_mBDlYon",
        "outputId": "82cd5d7e-eaef-466e-b6b1-183a5c03a600",
        "colab": {
          "base_uri": "https://localhost:8080/"
        }
      },
      "source": [
        "print(infer.query(['C'], evidence={'E': 1}))"
      ],
      "execution_count": 22,
      "outputs": [
        {
          "output_type": "stream",
          "text": [
            "Finding Elimination Order: : 100%|██████████| 3/3 [00:00<00:00, 2303.72it/s]\n",
            "Eliminating: B: 100%|██████████| 3/3 [00:00<00:00, 296.39it/s]"
          ],
          "name": "stderr"
        },
        {
          "output_type": "stream",
          "text": [
            "+------+----------+\n",
            "| C    |   phi(C) |\n",
            "+======+==========+\n",
            "| C(0) |   0.4746 |\n",
            "+------+----------+\n",
            "| C(1) |   0.5254 |\n",
            "+------+----------+\n"
          ],
          "name": "stdout"
        },
        {
          "output_type": "stream",
          "text": [
            "\n"
          ],
          "name": "stderr"
        }
      ]
    },
    {
      "cell_type": "code",
      "metadata": {
        "id": "_HKnPwLptaOg"
      },
      "source": [
        "predict_data = predict_data.copy()\n",
        "predict_data.drop('B', axis=1, inplace=True)"
      ],
      "execution_count": 23,
      "outputs": []
    },
    {
      "cell_type": "code",
      "metadata": {
        "id": "7mUW6gZhuR_8",
        "outputId": "6670efd3-ac74-4982-ed2a-e11222764a4b",
        "colab": {
          "base_uri": "https://localhost:8080/",
          "height": 669
        }
      },
      "source": [
        "predict_data"
      ],
      "execution_count": 24,
      "outputs": [
        {
          "output_type": "execute_result",
          "data": {
            "text/html": [
              "<div>\n",
              "<style scoped>\n",
              "    .dataframe tbody tr th:only-of-type {\n",
              "        vertical-align: middle;\n",
              "    }\n",
              "\n",
              "    .dataframe tbody tr th {\n",
              "        vertical-align: top;\n",
              "    }\n",
              "\n",
              "    .dataframe thead th {\n",
              "        text-align: right;\n",
              "    }\n",
              "</style>\n",
              "<table border=\"1\" class=\"dataframe\">\n",
              "  <thead>\n",
              "    <tr style=\"text-align: right;\">\n",
              "      <th></th>\n",
              "      <th>A</th>\n",
              "      <th>C</th>\n",
              "      <th>D</th>\n",
              "      <th>E</th>\n",
              "    </tr>\n",
              "  </thead>\n",
              "  <tbody>\n",
              "    <tr>\n",
              "      <th>80</th>\n",
              "      <td>0</td>\n",
              "      <td>1</td>\n",
              "      <td>0</td>\n",
              "      <td>0</td>\n",
              "    </tr>\n",
              "    <tr>\n",
              "      <th>81</th>\n",
              "      <td>0</td>\n",
              "      <td>0</td>\n",
              "      <td>1</td>\n",
              "      <td>1</td>\n",
              "    </tr>\n",
              "    <tr>\n",
              "      <th>82</th>\n",
              "      <td>1</td>\n",
              "      <td>1</td>\n",
              "      <td>0</td>\n",
              "      <td>1</td>\n",
              "    </tr>\n",
              "    <tr>\n",
              "      <th>83</th>\n",
              "      <td>0</td>\n",
              "      <td>1</td>\n",
              "      <td>0</td>\n",
              "      <td>1</td>\n",
              "    </tr>\n",
              "    <tr>\n",
              "      <th>84</th>\n",
              "      <td>1</td>\n",
              "      <td>1</td>\n",
              "      <td>0</td>\n",
              "      <td>0</td>\n",
              "    </tr>\n",
              "    <tr>\n",
              "      <th>85</th>\n",
              "      <td>1</td>\n",
              "      <td>0</td>\n",
              "      <td>1</td>\n",
              "      <td>1</td>\n",
              "    </tr>\n",
              "    <tr>\n",
              "      <th>86</th>\n",
              "      <td>1</td>\n",
              "      <td>1</td>\n",
              "      <td>1</td>\n",
              "      <td>0</td>\n",
              "    </tr>\n",
              "    <tr>\n",
              "      <th>87</th>\n",
              "      <td>0</td>\n",
              "      <td>0</td>\n",
              "      <td>1</td>\n",
              "      <td>0</td>\n",
              "    </tr>\n",
              "    <tr>\n",
              "      <th>88</th>\n",
              "      <td>0</td>\n",
              "      <td>1</td>\n",
              "      <td>1</td>\n",
              "      <td>1</td>\n",
              "    </tr>\n",
              "    <tr>\n",
              "      <th>89</th>\n",
              "      <td>1</td>\n",
              "      <td>1</td>\n",
              "      <td>1</td>\n",
              "      <td>1</td>\n",
              "    </tr>\n",
              "    <tr>\n",
              "      <th>90</th>\n",
              "      <td>1</td>\n",
              "      <td>1</td>\n",
              "      <td>1</td>\n",
              "      <td>1</td>\n",
              "    </tr>\n",
              "    <tr>\n",
              "      <th>91</th>\n",
              "      <td>0</td>\n",
              "      <td>1</td>\n",
              "      <td>0</td>\n",
              "      <td>0</td>\n",
              "    </tr>\n",
              "    <tr>\n",
              "      <th>92</th>\n",
              "      <td>1</td>\n",
              "      <td>1</td>\n",
              "      <td>0</td>\n",
              "      <td>1</td>\n",
              "    </tr>\n",
              "    <tr>\n",
              "      <th>93</th>\n",
              "      <td>0</td>\n",
              "      <td>1</td>\n",
              "      <td>1</td>\n",
              "      <td>0</td>\n",
              "    </tr>\n",
              "    <tr>\n",
              "      <th>94</th>\n",
              "      <td>1</td>\n",
              "      <td>0</td>\n",
              "      <td>0</td>\n",
              "      <td>1</td>\n",
              "    </tr>\n",
              "    <tr>\n",
              "      <th>95</th>\n",
              "      <td>1</td>\n",
              "      <td>1</td>\n",
              "      <td>0</td>\n",
              "      <td>0</td>\n",
              "    </tr>\n",
              "    <tr>\n",
              "      <th>96</th>\n",
              "      <td>0</td>\n",
              "      <td>1</td>\n",
              "      <td>1</td>\n",
              "      <td>0</td>\n",
              "    </tr>\n",
              "    <tr>\n",
              "      <th>97</th>\n",
              "      <td>0</td>\n",
              "      <td>1</td>\n",
              "      <td>0</td>\n",
              "      <td>1</td>\n",
              "    </tr>\n",
              "    <tr>\n",
              "      <th>98</th>\n",
              "      <td>1</td>\n",
              "      <td>0</td>\n",
              "      <td>1</td>\n",
              "      <td>1</td>\n",
              "    </tr>\n",
              "    <tr>\n",
              "      <th>99</th>\n",
              "      <td>0</td>\n",
              "      <td>1</td>\n",
              "      <td>0</td>\n",
              "      <td>0</td>\n",
              "    </tr>\n",
              "  </tbody>\n",
              "</table>\n",
              "</div>"
            ],
            "text/plain": [
              "    A  C  D  E\n",
              "80  0  1  0  0\n",
              "81  0  0  1  1\n",
              "82  1  1  0  1\n",
              "83  0  1  0  1\n",
              "84  1  1  0  0\n",
              "85  1  0  1  1\n",
              "86  1  1  1  0\n",
              "87  0  0  1  0\n",
              "88  0  1  1  1\n",
              "89  1  1  1  1\n",
              "90  1  1  1  1\n",
              "91  0  1  0  0\n",
              "92  1  1  0  1\n",
              "93  0  1  1  0\n",
              "94  1  0  0  1\n",
              "95  1  1  0  0\n",
              "96  0  1  1  0\n",
              "97  0  1  0  1\n",
              "98  1  0  1  1\n",
              "99  0  1  0  0"
            ]
          },
          "metadata": {
            "tags": []
          },
          "execution_count": 24
        }
      ]
    },
    {
      "cell_type": "code",
      "metadata": {
        "id": "5v6Fu5wFuTiM",
        "outputId": "645cd9ba-6482-4b11-dee8-f3f0070beda5",
        "colab": {
          "base_uri": "https://localhost:8080/",
          "height": 80
        }
      },
      "source": [
        "predict_data[9:10]"
      ],
      "execution_count": 25,
      "outputs": [
        {
          "output_type": "execute_result",
          "data": {
            "text/html": [
              "<div>\n",
              "<style scoped>\n",
              "    .dataframe tbody tr th:only-of-type {\n",
              "        vertical-align: middle;\n",
              "    }\n",
              "\n",
              "    .dataframe tbody tr th {\n",
              "        vertical-align: top;\n",
              "    }\n",
              "\n",
              "    .dataframe thead th {\n",
              "        text-align: right;\n",
              "    }\n",
              "</style>\n",
              "<table border=\"1\" class=\"dataframe\">\n",
              "  <thead>\n",
              "    <tr style=\"text-align: right;\">\n",
              "      <th></th>\n",
              "      <th>A</th>\n",
              "      <th>C</th>\n",
              "      <th>D</th>\n",
              "      <th>E</th>\n",
              "    </tr>\n",
              "  </thead>\n",
              "  <tbody>\n",
              "    <tr>\n",
              "      <th>89</th>\n",
              "      <td>1</td>\n",
              "      <td>1</td>\n",
              "      <td>1</td>\n",
              "      <td>1</td>\n",
              "    </tr>\n",
              "  </tbody>\n",
              "</table>\n",
              "</div>"
            ],
            "text/plain": [
              "    A  C  D  E\n",
              "89  1  1  1  1"
            ]
          },
          "metadata": {
            "tags": []
          },
          "execution_count": 25
        }
      ]
    },
    {
      "cell_type": "code",
      "metadata": {
        "id": "GRbVYzZNuh2h",
        "outputId": "936ba56a-4ca6-4847-c4b2-b5ce5a132f5c",
        "colab": {
          "base_uri": "https://localhost:8080/",
          "height": 80
        }
      },
      "source": [
        "model.predict_probability(predict_data[9:10])"
      ],
      "execution_count": 26,
      "outputs": [
        {
          "output_type": "execute_result",
          "data": {
            "text/html": [
              "<div>\n",
              "<style scoped>\n",
              "    .dataframe tbody tr th:only-of-type {\n",
              "        vertical-align: middle;\n",
              "    }\n",
              "\n",
              "    .dataframe tbody tr th {\n",
              "        vertical-align: top;\n",
              "    }\n",
              "\n",
              "    .dataframe thead th {\n",
              "        text-align: right;\n",
              "    }\n",
              "</style>\n",
              "<table border=\"1\" class=\"dataframe\">\n",
              "  <thead>\n",
              "    <tr style=\"text-align: right;\">\n",
              "      <th></th>\n",
              "      <th>B_0</th>\n",
              "      <th>B_1</th>\n",
              "    </tr>\n",
              "  </thead>\n",
              "  <tbody>\n",
              "    <tr>\n",
              "      <th>89</th>\n",
              "      <td>0.497703</td>\n",
              "      <td>0.502297</td>\n",
              "    </tr>\n",
              "  </tbody>\n",
              "</table>\n",
              "</div>"
            ],
            "text/plain": [
              "         B_0       B_1\n",
              "89  0.497703  0.502297"
            ]
          },
          "metadata": {
            "tags": []
          },
          "execution_count": 26
        }
      ]
    },
    {
      "cell_type": "markdown",
      "metadata": {
        "id": "EGAwGLdCzawg"
      },
      "source": [
        "# 年齢、性別、CMを観たかで商品購入を予測\n",
        "- sex: Male:0/Female:1\n",
        "- age:\n",
        "  - 10s:1\n",
        "  - 20s:2\n",
        "  - 30s:3\n",
        "  - 40s:4\n",
        "  - 50s:5\n",
        "  - 60s:6\n",
        "- CM: Not seen:0/ Seen:1\n",
        "- purchase: unpurchased:0 /Purchased01"
      ]
    },
    {
      "cell_type": "code",
      "metadata": {
        "id": "XNKS-yZUnGxk",
        "outputId": "e0a1486e-1502-4750-ccf4-aa75ff57bd5c",
        "colab": {
          "base_uri": "https://localhost:8080/",
          "height": 450
        }
      },
      "source": [
        "import pandas as pd\n",
        "\n",
        "df = pd.read_csv('conversion_task.csv', index_col=0)\n",
        "df"
      ],
      "execution_count": 27,
      "outputs": [
        {
          "output_type": "execute_result",
          "data": {
            "text/html": [
              "<div>\n",
              "<style scoped>\n",
              "    .dataframe tbody tr th:only-of-type {\n",
              "        vertical-align: middle;\n",
              "    }\n",
              "\n",
              "    .dataframe tbody tr th {\n",
              "        vertical-align: top;\n",
              "    }\n",
              "\n",
              "    .dataframe thead th {\n",
              "        text-align: right;\n",
              "    }\n",
              "</style>\n",
              "<table border=\"1\" class=\"dataframe\">\n",
              "  <thead>\n",
              "    <tr style=\"text-align: right;\">\n",
              "      <th></th>\n",
              "      <th>sex</th>\n",
              "      <th>age</th>\n",
              "      <th>CM</th>\n",
              "      <th>purchase</th>\n",
              "    </tr>\n",
              "    <tr>\n",
              "      <th>userid</th>\n",
              "      <th></th>\n",
              "      <th></th>\n",
              "      <th></th>\n",
              "      <th></th>\n",
              "    </tr>\n",
              "  </thead>\n",
              "  <tbody>\n",
              "    <tr>\n",
              "      <th>0</th>\n",
              "      <td>0</td>\n",
              "      <td>4</td>\n",
              "      <td>0</td>\n",
              "      <td>0</td>\n",
              "    </tr>\n",
              "    <tr>\n",
              "      <th>1</th>\n",
              "      <td>0</td>\n",
              "      <td>5</td>\n",
              "      <td>0</td>\n",
              "      <td>0</td>\n",
              "    </tr>\n",
              "    <tr>\n",
              "      <th>2</th>\n",
              "      <td>1</td>\n",
              "      <td>1</td>\n",
              "      <td>0</td>\n",
              "      <td>0</td>\n",
              "    </tr>\n",
              "    <tr>\n",
              "      <th>3</th>\n",
              "      <td>1</td>\n",
              "      <td>6</td>\n",
              "      <td>0</td>\n",
              "      <td>0</td>\n",
              "    </tr>\n",
              "    <tr>\n",
              "      <th>4</th>\n",
              "      <td>0</td>\n",
              "      <td>3</td>\n",
              "      <td>0</td>\n",
              "      <td>1</td>\n",
              "    </tr>\n",
              "    <tr>\n",
              "      <th>...</th>\n",
              "      <td>...</td>\n",
              "      <td>...</td>\n",
              "      <td>...</td>\n",
              "      <td>...</td>\n",
              "    </tr>\n",
              "    <tr>\n",
              "      <th>95</th>\n",
              "      <td>1</td>\n",
              "      <td>5</td>\n",
              "      <td>0</td>\n",
              "      <td>0</td>\n",
              "    </tr>\n",
              "    <tr>\n",
              "      <th>96</th>\n",
              "      <td>1</td>\n",
              "      <td>2</td>\n",
              "      <td>0</td>\n",
              "      <td>1</td>\n",
              "    </tr>\n",
              "    <tr>\n",
              "      <th>97</th>\n",
              "      <td>0</td>\n",
              "      <td>4</td>\n",
              "      <td>1</td>\n",
              "      <td>1</td>\n",
              "    </tr>\n",
              "    <tr>\n",
              "      <th>98</th>\n",
              "      <td>1</td>\n",
              "      <td>6</td>\n",
              "      <td>1</td>\n",
              "      <td>1</td>\n",
              "    </tr>\n",
              "    <tr>\n",
              "      <th>99</th>\n",
              "      <td>1</td>\n",
              "      <td>6</td>\n",
              "      <td>1</td>\n",
              "      <td>1</td>\n",
              "    </tr>\n",
              "  </tbody>\n",
              "</table>\n",
              "<p>100 rows × 4 columns</p>\n",
              "</div>"
            ],
            "text/plain": [
              "        sex  age  CM  purchase\n",
              "userid                        \n",
              "0         0    4   0         0\n",
              "1         0    5   0         0\n",
              "2         1    1   0         0\n",
              "3         1    6   0         0\n",
              "4         0    3   0         1\n",
              "...     ...  ...  ..       ...\n",
              "95        1    5   0         0\n",
              "96        1    2   0         1\n",
              "97        0    4   1         1\n",
              "98        1    6   1         1\n",
              "99        1    6   1         1\n",
              "\n",
              "[100 rows x 4 columns]"
            ]
          },
          "metadata": {
            "tags": []
          },
          "execution_count": 27
        }
      ]
    },
    {
      "cell_type": "code",
      "metadata": {
        "id": "TfdHEDsa0C4P",
        "outputId": "24ce47fb-b764-4e3a-f953-607b4ad9d81b",
        "colab": {
          "base_uri": "https://localhost:8080/"
        }
      },
      "source": [
        "from pgmpy.models import BayesianModel\n",
        "###############\n",
        "# ここを埋める\n",
        "###############\n",
        "train_data = df[:80]\n",
        "predict_data = df[80:]\n",
        "model = BayesianModel([('age', 'purchase'), ('sex', 'purchase'),  ('CM', 'purchase'),])\n",
        "model.fit(train_data)\n",
        "model.check_model()"
      ],
      "execution_count": 28,
      "outputs": [
        {
          "output_type": "execute_result",
          "data": {
            "text/plain": [
              "True"
            ]
          },
          "metadata": {
            "tags": []
          },
          "execution_count": 28
        }
      ]
    },
    {
      "cell_type": "code",
      "metadata": {
        "id": "KqCTRvrf18AZ"
      },
      "source": [
        "from pgmpy.inference import VariableElimination\n",
        "infer = VariableElimination(model)"
      ],
      "execution_count": 29,
      "outputs": []
    },
    {
      "cell_type": "code",
      "metadata": {
        "id": "Z9ucnwgr06o2",
        "outputId": "5f755488-c5e2-4cbb-f7c8-ff72df16f9ad",
        "colab": {
          "base_uri": "https://localhost:8080/"
        }
      },
      "source": [
        "###############\n",
        "# ここを埋める\n",
        "###############\n",
        "print(infer.query(['age'], evidence={'purchase': 1}))"
      ],
      "execution_count": 30,
      "outputs": [
        {
          "output_type": "stream",
          "text": [
            "Finding Elimination Order: : 100%|██████████| 2/2 [00:00<00:00, 416.14it/s]\n",
            "Eliminating: sex: 100%|██████████| 2/2 [00:00<00:00, 298.55it/s]"
          ],
          "name": "stderr"
        },
        {
          "output_type": "stream",
          "text": [
            "+--------+------------+\n",
            "| age    |   phi(age) |\n",
            "+========+============+\n",
            "| age(1) |     0.0720 |\n",
            "+--------+------------+\n",
            "| age(2) |     0.1397 |\n",
            "+--------+------------+\n",
            "| age(3) |     0.1879 |\n",
            "+--------+------------+\n",
            "| age(4) |     0.2202 |\n",
            "+--------+------------+\n",
            "| age(5) |     0.1852 |\n",
            "+--------+------------+\n",
            "| age(6) |     0.1950 |\n",
            "+--------+------------+\n"
          ],
          "name": "stdout"
        },
        {
          "output_type": "stream",
          "text": [
            "\n"
          ],
          "name": "stderr"
        }
      ]
    },
    {
      "cell_type": "code",
      "metadata": {
        "id": "-LobQKafwWEi",
        "outputId": "4317e8ca-45eb-4e89-bf86-b801b81a09d6",
        "colab": {
          "base_uri": "https://localhost:8080/",
          "height": 80
        }
      },
      "source": [
        "import pandas as pd\n",
        "query = pd.DataFrame([[1,4,1]], columns=['sex', 'age', 'CM'])\n",
        "query"
      ],
      "execution_count": 31,
      "outputs": [
        {
          "output_type": "execute_result",
          "data": {
            "text/html": [
              "<div>\n",
              "<style scoped>\n",
              "    .dataframe tbody tr th:only-of-type {\n",
              "        vertical-align: middle;\n",
              "    }\n",
              "\n",
              "    .dataframe tbody tr th {\n",
              "        vertical-align: top;\n",
              "    }\n",
              "\n",
              "    .dataframe thead th {\n",
              "        text-align: right;\n",
              "    }\n",
              "</style>\n",
              "<table border=\"1\" class=\"dataframe\">\n",
              "  <thead>\n",
              "    <tr style=\"text-align: right;\">\n",
              "      <th></th>\n",
              "      <th>sex</th>\n",
              "      <th>age</th>\n",
              "      <th>CM</th>\n",
              "    </tr>\n",
              "  </thead>\n",
              "  <tbody>\n",
              "    <tr>\n",
              "      <th>0</th>\n",
              "      <td>1</td>\n",
              "      <td>4</td>\n",
              "      <td>1</td>\n",
              "    </tr>\n",
              "  </tbody>\n",
              "</table>\n",
              "</div>"
            ],
            "text/plain": [
              "   sex  age  CM\n",
              "0    1    4   1"
            ]
          },
          "metadata": {
            "tags": []
          },
          "execution_count": 31
        }
      ]
    },
    {
      "cell_type": "code",
      "metadata": {
        "id": "qIMxTvB2wWXm",
        "outputId": "4393df07-ea5e-425b-9345-0473da2e5c9b",
        "colab": {
          "base_uri": "https://localhost:8080/",
          "height": 80
        }
      },
      "source": [
        "###############\n",
        "# ここを埋める\n",
        "###############\n",
        "model.predict_probability(query)"
      ],
      "execution_count": 32,
      "outputs": [
        {
          "output_type": "execute_result",
          "data": {
            "text/html": [
              "<div>\n",
              "<style scoped>\n",
              "    .dataframe tbody tr th:only-of-type {\n",
              "        vertical-align: middle;\n",
              "    }\n",
              "\n",
              "    .dataframe tbody tr th {\n",
              "        vertical-align: top;\n",
              "    }\n",
              "\n",
              "    .dataframe thead th {\n",
              "        text-align: right;\n",
              "    }\n",
              "</style>\n",
              "<table border=\"1\" class=\"dataframe\">\n",
              "  <thead>\n",
              "    <tr style=\"text-align: right;\">\n",
              "      <th></th>\n",
              "      <th>purchase_0</th>\n",
              "      <th>purchase_1</th>\n",
              "    </tr>\n",
              "  </thead>\n",
              "  <tbody>\n",
              "    <tr>\n",
              "      <th>0</th>\n",
              "      <td>0.0</td>\n",
              "      <td>1.0</td>\n",
              "    </tr>\n",
              "  </tbody>\n",
              "</table>\n",
              "</div>"
            ],
            "text/plain": [
              "   purchase_0  purchase_1\n",
              "0         0.0         1.0"
            ]
          },
          "metadata": {
            "tags": []
          },
          "execution_count": 32
        }
      ]
    }
  ]
}