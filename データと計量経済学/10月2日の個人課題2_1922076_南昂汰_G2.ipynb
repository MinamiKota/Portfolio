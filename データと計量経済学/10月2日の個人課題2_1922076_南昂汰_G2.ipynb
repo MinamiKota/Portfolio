{
  "nbformat": 4,
  "nbformat_minor": 0,
  "metadata": {
    "colab": {
      "name": "10月2日の個人課題2_1922076_南昂汰_G2.ipynb",
      "provenance": [],
      "collapsed_sections": []
    },
    "kernelspec": {
      "name": "python3",
      "display_name": "Python 3"
    }
  },
  "cells": [
    {
      "cell_type": "markdown",
      "metadata": {
        "id": "3-w4nKRWFLUj"
      },
      "source": [
        "# 連続型確率変数の場合𝑝(𝑥)=1/5で、確率変数Xが0から5までの値をとるときの期待値と分散を計算"
      ]
    },
    {
      "cell_type": "code",
      "metadata": {
        "id": "5nkns_8--WnH"
      },
      "source": [
        "import sympy as sym"
      ],
      "execution_count": null,
      "outputs": []
    },
    {
      "cell_type": "code",
      "metadata": {
        "id": "MlfHJs2wEW4a",
        "outputId": "41638937-bf49-4908-f32d-440ce55f8c18",
        "colab": {
          "base_uri": "https://localhost:8080/",
          "height": 34
        }
      },
      "source": [
        "#期待値\n",
        "x=sym.Symbol(\"x\")\n",
        "f=1/5\n",
        "ex=f*x\n",
        "E=sym.integrate( ex,(x,0,5) )\n",
        "E"
      ],
      "execution_count": 7,
      "outputs": [
        {
          "output_type": "execute_result",
          "data": {
            "text/plain": [
              "2.50000000000000"
            ]
          },
          "metadata": {
            "tags": []
          },
          "execution_count": 7
        }
      ]
    },
    {
      "cell_type": "code",
      "metadata": {
        "id": "YrkDwC_KGJPx",
        "outputId": "8958ad4d-0f34-499c-e752-95663b878929",
        "colab": {
          "base_uri": "https://localhost:8080/",
          "height": 34
        }
      },
      "source": [
        "#分散\n",
        "vx=f*(x-E)**2\n",
        "V=sym.integrate( vx,(x,0,5) )\n",
        "V"
      ],
      "execution_count": 8,
      "outputs": [
        {
          "output_type": "execute_result",
          "data": {
            "text/plain": [
              "2.08333333333333"
            ]
          },
          "metadata": {
            "tags": []
          },
          "execution_count": 8
        }
      ]
    }
  ]
}