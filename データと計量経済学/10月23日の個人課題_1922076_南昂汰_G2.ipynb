{
  "nbformat": 4,
  "nbformat_minor": 0,
  "metadata": {
    "colab": {
      "name": "10月23日の個人課題_1922076_南昂汰_G2.ipynb",
      "provenance": [],
      "collapsed_sections": []
    },
    "kernelspec": {
      "name": "python3",
      "display_name": "Python 3"
    }
  },
  "cells": [
    {
      "cell_type": "markdown",
      "metadata": {
        "id": "0ToOG8oJ2uk2"
      },
      "source": [
        "授業の内容を元に、ナイーブベイズを用いたスパムメール判定をするプログラムを組んでみよう  \n",
        "つまり、関数wordProbと関数scoreを完成させること  \n",
        "但し、sklearnを用いることは禁じる  \n",
        "使ってもよいのはnumpy, MeCab, math, sys"
      ]
    },
    {
      "cell_type": "markdown",
      "metadata": {
        "id": "sde65My87TOK"
      },
      "source": [
        "## 形態素解析エンジンMeCabの導入"
      ]
    },
    {
      "cell_type": "code",
      "metadata": {
        "id": "qJrH3MhY7S84"
      },
      "source": [
        "!apt install aptitude\n",
        "!aptitude install mecab libmecab-dev mecab-ipadic-utf8 git make curl xz-utils file -y\n",
        "!pip install mecab-python3==0.7"
      ],
      "execution_count": null,
      "outputs": []
    },
    {
      "cell_type": "markdown",
      "metadata": {
        "id": "7BYjlmCl7cvi"
      },
      "source": [
        "- neologd辞書のインストール(すごく時間がかかる)"
      ]
    },
    {
      "cell_type": "code",
      "metadata": {
        "id": "uELD7w0l5p9-"
      },
      "source": [
        "!git clone --depth 1 https://github.com/neologd/mecab-ipadic-neologd.git\n",
        "!echo yes | mecab-ipadic-neologd/bin/install-mecab-ipadic-neologd -n"
      ],
      "execution_count": null,
      "outputs": []
    },
    {
      "cell_type": "markdown",
      "metadata": {
        "id": "28Zujm3MCGhy"
      },
      "source": [
        "##文章から単語を取り出す関数parsewithelimination(sentense)"
      ]
    },
    {
      "cell_type": "code",
      "metadata": {
        "id": "fNqmDVNcCGGx"
      },
      "source": [
        "import MeCab\n",
        "import numpy as np\n",
        "\n",
        "def parsewithelimination(sentense):\n",
        "  m=MeCab.Tagger()\n",
        "  m.parse('')\n",
        "  node=m.parseToNode(sentense)\n",
        "    \n",
        "  result=np.array([])\n",
        "  while node:\n",
        "    if node.feature.split(',')[6] == '*': # 原形を取り出す\n",
        "      term=node.surface\n",
        "    else :\n",
        "      term=node.feature.split(',')[6]\n",
        "        \n",
        "    if node.feature.split(',')[1] in ['数','非自立','接尾']:\n",
        "      node=node.next\n",
        "      continue\n",
        "\n",
        "    if node.feature.split(',')[0] in ['名詞', '動詞', '形容詞']:\n",
        "      result=np.append(result, term)\n",
        "        \n",
        "    node=node.next\n",
        "\n",
        "  return result"
      ],
      "execution_count": 19,
      "outputs": []
    },
    {
      "cell_type": "code",
      "metadata": {
        "id": "gJArZ81d73lD",
        "outputId": "3e8b6276-b30c-42f2-ef59-2a7018528fc0",
        "colab": {
          "base_uri": "https://localhost:8080/"
        }
      },
      "source": [
        "parsewithelimination('本日13時よりミーティングよろしくお願いいたします')"
      ],
      "execution_count": 20,
      "outputs": [
        {
          "output_type": "execute_result",
          "data": {
            "text/plain": [
              "array(['本日', 'ミーティング', 'よろしい', 'お願い'], dtype='<U32')"
            ]
          },
          "metadata": {
            "tags": []
          },
          "execution_count": 20
        }
      ]
    },
    {
      "cell_type": "markdown",
      "metadata": {
        "id": "1GasxAdn5Ta2"
      },
      "source": [
        "## 訓練データの用意"
      ]
    },
    {
      "cell_type": "code",
      "metadata": {
        "id": "6an7WAJx6ZW5"
      },
      "source": [
        "import numpy as np\n",
        "\n",
        "x=np.array(['今だけの激安謝恩セール、5割引', \n",
        "            '在庫処分特別セール開催中',\n",
        "            '確認しないと損をする特別セール実施中',\n",
        "            '本日のスケジュールの確認のお願いです',\n",
        "            '進捗はいかがでしょうか。ご確認お願いいたします',\n",
        "            '本日13時よりミーティングよろしくお願いいたします',\n",
        "            '議事録を必ずご確認ください',\n",
        "])\n",
        "\n",
        "# 1をスパムメール、0を通常メールとする\n",
        "y=np.array([1,1,1,0,0,0,0])"
      ],
      "execution_count": 21,
      "outputs": []
    },
    {
      "cell_type": "markdown",
      "metadata": {
        "id": "QPlRbKid6wsb"
      },
      "source": [
        "# 訓練データのスパムメール/普通メール内での出現回数を求める"
      ]
    },
    {
      "cell_type": "code",
      "metadata": {
        "id": "rACD-C3GDmwr"
      },
      "source": [
        "categories=set()\n",
        "wordset=set()\n",
        "word_count={} \n",
        "category_count={}\n",
        "\n",
        "for sent,cat in zip(x,y):\n",
        "  words=parsewithelimination(sent)\n",
        "  for w in words:\n",
        "    if not cat in word_count:\n",
        "      word_count[cat]={}\n",
        "    if not w in word_count[cat]:\n",
        "      word_count[cat][w]=0\n",
        "    word_count[cat][w]+=1\n",
        "    wordset.add(w)\n",
        "  if not cat in category_count:\n",
        "    category_count[cat]=0\n",
        "  category_count[cat]+=1\n",
        "  categories.add(cat)"
      ],
      "execution_count": 22,
      "outputs": []
    },
    {
      "cell_type": "code",
      "metadata": {
        "id": "2OmKaRlH-BCZ",
        "outputId": "fb1774a1-192e-4c8c-d7d6-60aa96aa2043",
        "colab": {
          "base_uri": "https://localhost:8080/"
        }
      },
      "source": [
        "categories"
      ],
      "execution_count": 23,
      "outputs": [
        {
          "output_type": "execute_result",
          "data": {
            "text/plain": [
              "{0, 1}"
            ]
          },
          "metadata": {
            "tags": []
          },
          "execution_count": 23
        }
      ]
    },
    {
      "cell_type": "code",
      "metadata": {
        "id": "oxzavJ6l996X",
        "outputId": "628e6132-4108-411c-d321-3ae047e596c5",
        "colab": {
          "base_uri": "https://localhost:8080/"
        }
      },
      "source": [
        "wordset"
      ],
      "execution_count": 24,
      "outputs": [
        {
          "output_type": "execute_result",
          "data": {
            "text/plain": [
              "{'いかが',\n",
              " 'お願い',\n",
              " 'する',\n",
              " 'よろしい',\n",
              " 'スケジュール',\n",
              " 'セール',\n",
              " 'ミーティング',\n",
              " '今',\n",
              " '処分',\n",
              " '割引',\n",
              " '在庫',\n",
              " '実施',\n",
              " '損',\n",
              " '本日',\n",
              " '激',\n",
              " '特別',\n",
              " '確認',\n",
              " '謝恩',\n",
              " '議事',\n",
              " '進捗',\n",
              " '開催'}"
            ]
          },
          "metadata": {
            "tags": []
          },
          "execution_count": 24
        }
      ]
    },
    {
      "cell_type": "code",
      "metadata": {
        "id": "8lHfxnIZ-AEk",
        "outputId": "754dfc19-0332-4c3b-a308-63a80cd12d11",
        "colab": {
          "base_uri": "https://localhost:8080/"
        }
      },
      "source": [
        "word_count[1]['セール']"
      ],
      "execution_count": 25,
      "outputs": [
        {
          "output_type": "execute_result",
          "data": {
            "text/plain": [
              "3"
            ]
          },
          "metadata": {
            "tags": []
          },
          "execution_count": 25
        }
      ]
    },
    {
      "cell_type": "code",
      "metadata": {
        "id": "imfKrp27-Npg",
        "outputId": "adfdecf6-f536-4e63-8b24-08f2353efdb8",
        "colab": {
          "base_uri": "https://localhost:8080/"
        }
      },
      "source": [
        "word_count[0]['確認']"
      ],
      "execution_count": 26,
      "outputs": [
        {
          "output_type": "execute_result",
          "data": {
            "text/plain": [
              "3"
            ]
          },
          "metadata": {
            "tags": []
          },
          "execution_count": 26
        }
      ]
    },
    {
      "cell_type": "markdown",
      "metadata": {
        "id": "ZjmG7c6MC_Ch"
      },
      "source": [
        "# 単語の条件付き確率$P(w_i|S)$ or $P(w_i|H)$を求める関数"
      ]
    },
    {
      "cell_type": "code",
      "metadata": {
        "id": "LCjaV2cc-DGg"
      },
      "source": [
        "def wordProb(word, category):\n",
        "  a=0\n",
        "  for i in word_count[category].values():\n",
        "    a+=(i/len(word_count[category]))\n",
        "\n",
        "  try:\n",
        "    value=(word_count[category][word]+1)/(a+len(wordset))\n",
        "\n",
        "  except KeyError:\n",
        "    value=1/(a+len(wordset))\n",
        "\n",
        "  return value"
      ],
      "execution_count": 27,
      "outputs": []
    },
    {
      "cell_type": "markdown",
      "metadata": {
        "id": "aiWKBZYdF1W8"
      },
      "source": [
        "## 事後確率$log P(S|M)$ or $log P(S|H)$を求めるを求める関数"
      ]
    },
    {
      "cell_type": "code",
      "metadata": {
        "id": "-zmvxQgfBHk_"
      },
      "source": [
        "import math\n",
        "def score(word_list, category):\n",
        "  P=math.log(np.count_nonzero(y==category)/len(y))\n",
        "  score_list=np.array([])\n",
        "\n",
        "  for item in word_list:\n",
        "    value=math.log(wordProb(item,category))\n",
        "    score_list=np.append(score_list,value)\n",
        "\n",
        "  score_list=np.append(score_list,P)\n",
        "  score=score_list.sum()\n",
        "\n",
        "  return score"
      ],
      "execution_count": 28,
      "outputs": []
    },
    {
      "cell_type": "markdown",
      "metadata": {
        "id": "H3pV9QYVGWI3"
      },
      "source": [
        "## テキストを入力してスパムか普通かを判断"
      ]
    },
    {
      "cell_type": "code",
      "metadata": {
        "id": "rBPW3D-1BICB"
      },
      "source": [
        "import sys\n",
        "def predict(txt):\n",
        "  best=None\n",
        "  max=-sys.maxsize\n",
        "  word_list=parsewithelimination(txt)\n",
        "  score_list=[]\n",
        "  for category in category_count.keys():\n",
        "    value=score(word_list,category)\n",
        "    score_list.append([category, value])\n",
        "    if value > max:\n",
        "      max=value\n",
        "      best=category\n",
        "  return best, score_list"
      ],
      "execution_count": 29,
      "outputs": []
    },
    {
      "cell_type": "code",
      "metadata": {
        "id": "tY8wQb2HBIEr",
        "outputId": "56248e03-3d8f-4941-ff1c-51de1fbeb31a",
        "colab": {
          "base_uri": "https://localhost:8080/"
        }
      },
      "source": [
        "predict('在庫割引処分実施中')"
      ],
      "execution_count": 30,
      "outputs": [
        {
          "output_type": "execute_result",
          "data": {
            "text/plain": [
              "(1, [[1, -10.494435400223354], [0, -13.023541394757695]])"
            ]
          },
          "metadata": {
            "tags": []
          },
          "execution_count": 30
        }
      ]
    },
    {
      "cell_type": "code",
      "metadata": {
        "id": "zkdCp5meBHh1",
        "outputId": "5f29f9b4-9713-48de-9063-bb2271c77fd4",
        "colab": {
          "base_uri": "https://localhost:8080/"
        }
      },
      "source": [
        "predict('明日ミーティングよろしくお願いいたします')"
      ],
      "execution_count": 31,
      "outputs": [
        {
          "output_type": "execute_result",
          "data": {
            "text/plain": [
              "(0, [[1, -13.267024122463136], [0, -10.250952672517913]])"
            ]
          },
          "metadata": {
            "tags": []
          },
          "execution_count": 31
        }
      ]
    }
  ]
}