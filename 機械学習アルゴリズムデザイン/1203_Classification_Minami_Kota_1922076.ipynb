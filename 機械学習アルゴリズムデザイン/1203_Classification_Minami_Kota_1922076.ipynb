{
  "nbformat": 4,
  "nbformat_minor": 0,
  "metadata": {
    "colab": {
      "name": "1203_Classification_Minami_Kota_1922076.ipynb",
      "provenance": [],
      "collapsed_sections": []
    },
    "kernelspec": {
      "name": "python3",
      "display_name": "Python 3"
    }
  },
  "cells": [
    {
      "cell_type": "markdown",
      "metadata": {
        "id": "q9Mg9rCH9hBf"
      },
      "source": [
        "<h1>MLAD課題_1203</h1>\n",
        "南 昂汰 1922076"
      ]
    },
    {
      "cell_type": "code",
      "metadata": {
        "id": "Fi68k_YnSt9x"
      },
      "source": [
        "import pandas as pd\n",
        "import numpy as np\n",
        "import matplotlib.pyplot as plt\n",
        "import seaborn as sns\n",
        "import time"
      ],
      "execution_count": 179,
      "outputs": []
    },
    {
      "cell_type": "code",
      "metadata": {
        "colab": {
          "base_uri": "https://localhost:8080/",
          "height": 272
        },
        "id": "n4u2bHJUwW8o",
        "outputId": "1d57712b-3a7d-48c3-9ac2-5ea369048076"
      },
      "source": [
        "# kaggleからダウンロードしたオープンデータ Predicting Pulsar Star\n",
        "# https://www.kaggle.com/colearninglounge/predicting-pulsar-starintermediate?select=pulsar_data_test.csv\n",
        "# パルサーは、ここ地球上で検出可能な電波放射を生成する珍しいタイプの中性子星です。\n",
        "# それらは、時空、星間物質、および物質の状態のプローブとして、かなりの科学的関心を集めています。\n",
        "# 現在、機械学習ツールを使用してパルサー候補に自動的にラベルを付け、迅速な分析を容易にしています。\n",
        "df = pd.read_csv('pulsar_data_train.csv')\n",
        "df.head()"
      ],
      "execution_count": 180,
      "outputs": [
        {
          "output_type": "execute_result",
          "data": {
            "text/html": [
              "<div>\n",
              "<style scoped>\n",
              "    .dataframe tbody tr th:only-of-type {\n",
              "        vertical-align: middle;\n",
              "    }\n",
              "\n",
              "    .dataframe tbody tr th {\n",
              "        vertical-align: top;\n",
              "    }\n",
              "\n",
              "    .dataframe thead th {\n",
              "        text-align: right;\n",
              "    }\n",
              "</style>\n",
              "<table border=\"1\" class=\"dataframe\">\n",
              "  <thead>\n",
              "    <tr style=\"text-align: right;\">\n",
              "      <th></th>\n",
              "      <th>Mean of the integrated profile</th>\n",
              "      <th>Standard deviation of the integrated profile</th>\n",
              "      <th>Excess kurtosis of the integrated profile</th>\n",
              "      <th>Skewness of the integrated profile</th>\n",
              "      <th>Mean of the DM-SNR curve</th>\n",
              "      <th>Standard deviation of the DM-SNR curve</th>\n",
              "      <th>Excess kurtosis of the DM-SNR curve</th>\n",
              "      <th>Skewness of the DM-SNR curve</th>\n",
              "      <th>target_class</th>\n",
              "    </tr>\n",
              "  </thead>\n",
              "  <tbody>\n",
              "    <tr>\n",
              "      <th>0</th>\n",
              "      <td>121.156250</td>\n",
              "      <td>48.372971</td>\n",
              "      <td>0.375485</td>\n",
              "      <td>-0.013165</td>\n",
              "      <td>3.168896</td>\n",
              "      <td>18.399367</td>\n",
              "      <td>7.449874</td>\n",
              "      <td>65.159298</td>\n",
              "      <td>0.0</td>\n",
              "    </tr>\n",
              "    <tr>\n",
              "      <th>1</th>\n",
              "      <td>76.968750</td>\n",
              "      <td>36.175557</td>\n",
              "      <td>0.712898</td>\n",
              "      <td>3.388719</td>\n",
              "      <td>2.399666</td>\n",
              "      <td>17.570997</td>\n",
              "      <td>9.414652</td>\n",
              "      <td>102.722975</td>\n",
              "      <td>0.0</td>\n",
              "    </tr>\n",
              "    <tr>\n",
              "      <th>2</th>\n",
              "      <td>130.585938</td>\n",
              "      <td>53.229534</td>\n",
              "      <td>0.133408</td>\n",
              "      <td>-0.297242</td>\n",
              "      <td>2.743311</td>\n",
              "      <td>22.362553</td>\n",
              "      <td>8.508364</td>\n",
              "      <td>74.031324</td>\n",
              "      <td>0.0</td>\n",
              "    </tr>\n",
              "    <tr>\n",
              "      <th>3</th>\n",
              "      <td>156.398438</td>\n",
              "      <td>48.865942</td>\n",
              "      <td>-0.215989</td>\n",
              "      <td>-0.171294</td>\n",
              "      <td>17.471572</td>\n",
              "      <td>NaN</td>\n",
              "      <td>2.958066</td>\n",
              "      <td>7.197842</td>\n",
              "      <td>0.0</td>\n",
              "    </tr>\n",
              "    <tr>\n",
              "      <th>4</th>\n",
              "      <td>84.804688</td>\n",
              "      <td>36.117659</td>\n",
              "      <td>0.825013</td>\n",
              "      <td>3.274125</td>\n",
              "      <td>2.790134</td>\n",
              "      <td>20.618009</td>\n",
              "      <td>8.405008</td>\n",
              "      <td>76.291128</td>\n",
              "      <td>0.0</td>\n",
              "    </tr>\n",
              "  </tbody>\n",
              "</table>\n",
              "</div>"
            ],
            "text/plain": [
              "    Mean of the integrated profile  ...  target_class\n",
              "0                       121.156250  ...           0.0\n",
              "1                        76.968750  ...           0.0\n",
              "2                       130.585938  ...           0.0\n",
              "3                       156.398438  ...           0.0\n",
              "4                        84.804688  ...           0.0\n",
              "\n",
              "[5 rows x 9 columns]"
            ]
          },
          "metadata": {
            "tags": []
          },
          "execution_count": 180
        }
      ]
    },
    {
      "cell_type": "code",
      "metadata": {
        "colab": {
          "base_uri": "https://localhost:8080/",
          "height": 0
        },
        "id": "lXdbpE7jzvg6",
        "outputId": "31221b3b-e2ee-4ea6-b1cf-97bc94f1ea62"
      },
      "source": [
        "# 欠損値を調べる\n",
        "df.isnull().sum()"
      ],
      "execution_count": 181,
      "outputs": [
        {
          "output_type": "execute_result",
          "data": {
            "text/plain": [
              " Mean of the integrated profile                     0\n",
              " Standard deviation of the integrated profile       0\n",
              " Excess kurtosis of the integrated profile       1735\n",
              " Skewness of the integrated profile                 0\n",
              " Mean of the DM-SNR curve                           0\n",
              " Standard deviation of the DM-SNR curve          1178\n",
              " Excess kurtosis of the DM-SNR curve                0\n",
              " Skewness of the DM-SNR curve                     625\n",
              "target_class                                        0\n",
              "dtype: int64"
            ]
          },
          "metadata": {
            "tags": []
          },
          "execution_count": 181
        }
      ]
    },
    {
      "cell_type": "code",
      "metadata": {
        "colab": {
          "base_uri": "https://localhost:8080/",
          "height": 0
        },
        "id": "5ZleMU590ujg",
        "outputId": "c067fd11-ce32-46ea-91bf-409ed9a77a5e"
      },
      "source": [
        "# 全ての行数は12528\n",
        "df.shape"
      ],
      "execution_count": 182,
      "outputs": [
        {
          "output_type": "execute_result",
          "data": {
            "text/plain": [
              "(12528, 9)"
            ]
          },
          "metadata": {
            "tags": []
          },
          "execution_count": 182
        }
      ]
    },
    {
      "cell_type": "code",
      "metadata": {
        "colab": {
          "base_uri": "https://localhost:8080/",
          "height": 0
        },
        "id": "AJgNPslF0xy2",
        "outputId": "e6a02394-1ccd-4191-d9c4-15534715007e"
      },
      "source": [
        "# 欠損値がある行を除いた行数は9273\n",
        "df.dropna().shape"
      ],
      "execution_count": 183,
      "outputs": [
        {
          "output_type": "execute_result",
          "data": {
            "text/plain": [
              "(9273, 9)"
            ]
          },
          "metadata": {
            "tags": []
          },
          "execution_count": 183
        }
      ]
    },
    {
      "cell_type": "code",
      "metadata": {
        "colab": {
          "base_uri": "https://localhost:8080/",
          "height": 272
        },
        "id": "2PL1p80h1oMv",
        "outputId": "c8099e8d-c9f8-48ba-95a0-484729eef341"
      },
      "source": [
        "# 9273行あれば学習データの量は十分だと思うので欠損値がある行を無視します\n",
        "df2=df.dropna()\n",
        "df2.head()"
      ],
      "execution_count": 184,
      "outputs": [
        {
          "output_type": "execute_result",
          "data": {
            "text/html": [
              "<div>\n",
              "<style scoped>\n",
              "    .dataframe tbody tr th:only-of-type {\n",
              "        vertical-align: middle;\n",
              "    }\n",
              "\n",
              "    .dataframe tbody tr th {\n",
              "        vertical-align: top;\n",
              "    }\n",
              "\n",
              "    .dataframe thead th {\n",
              "        text-align: right;\n",
              "    }\n",
              "</style>\n",
              "<table border=\"1\" class=\"dataframe\">\n",
              "  <thead>\n",
              "    <tr style=\"text-align: right;\">\n",
              "      <th></th>\n",
              "      <th>Mean of the integrated profile</th>\n",
              "      <th>Standard deviation of the integrated profile</th>\n",
              "      <th>Excess kurtosis of the integrated profile</th>\n",
              "      <th>Skewness of the integrated profile</th>\n",
              "      <th>Mean of the DM-SNR curve</th>\n",
              "      <th>Standard deviation of the DM-SNR curve</th>\n",
              "      <th>Excess kurtosis of the DM-SNR curve</th>\n",
              "      <th>Skewness of the DM-SNR curve</th>\n",
              "      <th>target_class</th>\n",
              "    </tr>\n",
              "  </thead>\n",
              "  <tbody>\n",
              "    <tr>\n",
              "      <th>0</th>\n",
              "      <td>121.156250</td>\n",
              "      <td>48.372971</td>\n",
              "      <td>0.375485</td>\n",
              "      <td>-0.013165</td>\n",
              "      <td>3.168896</td>\n",
              "      <td>18.399367</td>\n",
              "      <td>7.449874</td>\n",
              "      <td>65.159298</td>\n",
              "      <td>0.0</td>\n",
              "    </tr>\n",
              "    <tr>\n",
              "      <th>1</th>\n",
              "      <td>76.968750</td>\n",
              "      <td>36.175557</td>\n",
              "      <td>0.712898</td>\n",
              "      <td>3.388719</td>\n",
              "      <td>2.399666</td>\n",
              "      <td>17.570997</td>\n",
              "      <td>9.414652</td>\n",
              "      <td>102.722975</td>\n",
              "      <td>0.0</td>\n",
              "    </tr>\n",
              "    <tr>\n",
              "      <th>2</th>\n",
              "      <td>130.585938</td>\n",
              "      <td>53.229534</td>\n",
              "      <td>0.133408</td>\n",
              "      <td>-0.297242</td>\n",
              "      <td>2.743311</td>\n",
              "      <td>22.362553</td>\n",
              "      <td>8.508364</td>\n",
              "      <td>74.031324</td>\n",
              "      <td>0.0</td>\n",
              "    </tr>\n",
              "    <tr>\n",
              "      <th>4</th>\n",
              "      <td>84.804688</td>\n",
              "      <td>36.117659</td>\n",
              "      <td>0.825013</td>\n",
              "      <td>3.274125</td>\n",
              "      <td>2.790134</td>\n",
              "      <td>20.618009</td>\n",
              "      <td>8.405008</td>\n",
              "      <td>76.291128</td>\n",
              "      <td>0.0</td>\n",
              "    </tr>\n",
              "    <tr>\n",
              "      <th>7</th>\n",
              "      <td>109.406250</td>\n",
              "      <td>55.912521</td>\n",
              "      <td>0.565106</td>\n",
              "      <td>0.056247</td>\n",
              "      <td>2.797659</td>\n",
              "      <td>19.496527</td>\n",
              "      <td>9.443282</td>\n",
              "      <td>97.374578</td>\n",
              "      <td>0.0</td>\n",
              "    </tr>\n",
              "  </tbody>\n",
              "</table>\n",
              "</div>"
            ],
            "text/plain": [
              "    Mean of the integrated profile  ...  target_class\n",
              "0                       121.156250  ...           0.0\n",
              "1                        76.968750  ...           0.0\n",
              "2                       130.585938  ...           0.0\n",
              "4                        84.804688  ...           0.0\n",
              "7                       109.406250  ...           0.0\n",
              "\n",
              "[5 rows x 9 columns]"
            ]
          },
          "metadata": {
            "tags": []
          },
          "execution_count": 184
        }
      ]
    },
    {
      "cell_type": "code",
      "metadata": {
        "id": "6WhXG32WnyXh"
      },
      "source": [
        "# Xに特徴量を入れる（目的変数の列を削除したものを代入）\n",
        "X = df2.drop(columns=['target_class'])\n",
        "# yに目的変数を入れる\n",
        "y = df2['target_class']"
      ],
      "execution_count": 185,
      "outputs": []
    },
    {
      "cell_type": "code",
      "metadata": {
        "id": "IzMo2dOTD7Rg"
      },
      "source": [
        "# データの正規化\n",
        "from sklearn import preprocessing\n",
        "X=preprocessing.MinMaxScaler().fit_transform(X)"
      ],
      "execution_count": 186,
      "outputs": []
    },
    {
      "cell_type": "code",
      "metadata": {
        "id": "gJT_X_c1HMg4"
      },
      "source": [
        "# 訓練データ、テストデータの作成\n",
        "from sklearn.model_selection import train_test_split\n",
        "X_train, X_test, y_train, y_test = train_test_split(X, y, random_state = 114514, stratify=y)"
      ],
      "execution_count": 187,
      "outputs": []
    },
    {
      "cell_type": "code",
      "metadata": {
        "colab": {
          "base_uri": "https://localhost:8080/",
          "height": 0
        },
        "id": "ePJs8zG5UZSk",
        "outputId": "e0bb6cf7-9f4b-4475-814d-7093982ba4ae"
      },
      "source": [
        "# ロジスティック回帰モデル\n",
        "# https://scikit-learn.org/stable/modules/generated/sklearn.linear_model.LogisticRegression.html\n",
        "from sklearn.linear_model import LogisticRegression\n",
        "lr = LogisticRegression() \n",
        "lr.fit(X_train, y_train)\n",
        "print(\"正答率(学習) = \", lr.score(X_train,y_train))\n",
        "print(\"正答率(テスト) = \", lr.score(X_test,y_test))"
      ],
      "execution_count": 188,
      "outputs": [
        {
          "output_type": "stream",
          "text": [
            "正答率(学習) =  0.9744032211676733\n",
            "正答率(テスト) =  0.9698145752479517\n"
          ],
          "name": "stdout"
        }
      ]
    },
    {
      "cell_type": "code",
      "metadata": {
        "colab": {
          "base_uri": "https://localhost:8080/",
          "height": 0
        },
        "id": "pSRUzXPbVexO",
        "outputId": "062d90c9-b79e-4bd8-d505-46117c805ff4"
      },
      "source": [
        "# ニューラルネットワーク（マルチレイヤ―パーセプトロン）\n",
        "# https://scikit-learn.org/stable/modules/generated/sklearn.neural_network.MLPClassifier.html\n",
        "from sklearn.neural_network import MLPClassifier\n",
        "nn = MLPClassifier()\n",
        "nn.fit(X_train, y_train)\n",
        "print(\"正答率(学習) = \", nn.score(X_train,y_train))\n",
        "print(\"正答率(テスト) = \", nn.score(X_test,y_test))"
      ],
      "execution_count": 189,
      "outputs": [
        {
          "output_type": "stream",
          "text": [
            "正答率(学習) =  0.9788610871440897\n",
            "正答率(テスト) =  0.9745579991375592\n"
          ],
          "name": "stdout"
        },
        {
          "output_type": "stream",
          "text": [
            "/usr/local/lib/python3.6/dist-packages/sklearn/neural_network/_multilayer_perceptron.py:571: ConvergenceWarning:\n",
            "\n",
            "Stochastic Optimizer: Maximum iterations (200) reached and the optimization hasn't converged yet.\n",
            "\n"
          ],
          "name": "stderr"
        }
      ]
    },
    {
      "cell_type": "code",
      "metadata": {
        "colab": {
          "base_uri": "https://localhost:8080/",
          "height": 0
        },
        "id": "d7ZL-u1GQ-14",
        "outputId": "f5ef3a88-d170-43fa-c244-1bcaac17c462"
      },
      "source": [
        "# サポートベクターマシン\n",
        "# https://scikit-learn.org/stable/modules/generated/sklearn.svm.SVC.html\n",
        "from sklearn.svm import SVC\n",
        "svc = SVC(probability=True)\n",
        "svc.fit(X_train,y_train)\n",
        "print(\"正答率(学習) = \", svc.score(X_train,y_train))\n",
        "print(\"正答率(テスト) = \", svc.score(X_test,y_test))"
      ],
      "execution_count": 190,
      "outputs": [
        {
          "output_type": "stream",
          "text": [
            "正答率(学習) =  0.9782858786310037\n",
            "正答率(テスト) =  0.9728331177231565\n"
          ],
          "name": "stdout"
        }
      ]
    },
    {
      "cell_type": "code",
      "metadata": {
        "colab": {
          "base_uri": "https://localhost:8080/",
          "height": 0
        },
        "id": "ielv5tYbWVrH",
        "outputId": "befcf932-a726-4a09-c614-2375e98f7204"
      },
      "source": [
        "# 決定木学習\n",
        "# https://scikit-learn.org/stable/modules/generated/sklearn.tree.DecisionTreeClassifier.html\n",
        "from sklearn.tree import DecisionTreeClassifier\n",
        "dtc = DecisionTreeClassifier(max_depth=1)\n",
        "dtc.fit(X_train, y_train)\n",
        "print(\"正答率(学習) = \", dtc.score(X_train,y_train))\n",
        "print(\"正答率(テスト) = \", dtc.score(X_test,y_test))"
      ],
      "execution_count": 191,
      "outputs": [
        {
          "output_type": "stream",
          "text": [
            "正答率(学習) =  0.9794362956571757\n",
            "正答率(テスト) =  0.9745579991375592\n"
          ],
          "name": "stdout"
        }
      ]
    },
    {
      "cell_type": "code",
      "metadata": {
        "colab": {
          "base_uri": "https://localhost:8080/",
          "height": 0
        },
        "id": "Ln6IGfqaZ-Vv",
        "outputId": "953d3c11-e4bd-49a7-b049-052bed5d3060"
      },
      "source": [
        "# Max Voting / Hard voting\n",
        "# https://scikit-learn.org/stable/modules/generated/sklearn.ensemble.VotingClassifier.html\n",
        "from sklearn.ensemble import VotingClassifier\n",
        "# 作成したモデルをestimatorsに入れる\n",
        "estimators=[('lr', lr), ('dtc', dtc), ('svc', svc), ('nn', nn)]\n",
        "vote=VotingClassifier(estimators=estimators, voting='hard')\n",
        "vote.fit(X_train, y_train)\n",
        "print(\"正答率(学習) = \", vote.score(X_train,y_train))\n",
        "print(\"正答率(テスト) = \", vote.score(X_test,y_test))"
      ],
      "execution_count": 192,
      "outputs": [
        {
          "output_type": "stream",
          "text": [
            "正答率(学習) =  0.9782858786310037\n",
            "正答率(テスト) =  0.9732643380767573\n"
          ],
          "name": "stdout"
        }
      ]
    },
    {
      "cell_type": "code",
      "metadata": {
        "colab": {
          "base_uri": "https://localhost:8080/",
          "height": 0
        },
        "id": "VRYj9W7varPL",
        "outputId": "14da74e5-a44f-489f-d8d3-b0eb18b8f20b"
      },
      "source": [
        "# Weighted Average Voting / Soft Voting\n",
        "# https://scikit-learn.org/stable/modules/generated/sklearn.ensemble.VotingClassifier.html\n",
        "estimators=[('lr', lr), ('dtc', dtc), ('svc', svc), ('nn', nn)]\n",
        "# 作成したモデルをestimatorsに入れる。weightsを適宜設定する。\n",
        "wa_vote=VotingClassifier(estimators=estimators, voting='soft', weights=[3, 2, 1, 1])\n",
        "wa_vote.fit(X_train, y_train)\n",
        "print(\"正答率(学習) = \", wa_vote.score(X_train,y_train))\n",
        "print(\"正答率(テスト) = \", wa_vote.score(X_test,y_test))"
      ],
      "execution_count": 193,
      "outputs": [
        {
          "output_type": "stream",
          "text": [
            "正答率(学習) =  0.9788610871440897\n",
            "正答率(テスト) =  0.9745579991375592\n"
          ],
          "name": "stdout"
        }
      ]
    },
    {
      "cell_type": "code",
      "metadata": {
        "colab": {
          "base_uri": "https://localhost:8080/",
          "height": 0
        },
        "id": "s3pHEV92czwQ",
        "outputId": "7c9ec298-45fb-4ff3-f10f-70eda39a2650"
      },
      "source": [
        "# Bagging\n",
        "# https://scikit-learn.org/stable/modules/generated/sklearn.ensemble.BaggingClassifier.html\n",
        "from sklearn.ensemble import BaggingClassifier\n",
        "# ベースとなるモデルを指定する。\n",
        "bag=BaggingClassifier(base_estimator=dtc, n_estimators=100)\n",
        "start = time.time()\n",
        "bag.fit(X_train, y_train)\n",
        "elapsed_time = time.time() - start\n",
        "print (\"経過時間:{0}\".format(elapsed_time) + \"[sec]\")\n",
        "print(\"正答率(学習) = \", bag.score(X_train,y_train))\n",
        "print(\"正答率(テスト) = \", bag.score(X_test,y_test))"
      ],
      "execution_count": 194,
      "outputs": [
        {
          "output_type": "stream",
          "text": [
            "経過時間:0.7445240020751953[sec]\n",
            "正答率(学習) =  0.9794362956571757\n",
            "正答率(テスト) =  0.9745579991375592\n"
          ],
          "name": "stdout"
        }
      ]
    },
    {
      "cell_type": "code",
      "metadata": {
        "colab": {
          "base_uri": "https://localhost:8080/",
          "height": 0
        },
        "id": "6Ej0FwHEXYD9",
        "outputId": "02cd1de1-8643-415e-f4e0-548d7cad0c5f"
      },
      "source": [
        "# ランダムフォレスト\n",
        "# https://scikit-learn.org/stable/modules/generated/sklearn.ensemble.RandomForestClassifier.html\n",
        "from sklearn.ensemble import RandomForestClassifier\n",
        "rf = RandomForestClassifier(n_estimators=100)\n",
        "start = time.time()\n",
        "rf.fit(X_train, y_train)\n",
        "elapsed_time = time.time() - start\n",
        "print (\"経過時間:{0}\".format(elapsed_time) + \"[sec]\")\n",
        "print(\"正答率(学習) = \", rf.score(X_train,y_train))\n",
        "print(\"正答率(テスト) = \", rf.score(X_test,y_test))"
      ],
      "execution_count": 195,
      "outputs": [
        {
          "output_type": "stream",
          "text": [
            "経過時間:1.224529504776001[sec]\n",
            "正答率(学習) =  1.0\n",
            "正答率(テスト) =  0.9762828805519621\n"
          ],
          "name": "stdout"
        }
      ]
    },
    {
      "cell_type": "code",
      "metadata": {
        "colab": {
          "base_uri": "https://localhost:8080/",
          "height": 0
        },
        "id": "wz2IFJ9ofL7U",
        "outputId": "07352441-06c0-4e84-a8c0-fd290640dff7"
      },
      "source": [
        "# AdaBoost\n",
        "# https://scikit-learn.org/stable/modules/generated/sklearn.ensemble.AdaBoostClassifier.html\n",
        "from sklearn.ensemble import AdaBoostClassifier\n",
        "# ベースとなるモデルを指定する。\n",
        "ab = AdaBoostClassifier(base_estimator=dtc)\n",
        "start = time.time()\n",
        "ab.fit(X_train, y_train)\n",
        "elapsed_time = time.time() - start\n",
        "print (\"経過時間:{0}\".format(elapsed_time) + \"[sec]\")\n",
        "print(\"正答率(学習) = \", ab.score(X_train,y_train))\n",
        "print(\"正答率(テスト) = \", ab.score(X_test,y_test))"
      ],
      "execution_count": 196,
      "outputs": [
        {
          "output_type": "stream",
          "text": [
            "経過時間:0.5816309452056885[sec]\n",
            "正答率(学習) =  0.9817371297095197\n",
            "正答率(テスト) =  0.9754204398447607\n"
          ],
          "name": "stdout"
        }
      ]
    },
    {
      "cell_type": "code",
      "metadata": {
        "colab": {
          "base_uri": "https://localhost:8080/",
          "height": 0
        },
        "id": "ESF7VnA8Tvf_",
        "outputId": "8fc7e4e9-dcf5-4e43-b4bd-545595d83ed0"
      },
      "source": [
        "# GradientBoosting\n",
        "# https://scikit-learn.org/stable/modules/generated/sklearn.ensemble.GradientBoostingClassifier.html\n",
        "from sklearn.ensemble import GradientBoostingClassifier\n",
        "gbc = GradientBoostingClassifier()\n",
        "start = time.time()\n",
        "gbc.fit(X_train, y_train)\n",
        "elapsed_time = time.time() - start\n",
        "print (\"経過時間:{0}\".format(elapsed_time) + \"[sec]\")\n",
        "print(\"正答率(学習) = \", gbc.score(X_train,y_train))\n",
        "print(\"正答率(テスト) = \", gbc.score(X_test,y_test))"
      ],
      "execution_count": 197,
      "outputs": [
        {
          "output_type": "stream",
          "text": [
            "経過時間:2.2126171588897705[sec]\n",
            "正答率(学習) =  0.9889272361230946\n",
            "正答率(テスト) =  0.9719706770159552\n"
          ],
          "name": "stdout"
        }
      ]
    },
    {
      "cell_type": "code",
      "metadata": {
        "colab": {
          "base_uri": "https://localhost:8080/",
          "height": 0
        },
        "id": "tV5NIM9hsstz",
        "outputId": "6d3a2cc9-2262-42d8-978a-4e4632056148"
      },
      "source": [
        "# LightGBM\n",
        "# https://lightgbm.readthedocs.io/en/latest/pythonapi/lightgbm.LGBMClassifier.html\n",
        "import lightgbm\n",
        "lgb = lightgbm.LGBMClassifier()\n",
        "y_train=np.reshape(y_train,(-1))\n",
        "y_test=np.reshape(y_test,(-1))\n",
        "start = time.time()\n",
        "lgb.fit(X_train, y_train)\n",
        "elapsed_time = time.time() - start\n",
        "print (\"経過時間:{0}\".format(elapsed_time) + \"[sec]\")\n",
        "print(\"正答率(学習) = \", lgb.score(X_train,y_train))\n",
        "print(\"正答率(テスト) = \", lgb.score(X_test,y_test))"
      ],
      "execution_count": 198,
      "outputs": [
        {
          "output_type": "stream",
          "text": [
            "経過時間:0.2012791633605957[sec]\n",
            "正答率(学習) =  1.0\n",
            "正答率(テスト) =  0.9780077619663649\n"
          ],
          "name": "stdout"
        }
      ]
    },
    {
      "cell_type": "code",
      "metadata": {
        "colab": {
          "base_uri": "https://localhost:8080/",
          "height": 359
        },
        "id": "pPCqftjIf1TD",
        "outputId": "bd985306-8321-45d0-d59f-ed9dab681753"
      },
      "source": [
        "# 各モデルの予測結果を集約\n",
        "rf_feature = rf.predict(X_train)\n",
        "bag_feature = bag.predict(X_train)\n",
        "ab_feature = ab.predict(X_train)\n",
        "gbc_feature = gbc.predict(X_train)\n",
        "nn_feature = nn.predict(X_train)\n",
        "dtc_feature = dtc.predict(X_train)\n",
        "lr_feature = lr.predict(X_train)\n",
        "svc_feature = svc.predict(X_train)\n",
        "features_df = pd.DataFrame( {'Logistic': lr_feature, 'SVC': svc_feature, 'Decision Tree': dtc_feature,\n",
        "                             'MLP': nn_feature, 'Random forest': rf_feature, 'Bagging': bag_feature, \n",
        "                             'ada boost': ab_feature, 'Gradient boosting': gbc_feature })\n",
        "features_df.tail(10)"
      ],
      "execution_count": 199,
      "outputs": [
        {
          "output_type": "execute_result",
          "data": {
            "text/html": [
              "<div>\n",
              "<style scoped>\n",
              "    .dataframe tbody tr th:only-of-type {\n",
              "        vertical-align: middle;\n",
              "    }\n",
              "\n",
              "    .dataframe tbody tr th {\n",
              "        vertical-align: top;\n",
              "    }\n",
              "\n",
              "    .dataframe thead th {\n",
              "        text-align: right;\n",
              "    }\n",
              "</style>\n",
              "<table border=\"1\" class=\"dataframe\">\n",
              "  <thead>\n",
              "    <tr style=\"text-align: right;\">\n",
              "      <th></th>\n",
              "      <th>Logistic</th>\n",
              "      <th>SVC</th>\n",
              "      <th>Decision Tree</th>\n",
              "      <th>MLP</th>\n",
              "      <th>Random forest</th>\n",
              "      <th>Bagging</th>\n",
              "      <th>ada boost</th>\n",
              "      <th>Gradient boosting</th>\n",
              "    </tr>\n",
              "  </thead>\n",
              "  <tbody>\n",
              "    <tr>\n",
              "      <th>6944</th>\n",
              "      <td>0.0</td>\n",
              "      <td>0.0</td>\n",
              "      <td>0.0</td>\n",
              "      <td>0.0</td>\n",
              "      <td>0.0</td>\n",
              "      <td>0.0</td>\n",
              "      <td>0.0</td>\n",
              "      <td>0.0</td>\n",
              "    </tr>\n",
              "    <tr>\n",
              "      <th>6945</th>\n",
              "      <td>0.0</td>\n",
              "      <td>0.0</td>\n",
              "      <td>0.0</td>\n",
              "      <td>0.0</td>\n",
              "      <td>0.0</td>\n",
              "      <td>0.0</td>\n",
              "      <td>0.0</td>\n",
              "      <td>0.0</td>\n",
              "    </tr>\n",
              "    <tr>\n",
              "      <th>6946</th>\n",
              "      <td>0.0</td>\n",
              "      <td>0.0</td>\n",
              "      <td>0.0</td>\n",
              "      <td>0.0</td>\n",
              "      <td>0.0</td>\n",
              "      <td>0.0</td>\n",
              "      <td>0.0</td>\n",
              "      <td>0.0</td>\n",
              "    </tr>\n",
              "    <tr>\n",
              "      <th>6947</th>\n",
              "      <td>0.0</td>\n",
              "      <td>0.0</td>\n",
              "      <td>0.0</td>\n",
              "      <td>0.0</td>\n",
              "      <td>0.0</td>\n",
              "      <td>0.0</td>\n",
              "      <td>0.0</td>\n",
              "      <td>0.0</td>\n",
              "    </tr>\n",
              "    <tr>\n",
              "      <th>6948</th>\n",
              "      <td>1.0</td>\n",
              "      <td>1.0</td>\n",
              "      <td>1.0</td>\n",
              "      <td>1.0</td>\n",
              "      <td>1.0</td>\n",
              "      <td>1.0</td>\n",
              "      <td>1.0</td>\n",
              "      <td>1.0</td>\n",
              "    </tr>\n",
              "    <tr>\n",
              "      <th>6949</th>\n",
              "      <td>0.0</td>\n",
              "      <td>0.0</td>\n",
              "      <td>0.0</td>\n",
              "      <td>0.0</td>\n",
              "      <td>0.0</td>\n",
              "      <td>0.0</td>\n",
              "      <td>0.0</td>\n",
              "      <td>0.0</td>\n",
              "    </tr>\n",
              "    <tr>\n",
              "      <th>6950</th>\n",
              "      <td>0.0</td>\n",
              "      <td>0.0</td>\n",
              "      <td>0.0</td>\n",
              "      <td>0.0</td>\n",
              "      <td>0.0</td>\n",
              "      <td>0.0</td>\n",
              "      <td>0.0</td>\n",
              "      <td>0.0</td>\n",
              "    </tr>\n",
              "    <tr>\n",
              "      <th>6951</th>\n",
              "      <td>0.0</td>\n",
              "      <td>0.0</td>\n",
              "      <td>0.0</td>\n",
              "      <td>0.0</td>\n",
              "      <td>0.0</td>\n",
              "      <td>0.0</td>\n",
              "      <td>0.0</td>\n",
              "      <td>0.0</td>\n",
              "    </tr>\n",
              "    <tr>\n",
              "      <th>6952</th>\n",
              "      <td>0.0</td>\n",
              "      <td>0.0</td>\n",
              "      <td>0.0</td>\n",
              "      <td>0.0</td>\n",
              "      <td>0.0</td>\n",
              "      <td>0.0</td>\n",
              "      <td>0.0</td>\n",
              "      <td>0.0</td>\n",
              "    </tr>\n",
              "    <tr>\n",
              "      <th>6953</th>\n",
              "      <td>0.0</td>\n",
              "      <td>0.0</td>\n",
              "      <td>0.0</td>\n",
              "      <td>0.0</td>\n",
              "      <td>0.0</td>\n",
              "      <td>0.0</td>\n",
              "      <td>0.0</td>\n",
              "      <td>0.0</td>\n",
              "    </tr>\n",
              "  </tbody>\n",
              "</table>\n",
              "</div>"
            ],
            "text/plain": [
              "      Logistic  SVC  Decision Tree  ...  Bagging  ada boost  Gradient boosting\n",
              "6944       0.0  0.0            0.0  ...      0.0        0.0                0.0\n",
              "6945       0.0  0.0            0.0  ...      0.0        0.0                0.0\n",
              "6946       0.0  0.0            0.0  ...      0.0        0.0                0.0\n",
              "6947       0.0  0.0            0.0  ...      0.0        0.0                0.0\n",
              "6948       1.0  1.0            1.0  ...      1.0        1.0                1.0\n",
              "6949       0.0  0.0            0.0  ...      0.0        0.0                0.0\n",
              "6950       0.0  0.0            0.0  ...      0.0        0.0                0.0\n",
              "6951       0.0  0.0            0.0  ...      0.0        0.0                0.0\n",
              "6952       0.0  0.0            0.0  ...      0.0        0.0                0.0\n",
              "6953       0.0  0.0            0.0  ...      0.0        0.0                0.0\n",
              "\n",
              "[10 rows x 8 columns]"
            ]
          },
          "metadata": {
            "tags": []
          },
          "execution_count": 199
        }
      ]
    },
    {
      "cell_type": "code",
      "metadata": {
        "colab": {
          "base_uri": "https://localhost:8080/",
          "height": 749
        },
        "id": "8132KPXxhrgL",
        "outputId": "11622b07-23fb-4034-e8dc-1a51f6b0b8b8"
      },
      "source": [
        "# 各モデルの予測結果の相関を見る\n",
        "import seaborn as sns\n",
        "import matplotlib.pyplot as plt\n",
        "colormap = plt.cm.RdBu\n",
        "plt.figure(figsize=(14,12))\n",
        "sns.heatmap(features_df.corr(),linewidths=0.1, \n",
        "cmap=colormap, linecolor='white', \n",
        "annot=True)"
      ],
      "execution_count": 200,
      "outputs": [
        {
          "output_type": "execute_result",
          "data": {
            "text/plain": [
              "<matplotlib.axes._subplots.AxesSubplot at 0x7f0f5901f8d0>"
            ]
          },
          "metadata": {
            "tags": []
          },
          "execution_count": 200
        },
        {
          "output_type": "display_data",
          "data": {
            "image/png": "[encoded data removed]",
            "text/plain": [
              "<Figure size 1008x864 with 2 Axes>"
            ]
          },
          "metadata": {
            "tags": [],
            "needs_background": "light"
          }
        }
      ]
    },
    {
      "cell_type": "code",
      "metadata": {
        "colab": {
          "base_uri": "https://localhost:8080/",
          "height": 0
        },
        "id": "cHLBhXEnfpkj",
        "outputId": "46fc4a63-45d2-4e6f-f6be-c32e6db72651"
      },
      "source": [
        "# Stacking\n",
        "# https://scikit-learn.org/stable/modules/generated/sklearn.ensemble.StackingClassifier.html\n",
        "from sklearn.ensemble import StackingClassifier\n",
        "# 一段目に使うモデルを列挙\n",
        "estimators=[('lr', lr), ('gbc', gbc),('dtc', dtc)]\n",
        "# 一段目と二段目のモデルを指定\n",
        "stk=StackingClassifier(estimators=estimators, final_estimator=lr)\n",
        "start = time.time()\n",
        "stk.fit(X_train, y_train)\n",
        "elapsed_time = time.time() - start\n",
        "print (\"経過時間:{0}\".format(elapsed_time) + \"[sec]\")\n",
        "print(\"正答率(学習) = \", stk.score(X_train,y_train))\n",
        "print(\"正答率(テスト) = \", stk.score(X_test,y_test))"
      ],
      "execution_count": 201,
      "outputs": [
        {
          "output_type": "stream",
          "text": [
            "経過時間:11.24924349784851[sec]\n",
            "正答率(学習) =  0.9814495254529767\n",
            "正答率(テスト) =  0.9762828805519621\n"
          ],
          "name": "stdout"
        }
      ]
    },
    {
      "cell_type": "code",
      "metadata": {
        "id": "v22oLw7lOwpr",
        "colab": {
          "base_uri": "https://localhost:8080/",
          "height": 0
        },
        "outputId": "bd434bad-ec28-407f-f658-260ec9bca7e8"
      },
      "source": [
        "# y_predに予測されたラベルをいれる\n",
        "y_predict = stk.predict(X_test)\n",
        "\n",
        "# 適合率、再現率、f1値などを表示\n",
        "from sklearn.metrics import classification_report\n",
        "print(classification_report(y_test,y_predict))"
      ],
      "execution_count": 202,
      "outputs": [
        {
          "output_type": "stream",
          "text": [
            "              precision    recall  f1-score   support\n",
            "\n",
            "         0.0       0.98      1.00      0.99      2106\n",
            "         1.0       0.94      0.79      0.86       213\n",
            "\n",
            "    accuracy                           0.98      2319\n",
            "   macro avg       0.96      0.89      0.92      2319\n",
            "weighted avg       0.98      0.98      0.98      2319\n",
            "\n"
          ],
          "name": "stdout"
        }
      ]
    },
    {
      "cell_type": "code",
      "metadata": {
        "colab": {
          "base_uri": "https://localhost:8080/",
          "height": 0
        },
        "id": "txmjzr8QAekm",
        "outputId": "392519dc-adaa-40cb-d2b1-79e2ed9250c9"
      },
      "source": [
        "# 別のスタッキング\n",
        "# MLP、AdaBoost、Baggingの推論結果を新たなデータに集約し、SVCに投入する\n",
        "estimators=[('nn', nn), ('ab', ab),('bag', bag)]\n",
        "stk=StackingClassifier(estimators=estimators, final_estimator=svc)\n",
        "start = time.time()\n",
        "stk.fit(X_train, y_train)\n",
        "elapsed_time = time.time() - start\n",
        "print (\"経過時間:{0}\".format(elapsed_time) + \"[sec]\")\n",
        "print(\"正答率(学習) = \", stk.score(X_train,y_train))\n",
        "print(\"正答率(テスト) = \", stk.score(X_test,y_test))"
      ],
      "execution_count": 203,
      "outputs": [
        {
          "output_type": "stream",
          "text": [
            "/usr/local/lib/python3.6/dist-packages/sklearn/neural_network/_multilayer_perceptron.py:571: ConvergenceWarning:\n",
            "\n",
            "Stochastic Optimizer: Maximum iterations (200) reached and the optimization hasn't converged yet.\n",
            "\n"
          ],
          "name": "stderr"
        },
        {
          "output_type": "stream",
          "text": [
            "経過時間:35.71339201927185[sec]\n",
            "正答率(学習) =  0.9795800977854472\n",
            "正答率(テスト) =  0.97498921949116\n"
          ],
          "name": "stdout"
        }
      ]
    },
    {
      "cell_type": "code",
      "metadata": {
        "colab": {
          "base_uri": "https://localhost:8080/",
          "height": 0
        },
        "id": "Z9kw04XaAtyH",
        "outputId": "26e98c01-3756-4073-c0fe-75dec7e794b4"
      },
      "source": [
        "# y_predに予測されたラベルをいれる\n",
        "y_predict = stk.predict(X_test)\n",
        "\n",
        "# 適合率、再現率、f1値などを表示\n",
        "print(classification_report(y_test,y_predict))"
      ],
      "execution_count": 204,
      "outputs": [
        {
          "output_type": "stream",
          "text": [
            "              precision    recall  f1-score   support\n",
            "\n",
            "         0.0       0.98      0.99      0.99      2106\n",
            "         1.0       0.92      0.79      0.85       213\n",
            "\n",
            "    accuracy                           0.97      2319\n",
            "   macro avg       0.95      0.89      0.92      2319\n",
            "weighted avg       0.97      0.97      0.97      2319\n",
            "\n"
          ],
          "name": "stdout"
        }
      ]
    }
  ]
}