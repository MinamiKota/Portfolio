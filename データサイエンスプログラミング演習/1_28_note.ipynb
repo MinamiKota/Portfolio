{
 "cells": [
  {
   "cell_type": "code",
   "execution_count": 7,
   "metadata": {},
   "outputs": [
    {
     "name": "stdout",
     "output_type": "stream",
     "text": [
      "Requirement already satisfied: lxml in /opt/conda/lib/python3.7/site-packages (4.4.2)\n",
      "Note: you may need to restart the kernel to use updated packages.\n"
     ]
    }
   ],
   "source": [
    "pip install lxml"
   ]
  },
  {
   "cell_type": "code",
   "execution_count": 9,
   "metadata": {},
   "outputs": [
    {
     "name": "stdout",
     "output_type": "stream",
     "text": [
      "Requirement already satisfied: html5lib in /opt/conda/lib/python3.7/site-packages (1.0.1)\n",
      "Requirement already satisfied: webencodings in /opt/conda/lib/python3.7/site-packages (from html5lib) (0.5.1)\n",
      "Requirement already satisfied: six>=1.9 in /opt/conda/lib/python3.7/site-packages (from html5lib) (1.12.0)\n",
      "Note: you may need to restart the kernel to use updated packages.\n"
     ]
    }
   ],
   "source": [
    "pip install html5lib"
   ]
  },
  {
   "cell_type": "code",
   "execution_count": 11,
   "metadata": {},
   "outputs": [
    {
     "name": "stdout",
     "output_type": "stream",
     "text": [
      "<link href=\"/index.css\" media=\"all\" rel=\"stylesheet\" type=\"text/css\"/>\n",
      "<link href=\"/libraries/reset.css\" media=\"all\" rel=\"stylesheet\" type=\"text/css\"/>\n",
      "<link href=\"/libraries/block.css\" media=\"all\" rel=\"stylesheet\" type=\"text/css\"/>\n",
      "<link href=\"/libraries/common.css\" media=\"all\" rel=\"stylesheet\" type=\"text/css\"/>\n",
      "<link href=\"/libraries/jquery.datetimepicker.css\" media=\"all\" rel=\"stylesheet\" type=\"text/css\"/>\n",
      "<link href=\"/libraries/education.css\" media=\"all\" rel=\"stylesheet\" type=\"text/css\"/>\n",
      "<link href=\"/libraries/jquery.mCustomScrollbar.css\" media=\"all\" rel=\"stylesheet\" type=\"text/css\"/>\n",
      "<link href=\"/libraries/megadrop.css\" media=\"all\" rel=\"stylesheet\" type=\"text/css\"/>\n",
      "<link href=\"/libraries/fix.css.css\" media=\"all\" rel=\"stylesheet\" type=\"text/css\"/>\n"
     ]
    }
   ],
   "source": [
    "from urllib.request import urlopen\n",
    "from bs4 import BeautifulSoup as bs4\n",
    "import time\n",
    "\n",
    "#html=urlopen(\"https://ds.musashino-u.ac.jp/aaii/\")\n",
    "html=urlopen(\"https://www.musashino-u.ac.jp\")\n",
    "soup=bs4(html,\"html.parser\")\n",
    "#soup=bs4(html,\"lxml\")\n",
    "#soup=bs4(html,\"html5lib\")\n",
    "\n",
    "#print(soup.prettify())\n",
    "#print(soup.title)\n",
    "#print(soup.title.name)\n",
    "#print(soup.title.string)\n",
    "\n",
    "#print(soup.title.parent.prettify())\n",
    "#print(soup.section.contents[1].prettify())\n",
    "#for child in soup.section.contents:\n",
    "#print(child)\n",
    "\n",
    "#print(soup.meta)\n",
    "\n",
    "for link in soup.find_all(\"link\"):\n",
    "    print(link)\n",
    "\n",
    "time.sleep(2)"
   ]
  }
 ],
 "metadata": {
  "kernelspec": {
   "display_name": "Python 3",
   "language": "python",
   "name": "python3"
  },
  "language_info": {
   "codemirror_mode": {
    "name": "ipython",
    "version": 3
   },
   "file_extension": ".py",
   "mimetype": "text/x-python",
   "name": "python",
   "nbconvert_exporter": "python",
   "pygments_lexer": "ipython3",
   "version": "3.7.3"
  }
 },
 "nbformat": 4,
 "nbformat_minor": 4
}
