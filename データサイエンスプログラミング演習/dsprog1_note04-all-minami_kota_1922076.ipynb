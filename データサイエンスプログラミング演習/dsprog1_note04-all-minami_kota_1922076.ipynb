{
 "cells": [
  {
   "cell_type": "markdown",
   "metadata": {},
   "source": [
    "---\n",
    "<div style=\"text-align: center;\" >\n",
    "    <h1>\n",
    "        <b>データサイエンスプログラミング演習</b>\n",
    "    </h1>\n",
    "    <h3>\n",
    "        第11,12回授業ノート\n",
    "    </h3>\n",
    "</div>\n",
    "<div style=\"text-align: right\">\n",
    "    1922076<br/>\n",
    "    南昂汰\n",
    "</div>\n",
    "\n",
    "---"
   ]
  },
  {
   "cell_type": "markdown",
   "metadata": {},
   "source": [
    "<div style='padding: 10px; margin-bottom: 10px; border: 1px dashed #333333;'>\n",
    "    <h3>データサイエンティストの実際の姿</h3>\n",
    "    戦略コンサルタント<br>\n",
    "    組織の意思決定を行うリーダーの参謀<br>\n",
    "</div>"
   ]
  },
  {
   "cell_type": "markdown",
   "metadata": {},
   "source": [
    "---"
   ]
  },
  {
   "cell_type": "markdown",
   "metadata": {},
   "source": [
    "# 実践データ分析　ケース1 比較的きれいなデータの扱い\n",
    "### ECサイトの売上げデータ\n",
    "\n",
    "よくある依頼事項\n",
    "- 弊社の顧客データを使って、売上げを上げる施策を考えてほしい<br>\n",
    "\n",
    "データ分析における問題点\n",
    "- 現場の営業部員に話を聞いても「どこにデータがあるのか分からない」\n",
    "- 店舗によって、また担当者によって、データのフォーマットもバラバラ\n",
    "- 担当者に聞かないと、データのフォーマットの意味を理解できない\n",
    "- データの管理部署が複数に分かれており、一元管理が全くなされていない\n",
    "\n",
    "`情報がどこにあるのか、どんな情報があるのかを一つ一つヒアリングしていくことによって、はじめて必要な情報が手に入る。`\n",
    "\n",
    "さらなる問題点\n",
    "- 「データ分析を行う必要があるのか」と非協力的な社員も少なくない\n",
    "\n",
    "`「データ分析による恩恵の理解」や「必要なデータの提出」など、ネゴシエーターとしての能力も試されている`"
   ]
  },
  {
   "cell_type": "markdown",
   "metadata": {},
   "source": [
    "## 顧客から入手したデータ一覧\n",
    "|No.|ファイル名|概要|主軸|\n",
    "|:--:|:--:|:--|:--:|\n",
    "|1|customer_master.csv|顧客データ。氏名、性別、年齢など| |\n",
    "|2  |item_master.csv  |取り扱っている商品データ。商品名、価格など| |\n",
    "|3-1|transaction_1.csv|購入履歴データ。いつ、どの顧客がいくら購入したか| |\n",
    "|3-2|transaction_2.csv|3-1の続き。システムの都合上、分割されている    | |\n",
    "|4-1|transaction_detail_1.csv|購入履歴の詳細データ。具体的に、どの商品をいくつ購入したか|　〇　|\n",
    "|4-2|transaction_detail_2.csv|4-1の続き　　　                   |　〇　|"
   ]
  },
  {
   "cell_type": "markdown",
   "metadata": {},
   "source": [
    "---"
   ]
  },
  {
   "cell_type": "code",
   "execution_count": 1,
   "metadata": {},
   "outputs": [],
   "source": [
    "#データフレームの表示数を設定する\n",
    "import pandas as pd\n",
    "#すべての行を表示する\n",
    "#pd.set_option('display.max_rows', None)\n",
    "#2行分を表示する\n",
    "pd.set_option('display.max_rows', 2)"
   ]
  },
  {
   "cell_type": "markdown",
   "metadata": {},
   "source": [
    "---"
   ]
  },
  {
   "cell_type": "markdown",
   "metadata": {},
   "source": [
    "## ステップ1　各データ No.1〜No.6の確認（ファイルの読み込み）"
   ]
  },
  {
   "cell_type": "markdown",
   "metadata": {},
   "source": [
    "#### No.1 顧客データ（customer_master.csv)の確認"
   ]
  },
  {
   "cell_type": "code",
   "execution_count": 180,
   "metadata": {},
   "outputs": [
    {
     "data": {
      "text/html": [
       "<div>\n",
       "<style scoped>\n",
       "    .dataframe tbody tr th:only-of-type {\n",
       "        vertical-align: middle;\n",
       "    }\n",
       "\n",
       "    .dataframe tbody tr th {\n",
       "        vertical-align: top;\n",
       "    }\n",
       "\n",
       "    .dataframe thead th {\n",
       "        text-align: right;\n",
       "    }\n",
       "</style>\n",
       "<table border=\"1\" class=\"dataframe\">\n",
       "  <thead>\n",
       "    <tr style=\"text-align: right;\">\n",
       "      <th></th>\n",
       "      <th>customer_id</th>\n",
       "      <th>customer_name</th>\n",
       "      <th>registration_date</th>\n",
       "      <th>customer_name_kana</th>\n",
       "      <th>email</th>\n",
       "      <th>gender</th>\n",
       "      <th>age</th>\n",
       "      <th>birth</th>\n",
       "      <th>pref</th>\n",
       "    </tr>\n",
       "  </thead>\n",
       "  <tbody>\n",
       "    <tr>\n",
       "      <td>0</td>\n",
       "      <td>IK152942</td>\n",
       "      <td>平田 裕次郎</td>\n",
       "      <td>2019-01-01 00:25:33</td>\n",
       "      <td>ひらた ゆうじろう</td>\n",
       "      <td>hirata_yuujirou@example.com</td>\n",
       "      <td>M</td>\n",
       "      <td>29</td>\n",
       "      <td>1990/6/10</td>\n",
       "      <td>石川県</td>\n",
       "    </tr>\n",
       "    <tr>\n",
       "      <td>...</td>\n",
       "      <td>...</td>\n",
       "      <td>...</td>\n",
       "      <td>...</td>\n",
       "      <td>...</td>\n",
       "      <td>...</td>\n",
       "      <td>...</td>\n",
       "      <td>...</td>\n",
       "      <td>...</td>\n",
       "      <td>...</td>\n",
       "    </tr>\n",
       "    <tr>\n",
       "      <td>4999</td>\n",
       "      <td>HI349563</td>\n",
       "      <td>堀井 寛治</td>\n",
       "      <td>2019-07-31 22:49:49</td>\n",
       "      <td>ほりい かんじ</td>\n",
       "      <td>horii_kanji@example.com</td>\n",
       "      <td>M</td>\n",
       "      <td>21</td>\n",
       "      <td>1998/2/6</td>\n",
       "      <td>広島県</td>\n",
       "    </tr>\n",
       "  </tbody>\n",
       "</table>\n",
       "<p>5000 rows × 9 columns</p>\n",
       "</div>"
      ],
      "text/plain": [
       "     customer_id customer_name    registration_date customer_name_kana  \\\n",
       "0       IK152942        平田 裕次郎  2019-01-01 00:25:33          ひらた ゆうじろう   \n",
       "...          ...           ...                  ...                ...   \n",
       "4999    HI349563         堀井 寛治  2019-07-31 22:49:49            ほりい かんじ   \n",
       "\n",
       "                            email gender  age      birth pref  \n",
       "0     hirata_yuujirou@example.com      M   29  1990/6/10  石川県  \n",
       "...                           ...    ...  ...        ...  ...  \n",
       "4999      horii_kanji@example.com      M   21   1998/2/6  広島県  \n",
       "\n",
       "[5000 rows x 9 columns]"
      ]
     },
     "execution_count": 180,
     "metadata": {},
     "output_type": "execute_result"
    }
   ],
   "source": [
    "customer_master = pd.read_csv('customer_master.csv', encoding='UTF-8')\n",
    "customer_master"
   ]
  },
  {
   "cell_type": "markdown",
   "metadata": {},
   "source": [
    "#### 上記の結果より、顧客データ（customer_master.csv）は5000行x9列のデータ"
   ]
  },
  {
   "cell_type": "markdown",
   "metadata": {},
   "source": [
    "#### No.2 商品データ（item__master.csv)の確認"
   ]
  },
  {
   "cell_type": "code",
   "execution_count": 181,
   "metadata": {},
   "outputs": [
    {
     "data": {
      "text/html": [
       "<div>\n",
       "<style scoped>\n",
       "    .dataframe tbody tr th:only-of-type {\n",
       "        vertical-align: middle;\n",
       "    }\n",
       "\n",
       "    .dataframe tbody tr th {\n",
       "        vertical-align: top;\n",
       "    }\n",
       "\n",
       "    .dataframe thead th {\n",
       "        text-align: right;\n",
       "    }\n",
       "</style>\n",
       "<table border=\"1\" class=\"dataframe\">\n",
       "  <thead>\n",
       "    <tr style=\"text-align: right;\">\n",
       "      <th></th>\n",
       "      <th>item_id</th>\n",
       "      <th>item_name</th>\n",
       "      <th>item_price</th>\n",
       "    </tr>\n",
       "  </thead>\n",
       "  <tbody>\n",
       "    <tr>\n",
       "      <td>0</td>\n",
       "      <td>S001</td>\n",
       "      <td>PC-A</td>\n",
       "      <td>50000</td>\n",
       "    </tr>\n",
       "    <tr>\n",
       "      <td>...</td>\n",
       "      <td>...</td>\n",
       "      <td>...</td>\n",
       "      <td>...</td>\n",
       "    </tr>\n",
       "    <tr>\n",
       "      <td>4</td>\n",
       "      <td>S005</td>\n",
       "      <td>PC-E</td>\n",
       "      <td>210000</td>\n",
       "    </tr>\n",
       "  </tbody>\n",
       "</table>\n",
       "<p>5 rows × 3 columns</p>\n",
       "</div>"
      ],
      "text/plain": [
       "   item_id item_name  item_price\n",
       "0     S001      PC-A       50000\n",
       "..     ...       ...         ...\n",
       "4     S005      PC-E      210000\n",
       "\n",
       "[5 rows x 3 columns]"
      ]
     },
     "execution_count": 181,
     "metadata": {},
     "output_type": "execute_result"
    }
   ],
   "source": [
    "item_master = pd.read_csv('item_master.csv', encoding='UTF-8')\n",
    "item_master"
   ]
  },
  {
   "cell_type": "markdown",
   "metadata": {},
   "source": [
    "#### 商品データ(item_master.csv）は5行x3列のデータ"
   ]
  },
  {
   "cell_type": "markdown",
   "metadata": {},
   "source": [
    "#### No.3-1 購入履歴データ1（transaction_1.csv)の確認"
   ]
  },
  {
   "cell_type": "code",
   "execution_count": 182,
   "metadata": {},
   "outputs": [
    {
     "data": {
      "text/html": [
       "<div>\n",
       "<style scoped>\n",
       "    .dataframe tbody tr th:only-of-type {\n",
       "        vertical-align: middle;\n",
       "    }\n",
       "\n",
       "    .dataframe tbody tr th {\n",
       "        vertical-align: top;\n",
       "    }\n",
       "\n",
       "    .dataframe thead th {\n",
       "        text-align: right;\n",
       "    }\n",
       "</style>\n",
       "<table border=\"1\" class=\"dataframe\">\n",
       "  <thead>\n",
       "    <tr style=\"text-align: right;\">\n",
       "      <th></th>\n",
       "      <th>transaction_id</th>\n",
       "      <th>price</th>\n",
       "      <th>payment_date</th>\n",
       "      <th>customer_id</th>\n",
       "    </tr>\n",
       "  </thead>\n",
       "  <tbody>\n",
       "    <tr>\n",
       "      <td>0</td>\n",
       "      <td>T0000000113</td>\n",
       "      <td>210000</td>\n",
       "      <td>2019-02-01 01:36:57</td>\n",
       "      <td>PL563502</td>\n",
       "    </tr>\n",
       "    <tr>\n",
       "      <td>...</td>\n",
       "      <td>...</td>\n",
       "      <td>...</td>\n",
       "      <td>...</td>\n",
       "      <td>...</td>\n",
       "    </tr>\n",
       "    <tr>\n",
       "      <td>4999</td>\n",
       "      <td>T0000005112</td>\n",
       "      <td>50000</td>\n",
       "      <td>2019-06-15 04:42:38</td>\n",
       "      <td>HD444151</td>\n",
       "    </tr>\n",
       "  </tbody>\n",
       "</table>\n",
       "<p>5000 rows × 4 columns</p>\n",
       "</div>"
      ],
      "text/plain": [
       "     transaction_id   price         payment_date customer_id\n",
       "0       T0000000113  210000  2019-02-01 01:36:57    PL563502\n",
       "...             ...     ...                  ...         ...\n",
       "4999    T0000005112   50000  2019-06-15 04:42:38    HD444151\n",
       "\n",
       "[5000 rows x 4 columns]"
      ]
     },
     "execution_count": 182,
     "metadata": {},
     "output_type": "execute_result"
    }
   ],
   "source": [
    "transaction_1 = pd.read_csv('transaction_1.csv', encoding='UTF-8')\n",
    "transaction_1"
   ]
  },
  {
   "cell_type": "markdown",
   "metadata": {},
   "source": [
    "#### 購入履歴データ(transaction_1.csv）は5000行x4列のデータ"
   ]
  },
  {
   "cell_type": "markdown",
   "metadata": {},
   "source": [
    "#### No.3-2 購入履歴データ2（transaction_2.csv)の確認"
   ]
  },
  {
   "cell_type": "code",
   "execution_count": 183,
   "metadata": {},
   "outputs": [
    {
     "data": {
      "text/html": [
       "<div>\n",
       "<style scoped>\n",
       "    .dataframe tbody tr th:only-of-type {\n",
       "        vertical-align: middle;\n",
       "    }\n",
       "\n",
       "    .dataframe tbody tr th {\n",
       "        vertical-align: top;\n",
       "    }\n",
       "\n",
       "    .dataframe thead th {\n",
       "        text-align: right;\n",
       "    }\n",
       "</style>\n",
       "<table border=\"1\" class=\"dataframe\">\n",
       "  <thead>\n",
       "    <tr style=\"text-align: right;\">\n",
       "      <th></th>\n",
       "      <th>transaction_id</th>\n",
       "      <th>price</th>\n",
       "      <th>payment_date</th>\n",
       "      <th>customer_id</th>\n",
       "    </tr>\n",
       "  </thead>\n",
       "  <tbody>\n",
       "    <tr>\n",
       "      <td>0</td>\n",
       "      <td>T0000005113</td>\n",
       "      <td>295000</td>\n",
       "      <td>2019-06-15 07:20:27</td>\n",
       "      <td>TS169261</td>\n",
       "    </tr>\n",
       "    <tr>\n",
       "      <td>...</td>\n",
       "      <td>...</td>\n",
       "      <td>...</td>\n",
       "      <td>...</td>\n",
       "      <td>...</td>\n",
       "    </tr>\n",
       "    <tr>\n",
       "      <td>1785</td>\n",
       "      <td>T0000006898</td>\n",
       "      <td>85000</td>\n",
       "      <td>2019-07-31 23:41:38</td>\n",
       "      <td>AS834214</td>\n",
       "    </tr>\n",
       "  </tbody>\n",
       "</table>\n",
       "<p>1786 rows × 4 columns</p>\n",
       "</div>"
      ],
      "text/plain": [
       "     transaction_id   price         payment_date customer_id\n",
       "0       T0000005113  295000  2019-06-15 07:20:27    TS169261\n",
       "...             ...     ...                  ...         ...\n",
       "1785    T0000006898   85000  2019-07-31 23:41:38    AS834214\n",
       "\n",
       "[1786 rows x 4 columns]"
      ]
     },
     "execution_count": 183,
     "metadata": {},
     "output_type": "execute_result"
    }
   ],
   "source": [
    "transaction_2 = pd.read_csv('transaction_2.csv', encoding='UTF-8')\n",
    "transaction_2"
   ]
  },
  {
   "cell_type": "markdown",
   "metadata": {},
   "source": [
    "#### 購入履歴データ2(transaction_2.csv）は1786行x4列のデータ"
   ]
  },
  {
   "cell_type": "markdown",
   "metadata": {},
   "source": [
    "#### No.4-1 購入履歴の詳細データ1（transaction_detail_1.csv)の確認"
   ]
  },
  {
   "cell_type": "code",
   "execution_count": 184,
   "metadata": {},
   "outputs": [
    {
     "data": {
      "text/html": [
       "<div>\n",
       "<style scoped>\n",
       "    .dataframe tbody tr th:only-of-type {\n",
       "        vertical-align: middle;\n",
       "    }\n",
       "\n",
       "    .dataframe tbody tr th {\n",
       "        vertical-align: top;\n",
       "    }\n",
       "\n",
       "    .dataframe thead th {\n",
       "        text-align: right;\n",
       "    }\n",
       "</style>\n",
       "<table border=\"1\" class=\"dataframe\">\n",
       "  <thead>\n",
       "    <tr style=\"text-align: right;\">\n",
       "      <th></th>\n",
       "      <th>detail_id</th>\n",
       "      <th>transaction_id</th>\n",
       "      <th>item_id</th>\n",
       "      <th>quantity</th>\n",
       "    </tr>\n",
       "  </thead>\n",
       "  <tbody>\n",
       "    <tr>\n",
       "      <td>0</td>\n",
       "      <td>0</td>\n",
       "      <td>T0000000113</td>\n",
       "      <td>S005</td>\n",
       "      <td>1</td>\n",
       "    </tr>\n",
       "    <tr>\n",
       "      <td>...</td>\n",
       "      <td>...</td>\n",
       "      <td>...</td>\n",
       "      <td>...</td>\n",
       "      <td>...</td>\n",
       "    </tr>\n",
       "    <tr>\n",
       "      <td>4999</td>\n",
       "      <td>4999</td>\n",
       "      <td>T0000004869</td>\n",
       "      <td>S003</td>\n",
       "      <td>1</td>\n",
       "    </tr>\n",
       "  </tbody>\n",
       "</table>\n",
       "<p>5000 rows × 4 columns</p>\n",
       "</div>"
      ],
      "text/plain": [
       "      detail_id transaction_id item_id  quantity\n",
       "0             0    T0000000113    S005         1\n",
       "...         ...            ...     ...       ...\n",
       "4999       4999    T0000004869    S003         1\n",
       "\n",
       "[5000 rows x 4 columns]"
      ]
     },
     "execution_count": 184,
     "metadata": {},
     "output_type": "execute_result"
    }
   ],
   "source": [
    "transaction_detail_1 = pd.read_csv('transaction_detail_1.csv', encoding='UTF-8')\n",
    "transaction_detail_1"
   ]
  },
  {
   "cell_type": "markdown",
   "metadata": {},
   "source": [
    "#### 購入履歴の詳細データ1(transaction_detail_1.csv）は5000行x4列のデータ"
   ]
  },
  {
   "cell_type": "markdown",
   "metadata": {},
   "source": [
    "#### No.4-2 購入履歴の詳細データ2（transaction_detail_2.csv)の確認"
   ]
  },
  {
   "cell_type": "code",
   "execution_count": 185,
   "metadata": {},
   "outputs": [
    {
     "data": {
      "text/html": [
       "<div>\n",
       "<style scoped>\n",
       "    .dataframe tbody tr th:only-of-type {\n",
       "        vertical-align: middle;\n",
       "    }\n",
       "\n",
       "    .dataframe tbody tr th {\n",
       "        vertical-align: top;\n",
       "    }\n",
       "\n",
       "    .dataframe thead th {\n",
       "        text-align: right;\n",
       "    }\n",
       "</style>\n",
       "<table border=\"1\" class=\"dataframe\">\n",
       "  <thead>\n",
       "    <tr style=\"text-align: right;\">\n",
       "      <th></th>\n",
       "      <th>detail_id</th>\n",
       "      <th>transaction_id</th>\n",
       "      <th>item_id</th>\n",
       "      <th>quantity</th>\n",
       "    </tr>\n",
       "  </thead>\n",
       "  <tbody>\n",
       "    <tr>\n",
       "      <td>0</td>\n",
       "      <td>5000</td>\n",
       "      <td>T0000004870</td>\n",
       "      <td>S002</td>\n",
       "      <td>3</td>\n",
       "    </tr>\n",
       "    <tr>\n",
       "      <td>...</td>\n",
       "      <td>...</td>\n",
       "      <td>...</td>\n",
       "      <td>...</td>\n",
       "      <td>...</td>\n",
       "    </tr>\n",
       "    <tr>\n",
       "      <td>2143</td>\n",
       "      <td>7143</td>\n",
       "      <td>T0000006898</td>\n",
       "      <td>S002</td>\n",
       "      <td>1</td>\n",
       "    </tr>\n",
       "  </tbody>\n",
       "</table>\n",
       "<p>2144 rows × 4 columns</p>\n",
       "</div>"
      ],
      "text/plain": [
       "      detail_id transaction_id item_id  quantity\n",
       "0          5000    T0000004870    S002         3\n",
       "...         ...            ...     ...       ...\n",
       "2143       7143    T0000006898    S002         1\n",
       "\n",
       "[2144 rows x 4 columns]"
      ]
     },
     "execution_count": 185,
     "metadata": {},
     "output_type": "execute_result"
    }
   ],
   "source": [
    "transaction_detail_2 = pd.read_csv('transaction_detail_2.csv', encoding='UTF-8')\n",
    "transaction_detail_2"
   ]
  },
  {
   "cell_type": "markdown",
   "metadata": {},
   "source": [
    "#### 購入履歴の詳細データ2(transaction_detail_2.csv）は2144行x4列のデータ"
   ]
  },
  {
   "cell_type": "markdown",
   "metadata": {},
   "source": [
    ">以上のように、まずはデータの全体像を把握することが重要<br>\n",
    "- 主軸を決め、それに合わせて分析しやすいデータを作成する<br>\n",
    " - なるべくデータの粒度が細かいデータに合わせてデータを作成する<br>\n",
    " - ECサイトの売上げデータは重要な要素<br>\n",
    " - 売上げ関連の中で最も粒度の細かいデータは「購入履歴の詳細データ＝transaction_detail_1とtransaction_detail_2」である<br>\n",
    " - これを主軸としてデータを作成する"
   ]
  },
  {
   "cell_type": "markdown",
   "metadata": {},
   "source": [
    "---"
   ]
  },
  {
   "cell_type": "markdown",
   "metadata": {},
   "source": [
    "## ステップ2 購入履歴の詳細データ（transaction_detail_1と2）を主軸にデータを加工する\n",
    "- 2-1：2つに分かれた購入履歴データを1つに統合する\n",
    " - transaction_1とtransaction_2を縦に結合する　→　transaction\n",
    " - 縦の結合＝「ユニオン」・・・行を追加する\n",
    "- 2−2：2つに分かれた購入履歴の詳細データを1つに統合する\n",
    " - transaction_detail_1とtransaction_detail_2を縦に結合する（ユニオン） → transaction_detail\n",
    "- 2-3：transaction_detailを主軸として、transaction、item_master、customer_masterを横に結合する\n",
    " - 横の結合＝「ジョイン」・・・列を追加する "
   ]
  },
  {
   "cell_type": "markdown",
   "metadata": {},
   "source": [
    "**2-1：2つに分かれた購入履歴データを1つに統合する**"
   ]
  },
  {
   "cell_type": "code",
   "execution_count": 186,
   "metadata": {},
   "outputs": [
    {
     "data": {
      "text/html": [
       "<div>\n",
       "<style scoped>\n",
       "    .dataframe tbody tr th:only-of-type {\n",
       "        vertical-align: middle;\n",
       "    }\n",
       "\n",
       "    .dataframe tbody tr th {\n",
       "        vertical-align: top;\n",
       "    }\n",
       "\n",
       "    .dataframe thead th {\n",
       "        text-align: right;\n",
       "    }\n",
       "</style>\n",
       "<table border=\"1\" class=\"dataframe\">\n",
       "  <thead>\n",
       "    <tr style=\"text-align: right;\">\n",
       "      <th></th>\n",
       "      <th>transaction_id</th>\n",
       "      <th>price</th>\n",
       "      <th>payment_date</th>\n",
       "      <th>customer_id</th>\n",
       "    </tr>\n",
       "  </thead>\n",
       "  <tbody>\n",
       "    <tr>\n",
       "      <td>0</td>\n",
       "      <td>T0000000113</td>\n",
       "      <td>210000</td>\n",
       "      <td>2019-02-01 01:36:57</td>\n",
       "      <td>PL563502</td>\n",
       "    </tr>\n",
       "    <tr>\n",
       "      <td>...</td>\n",
       "      <td>...</td>\n",
       "      <td>...</td>\n",
       "      <td>...</td>\n",
       "      <td>...</td>\n",
       "    </tr>\n",
       "    <tr>\n",
       "      <td>1785</td>\n",
       "      <td>T0000006898</td>\n",
       "      <td>85000</td>\n",
       "      <td>2019-07-31 23:41:38</td>\n",
       "      <td>AS834214</td>\n",
       "    </tr>\n",
       "  </tbody>\n",
       "</table>\n",
       "<p>6786 rows × 4 columns</p>\n",
       "</div>"
      ],
      "text/plain": [
       "     transaction_id   price         payment_date customer_id\n",
       "0       T0000000113  210000  2019-02-01 01:36:57    PL563502\n",
       "...             ...     ...                  ...         ...\n",
       "1785    T0000006898   85000  2019-07-31 23:41:38    AS834214\n",
       "\n",
       "[6786 rows x 4 columns]"
      ]
     },
     "execution_count": 186,
     "metadata": {},
     "output_type": "execute_result"
    }
   ],
   "source": [
    "transaction = pd.concat([transaction_1, transaction_2])\n",
    "transaction"
   ]
  },
  {
   "cell_type": "code",
   "execution_count": 187,
   "metadata": {},
   "outputs": [
    {
     "data": {
      "text/html": [
       "<div>\n",
       "<style scoped>\n",
       "    .dataframe tbody tr th:only-of-type {\n",
       "        vertical-align: middle;\n",
       "    }\n",
       "\n",
       "    .dataframe tbody tr th {\n",
       "        vertical-align: top;\n",
       "    }\n",
       "\n",
       "    .dataframe thead th {\n",
       "        text-align: right;\n",
       "    }\n",
       "</style>\n",
       "<table border=\"1\" class=\"dataframe\">\n",
       "  <thead>\n",
       "    <tr style=\"text-align: right;\">\n",
       "      <th></th>\n",
       "      <th>transaction_id</th>\n",
       "      <th>price</th>\n",
       "      <th>payment_date</th>\n",
       "      <th>customer_id</th>\n",
       "    </tr>\n",
       "  </thead>\n",
       "  <tbody>\n",
       "    <tr>\n",
       "      <td>0</td>\n",
       "      <td>T0000000113</td>\n",
       "      <td>210000</td>\n",
       "      <td>2019-02-01 01:36:57</td>\n",
       "      <td>PL563502</td>\n",
       "    </tr>\n",
       "    <tr>\n",
       "      <td>...</td>\n",
       "      <td>...</td>\n",
       "      <td>...</td>\n",
       "      <td>...</td>\n",
       "      <td>...</td>\n",
       "    </tr>\n",
       "    <tr>\n",
       "      <td>6785</td>\n",
       "      <td>T0000006898</td>\n",
       "      <td>85000</td>\n",
       "      <td>2019-07-31 23:41:38</td>\n",
       "      <td>AS834214</td>\n",
       "    </tr>\n",
       "  </tbody>\n",
       "</table>\n",
       "<p>6786 rows × 4 columns</p>\n",
       "</div>"
      ],
      "text/plain": [
       "     transaction_id   price         payment_date customer_id\n",
       "0       T0000000113  210000  2019-02-01 01:36:57    PL563502\n",
       "...             ...     ...                  ...         ...\n",
       "6785    T0000006898   85000  2019-07-31 23:41:38    AS834214\n",
       "\n",
       "[6786 rows x 4 columns]"
      ]
     },
     "execution_count": 187,
     "metadata": {},
     "output_type": "execute_result"
    }
   ],
   "source": [
    "transaction = pd.concat([transaction_1, transaction_2],ignore_index=True)\n",
    "#上記の例では、元のデータフレームの行番号のまま追加されたが、ignore_index=True とすることで、通し番号を割り当てられる。\n",
    "#ignore_index=Falseまたはignore_indexの記述をしないと、もとの行番号のまま結合される\n",
    "transaction #.loc[4999:5010] #つなぎ目を確認する"
   ]
  },
  {
   "cell_type": "code",
   "execution_count": 188,
   "metadata": {},
   "outputs": [
    {
     "name": "stdout",
     "output_type": "stream",
     "text": [
      "5000\n",
      "1786\n",
      "6786\n"
     ]
    }
   ],
   "source": [
    "#データ件数を出力し、正しく結合されたことを確認する\n",
    "print(len(transaction_1))\n",
    "print(len(transaction_2))\n",
    "print(len(transaction))"
   ]
  },
  {
   "cell_type": "markdown",
   "metadata": {},
   "source": [
    "**2-2:2つに分かれた購入履歴の詳細データを結合する**"
   ]
  },
  {
   "cell_type": "code",
   "execution_count": 189,
   "metadata": {},
   "outputs": [
    {
     "data": {
      "text/html": [
       "<div>\n",
       "<style scoped>\n",
       "    .dataframe tbody tr th:only-of-type {\n",
       "        vertical-align: middle;\n",
       "    }\n",
       "\n",
       "    .dataframe tbody tr th {\n",
       "        vertical-align: top;\n",
       "    }\n",
       "\n",
       "    .dataframe thead th {\n",
       "        text-align: right;\n",
       "    }\n",
       "</style>\n",
       "<table border=\"1\" class=\"dataframe\">\n",
       "  <thead>\n",
       "    <tr style=\"text-align: right;\">\n",
       "      <th></th>\n",
       "      <th>detail_id</th>\n",
       "      <th>transaction_id</th>\n",
       "      <th>item_id</th>\n",
       "      <th>quantity</th>\n",
       "    </tr>\n",
       "  </thead>\n",
       "  <tbody>\n",
       "    <tr>\n",
       "      <td>0</td>\n",
       "      <td>0</td>\n",
       "      <td>T0000000113</td>\n",
       "      <td>S005</td>\n",
       "      <td>1</td>\n",
       "    </tr>\n",
       "    <tr>\n",
       "      <td>...</td>\n",
       "      <td>...</td>\n",
       "      <td>...</td>\n",
       "      <td>...</td>\n",
       "      <td>...</td>\n",
       "    </tr>\n",
       "    <tr>\n",
       "      <td>7143</td>\n",
       "      <td>7143</td>\n",
       "      <td>T0000006898</td>\n",
       "      <td>S002</td>\n",
       "      <td>1</td>\n",
       "    </tr>\n",
       "  </tbody>\n",
       "</table>\n",
       "<p>7144 rows × 4 columns</p>\n",
       "</div>"
      ],
      "text/plain": [
       "      detail_id transaction_id item_id  quantity\n",
       "0             0    T0000000113    S005         1\n",
       "...         ...            ...     ...       ...\n",
       "7143       7143    T0000006898    S002         1\n",
       "\n",
       "[7144 rows x 4 columns]"
      ]
     },
     "execution_count": 189,
     "metadata": {},
     "output_type": "execute_result"
    }
   ],
   "source": [
    "transaction_detail = pd.concat([transaction_detail_1, transaction_detail_2],ignore_index=True)\n",
    "transaction_detail"
   ]
  },
  {
   "cell_type": "code",
   "execution_count": 190,
   "metadata": {},
   "outputs": [
    {
     "name": "stdout",
     "output_type": "stream",
     "text": [
      "5000\n",
      "2144\n",
      "7144\n"
     ]
    }
   ],
   "source": [
    "#データ件数を出力し、結合されたことを確認する\n",
    "print(len(transaction_detail_1))\n",
    "print(len(transaction_detail_2))\n",
    "print(len(transaction_detail))"
   ]
  },
  {
   "cell_type": "markdown",
   "metadata": {},
   "source": [
    "**2-3:transaction_detailを主軸として、transaction、item_master、customer_masterを横に結合する**\n",
    "- 主軸となるデータの中でどの列をキーにして他のデータをジョインするかを考える\n",
    " - 各データの列を出力し比較する\n",
    " - 主軸データに足りないデータ列は？共通するデータ列は？\n",
    "|data|col1|col2|col3|col4|col5|col6|col7|col8|col9|\n",
    "|--|--|--|--|--|--|--|--|--|--|\n",
    "|transaction_detal|detail_id|**transaction_id**|**item_id**|quantity|\n",
    "|item_master|**item_id**|item_name|item_price|\n",
    "|transaction|**transaction_id**|price|payment_date|**customer_id**|\n",
    "|customer_master|**customer_id**|customer_name|registration_date|customer_name_kana|email|gender|age|birth|pref|"
   ]
  },
  {
   "cell_type": "code",
   "execution_count": 191,
   "metadata": {},
   "outputs": [],
   "source": [
    "#transaction_detail、transaction、item_master、customer_masterの列を表示して確認する\n",
    "#transaction_detail\n",
    "#transaction\n",
    "#item_master\n",
    "#customer_master"
   ]
  },
  {
   "cell_type": "code",
   "execution_count": 192,
   "metadata": {},
   "outputs": [
    {
     "data": {
      "text/html": [
       "<div>\n",
       "<style scoped>\n",
       "    .dataframe tbody tr th:only-of-type {\n",
       "        vertical-align: middle;\n",
       "    }\n",
       "\n",
       "    .dataframe tbody tr th {\n",
       "        vertical-align: top;\n",
       "    }\n",
       "\n",
       "    .dataframe thead th {\n",
       "        text-align: right;\n",
       "    }\n",
       "</style>\n",
       "<table border=\"1\" class=\"dataframe\">\n",
       "  <thead>\n",
       "    <tr style=\"text-align: right;\">\n",
       "      <th></th>\n",
       "      <th>detail_id</th>\n",
       "      <th>transaction_id</th>\n",
       "      <th>item_id</th>\n",
       "      <th>quantity</th>\n",
       "      <th>item_name</th>\n",
       "      <th>item_price</th>\n",
       "    </tr>\n",
       "  </thead>\n",
       "  <tbody>\n",
       "    <tr>\n",
       "      <td>0</td>\n",
       "      <td>0</td>\n",
       "      <td>T0000000113</td>\n",
       "      <td>S005</td>\n",
       "      <td>1</td>\n",
       "      <td>PC-E</td>\n",
       "      <td>210000</td>\n",
       "    </tr>\n",
       "    <tr>\n",
       "      <td>...</td>\n",
       "      <td>...</td>\n",
       "      <td>...</td>\n",
       "      <td>...</td>\n",
       "      <td>...</td>\n",
       "      <td>...</td>\n",
       "      <td>...</td>\n",
       "    </tr>\n",
       "    <tr>\n",
       "      <td>7143</td>\n",
       "      <td>7143</td>\n",
       "      <td>T0000006898</td>\n",
       "      <td>S002</td>\n",
       "      <td>1</td>\n",
       "      <td>PC-B</td>\n",
       "      <td>85000</td>\n",
       "    </tr>\n",
       "  </tbody>\n",
       "</table>\n",
       "<p>7144 rows × 6 columns</p>\n",
       "</div>"
      ],
      "text/plain": [
       "      detail_id transaction_id item_id  quantity item_name  item_price\n",
       "0             0    T0000000113    S005         1      PC-E      210000\n",
       "...         ...            ...     ...       ...       ...         ...\n",
       "7143       7143    T0000006898    S002         1      PC-B       85000\n",
       "\n",
       "[7144 rows x 6 columns]"
      ]
     },
     "execution_count": 192,
     "metadata": {},
     "output_type": "execute_result"
    }
   ],
   "source": [
    "#transaction_detailの「item_id」を主軸としてitem_masterを結合する\n",
    "join_data1 = pd.merge(transaction_detail,item_master,on='item_id',how='left')\n",
    "join_data1"
   ]
  },
  {
   "cell_type": "code",
   "execution_count": 193,
   "metadata": {},
   "outputs": [
    {
     "name": "stdout",
     "output_type": "stream",
     "text": [
      "7144\n",
      "5\n",
      "7144\n"
     ]
    }
   ],
   "source": [
    "#結合後に件数を確認する\n",
    "print(len(transaction_detail))\n",
    "print(len(item_master))\n",
    "print(len(join_data1))"
   ]
  },
  {
   "cell_type": "code",
   "execution_count": 194,
   "metadata": {},
   "outputs": [
    {
     "data": {
      "text/html": [
       "<div>\n",
       "<style scoped>\n",
       "    .dataframe tbody tr th:only-of-type {\n",
       "        vertical-align: middle;\n",
       "    }\n",
       "\n",
       "    .dataframe tbody tr th {\n",
       "        vertical-align: top;\n",
       "    }\n",
       "\n",
       "    .dataframe thead th {\n",
       "        text-align: right;\n",
       "    }\n",
       "</style>\n",
       "<table border=\"1\" class=\"dataframe\">\n",
       "  <thead>\n",
       "    <tr style=\"text-align: right;\">\n",
       "      <th></th>\n",
       "      <th>detail_id</th>\n",
       "      <th>transaction_id</th>\n",
       "      <th>item_id</th>\n",
       "      <th>quantity</th>\n",
       "      <th>item_name</th>\n",
       "      <th>item_price</th>\n",
       "      <th>price</th>\n",
       "      <th>payment_date</th>\n",
       "      <th>customer_id</th>\n",
       "    </tr>\n",
       "  </thead>\n",
       "  <tbody>\n",
       "    <tr>\n",
       "      <td>0</td>\n",
       "      <td>0</td>\n",
       "      <td>T0000000113</td>\n",
       "      <td>S005</td>\n",
       "      <td>1</td>\n",
       "      <td>PC-E</td>\n",
       "      <td>210000</td>\n",
       "      <td>210000</td>\n",
       "      <td>2019-02-01 01:36:57</td>\n",
       "      <td>PL563502</td>\n",
       "    </tr>\n",
       "    <tr>\n",
       "      <td>...</td>\n",
       "      <td>...</td>\n",
       "      <td>...</td>\n",
       "      <td>...</td>\n",
       "      <td>...</td>\n",
       "      <td>...</td>\n",
       "      <td>...</td>\n",
       "      <td>...</td>\n",
       "      <td>...</td>\n",
       "      <td>...</td>\n",
       "    </tr>\n",
       "    <tr>\n",
       "      <td>7143</td>\n",
       "      <td>7143</td>\n",
       "      <td>T0000006898</td>\n",
       "      <td>S002</td>\n",
       "      <td>1</td>\n",
       "      <td>PC-B</td>\n",
       "      <td>85000</td>\n",
       "      <td>85000</td>\n",
       "      <td>2019-07-31 23:41:38</td>\n",
       "      <td>AS834214</td>\n",
       "    </tr>\n",
       "  </tbody>\n",
       "</table>\n",
       "<p>7144 rows × 9 columns</p>\n",
       "</div>"
      ],
      "text/plain": [
       "      detail_id transaction_id item_id  quantity item_name  item_price  \\\n",
       "0             0    T0000000113    S005         1      PC-E      210000   \n",
       "...         ...            ...     ...       ...       ...         ...   \n",
       "7143       7143    T0000006898    S002         1      PC-B       85000   \n",
       "\n",
       "       price         payment_date customer_id  \n",
       "0     210000  2019-02-01 01:36:57    PL563502  \n",
       "...      ...                  ...         ...  \n",
       "7143   85000  2019-07-31 23:41:38    AS834214  \n",
       "\n",
       "[7144 rows x 9 columns]"
      ]
     },
     "execution_count": 194,
     "metadata": {},
     "output_type": "execute_result"
    }
   ],
   "source": [
    "#さきほど結合して作成したjoin_data1の「transaction_id」を主軸にtransactionを結合する\n",
    "join_data2 = pd.merge(join_data1,transaction,on='transaction_id',how='left')\n",
    "join_data2"
   ]
  },
  {
   "cell_type": "code",
   "execution_count": 195,
   "metadata": {},
   "outputs": [
    {
     "name": "stdout",
     "output_type": "stream",
     "text": [
      "6786\n",
      "7144\n"
     ]
    }
   ],
   "source": [
    "#結合後に件数を確認する\n",
    "print(len(transaction))\n",
    "print(len(join_data2))"
   ]
  },
  {
   "cell_type": "markdown",
   "metadata": {},
   "source": [
    "### 件数が増えている（要注意）"
   ]
  },
  {
   "cell_type": "code",
   "execution_count": 196,
   "metadata": {},
   "outputs": [
    {
     "data": {
      "text/html": [
       "<div>\n",
       "<style scoped>\n",
       "    .dataframe tbody tr th:only-of-type {\n",
       "        vertical-align: middle;\n",
       "    }\n",
       "\n",
       "    .dataframe tbody tr th {\n",
       "        vertical-align: top;\n",
       "    }\n",
       "\n",
       "    .dataframe thead th {\n",
       "        text-align: right;\n",
       "    }\n",
       "</style>\n",
       "<table border=\"1\" class=\"dataframe\">\n",
       "  <thead>\n",
       "    <tr style=\"text-align: right;\">\n",
       "      <th></th>\n",
       "      <th>detail_id</th>\n",
       "      <th>transaction_id</th>\n",
       "      <th>item_id</th>\n",
       "      <th>quantity</th>\n",
       "      <th>item_name</th>\n",
       "      <th>item_price</th>\n",
       "      <th>price</th>\n",
       "      <th>payment_date</th>\n",
       "      <th>customer_id</th>\n",
       "      <th>customer_name</th>\n",
       "      <th>registration_date</th>\n",
       "      <th>customer_name_kana</th>\n",
       "      <th>email</th>\n",
       "      <th>gender</th>\n",
       "      <th>age</th>\n",
       "      <th>birth</th>\n",
       "      <th>pref</th>\n",
       "    </tr>\n",
       "  </thead>\n",
       "  <tbody>\n",
       "    <tr>\n",
       "      <td>0</td>\n",
       "      <td>0</td>\n",
       "      <td>T0000000113</td>\n",
       "      <td>S005</td>\n",
       "      <td>1</td>\n",
       "      <td>PC-E</td>\n",
       "      <td>210000</td>\n",
       "      <td>210000</td>\n",
       "      <td>2019-02-01 01:36:57</td>\n",
       "      <td>PL563502</td>\n",
       "      <td>井本 芳正</td>\n",
       "      <td>2019-01-07 14:34:35</td>\n",
       "      <td>いもと よしまさ</td>\n",
       "      <td>imoto_yoshimasa@example.com</td>\n",
       "      <td>M</td>\n",
       "      <td>30</td>\n",
       "      <td>1989/7/15</td>\n",
       "      <td>熊本県</td>\n",
       "    </tr>\n",
       "    <tr>\n",
       "      <td>...</td>\n",
       "      <td>...</td>\n",
       "      <td>...</td>\n",
       "      <td>...</td>\n",
       "      <td>...</td>\n",
       "      <td>...</td>\n",
       "      <td>...</td>\n",
       "      <td>...</td>\n",
       "      <td>...</td>\n",
       "      <td>...</td>\n",
       "      <td>...</td>\n",
       "      <td>...</td>\n",
       "      <td>...</td>\n",
       "      <td>...</td>\n",
       "      <td>...</td>\n",
       "      <td>...</td>\n",
       "      <td>...</td>\n",
       "      <td>...</td>\n",
       "    </tr>\n",
       "    <tr>\n",
       "      <td>7143</td>\n",
       "      <td>7143</td>\n",
       "      <td>T0000006898</td>\n",
       "      <td>S002</td>\n",
       "      <td>1</td>\n",
       "      <td>PC-B</td>\n",
       "      <td>85000</td>\n",
       "      <td>85000</td>\n",
       "      <td>2019-07-31 23:41:38</td>\n",
       "      <td>AS834214</td>\n",
       "      <td>田原 結子</td>\n",
       "      <td>2019-04-07 03:20:19</td>\n",
       "      <td>たはら ゆうこ</td>\n",
       "      <td>tahara_yuuko@example.com</td>\n",
       "      <td>F</td>\n",
       "      <td>74</td>\n",
       "      <td>1944/12/18</td>\n",
       "      <td>愛知県</td>\n",
       "    </tr>\n",
       "  </tbody>\n",
       "</table>\n",
       "<p>7144 rows × 17 columns</p>\n",
       "</div>"
      ],
      "text/plain": [
       "      detail_id transaction_id item_id  quantity item_name  item_price  \\\n",
       "0             0    T0000000113    S005         1      PC-E      210000   \n",
       "...         ...            ...     ...       ...       ...         ...   \n",
       "7143       7143    T0000006898    S002         1      PC-B       85000   \n",
       "\n",
       "       price         payment_date customer_id customer_name  \\\n",
       "0     210000  2019-02-01 01:36:57    PL563502         井本 芳正   \n",
       "...      ...                  ...         ...           ...   \n",
       "7143   85000  2019-07-31 23:41:38    AS834214         田原 結子   \n",
       "\n",
       "        registration_date customer_name_kana                        email  \\\n",
       "0     2019-01-07 14:34:35           いもと よしまさ  imoto_yoshimasa@example.com   \n",
       "...                   ...                ...                          ...   \n",
       "7143  2019-04-07 03:20:19            たはら ゆうこ     tahara_yuuko@example.com   \n",
       "\n",
       "     gender  age       birth pref  \n",
       "0         M   30   1989/7/15  熊本県  \n",
       "...     ...  ...         ...  ...  \n",
       "7143      F   74  1944/12/18  愛知県  \n",
       "\n",
       "[7144 rows x 17 columns]"
      ]
     },
     "execution_count": 196,
     "metadata": {},
     "output_type": "execute_result"
    }
   ],
   "source": [
    "#さきほど結合して作成したjoin_data2の「customer_id」を主軸にcustomer_masterを結合する\n",
    "join_data3 = pd.merge(join_data2,customer_master,on='customer_id', how='left')\n",
    "join_data3"
   ]
  },
  {
   "cell_type": "code",
   "execution_count": 197,
   "metadata": {},
   "outputs": [
    {
     "name": "stdout",
     "output_type": "stream",
     "text": [
      "5000\n",
      "7144\n"
     ]
    }
   ],
   "source": [
    "#結合後に件数を確認する\n",
    "print(len(customer_master))\n",
    "print(len(join_data3))"
   ]
  },
  {
   "cell_type": "markdown",
   "metadata": {},
   "source": [
    "### 件数が増えている"
   ]
  },
  {
   "cell_type": "markdown",
   "metadata": {},
   "source": [
    "<div style='padding: 10px; margin-bottom: 10px; border: 1px dashed #333333;'>\n",
    "データを結合する度に件数の確認を行うこと！！\n",
    "</div>"
   ]
  },
  {
   "cell_type": "markdown",
   "metadata": {},
   "source": [
    "---"
   ]
  },
  {
   "cell_type": "markdown",
   "metadata": {},
   "source": [
    "## ステップ3 データ検算を行う\n",
    "- データ加工前のtransactionデータにおけるpriceの合計値と、データ加工後のjoin_data3のpriceの合計値は同じ値になると思う、、、"
   ]
  },
  {
   "cell_type": "code",
   "execution_count": 198,
   "metadata": {},
   "outputs": [
    {
     "data": {
      "text/html": [
       "<div>\n",
       "<style scoped>\n",
       "    .dataframe tbody tr th:only-of-type {\n",
       "        vertical-align: middle;\n",
       "    }\n",
       "\n",
       "    .dataframe tbody tr th {\n",
       "        vertical-align: top;\n",
       "    }\n",
       "\n",
       "    .dataframe thead th {\n",
       "        text-align: right;\n",
       "    }\n",
       "</style>\n",
       "<table border=\"1\" class=\"dataframe\">\n",
       "  <thead>\n",
       "    <tr style=\"text-align: right;\">\n",
       "      <th></th>\n",
       "      <th>detail_id</th>\n",
       "      <th>transaction_id</th>\n",
       "      <th>item_id</th>\n",
       "      <th>quantity</th>\n",
       "      <th>item_name</th>\n",
       "      <th>item_price</th>\n",
       "      <th>price</th>\n",
       "      <th>payment_date</th>\n",
       "      <th>customer_id</th>\n",
       "      <th>customer_name</th>\n",
       "      <th>registration_date</th>\n",
       "      <th>customer_name_kana</th>\n",
       "      <th>email</th>\n",
       "      <th>gender</th>\n",
       "      <th>age</th>\n",
       "      <th>birth</th>\n",
       "      <th>pref</th>\n",
       "    </tr>\n",
       "  </thead>\n",
       "  <tbody>\n",
       "    <tr>\n",
       "      <td>100</td>\n",
       "      <td>100</td>\n",
       "      <td>T0000000211</td>\n",
       "      <td>S005</td>\n",
       "      <td>1</td>\n",
       "      <td>PC-E</td>\n",
       "      <td>210000</td>\n",
       "      <td>210000</td>\n",
       "      <td>2019-02-04 02:22:39</td>\n",
       "      <td>HI364290</td>\n",
       "      <td>小松 さやか</td>\n",
       "      <td>2019-01-06 19:46:38</td>\n",
       "      <td>こまつ さやか</td>\n",
       "      <td>komatsu_sayaka@example.com</td>\n",
       "      <td>F</td>\n",
       "      <td>54</td>\n",
       "      <td>1964/8/13</td>\n",
       "      <td>栃木県</td>\n",
       "    </tr>\n",
       "    <tr>\n",
       "      <td>...</td>\n",
       "      <td>...</td>\n",
       "      <td>...</td>\n",
       "      <td>...</td>\n",
       "      <td>...</td>\n",
       "      <td>...</td>\n",
       "      <td>...</td>\n",
       "      <td>...</td>\n",
       "      <td>...</td>\n",
       "      <td>...</td>\n",
       "      <td>...</td>\n",
       "      <td>...</td>\n",
       "      <td>...</td>\n",
       "      <td>...</td>\n",
       "      <td>...</td>\n",
       "      <td>...</td>\n",
       "      <td>...</td>\n",
       "      <td>...</td>\n",
       "    </tr>\n",
       "    <tr>\n",
       "      <td>200</td>\n",
       "      <td>200</td>\n",
       "      <td>T0000000307</td>\n",
       "      <td>S001</td>\n",
       "      <td>1</td>\n",
       "      <td>PC-A</td>\n",
       "      <td>50000</td>\n",
       "      <td>50000</td>\n",
       "      <td>2019-02-06 12:51:08</td>\n",
       "      <td>GD288833</td>\n",
       "      <td>深沢 大</td>\n",
       "      <td>2019-01-15 20:40:37</td>\n",
       "      <td>ふかざわ まさる</td>\n",
       "      <td>fukazawa_masaru@example.com</td>\n",
       "      <td>M</td>\n",
       "      <td>30</td>\n",
       "      <td>1989/7/10</td>\n",
       "      <td>愛知県</td>\n",
       "    </tr>\n",
       "  </tbody>\n",
       "</table>\n",
       "<p>101 rows × 17 columns</p>\n",
       "</div>"
      ],
      "text/plain": [
       "     detail_id transaction_id item_id  quantity item_name  item_price   price  \\\n",
       "100        100    T0000000211    S005         1      PC-E      210000  210000   \n",
       "..         ...            ...     ...       ...       ...         ...     ...   \n",
       "200        200    T0000000307    S001         1      PC-A       50000   50000   \n",
       "\n",
       "            payment_date customer_id customer_name    registration_date  \\\n",
       "100  2019-02-04 02:22:39    HI364290        小松 さやか  2019-01-06 19:46:38   \n",
       "..                   ...         ...           ...                  ...   \n",
       "200  2019-02-06 12:51:08    GD288833          深沢 大  2019-01-15 20:40:37   \n",
       "\n",
       "    customer_name_kana                        email gender  age      birth  \\\n",
       "100            こまつ さやか   komatsu_sayaka@example.com      F   54  1964/8/13   \n",
       "..                 ...                          ...    ...  ...        ...   \n",
       "200           ふかざわ まさる  fukazawa_masaru@example.com      M   30  1989/7/10   \n",
       "\n",
       "    pref  \n",
       "100  栃木県  \n",
       "..   ...  \n",
       "200  愛知県  \n",
       "\n",
       "[101 rows x 17 columns]"
      ]
     },
     "execution_count": 198,
     "metadata": {},
     "output_type": "execute_result"
    }
   ],
   "source": [
    "join_data3.loc[100:200]"
   ]
  },
  {
   "cell_type": "code",
   "execution_count": 199,
   "metadata": {},
   "outputs": [
    {
     "name": "stdout",
     "output_type": "stream",
     "text": [
      "1074750000\n",
      "971135000\n",
      "971135000\n"
     ]
    }
   ],
   "source": [
    "print(join_data3['price'].sum())\n",
    "print(transaction['price'].sum())\n",
    "print((join_data3['item_price']*join_data3['quantity']).sum()) #join_data3のitem_price x quantity"
   ]
  },
  {
   "cell_type": "markdown",
   "metadata": {},
   "source": [
    "### 計算が合わない！！！"
   ]
  },
  {
   "cell_type": "code",
   "execution_count": 200,
   "metadata": {},
   "outputs": [
    {
     "data": {
      "text/html": [
       "<div>\n",
       "<style scoped>\n",
       "    .dataframe tbody tr th:only-of-type {\n",
       "        vertical-align: middle;\n",
       "    }\n",
       "\n",
       "    .dataframe tbody tr th {\n",
       "        vertical-align: top;\n",
       "    }\n",
       "\n",
       "    .dataframe thead th {\n",
       "        text-align: right;\n",
       "    }\n",
       "</style>\n",
       "<table border=\"1\" class=\"dataframe\">\n",
       "  <thead>\n",
       "    <tr style=\"text-align: right;\">\n",
       "      <th></th>\n",
       "      <th>detail_id</th>\n",
       "      <th>transaction_id</th>\n",
       "      <th>item_id</th>\n",
       "      <th>quantity</th>\n",
       "      <th>item_name</th>\n",
       "      <th>item_price</th>\n",
       "      <th>payment_date</th>\n",
       "      <th>customer_id</th>\n",
       "      <th>customer_name</th>\n",
       "      <th>registration_date</th>\n",
       "      <th>customer_name_kana</th>\n",
       "      <th>email</th>\n",
       "      <th>gender</th>\n",
       "      <th>age</th>\n",
       "      <th>birth</th>\n",
       "      <th>pref</th>\n",
       "    </tr>\n",
       "  </thead>\n",
       "  <tbody>\n",
       "    <tr>\n",
       "      <td>0</td>\n",
       "      <td>0</td>\n",
       "      <td>T0000000113</td>\n",
       "      <td>S005</td>\n",
       "      <td>1</td>\n",
       "      <td>PC-E</td>\n",
       "      <td>210000</td>\n",
       "      <td>2019-02-01 01:36:57</td>\n",
       "      <td>PL563502</td>\n",
       "      <td>井本 芳正</td>\n",
       "      <td>2019-01-07 14:34:35</td>\n",
       "      <td>いもと よしまさ</td>\n",
       "      <td>imoto_yoshimasa@example.com</td>\n",
       "      <td>M</td>\n",
       "      <td>30</td>\n",
       "      <td>1989/7/15</td>\n",
       "      <td>熊本県</td>\n",
       "    </tr>\n",
       "    <tr>\n",
       "      <td>...</td>\n",
       "      <td>...</td>\n",
       "      <td>...</td>\n",
       "      <td>...</td>\n",
       "      <td>...</td>\n",
       "      <td>...</td>\n",
       "      <td>...</td>\n",
       "      <td>...</td>\n",
       "      <td>...</td>\n",
       "      <td>...</td>\n",
       "      <td>...</td>\n",
       "      <td>...</td>\n",
       "      <td>...</td>\n",
       "      <td>...</td>\n",
       "      <td>...</td>\n",
       "      <td>...</td>\n",
       "      <td>...</td>\n",
       "    </tr>\n",
       "    <tr>\n",
       "      <td>4</td>\n",
       "      <td>4</td>\n",
       "      <td>T0000000117</td>\n",
       "      <td>S002</td>\n",
       "      <td>2</td>\n",
       "      <td>PC-B</td>\n",
       "      <td>85000</td>\n",
       "      <td>2019-02-01 04:33:46</td>\n",
       "      <td>PL542865</td>\n",
       "      <td>栗田 憲一</td>\n",
       "      <td>2019-01-25 06:46:05</td>\n",
       "      <td>くりた けんいち</td>\n",
       "      <td>kurita_kenichi@example.com</td>\n",
       "      <td>M</td>\n",
       "      <td>74</td>\n",
       "      <td>1944/12/17</td>\n",
       "      <td>長崎県</td>\n",
       "    </tr>\n",
       "  </tbody>\n",
       "</table>\n",
       "<p>5 rows × 16 columns</p>\n",
       "</div>"
      ],
      "text/plain": [
       "    detail_id transaction_id item_id  quantity item_name  item_price  \\\n",
       "0           0    T0000000113    S005         1      PC-E      210000   \n",
       "..        ...            ...     ...       ...       ...         ...   \n",
       "4           4    T0000000117    S002         2      PC-B       85000   \n",
       "\n",
       "           payment_date customer_id customer_name    registration_date  \\\n",
       "0   2019-02-01 01:36:57    PL563502         井本 芳正  2019-01-07 14:34:35   \n",
       "..                  ...         ...           ...                  ...   \n",
       "4   2019-02-01 04:33:46    PL542865         栗田 憲一  2019-01-25 06:46:05   \n",
       "\n",
       "   customer_name_kana                        email gender  age       birth  \\\n",
       "0            いもと よしまさ  imoto_yoshimasa@example.com      M   30   1989/7/15   \n",
       "..                ...                          ...    ...  ...         ...   \n",
       "4            くりた けんいち   kurita_kenichi@example.com      M   74  1944/12/17   \n",
       "\n",
       "   pref  \n",
       "0   熊本県  \n",
       "..  ...  \n",
       "4   長崎県  \n",
       "\n",
       "[5 rows x 16 columns]"
      ]
     },
     "execution_count": 200,
     "metadata": {},
     "output_type": "execute_result"
    }
   ],
   "source": [
    "#price列を削除する　drop\n",
    "join_data_comp = join_data3.drop('price', axis=1)\n",
    "join_data_comp.head()"
   ]
  },
  {
   "cell_type": "code",
   "execution_count": 201,
   "metadata": {},
   "outputs": [
    {
     "data": {
      "text/html": [
       "<div>\n",
       "<style scoped>\n",
       "    .dataframe tbody tr th:only-of-type {\n",
       "        vertical-align: middle;\n",
       "    }\n",
       "\n",
       "    .dataframe tbody tr th {\n",
       "        vertical-align: top;\n",
       "    }\n",
       "\n",
       "    .dataframe thead th {\n",
       "        text-align: right;\n",
       "    }\n",
       "</style>\n",
       "<table border=\"1\" class=\"dataframe\">\n",
       "  <thead>\n",
       "    <tr style=\"text-align: right;\">\n",
       "      <th></th>\n",
       "      <th>quantity</th>\n",
       "      <th>item_price</th>\n",
       "      <th>price</th>\n",
       "    </tr>\n",
       "  </thead>\n",
       "  <tbody>\n",
       "    <tr>\n",
       "      <td>10</td>\n",
       "      <td>1</td>\n",
       "      <td>50000</td>\n",
       "      <td>50000</td>\n",
       "    </tr>\n",
       "    <tr>\n",
       "      <td>...</td>\n",
       "      <td>...</td>\n",
       "      <td>...</td>\n",
       "      <td>...</td>\n",
       "    </tr>\n",
       "    <tr>\n",
       "      <td>30</td>\n",
       "      <td>1</td>\n",
       "      <td>85000</td>\n",
       "      <td>85000</td>\n",
       "    </tr>\n",
       "  </tbody>\n",
       "</table>\n",
       "<p>21 rows × 3 columns</p>\n",
       "</div>"
      ],
      "text/plain": [
       "    quantity  item_price  price\n",
       "10         1       50000  50000\n",
       "..       ...         ...    ...\n",
       "30         1       85000  85000\n",
       "\n",
       "[21 rows x 3 columns]"
      ]
     },
     "execution_count": 201,
     "metadata": {},
     "output_type": "execute_result"
    }
   ],
   "source": [
    "join_data_comp['price'] = join_data_comp['item_price'] * join_data_comp['quantity']\n",
    "join_data_comp[['quantity','item_price','price']].loc[10:30] #データの一部を表示し、ただしく計算されていることを確認"
   ]
  },
  {
   "cell_type": "markdown",
   "metadata": {},
   "source": [
    "---"
   ]
  },
  {
   "cell_type": "markdown",
   "metadata": {},
   "source": [
    "## ステップ4　各種統計量を把握する\n",
    "- データ分析を進めていく上で、まずは2つの情報を知る必要がある。\n",
    " - 4-1：欠損値の確認\n",
    " - 4−2：全体の数字感をつかむ\n",
    " - 4-3：時系列変化をみる\n",
    " - 4-4：グラフで可視化する"
   ]
  },
  {
   "cell_type": "markdown",
   "metadata": {},
   "source": [
    "**4-1：欠損値の確認**"
   ]
  },
  {
   "cell_type": "code",
   "execution_count": 202,
   "metadata": {},
   "outputs": [
    {
     "data": {
      "text/plain": [
       "detail_id    0\n",
       "            ..\n",
       "price        0\n",
       "Length: 17, dtype: int64"
      ]
     },
     "execution_count": 202,
     "metadata": {},
     "output_type": "execute_result"
    }
   ],
   "source": [
    "#isnull()を用いると欠損値をTrueとし、sum()でその数をカウント\n",
    "#欠損値の数は0であることが確認できる\n",
    "join_data_comp.isnull().sum()"
   ]
  },
  {
   "cell_type": "markdown",
   "metadata": {},
   "source": [
    "**4-2：全体の数字感をつかむ**"
   ]
  },
  {
   "cell_type": "code",
   "execution_count": 203,
   "metadata": {},
   "outputs": [
    {
     "data": {
      "text/html": [
       "<div>\n",
       "<style scoped>\n",
       "    .dataframe tbody tr th:only-of-type {\n",
       "        vertical-align: middle;\n",
       "    }\n",
       "\n",
       "    .dataframe tbody tr th {\n",
       "        vertical-align: top;\n",
       "    }\n",
       "\n",
       "    .dataframe thead th {\n",
       "        text-align: right;\n",
       "    }\n",
       "</style>\n",
       "<table border=\"1\" class=\"dataframe\">\n",
       "  <thead>\n",
       "    <tr style=\"text-align: right;\">\n",
       "      <th></th>\n",
       "      <th>detail_id</th>\n",
       "      <th>quantity</th>\n",
       "      <th>item_price</th>\n",
       "      <th>age</th>\n",
       "      <th>price</th>\n",
       "    </tr>\n",
       "  </thead>\n",
       "  <tbody>\n",
       "    <tr>\n",
       "      <td>count</td>\n",
       "      <td>7144.0</td>\n",
       "      <td>7144.0</td>\n",
       "      <td>7144.0</td>\n",
       "      <td>7144.0</td>\n",
       "      <td>7144.0</td>\n",
       "    </tr>\n",
       "    <tr>\n",
       "      <td>...</td>\n",
       "      <td>...</td>\n",
       "      <td>...</td>\n",
       "      <td>...</td>\n",
       "      <td>...</td>\n",
       "      <td>...</td>\n",
       "    </tr>\n",
       "    <tr>\n",
       "      <td>max</td>\n",
       "      <td>7143.0</td>\n",
       "      <td>4.0</td>\n",
       "      <td>210000.0</td>\n",
       "      <td>80.0</td>\n",
       "      <td>420000.0</td>\n",
       "    </tr>\n",
       "  </tbody>\n",
       "</table>\n",
       "<p>8 rows × 5 columns</p>\n",
       "</div>"
      ],
      "text/plain": [
       "       detail_id  quantity  item_price     age     price\n",
       "count     7144.0    7144.0      7144.0  7144.0    7144.0\n",
       "...          ...       ...         ...     ...       ...\n",
       "max       7143.0       4.0    210000.0    80.0  420000.0\n",
       "\n",
       "[8 rows x 5 columns]"
      ]
     },
     "execution_count": 203,
     "metadata": {},
     "output_type": "execute_result"
    }
   ],
   "source": [
    "#join_data_comp.describe(include='all')\n",
    "join_data_comp.describe()\n",
    "#priceの平均値(mean)から平均13万円ぐらい購入していることが分かる。最高は42万円\n",
    "#quantityから75％数でも1なので、ほとんどの顧客が商品を1つだけで購入していることが分かる。\n",
    "#ageから顧客が20歳から80歳までの幅広い範囲であることが分かる"
   ]
  },
  {
   "cell_type": "markdown",
   "metadata": {},
   "source": [
    "<div style='padding: 10px; margin-bottom: 10px; border: 1px dashed #333333;'>\n",
    "コラム<br>\n",
    "「四分位数（しぶんいすう）」とはデータを小さい順に並び替えたときに、データの数で4等分した時の区切り値。4等分すると3つの区切りの値が得られ、小さいほうから<br>\n",
    "    「25パーセンタイル」<br>\n",
    "    「50パーセンタイル」<br>\n",
    "    「75パーセンタイル」とよぶ。<br>\n",
    "</div>"
   ]
  },
  {
   "cell_type": "code",
   "execution_count": 204,
   "metadata": {},
   "outputs": [
    {
     "name": "stdout",
     "output_type": "stream",
     "text": [
      "971,135,000\n"
     ]
    }
   ],
   "source": [
    "#売上合計金額を3桁区切りで分かりやすく表示してみる\n",
    "#join_data_comp['price'].sum())\n",
    "print('{:,d}'.format(join_data_comp['price'].sum()))"
   ]
  },
  {
   "cell_type": "markdown",
   "metadata": {},
   "source": [
    "**4-3：時系列変化を見る**"
   ]
  },
  {
   "cell_type": "code",
   "execution_count": 205,
   "metadata": {},
   "outputs": [
    {
     "data": {
      "text/plain": [
       "detail_id    int64\n",
       "             ...  \n",
       "price        int64\n",
       "Length: 17, dtype: object"
      ]
     },
     "execution_count": 205,
     "metadata": {},
     "output_type": "execute_result"
    }
   ],
   "source": [
    "join_data_comp.dtypes"
   ]
  },
  {
   "cell_type": "markdown",
   "metadata": {},
   "source": [
    "### payment_dateが日付時刻型になっていないのでこのままでは月別に集計できない"
   ]
  },
  {
   "cell_type": "code",
   "execution_count": 206,
   "metadata": {},
   "outputs": [
    {
     "data": {
      "text/plain": [
       "detail_id    int64\n",
       "             ...  \n",
       "price        int64\n",
       "Length: 17, dtype: object"
      ]
     },
     "execution_count": 206,
     "metadata": {},
     "output_type": "execute_result"
    }
   ],
   "source": [
    "#payment_dateを日付時刻型に変換する\n",
    "join_data_comp['payment_date'] = pd.to_datetime(join_data_comp['payment_date'])\n",
    "join_data_comp.dtypes"
   ]
  },
  {
   "cell_type": "code",
   "execution_count": 207,
   "metadata": {},
   "outputs": [
    {
     "data": {
      "text/html": [
       "<div>\n",
       "<style scoped>\n",
       "    .dataframe tbody tr th:only-of-type {\n",
       "        vertical-align: middle;\n",
       "    }\n",
       "\n",
       "    .dataframe tbody tr th {\n",
       "        vertical-align: top;\n",
       "    }\n",
       "\n",
       "    .dataframe thead th {\n",
       "        text-align: right;\n",
       "    }\n",
       "</style>\n",
       "<table border=\"1\" class=\"dataframe\">\n",
       "  <thead>\n",
       "    <tr style=\"text-align: right;\">\n",
       "      <th></th>\n",
       "      <th>payment_date</th>\n",
       "      <th>payment_month</th>\n",
       "    </tr>\n",
       "  </thead>\n",
       "  <tbody>\n",
       "    <tr>\n",
       "      <td>0</td>\n",
       "      <td>2019-02-01 01:36:57</td>\n",
       "      <td>2019/02</td>\n",
       "    </tr>\n",
       "    <tr>\n",
       "      <td>...</td>\n",
       "      <td>...</td>\n",
       "      <td>...</td>\n",
       "    </tr>\n",
       "    <tr>\n",
       "      <td>4</td>\n",
       "      <td>2019-02-01 04:33:46</td>\n",
       "      <td>2019/02</td>\n",
       "    </tr>\n",
       "  </tbody>\n",
       "</table>\n",
       "<p>5 rows × 2 columns</p>\n",
       "</div>"
      ],
      "text/plain": [
       "          payment_date payment_month\n",
       "0  2019-02-01 01:36:57       2019/02\n",
       "..                 ...           ...\n",
       "4  2019-02-01 04:33:46       2019/02\n",
       "\n",
       "[5 rows x 2 columns]"
      ]
     },
     "execution_count": 207,
     "metadata": {},
     "output_type": "execute_result"
    }
   ],
   "source": [
    "#payment_dateの表示を2019/01のような表記に変える\n",
    "join_data_comp['payment_month'] = join_data_comp['payment_date'].dt.strftime('%Y/%m')\n",
    "#payment_dateとpayment_monthの列データに対して先頭部分だけを表示\n",
    "join_data_comp[['payment_date','payment_month']].head()"
   ]
  },
  {
   "cell_type": "code",
   "execution_count": 208,
   "metadata": {},
   "outputs": [
    {
     "data": {
      "text/plain": [
       "payment_month\n",
       "2019/02    160185000\n",
       "             ...    \n",
       "2019/07    170620000\n",
       "Name: price, Length: 6, dtype: int64"
      ]
     },
     "execution_count": 208,
     "metadata": {},
     "output_type": "execute_result"
    }
   ],
   "source": [
    "#月別の売上金額を表示する　＝　groupbyを用いて、payment_month列をsumで集計する\n",
    "monthly_sales = join_data_comp.groupby('payment_month').sum()['price']\n",
    "monthly_sales"
   ]
  },
  {
   "cell_type": "code",
   "execution_count": 209,
   "metadata": {},
   "outputs": [
    {
     "data": {
      "text/html": [
       "<div>\n",
       "<style scoped>\n",
       "    .dataframe tbody tr th:only-of-type {\n",
       "        vertical-align: middle;\n",
       "    }\n",
       "\n",
       "    .dataframe tbody tr th {\n",
       "        vertical-align: top;\n",
       "    }\n",
       "\n",
       "    .dataframe thead th {\n",
       "        text-align: right;\n",
       "    }\n",
       "</style>\n",
       "<table border=\"1\" class=\"dataframe\">\n",
       "  <thead>\n",
       "    <tr style=\"text-align: right;\">\n",
       "      <th></th>\n",
       "      <th></th>\n",
       "      <th>price</th>\n",
       "      <th>quantity</th>\n",
       "    </tr>\n",
       "    <tr>\n",
       "      <th>payment_month</th>\n",
       "      <th>item_name</th>\n",
       "      <th></th>\n",
       "      <th></th>\n",
       "    </tr>\n",
       "  </thead>\n",
       "  <tbody>\n",
       "    <tr>\n",
       "      <td>2019/02</td>\n",
       "      <td>PC-A</td>\n",
       "      <td>24150000</td>\n",
       "      <td>483</td>\n",
       "    </tr>\n",
       "    <tr>\n",
       "      <td>...</td>\n",
       "      <td>...</td>\n",
       "      <td>...</td>\n",
       "      <td>...</td>\n",
       "    </tr>\n",
       "    <tr>\n",
       "      <td>2019/07</td>\n",
       "      <td>PC-E</td>\n",
       "      <td>71610000</td>\n",
       "      <td>341</td>\n",
       "    </tr>\n",
       "  </tbody>\n",
       "</table>\n",
       "<p>30 rows × 2 columns</p>\n",
       "</div>"
      ],
      "text/plain": [
       "                            price  quantity\n",
       "payment_month item_name                    \n",
       "2019/02       PC-A       24150000       483\n",
       "...                           ...       ...\n",
       "2019/07       PC-E       71610000       341\n",
       "\n",
       "[30 rows x 2 columns]"
      ]
     },
     "execution_count": 209,
     "metadata": {},
     "output_type": "execute_result"
    }
   ],
   "source": [
    "#月別かつ商品別に売上金額と数量を表示する　\n",
    "monthly_sales = join_data_comp.groupby(\n",
    "    ['payment_month','item_name'] #groupbyでは、リスト型で指定することができる\n",
    ").sum()[\n",
    "    ['price','quantity'] #groupbyでは、リスト型でしてすることができる\n",
    "]\n",
    "monthly_sales"
   ]
  },
  {
   "cell_type": "markdown",
   "metadata": {},
   "source": [
    "<div style='padding: 10px; margin-bottom: 10px; border: 1px dashed #333333;'>\n",
    "コラム<br>\n",
    "pivot_table(ピボットテーブル)では、行と列を指定することができる。\n",
    "</div>"
   ]
  },
  {
   "cell_type": "code",
   "execution_count": 210,
   "metadata": {},
   "outputs": [
    {
     "data": {
      "text/html": [
       "<div>\n",
       "<style scoped>\n",
       "    .dataframe tbody tr th:only-of-type {\n",
       "        vertical-align: middle;\n",
       "    }\n",
       "\n",
       "    .dataframe tbody tr th {\n",
       "        vertical-align: top;\n",
       "    }\n",
       "\n",
       "    .dataframe thead tr th {\n",
       "        text-align: left;\n",
       "    }\n",
       "\n",
       "    .dataframe thead tr:last-of-type th {\n",
       "        text-align: right;\n",
       "    }\n",
       "</style>\n",
       "<table border=\"1\" class=\"dataframe\">\n",
       "  <thead>\n",
       "    <tr>\n",
       "      <th></th>\n",
       "      <th colspan=\"6\" halign=\"left\">price</th>\n",
       "      <th colspan=\"6\" halign=\"left\">quantity</th>\n",
       "    </tr>\n",
       "    <tr>\n",
       "      <th>payment_month</th>\n",
       "      <th>2019/02</th>\n",
       "      <th>2019/03</th>\n",
       "      <th>2019/04</th>\n",
       "      <th>2019/05</th>\n",
       "      <th>2019/06</th>\n",
       "      <th>2019/07</th>\n",
       "      <th>2019/02</th>\n",
       "      <th>2019/03</th>\n",
       "      <th>2019/04</th>\n",
       "      <th>2019/05</th>\n",
       "      <th>2019/06</th>\n",
       "      <th>2019/07</th>\n",
       "    </tr>\n",
       "    <tr>\n",
       "      <th>item_name</th>\n",
       "      <th></th>\n",
       "      <th></th>\n",
       "      <th></th>\n",
       "      <th></th>\n",
       "      <th></th>\n",
       "      <th></th>\n",
       "      <th></th>\n",
       "      <th></th>\n",
       "      <th></th>\n",
       "      <th></th>\n",
       "      <th></th>\n",
       "      <th></th>\n",
       "    </tr>\n",
       "  </thead>\n",
       "  <tbody>\n",
       "    <tr>\n",
       "      <td>PC-A</td>\n",
       "      <td>24150000</td>\n",
       "      <td>26000000</td>\n",
       "      <td>25900000</td>\n",
       "      <td>24850000</td>\n",
       "      <td>26000000</td>\n",
       "      <td>25250000</td>\n",
       "      <td>483</td>\n",
       "      <td>520</td>\n",
       "      <td>518</td>\n",
       "      <td>497</td>\n",
       "      <td>520</td>\n",
       "      <td>505</td>\n",
       "    </tr>\n",
       "    <tr>\n",
       "      <td>...</td>\n",
       "      <td>...</td>\n",
       "      <td>...</td>\n",
       "      <td>...</td>\n",
       "      <td>...</td>\n",
       "      <td>...</td>\n",
       "      <td>...</td>\n",
       "      <td>...</td>\n",
       "      <td>...</td>\n",
       "      <td>...</td>\n",
       "      <td>...</td>\n",
       "      <td>...</td>\n",
       "      <td>...</td>\n",
       "    </tr>\n",
       "    <tr>\n",
       "      <td>PC-E</td>\n",
       "      <td>59850000</td>\n",
       "      <td>64050000</td>\n",
       "      <td>64890000</td>\n",
       "      <td>58800000</td>\n",
       "      <td>63420000</td>\n",
       "      <td>71610000</td>\n",
       "      <td>285</td>\n",
       "      <td>305</td>\n",
       "      <td>309</td>\n",
       "      <td>280</td>\n",
       "      <td>302</td>\n",
       "      <td>341</td>\n",
       "    </tr>\n",
       "  </tbody>\n",
       "</table>\n",
       "<p>5 rows × 12 columns</p>\n",
       "</div>"
      ],
      "text/plain": [
       "                  price                                                    \\\n",
       "payment_month   2019/02   2019/03   2019/04   2019/05   2019/06   2019/07   \n",
       "item_name                                                                   \n",
       "PC-A           24150000  26000000  25900000  24850000  26000000  25250000   \n",
       "...                 ...       ...       ...       ...       ...       ...   \n",
       "PC-E           59850000  64050000  64890000  58800000  63420000  71610000   \n",
       "\n",
       "              quantity                                          \n",
       "payment_month  2019/02 2019/03 2019/04 2019/05 2019/06 2019/07  \n",
       "item_name                                                       \n",
       "PC-A               483     520     518     497     520     505  \n",
       "...                ...     ...     ...     ...     ...     ...  \n",
       "PC-E               285     305     309     280     302     341  \n",
       "\n",
       "[5 rows x 12 columns]"
      ]
     },
     "execution_count": 210,
     "metadata": {},
     "output_type": "execute_result"
    }
   ],
   "source": [
    "#pivot_tableを使用して行に商品別、列に月別の売上金額と数量を表示する\n",
    "pd.pivot_table(\n",
    "    join_data_comp, \n",
    "    index='item_name', \n",
    "    columns='payment_month',\n",
    "    values=[\n",
    "        'price',\n",
    "        'quantity'\n",
    "    ],\n",
    "    aggfunc='sum' #集計方法を指定する\n",
    ")"
   ]
  },
  {
   "cell_type": "markdown",
   "metadata": {},
   "source": [
    "### 数量的には最も安い価格のPC-Aが多いが、PC-Eの売上げが全体の売上げに大きな影響を与えることが分かる"
   ]
  },
  {
   "cell_type": "code",
   "execution_count": 211,
   "metadata": {},
   "outputs": [
    {
     "data": {
      "text/html": [
       "<div>\n",
       "<style scoped>\n",
       "    .dataframe tbody tr th:only-of-type {\n",
       "        vertical-align: middle;\n",
       "    }\n",
       "\n",
       "    .dataframe tbody tr th {\n",
       "        vertical-align: top;\n",
       "    }\n",
       "\n",
       "    .dataframe thead th {\n",
       "        text-align: right;\n",
       "    }\n",
       "</style>\n",
       "<table border=\"1\" class=\"dataframe\">\n",
       "  <thead>\n",
       "    <tr style=\"text-align: right;\">\n",
       "      <th>item_name</th>\n",
       "      <th>PC-A</th>\n",
       "      <th>PC-B</th>\n",
       "      <th>PC-C</th>\n",
       "      <th>PC-D</th>\n",
       "      <th>PC-E</th>\n",
       "    </tr>\n",
       "    <tr>\n",
       "      <th>payment_month</th>\n",
       "      <th></th>\n",
       "      <th></th>\n",
       "      <th></th>\n",
       "      <th></th>\n",
       "      <th></th>\n",
       "    </tr>\n",
       "  </thead>\n",
       "  <tbody>\n",
       "    <tr>\n",
       "      <td>2019/02</td>\n",
       "      <td>24150000</td>\n",
       "      <td>25245000</td>\n",
       "      <td>19800000</td>\n",
       "      <td>31140000</td>\n",
       "      <td>59850000</td>\n",
       "    </tr>\n",
       "    <tr>\n",
       "      <td>...</td>\n",
       "      <td>...</td>\n",
       "      <td>...</td>\n",
       "      <td>...</td>\n",
       "      <td>...</td>\n",
       "      <td>...</td>\n",
       "    </tr>\n",
       "    <tr>\n",
       "      <td>2019/07</td>\n",
       "      <td>25250000</td>\n",
       "      <td>28220000</td>\n",
       "      <td>19440000</td>\n",
       "      <td>26100000</td>\n",
       "      <td>71610000</td>\n",
       "    </tr>\n",
       "  </tbody>\n",
       "</table>\n",
       "<p>6 rows × 5 columns</p>\n",
       "</div>"
      ],
      "text/plain": [
       "item_name          PC-A      PC-B      PC-C      PC-D      PC-E\n",
       "payment_month                                                  \n",
       "2019/02        24150000  25245000  19800000  31140000  59850000\n",
       "...                 ...       ...       ...       ...       ...\n",
       "2019/07        25250000  28220000  19440000  26100000  71610000\n",
       "\n",
       "[6 rows x 5 columns]"
      ]
     },
     "execution_count": 211,
     "metadata": {},
     "output_type": "execute_result"
    }
   ],
   "source": [
    "#商品別の売上推移を可視化（折れ線グラフ）するための準備\n",
    "graph_data = pd.pivot_table(\n",
    "    join_data_comp, \n",
    "    index='payment_month', \n",
    "    columns='item_name',\n",
    "    values='price',\n",
    "    aggfunc='sum' #集計方法を指定する\n",
    ")\n",
    "graph_data"
   ]
  },
  {
   "cell_type": "code",
   "execution_count": 212,
   "metadata": {},
   "outputs": [
    {
     "data": {
      "image/png": "[encoded data removed]",
      "text/plain": [
       "<Figure size 432x288 with 1 Axes>"
      ]
     },
     "metadata": {
      "needs_background": "light"
     },
     "output_type": "display_data"
    }
   ],
   "source": [
    "#商品別の売上げの時系列変化を折れ線グラフで表示\n",
    "import matplotlib.pyplot as plt\n",
    "%matplotlib inline\n",
    "plt.plot(list(graph_data.index), graph_data['PC-A'], label='PC-A')\n",
    "plt.plot(list(graph_data.index), graph_data['PC-B'], label='PC-B')\n",
    "plt.plot(list(graph_data.index), graph_data['PC-C'], label='PC-C')\n",
    "plt.plot(list(graph_data.index), graph_data['PC-D'], label='PC-D')\n",
    "plt.plot(list(graph_data.index), graph_data['PC-E'], label='PC-E')\n",
    "plt.legend();"
   ]
  },
  {
   "cell_type": "markdown",
   "metadata": {},
   "source": [
    "### 一目でPC-Eが売上げを牽引している機種であることや売上げの傾向を掴むことができる\n",
    "### このような可視化を行いながら、分析を進め、現場の人に説明をしていくことが重要"
   ]
  },
  {
   "cell_type": "markdown",
   "metadata": {},
   "source": [
    "---"
   ]
  },
  {
   "cell_type": "markdown",
   "metadata": {},
   "source": [
    "# 実践データ分析　ケース2\n",
    "## 汚いデータの扱い\n",
    "### ECサイトの売上げデータ\n",
    "ある小売店の売上履歴と顧客台帳データを用いて、データ分析の素地となる「データの加工」を習得する。実際の現場データは手入力のExcel等、決して綺麗なデータではないことが多い。データの揺れや整合性の担保など、汚いデータを取り扱うデータ加工を主体に進める。\n",
    "- ステップ1：データの読込\n",
    "- ステップ2：データの揺れをみる\n",
    "- ステップ3：商品名の揺れを補正する\n",
    "- ステップ4：欠損値を補完する\n",
    "- ステップ5：顧客名の揺れも補正する\n",
    "- ステップ6：日付の揺れも補正する\n",
    "- ステップ7：顧客名を主軸に2つのデータを結合（ジョイン）する\n",
    "- ステップ8：クレンジングしたデータを俯瞰する\n",
    "- ステップ9：データ集計する"
   ]
  },
  {
   "cell_type": "markdown",
   "metadata": {},
   "source": [
    "#### ステップ1 データの読込\n",
    "- 売上げデータ（sales.csv）\n",
    "- 顧客情報（customer_info.xlsx）"
   ]
  },
  {
   "cell_type": "markdown",
   "metadata": {},
   "source": [
    "### 売上げデータ(sales.csv）を読み込む"
   ]
  },
  {
   "cell_type": "code",
   "execution_count": 213,
   "metadata": {},
   "outputs": [
    {
     "data": {
      "text/html": [
       "<div>\n",
       "<style scoped>\n",
       "    .dataframe tbody tr th:only-of-type {\n",
       "        vertical-align: middle;\n",
       "    }\n",
       "\n",
       "    .dataframe tbody tr th {\n",
       "        vertical-align: top;\n",
       "    }\n",
       "\n",
       "    .dataframe thead th {\n",
       "        text-align: right;\n",
       "    }\n",
       "</style>\n",
       "<table border=\"1\" class=\"dataframe\">\n",
       "  <thead>\n",
       "    <tr style=\"text-align: right;\">\n",
       "      <th></th>\n",
       "      <th>purchase_date</th>\n",
       "      <th>item_name</th>\n",
       "      <th>item_price</th>\n",
       "      <th>customer_name</th>\n",
       "    </tr>\n",
       "  </thead>\n",
       "  <tbody>\n",
       "    <tr>\n",
       "      <td>0</td>\n",
       "      <td>2019-06-13 18:02:34</td>\n",
       "      <td>商品A</td>\n",
       "      <td>100.0</td>\n",
       "      <td>深井菜々美</td>\n",
       "    </tr>\n",
       "    <tr>\n",
       "      <td>...</td>\n",
       "      <td>...</td>\n",
       "      <td>...</td>\n",
       "      <td>...</td>\n",
       "      <td>...</td>\n",
       "    </tr>\n",
       "    <tr>\n",
       "      <td>4</td>\n",
       "      <td>2019-04-22 03:09:35</td>\n",
       "      <td>商品a</td>\n",
       "      <td>NaN</td>\n",
       "      <td>平田鉄二</td>\n",
       "    </tr>\n",
       "  </tbody>\n",
       "</table>\n",
       "<p>5 rows × 4 columns</p>\n",
       "</div>"
      ],
      "text/plain": [
       "          purchase_date item_name  item_price customer_name\n",
       "0   2019-06-13 18:02:34       商品A       100.0         深井菜々美\n",
       "..                  ...       ...         ...           ...\n",
       "4   2019-04-22 03:09:35       商品a         NaN          平田鉄二\n",
       "\n",
       "[5 rows x 4 columns]"
      ]
     },
     "execution_count": 213,
     "metadata": {},
     "output_type": "execute_result"
    }
   ],
   "source": [
    "import pandas as pd\n",
    "sales_data = pd.read_csv('sales.csv')\n",
    "sales_data.head()\n",
    "#NaNの意味とは、「Not a Number」 、Noneとは別物"
   ]
  },
  {
   "cell_type": "markdown",
   "metadata": {},
   "source": [
    "### 顧客情報(customer_info.xlsx）を読み込む"
   ]
  },
  {
   "cell_type": "code",
   "execution_count": 214,
   "metadata": {},
   "outputs": [
    {
     "data": {
      "text/html": [
       "<div>\n",
       "<style scoped>\n",
       "    .dataframe tbody tr th:only-of-type {\n",
       "        vertical-align: middle;\n",
       "    }\n",
       "\n",
       "    .dataframe tbody tr th {\n",
       "        vertical-align: top;\n",
       "    }\n",
       "\n",
       "    .dataframe thead th {\n",
       "        text-align: right;\n",
       "    }\n",
       "</style>\n",
       "<table border=\"1\" class=\"dataframe\">\n",
       "  <thead>\n",
       "    <tr style=\"text-align: right;\">\n",
       "      <th></th>\n",
       "      <th>顧客名</th>\n",
       "      <th>かな</th>\n",
       "      <th>地域</th>\n",
       "      <th>メールアドレス</th>\n",
       "      <th>登録日</th>\n",
       "    </tr>\n",
       "  </thead>\n",
       "  <tbody>\n",
       "    <tr>\n",
       "      <td>0</td>\n",
       "      <td>須賀ひとみ</td>\n",
       "      <td>すが ひとみ</td>\n",
       "      <td>H市</td>\n",
       "      <td>suga_hitomi@example.com</td>\n",
       "      <td>2018/01/04</td>\n",
       "    </tr>\n",
       "    <tr>\n",
       "      <td>...</td>\n",
       "      <td>...</td>\n",
       "      <td>...</td>\n",
       "      <td>...</td>\n",
       "      <td>...</td>\n",
       "      <td>...</td>\n",
       "    </tr>\n",
       "    <tr>\n",
       "      <td>4</td>\n",
       "      <td>栗田 憲一</td>\n",
       "      <td>くりた けんいち</td>\n",
       "      <td>E市</td>\n",
       "      <td>kurita_kenichi@example.com</td>\n",
       "      <td>43127</td>\n",
       "    </tr>\n",
       "  </tbody>\n",
       "</table>\n",
       "<p>5 rows × 5 columns</p>\n",
       "</div>"
      ],
      "text/plain": [
       "      顧客名        かな  地域                     メールアドレス         登録日\n",
       "0   須賀ひとみ    すが ひとみ  H市     suga_hitomi@example.com  2018/01/04\n",
       "..    ...       ...  ..                         ...         ...\n",
       "4   栗田 憲一  くりた けんいち  E市  kurita_kenichi@example.com       43127\n",
       "\n",
       "[5 rows x 5 columns]"
      ]
     },
     "execution_count": 214,
     "metadata": {},
     "output_type": "execute_result"
    }
   ],
   "source": [
    "customer_data = pd.read_excel('customer_info.xlsx')\n",
    "customer_data.head()"
   ]
  },
  {
   "cell_type": "markdown",
   "metadata": {},
   "source": [
    "---"
   ]
  },
  {
   "cell_type": "markdown",
   "metadata": {},
   "source": [
    "#### ステップ2 データの揺れをみる"
   ]
  },
  {
   "cell_type": "markdown",
   "metadata": {},
   "source": [
    "### 各種データ内に存在するデータの揺れと欠損値の有無を確認する"
   ]
  },
  {
   "cell_type": "code",
   "execution_count": 229,
   "metadata": {},
   "outputs": [],
   "source": [
    "pd.set_option('display.max_rows', 2)\n",
    "#pd.set_option('display.max_rows', None)"
   ]
  },
  {
   "cell_type": "code",
   "execution_count": 230,
   "metadata": {},
   "outputs": [
    {
     "data": {
      "text/html": [
       "<div>\n",
       "<style scoped>\n",
       "    .dataframe tbody tr th:only-of-type {\n",
       "        vertical-align: middle;\n",
       "    }\n",
       "\n",
       "    .dataframe tbody tr th {\n",
       "        vertical-align: top;\n",
       "    }\n",
       "\n",
       "    .dataframe thead th {\n",
       "        text-align: right;\n",
       "    }\n",
       "</style>\n",
       "<table border=\"1\" class=\"dataframe\">\n",
       "  <thead>\n",
       "    <tr style=\"text-align: right;\">\n",
       "      <th></th>\n",
       "      <th>purchase_date</th>\n",
       "      <th>item_name</th>\n",
       "      <th>item_price</th>\n",
       "      <th>customer_name</th>\n",
       "      <th>purchase_month</th>\n",
       "    </tr>\n",
       "  </thead>\n",
       "  <tbody>\n",
       "    <tr>\n",
       "      <td>0</td>\n",
       "      <td>2019-06-13 18:02:34</td>\n",
       "      <td>商品A</td>\n",
       "      <td>100.0</td>\n",
       "      <td>深井菜々美</td>\n",
       "      <td>2019/06</td>\n",
       "    </tr>\n",
       "    <tr>\n",
       "      <td>...</td>\n",
       "      <td>...</td>\n",
       "      <td>...</td>\n",
       "      <td>...</td>\n",
       "      <td>...</td>\n",
       "      <td>...</td>\n",
       "    </tr>\n",
       "    <tr>\n",
       "      <td>2998</td>\n",
       "      <td>2019-07-21 00:31:36</td>\n",
       "      <td>商品D</td>\n",
       "      <td>400.0</td>\n",
       "      <td>石田郁恵</td>\n",
       "      <td>2019/07</td>\n",
       "    </tr>\n",
       "  </tbody>\n",
       "</table>\n",
       "<p>2999 rows × 5 columns</p>\n",
       "</div>"
      ],
      "text/plain": [
       "           purchase_date item_name  item_price customer_name purchase_month\n",
       "0    2019-06-13 18:02:34       商品A       100.0         深井菜々美        2019/06\n",
       "...                  ...       ...         ...           ...            ...\n",
       "2998 2019-07-21 00:31:36       商品D       400.0          石田郁恵        2019/07\n",
       "\n",
       "[2999 rows x 5 columns]"
      ]
     },
     "execution_count": 230,
     "metadata": {},
     "output_type": "execute_result"
    }
   ],
   "source": [
    "sales_data"
   ]
  },
  {
   "cell_type": "code",
   "execution_count": 231,
   "metadata": {},
   "outputs": [
    {
     "data": {
      "text/html": [
       "<div>\n",
       "<style scoped>\n",
       "    .dataframe tbody tr th:only-of-type {\n",
       "        vertical-align: middle;\n",
       "    }\n",
       "\n",
       "    .dataframe tbody tr th {\n",
       "        vertical-align: top;\n",
       "    }\n",
       "\n",
       "    .dataframe thead th {\n",
       "        text-align: right;\n",
       "    }\n",
       "</style>\n",
       "<table border=\"1\" class=\"dataframe\">\n",
       "  <thead>\n",
       "    <tr style=\"text-align: right;\">\n",
       "      <th></th>\n",
       "      <th>顧客名</th>\n",
       "      <th>かな</th>\n",
       "      <th>地域</th>\n",
       "      <th>メールアドレス</th>\n",
       "      <th>登録日</th>\n",
       "    </tr>\n",
       "  </thead>\n",
       "  <tbody>\n",
       "    <tr>\n",
       "      <td>0</td>\n",
       "      <td>須賀ひとみ</td>\n",
       "      <td>すが ひとみ</td>\n",
       "      <td>H市</td>\n",
       "      <td>suga_hitomi@example.com</td>\n",
       "      <td>2018/01/04</td>\n",
       "    </tr>\n",
       "    <tr>\n",
       "      <td>...</td>\n",
       "      <td>...</td>\n",
       "      <td>...</td>\n",
       "      <td>...</td>\n",
       "      <td>...</td>\n",
       "      <td>...</td>\n",
       "    </tr>\n",
       "    <tr>\n",
       "      <td>199</td>\n",
       "      <td>福井 美希</td>\n",
       "      <td>ふくい みき</td>\n",
       "      <td>D市</td>\n",
       "      <td>fukui_miki1@example.com</td>\n",
       "      <td>2019/04/23</td>\n",
       "    </tr>\n",
       "  </tbody>\n",
       "</table>\n",
       "<p>200 rows × 5 columns</p>\n",
       "</div>"
      ],
      "text/plain": [
       "       顧客名      かな  地域                  メールアドレス         登録日\n",
       "0    須賀ひとみ  すが ひとみ  H市  suga_hitomi@example.com  2018/01/04\n",
       "..     ...     ...  ..                      ...         ...\n",
       "199  福井 美希  ふくい みき  D市  fukui_miki1@example.com  2019/04/23\n",
       "\n",
       "[200 rows x 5 columns]"
      ]
     },
     "execution_count": 231,
     "metadata": {},
     "output_type": "execute_result"
    }
   ],
   "source": [
    "customer_data"
   ]
  },
  {
   "cell_type": "code",
   "execution_count": 232,
   "metadata": {},
   "outputs": [
    {
     "data": {
      "text/plain": [
       "0       商品A\n",
       "       ... \n",
       "2998    商品D\n",
       "Name: item_name, Length: 2999, dtype: object"
      ]
     },
     "execution_count": 232,
     "metadata": {},
     "output_type": "execute_result"
    }
   ],
   "source": [
    "sales_data['item_name']"
   ]
  },
  {
   "cell_type": "code",
   "execution_count": 233,
   "metadata": {},
   "outputs": [
    {
     "data": {
      "text/plain": [
       "0       100.0\n",
       "        ...  \n",
       "2998    400.0\n",
       "Name: item_price, Length: 2999, dtype: float64"
      ]
     },
     "execution_count": 233,
     "metadata": {},
     "output_type": "execute_result"
    }
   ],
   "source": [
    "sales_data['item_price']"
   ]
  },
  {
   "cell_type": "code",
   "execution_count": 234,
   "metadata": {},
   "outputs": [
    {
     "data": {
      "text/plain": [
       "0      2018/01/04\n",
       "          ...    \n",
       "199    2019/04/23\n",
       "Name: 登録日, Length: 200, dtype: object"
      ]
     },
     "execution_count": 234,
     "metadata": {},
     "output_type": "execute_result"
    }
   ],
   "source": [
    "customer_data['登録日']"
   ]
  },
  {
   "cell_type": "markdown",
   "metadata": {},
   "source": [
    "### データに揺れがあるまま集計してみる\n",
    "商品Sと商品s など、本来同じ商品が別の商品として集計されている。データの揺れがあるため、本来26個の商品が99個に増えてしまっている。"
   ]
  },
  {
   "cell_type": "code",
   "execution_count": 235,
   "metadata": {},
   "outputs": [
    {
     "data": {
      "text/html": [
       "<div>\n",
       "<style scoped>\n",
       "    .dataframe tbody tr th:only-of-type {\n",
       "        vertical-align: middle;\n",
       "    }\n",
       "\n",
       "    .dataframe tbody tr th {\n",
       "        vertical-align: top;\n",
       "    }\n",
       "\n",
       "    .dataframe thead th {\n",
       "        text-align: right;\n",
       "    }\n",
       "</style>\n",
       "<table border=\"1\" class=\"dataframe\">\n",
       "  <thead>\n",
       "    <tr style=\"text-align: right;\">\n",
       "      <th>item_name</th>\n",
       "      <th>商品A</th>\n",
       "      <th>商品B</th>\n",
       "      <th>商品C</th>\n",
       "      <th>商品D</th>\n",
       "      <th>商品E</th>\n",
       "      <th>商品F</th>\n",
       "      <th>商品G</th>\n",
       "      <th>商品H</th>\n",
       "      <th>商品I</th>\n",
       "      <th>商品J</th>\n",
       "      <th>...</th>\n",
       "      <th>商品Q</th>\n",
       "      <th>商品R</th>\n",
       "      <th>商品S</th>\n",
       "      <th>商品T</th>\n",
       "      <th>商品U</th>\n",
       "      <th>商品V</th>\n",
       "      <th>商品W</th>\n",
       "      <th>商品X</th>\n",
       "      <th>商品Y</th>\n",
       "      <th>商品Z</th>\n",
       "    </tr>\n",
       "    <tr>\n",
       "      <th>purchase_month</th>\n",
       "      <th></th>\n",
       "      <th></th>\n",
       "      <th></th>\n",
       "      <th></th>\n",
       "      <th></th>\n",
       "      <th></th>\n",
       "      <th></th>\n",
       "      <th></th>\n",
       "      <th></th>\n",
       "      <th></th>\n",
       "      <th></th>\n",
       "      <th></th>\n",
       "      <th></th>\n",
       "      <th></th>\n",
       "      <th></th>\n",
       "      <th></th>\n",
       "      <th></th>\n",
       "      <th></th>\n",
       "      <th></th>\n",
       "      <th></th>\n",
       "      <th></th>\n",
       "    </tr>\n",
       "  </thead>\n",
       "  <tbody>\n",
       "    <tr>\n",
       "      <td>2019/01</td>\n",
       "      <td>18</td>\n",
       "      <td>13</td>\n",
       "      <td>19</td>\n",
       "      <td>17</td>\n",
       "      <td>18</td>\n",
       "      <td>15</td>\n",
       "      <td>11</td>\n",
       "      <td>16</td>\n",
       "      <td>18</td>\n",
       "      <td>17</td>\n",
       "      <td>...</td>\n",
       "      <td>17</td>\n",
       "      <td>21</td>\n",
       "      <td>20</td>\n",
       "      <td>17</td>\n",
       "      <td>7</td>\n",
       "      <td>22</td>\n",
       "      <td>13</td>\n",
       "      <td>14</td>\n",
       "      <td>10</td>\n",
       "      <td>0</td>\n",
       "    </tr>\n",
       "    <tr>\n",
       "      <td>...</td>\n",
       "      <td>...</td>\n",
       "      <td>...</td>\n",
       "      <td>...</td>\n",
       "      <td>...</td>\n",
       "      <td>...</td>\n",
       "      <td>...</td>\n",
       "      <td>...</td>\n",
       "      <td>...</td>\n",
       "      <td>...</td>\n",
       "      <td>...</td>\n",
       "      <td>...</td>\n",
       "      <td>...</td>\n",
       "      <td>...</td>\n",
       "      <td>...</td>\n",
       "      <td>...</td>\n",
       "      <td>...</td>\n",
       "      <td>...</td>\n",
       "      <td>...</td>\n",
       "      <td>...</td>\n",
       "      <td>...</td>\n",
       "      <td>...</td>\n",
       "    </tr>\n",
       "    <tr>\n",
       "      <td>2019/07</td>\n",
       "      <td>20</td>\n",
       "      <td>20</td>\n",
       "      <td>17</td>\n",
       "      <td>17</td>\n",
       "      <td>12</td>\n",
       "      <td>17</td>\n",
       "      <td>19</td>\n",
       "      <td>19</td>\n",
       "      <td>19</td>\n",
       "      <td>23</td>\n",
       "      <td>...</td>\n",
       "      <td>15</td>\n",
       "      <td>19</td>\n",
       "      <td>23</td>\n",
       "      <td>21</td>\n",
       "      <td>13</td>\n",
       "      <td>28</td>\n",
       "      <td>16</td>\n",
       "      <td>18</td>\n",
       "      <td>12</td>\n",
       "      <td>0</td>\n",
       "    </tr>\n",
       "  </tbody>\n",
       "</table>\n",
       "<p>7 rows × 26 columns</p>\n",
       "</div>"
      ],
      "text/plain": [
       "item_name       商品A  商品B  商品C  商品D  商品E  商品F  商品G  商品H  商品I  商品J  ...  商品Q  \\\n",
       "purchase_month                                                    ...        \n",
       "2019/01          18   13   19   17   18   15   11   16   18   17  ...   17   \n",
       "...             ...  ...  ...  ...  ...  ...  ...  ...  ...  ...  ...  ...   \n",
       "2019/07          20   20   17   17   12   17   19   19   19   23  ...   15   \n",
       "\n",
       "item_name       商品R  商品S  商品T  商品U  商品V  商品W  商品X  商品Y  商品Z  \n",
       "purchase_month                                               \n",
       "2019/01          21   20   17    7   22   13   14   10    0  \n",
       "...             ...  ...  ...  ...  ...  ...  ...  ...  ...  \n",
       "2019/07          19   23   21   13   28   16   18   12    0  \n",
       "\n",
       "[7 rows x 26 columns]"
      ]
     },
     "execution_count": 235,
     "metadata": {},
     "output_type": "execute_result"
    }
   ],
   "source": [
    "sales_data['purchase_date'] = pd.to_datetime(sales_data['purchase_date'])\n",
    "sales_data['purchase_month'] = sales_data['purchase_date'].dt.strftime('%Y/%m')\n",
    "res = sales_data.pivot_table(\n",
    "    index='purchase_month', \n",
    "    columns='item_name', \n",
    "    aggfunc='size', \n",
    "    fill_value=0 #??????\n",
    ")\n",
    "res"
   ]
  },
  {
   "cell_type": "markdown",
   "metadata": {},
   "source": [
    "#### データの揺れが残ったままの集計や分析は全く意味のない結果になってしまう。やはりデータ加工が分析の前処理として重要である。\n"
   ]
  },
  {
   "cell_type": "markdown",
   "metadata": {},
   "source": [
    "---"
   ]
  },
  {
   "cell_type": "markdown",
   "metadata": {},
   "source": [
    "#### ステップ3 商品名の揺れを補正する"
   ]
  },
  {
   "cell_type": "code",
   "execution_count": 236,
   "metadata": {},
   "outputs": [
    {
     "name": "stdout",
     "output_type": "stream",
     "text": [
      "26\n"
     ]
    }
   ],
   "source": [
    "#まずは現状の確認（これも重要）\n",
    "#売上げ履歴のitem_nameの重複を除外したユニークなデータ件数を出力する\n",
    "#商品Sや商品s などがあるので、データ件数は99個になってしまう\n",
    "print(len(pd.unique(sales_data['item_name'])))"
   ]
  },
  {
   "cell_type": "code",
   "execution_count": 237,
   "metadata": {},
   "outputs": [
    {
     "data": {
      "text/html": [
       "<div>\n",
       "<style scoped>\n",
       "    .dataframe tbody tr th:only-of-type {\n",
       "        vertical-align: middle;\n",
       "    }\n",
       "\n",
       "    .dataframe tbody tr th {\n",
       "        vertical-align: top;\n",
       "    }\n",
       "\n",
       "    .dataframe thead th {\n",
       "        text-align: right;\n",
       "    }\n",
       "</style>\n",
       "<table border=\"1\" class=\"dataframe\">\n",
       "  <thead>\n",
       "    <tr style=\"text-align: right;\">\n",
       "      <th></th>\n",
       "      <th>purchase_date</th>\n",
       "      <th>item_name</th>\n",
       "      <th>item_price</th>\n",
       "      <th>customer_name</th>\n",
       "      <th>purchase_month</th>\n",
       "    </tr>\n",
       "  </thead>\n",
       "  <tbody>\n",
       "    <tr>\n",
       "      <td>0</td>\n",
       "      <td>2019-06-13 18:02:34</td>\n",
       "      <td>商品A</td>\n",
       "      <td>100.0</td>\n",
       "      <td>深井菜々美</td>\n",
       "      <td>2019/06</td>\n",
       "    </tr>\n",
       "    <tr>\n",
       "      <td>...</td>\n",
       "      <td>...</td>\n",
       "      <td>...</td>\n",
       "      <td>...</td>\n",
       "      <td>...</td>\n",
       "      <td>...</td>\n",
       "    </tr>\n",
       "    <tr>\n",
       "      <td>3</td>\n",
       "      <td>2019-02-12 23:40:45</td>\n",
       "      <td>商品Z</td>\n",
       "      <td>2600.0</td>\n",
       "      <td>麻生莉緒</td>\n",
       "      <td>2019/02</td>\n",
       "    </tr>\n",
       "  </tbody>\n",
       "</table>\n",
       "<p>2999 rows × 5 columns</p>\n",
       "</div>"
      ],
      "text/plain": [
       "         purchase_date item_name  item_price customer_name purchase_month\n",
       "0  2019-06-13 18:02:34       商品A       100.0         深井菜々美        2019/06\n",
       "..                 ...       ...         ...           ...            ...\n",
       "3  2019-02-12 23:40:45       商品Z      2600.0          麻生莉緒        2019/02\n",
       "\n",
       "[2999 rows x 5 columns]"
      ]
     },
     "execution_count": 237,
     "metadata": {},
     "output_type": "execute_result"
    }
   ],
   "source": [
    "#大文字にそろえる　小文字→大文字に変換\n",
    "sales_data['item_name'] = sales_data['item_name'].str.upper()\n",
    "\n",
    "#全角スペースを除去する\n",
    "sales_data['item_name'] = sales_data['item_name'].str.replace('　', '')\n",
    "\n",
    "#半角スペースを除去する\n",
    "sales_data['item_name'] = sales_data['item_name'].str.replace(' ', '')\n",
    "\n",
    "#item_nameを名前順にソートして見やすくする\n",
    "sales_data.sort_values(by=['item_name'], ascending=True)"
   ]
  },
  {
   "cell_type": "code",
   "execution_count": 238,
   "metadata": {},
   "outputs": [
    {
     "name": "stdout",
     "output_type": "stream",
     "text": [
      "['商品A' '商品S' '商品Z' '商品V' '商品O' '商品U' '商品L' '商品C' '商品I' '商品R' '商品X' '商品G'\n",
      " '商品P' '商品Q' '商品Y' '商品N' '商品W' '商品E' '商品K' '商品B' '商品F' '商品D' '商品M' '商品H'\n",
      " '商品T' '商品J']\n",
      "26\n"
     ]
    }
   ],
   "source": [
    "print(pd.unique(sales_data['item_name']))\n",
    "print(len(pd.unique(sales_data['item_name'])))\n",
    "#99→26に整理できる"
   ]
  },
  {
   "cell_type": "markdown",
   "metadata": {},
   "source": [
    "---"
   ]
  },
  {
   "cell_type": "markdown",
   "metadata": {},
   "source": [
    "#### ステップ4 欠損値を補完する"
   ]
  },
  {
   "cell_type": "code",
   "execution_count": 239,
   "metadata": {
    "scrolled": true
   },
   "outputs": [
    {
     "data": {
      "text/plain": [
       "purchase_date     False\n",
       "                  ...  \n",
       "purchase_month    False\n",
       "Length: 5, dtype: bool"
      ]
     },
     "execution_count": 239,
     "metadata": {},
     "output_type": "execute_result"
    }
   ],
   "source": [
    "sales_data.isnull().any(axis=0)\n",
    "#isnull()で欠損値の有無を確認できる axis=0・・・列単位でチェック　axis=1・・・行単位でチェック"
   ]
  },
  {
   "cell_type": "markdown",
   "metadata": {},
   "source": [
    "<font color=\"red\">\n",
    "-----------------------------------------------------------------------------<br>\n",
    "<br>\n",
    "axis=0('index') →列ごとに処理を行う<br>\n",
    "つまり、垂直方向に次元が圧縮される<br>\n",
    "結果、行が残る<br>\n",
    "<br>\n",
    "axis=1('columns')→行ごとに処理を行う<br>\n",
    "つまり、水平方向に次元が圧縮される<br>\n",
    "結果、列が残る<br>\n",
    "<br>\n",
    "-----------------------------------------------------------------------------<br>\n",
    "</font>"
   ]
  },
  {
   "cell_type": "markdown",
   "metadata": {},
   "source": [
    "item_priceがTrueになっているので、この項目に欠損値が含まれていることを確認できる"
   ]
  },
  {
   "cell_type": "code",
   "execution_count": 240,
   "metadata": {},
   "outputs": [
    {
     "data": {
      "text/html": [
       "<div>\n",
       "<style scoped>\n",
       "    .dataframe tbody tr th:only-of-type {\n",
       "        vertical-align: middle;\n",
       "    }\n",
       "\n",
       "    .dataframe tbody tr th {\n",
       "        vertical-align: top;\n",
       "    }\n",
       "\n",
       "    .dataframe thead th {\n",
       "        text-align: right;\n",
       "    }\n",
       "</style>\n",
       "<table border=\"1\" class=\"dataframe\">\n",
       "  <thead>\n",
       "    <tr style=\"text-align: right;\">\n",
       "      <th></th>\n",
       "      <th>purchase_date</th>\n",
       "      <th>item_name</th>\n",
       "      <th>item_price</th>\n",
       "      <th>customer_name</th>\n",
       "      <th>purchase_month</th>\n",
       "    </tr>\n",
       "  </thead>\n",
       "  <tbody>\n",
       "    <tr>\n",
       "      <td>1</td>\n",
       "      <td>2019-07-13 13:05:29</td>\n",
       "      <td>商品S</td>\n",
       "      <td>NaN</td>\n",
       "      <td>浅田賢二</td>\n",
       "      <td>2019/07</td>\n",
       "    </tr>\n",
       "    <tr>\n",
       "      <td>...</td>\n",
       "      <td>...</td>\n",
       "      <td>...</td>\n",
       "      <td>...</td>\n",
       "      <td>...</td>\n",
       "      <td>...</td>\n",
       "    </tr>\n",
       "    <tr>\n",
       "      <td>2997</td>\n",
       "      <td>2019-07-14 12:56:49</td>\n",
       "      <td>商品H</td>\n",
       "      <td>NaN</td>\n",
       "      <td>芦田博之</td>\n",
       "      <td>2019/07</td>\n",
       "    </tr>\n",
       "  </tbody>\n",
       "</table>\n",
       "<p>387 rows × 5 columns</p>\n",
       "</div>"
      ],
      "text/plain": [
       "           purchase_date item_name  item_price customer_name purchase_month\n",
       "1    2019-07-13 13:05:29       商品S         NaN          浅田賢二        2019/07\n",
       "...                  ...       ...         ...           ...            ...\n",
       "2997 2019-07-14 12:56:49       商品H         NaN          芦田博之        2019/07\n",
       "\n",
       "[387 rows x 5 columns]"
      ]
     },
     "execution_count": 240,
     "metadata": {},
     "output_type": "execute_result"
    }
   ],
   "source": [
    "#NaNが含まれる行だけを表示する\n",
    "sales_data[sales_data.isnull().any(axis=1)]"
   ]
  },
  {
   "cell_type": "markdown",
   "metadata": {},
   "source": [
    "欠損値を補完する<br>\n",
    "今回のケースでは、欠損値は正しく記載された他の行から同じ商品の単価を調べ補完できる（集計期間中の商品単価の変動はないという前提条件）"
   ]
  },
  {
   "cell_type": "code",
   "execution_count": 241,
   "metadata": {},
   "outputs": [
    {
     "data": {
      "text/plain": [
       "0       False\n",
       "        ...  \n",
       "2998    False\n",
       "Name: item_price, Length: 2999, dtype: bool"
      ]
     },
     "execution_count": 241,
     "metadata": {},
     "output_type": "execute_result"
    }
   ],
   "source": [
    "#欠損値のある箇所を特定する\n",
    "#flg_is_null変数には、欠損値がある行はTrue、欠損値がない行はFalseになったデータが格納される\n",
    "flg_is_null = sales_data['item_price'].isnull()\n",
    "flg_is_null"
   ]
  },
  {
   "cell_type": "code",
   "execution_count": 242,
   "metadata": {},
   "outputs": [
    {
     "data": {
      "text/plain": [
       "0       100.0\n",
       "        ...  \n",
       "2973    100.0\n",
       "Name: item_price, Length: 117, dtype: float64"
      ]
     },
     "execution_count": 242,
     "metadata": {},
     "output_type": "execute_result"
    }
   ],
   "source": [
    "sales_data.loc[(flg_is_null == False) & (sales_data['item_name']=='商品A'),'item_price']"
   ]
  },
  {
   "cell_type": "code",
   "execution_count": 243,
   "metadata": {},
   "outputs": [
    {
     "data": {
      "text/html": [
       "<div>\n",
       "<style scoped>\n",
       "    .dataframe tbody tr th:only-of-type {\n",
       "        vertical-align: middle;\n",
       "    }\n",
       "\n",
       "    .dataframe tbody tr th {\n",
       "        vertical-align: top;\n",
       "    }\n",
       "\n",
       "    .dataframe thead th {\n",
       "        text-align: right;\n",
       "    }\n",
       "</style>\n",
       "<table border=\"1\" class=\"dataframe\">\n",
       "  <thead>\n",
       "    <tr style=\"text-align: right;\">\n",
       "      <th></th>\n",
       "      <th>purchase_date</th>\n",
       "      <th>item_name</th>\n",
       "      <th>item_price</th>\n",
       "      <th>customer_name</th>\n",
       "      <th>purchase_month</th>\n",
       "    </tr>\n",
       "  </thead>\n",
       "  <tbody>\n",
       "    <tr>\n",
       "      <td>0</td>\n",
       "      <td>2019-06-13 18:02:34</td>\n",
       "      <td>商品A</td>\n",
       "      <td>100.0</td>\n",
       "      <td>深井菜々美</td>\n",
       "      <td>2019/06</td>\n",
       "    </tr>\n",
       "    <tr>\n",
       "      <td>...</td>\n",
       "      <td>...</td>\n",
       "      <td>...</td>\n",
       "      <td>...</td>\n",
       "      <td>...</td>\n",
       "      <td>...</td>\n",
       "    </tr>\n",
       "    <tr>\n",
       "      <td>2998</td>\n",
       "      <td>2019-07-21 00:31:36</td>\n",
       "      <td>商品D</td>\n",
       "      <td>400.0</td>\n",
       "      <td>石田郁恵</td>\n",
       "      <td>2019/07</td>\n",
       "    </tr>\n",
       "  </tbody>\n",
       "</table>\n",
       "<p>2999 rows × 5 columns</p>\n",
       "</div>"
      ],
      "text/plain": [
       "           purchase_date item_name  item_price customer_name purchase_month\n",
       "0    2019-06-13 18:02:34       商品A       100.0         深井菜々美        2019/06\n",
       "...                  ...       ...         ...           ...            ...\n",
       "2998 2019-07-21 00:31:36       商品D       400.0          石田郁恵        2019/07\n",
       "\n",
       "[2999 rows x 5 columns]"
      ]
     },
     "execution_count": 243,
     "metadata": {},
     "output_type": "execute_result"
    }
   ],
   "source": [
    "#flg_is_nullに格納されている「item_name」の列データから取り出した99個のユニークな商品名を対象にfor文をまわす\n",
    "#unigue（）は抽出した商品名の重複をなくすために用いられる\n",
    "for trg in list(sales_data.loc[flg_is_null, 'item_name'].unique()):\n",
    "    #trgには欠損値がある商品名が入ってくる。\n",
    "    #trgを用いて、同じ商品で金額が正しく記載されている行を.locで探し、その金額を取得\n",
    "    #~flg_is_nullの「〜」は否定演算子 　flg_is_null == Falseと同じ意味\n",
    "    #flg_is_null　は flg_is_null == Trueと同じ意味\n",
    "    price = sales_data.loc[\n",
    "        ~flg_is_null & (sales_data['item_name'] == trg), \n",
    "        'item_price'\n",
    "    ].max()\n",
    "    sales_data['item_price'].loc[\n",
    "        flg_is_null & (sales_data['item_name']==trg)\n",
    "    ] = price\n",
    "sales_data"
   ]
  },
  {
   "cell_type": "code",
   "execution_count": 244,
   "metadata": {
    "scrolled": true
   },
   "outputs": [
    {
     "data": {
      "text/plain": [
       "purchase_date     False\n",
       "                  ...  \n",
       "purchase_month    False\n",
       "Length: 5, dtype: bool"
      ]
     },
     "execution_count": 244,
     "metadata": {},
     "output_type": "execute_result"
    }
   ],
   "source": [
    "#欠損値が補完されたかどうかをチェック\n",
    "sales_data.isnull().any(axis=0)"
   ]
  },
  {
   "cell_type": "markdown",
   "metadata": {},
   "source": [
    "### データ検算"
   ]
  },
  {
   "cell_type": "code",
   "execution_count": 245,
   "metadata": {},
   "outputs": [
    {
     "data": {
      "text/plain": [
       "100.0"
      ]
     },
     "execution_count": 245,
     "metadata": {},
     "output_type": "execute_result"
    }
   ],
   "source": [
    "#商品Aの価格が正しく補完されているかチェック\n",
    "#すべての商品Aを確認し最大値を算出する\n",
    "location     = sales_data['item_name']=='商品A'\n",
    "sales_data_A = sales_data.loc[location]\n",
    "max_value    = sales_data_A['item_price'].max()\n",
    "max_value"
   ]
  },
  {
   "cell_type": "code",
   "execution_count": 246,
   "metadata": {},
   "outputs": [
    {
     "data": {
      "text/plain": [
       "100.0"
      ]
     },
     "execution_count": 246,
     "metadata": {},
     "output_type": "execute_result"
    }
   ],
   "source": [
    "#商品Aの最小値を算出する\n",
    "min_value    = sales_data_A['item_price'].min()\n",
    "min_value"
   ]
  },
  {
   "cell_type": "code",
   "execution_count": 247,
   "metadata": {},
   "outputs": [
    {
     "data": {
      "text/plain": [
       "100.0"
      ]
     },
     "execution_count": 247,
     "metadata": {},
     "output_type": "execute_result"
    }
   ],
   "source": [
    "#sales_data.loc[sales_data['item_name']=='商品A']['item_price'].max()\n",
    "\n",
    "sales_data.loc[\n",
    "    sales_data['item_name']=='商品A'\n",
    "][\n",
    "    'item_price'\n",
    "].max()"
   ]
  },
  {
   "cell_type": "code",
   "execution_count": 273,
   "metadata": {},
   "outputs": [
    {
     "name": "stdout",
     "output_type": "stream",
     "text": [
      "商品Aの最大値：100.0 商品Aの最小値：100.0 商品Bの最大値：200.0 商品Bの最小値：200.0 商品Cの最大値：300.0 商品Cの最小値：300.0 商品Dの最大値：400.0 商品Dの最小値：400.0 商品Eの最大値：500.0 商品Eの最小値：500.0 商品Fの最大値：600.0 商品Fの最小値：600.0 商品Gの最大値：700.0 商品Gの最小値：700.0 商品Hの最大値：800.0 商品Hの最小値：800.0 商品Iの最大値：900.0 商品Iの最小値：900.0 商品Jの最大値：1000.0 商品Jの最小値：1000.0 商品Kの最大値：1100.0 商品Kの最小値：1100.0 商品Lの最大値：1200.0 商品Lの最小値：1200.0 商品Mの最大値：1300.0 商品Mの最小値：1300.0 商品Nの最大値：1400.0 商品Nの最小値：1400.0 商品Oの最大値：1500.0 商品Oの最小値：1500.0 商品Pの最大値：1600.0 商品Pの最小値：1600.0 商品Qの最大値：1700.0 商品Qの最小値：1700.0 商品Rの最大値：1800.0 商品Rの最小値：1800.0 商品Sの最大値：1900.0 商品Sの最小値：1900.0 商品Tの最大値：2000.0 商品Tの最小値：2000.0 商品Uの最大値：2100.0 商品Uの最小値：2100.0 商品Vの最大値：2200.0 商品Vの最小値：2200.0 商品Wの最大値：2300.0 商品Wの最小値：2300.0 商品Xの最大値：2400.0 商品Xの最小値：2400.0 商品Yの最大値：2500.0 商品Yの最小値：2500.0 商品Zの最大値：2600.0 商品Zの最小値：2600.0 "
     ]
    }
   ],
   "source": [
    "#商品A〜Zの価格の最大値と最小値を算出、正しく補完されていれば最大値と最小値が等しいはず\n",
    "for trg in list(sales_data['item_name'].sort_values().unique()):\n",
    "    print(trg + 'の最大値：' + str(sales_data.loc[sales_data['item_name']==trg]['item_price'].max()),end=\" \")\n",
    "    print(trg + 'の最小値：' + str(sales_data.loc[sales_data['item_name']==trg]['item_price'].min(skipna=False)),end=\" \")\n",
    "         #skipnaはNaNデータを無視するかどうかを設定できる。FalseにするとNaNがあったときNaNと出力される"
   ]
  },
  {
   "cell_type": "markdown",
   "metadata": {},
   "source": [
    "<font color=\"red\">\n",
    "-----------------------------------------------------------------------------<br>\n",
    "<br>\n",
    "print(*objects, sep=' ', end='\\n', file=sys.stdout, flush=False)<br>\n",
    "<br>\n",
    "-----------------------------------------------------------------------------<br>\n",
    "</font>"
   ]
  },
  {
   "cell_type": "markdown",
   "metadata": {},
   "source": [
    "---"
   ]
  },
  {
   "cell_type": "markdown",
   "metadata": {},
   "source": [
    "#### ステップ5 顧客名の揺れも補正する"
   ]
  },
  {
   "cell_type": "code",
   "execution_count": 249,
   "metadata": {},
   "outputs": [
    {
     "data": {
      "text/plain": [
       "0    深井菜々美\n",
       "     ...  \n",
       "4     平田鉄二\n",
       "Name: customer_name, Length: 5, dtype: object"
      ]
     },
     "execution_count": 249,
     "metadata": {},
     "output_type": "execute_result"
    }
   ],
   "source": [
    "sales_data['customer_name'].head()"
   ]
  },
  {
   "cell_type": "code",
   "execution_count": 250,
   "metadata": {},
   "outputs": [
    {
     "data": {
      "text/plain": [
       "0    須賀ひとみ\n",
       "     ...  \n",
       "4    栗田 憲一\n",
       "Name: 顧客名, Length: 5, dtype: object"
      ]
     },
     "execution_count": 250,
     "metadata": {},
     "output_type": "execute_result"
    }
   ],
   "source": [
    "customer_data['顧客名'].head()"
   ]
  },
  {
   "cell_type": "markdown",
   "metadata": {},
   "source": [
    "**このままでは、売上げ履歴と顧客台帳を結合してもだたしく結合できない**"
   ]
  },
  {
   "cell_type": "code",
   "execution_count": 251,
   "metadata": {},
   "outputs": [
    {
     "data": {
      "text/plain": [
       "0    須賀ひとみ\n",
       "     ...  \n",
       "4     栗田憲一\n",
       "Name: 顧客名, Length: 5, dtype: object"
      ]
     },
     "execution_count": 251,
     "metadata": {},
     "output_type": "execute_result"
    }
   ],
   "source": [
    "#半角・全角スペースを除去する\n",
    "customer_data['顧客名'] = customer_data['顧客名'].str.replace('　', '')\n",
    "customer_data['顧客名'] = customer_data['顧客名'].str.replace(' ', '')\n",
    "customer_data['顧客名'].head()"
   ]
  },
  {
   "cell_type": "markdown",
   "metadata": {},
   "source": [
    "**実際のデータの中には名前の誤変換などの複雑な揺れが存在することも多々ある。その場合はプログラムで補正することができないため、現場の運用スタッフにヒアリングし、地道に名寄せ作業を行う必要がある。**"
   ]
  },
  {
   "cell_type": "markdown",
   "metadata": {},
   "source": [
    "---"
   ]
  },
  {
   "cell_type": "markdown",
   "metadata": {},
   "source": [
    "#### ステップ6 日付の揺れも補正する"
   ]
  },
  {
   "cell_type": "code",
   "execution_count": 252,
   "metadata": {},
   "outputs": [
    {
     "data": {
      "text/plain": [
       "0    2018/01/04\n",
       "        ...    \n",
       "4         43127\n",
       "Name: 登録日, Length: 5, dtype: object"
      ]
     },
     "execution_count": 252,
     "metadata": {},
     "output_type": "execute_result"
    }
   ],
   "source": [
    "customer_data['登録日'].head()"
   ]
  },
  {
   "cell_type": "markdown",
   "metadata": {},
   "source": [
    "**登録日の列には「42782」のように日付でない数字がいくつか見られる。Excelデータに格納されたデータに書式が違うデータが混在することはよくある。**"
   ]
  },
  {
   "cell_type": "code",
   "execution_count": 253,
   "metadata": {
    "scrolled": true
   },
   "outputs": [
    {
     "data": {
      "text/plain": [
       "0      False\n",
       "       ...  \n",
       "199    False\n",
       "Name: 登録日, Length: 200, dtype: bool"
      ]
     },
     "execution_count": 253,
     "metadata": {},
     "output_type": "execute_result"
    }
   ],
   "source": [
    "#日付を統一フォーマットに補正する前に状況把握\n",
    "#str.isdigit()を用いて、顧客台帳の登録日が数値かどうかをチェックする　True・・・数値　False・・・数値ではない\n",
    "flg_is_serial = customer_data['登録日'].astype('str').str.isdigit()\n",
    "flg_is_serial"
   ]
  },
  {
   "cell_type": "code",
   "execution_count": 254,
   "metadata": {},
   "outputs": [
    {
     "data": {
      "text/plain": [
       "22"
      ]
     },
     "execution_count": 254,
     "metadata": {},
     "output_type": "execute_result"
    }
   ],
   "source": [
    "#登録日が数値データになっている件数を確認する\n",
    "flg_is_serial.sum()"
   ]
  },
  {
   "cell_type": "code",
   "execution_count": 255,
   "metadata": {},
   "outputs": [
    {
     "data": {
      "text/plain": [
       "1     2017-02-18\n",
       "         ...    \n",
       "192   2018-06-10\n",
       "Name: 登録日, Length: 22, dtype: datetime64[ns]"
      ]
     },
     "execution_count": 255,
     "metadata": {},
     "output_type": "execute_result"
    }
   ],
   "source": [
    "#日付を統一フォーマットに補正する\n",
    "fromSerial = pd.to_timedelta( #pd.to_timedelta()関数を用いて、数値から日付に変換する\n",
    "    customer_data.loc[flg_is_serial, '登録日'], #locを用いてflg_is_serialの条件でデータを抽出\n",
    "    unit='d') + pd.to_datetime('1900/01/01') #フォーマットを指定する\n",
    "fromSerial"
   ]
  },
  {
   "cell_type": "code",
   "execution_count": 256,
   "metadata": {
    "scrolled": true
   },
   "outputs": [
    {
     "data": {
      "text/plain": [
       "0     2018-01-04\n",
       "         ...    \n",
       "199   2019-04-23\n",
       "Name: 登録日, Length: 178, dtype: datetime64[ns]"
      ]
     },
     "execution_count": 256,
     "metadata": {},
     "output_type": "execute_result"
    }
   ],
   "source": [
    "#もともと日付だったデータも、書式統一のために処理する\n",
    "fromString = pd.to_datetime(customer_data.loc[~flg_is_serial, '登録日'])#~flg_is_serialは(flg_is_serial==False)と同じ\n",
    "fromString"
   ]
  },
  {
   "cell_type": "code",
   "execution_count": 257,
   "metadata": {
    "scrolled": true
   },
   "outputs": [
    {
     "data": {
      "text/html": [
       "<div>\n",
       "<style scoped>\n",
       "    .dataframe tbody tr th:only-of-type {\n",
       "        vertical-align: middle;\n",
       "    }\n",
       "\n",
       "    .dataframe tbody tr th {\n",
       "        vertical-align: top;\n",
       "    }\n",
       "\n",
       "    .dataframe thead th {\n",
       "        text-align: right;\n",
       "    }\n",
       "</style>\n",
       "<table border=\"1\" class=\"dataframe\">\n",
       "  <thead>\n",
       "    <tr style=\"text-align: right;\">\n",
       "      <th></th>\n",
       "      <th>顧客名</th>\n",
       "      <th>かな</th>\n",
       "      <th>地域</th>\n",
       "      <th>メールアドレス</th>\n",
       "      <th>登録日</th>\n",
       "    </tr>\n",
       "  </thead>\n",
       "  <tbody>\n",
       "    <tr>\n",
       "      <td>0</td>\n",
       "      <td>須賀ひとみ</td>\n",
       "      <td>すが ひとみ</td>\n",
       "      <td>H市</td>\n",
       "      <td>suga_hitomi@example.com</td>\n",
       "      <td>2018-01-04</td>\n",
       "    </tr>\n",
       "    <tr>\n",
       "      <td>...</td>\n",
       "      <td>...</td>\n",
       "      <td>...</td>\n",
       "      <td>...</td>\n",
       "      <td>...</td>\n",
       "      <td>...</td>\n",
       "    </tr>\n",
       "    <tr>\n",
       "      <td>199</td>\n",
       "      <td>福井美希</td>\n",
       "      <td>ふくい みき</td>\n",
       "      <td>D市</td>\n",
       "      <td>fukui_miki1@example.com</td>\n",
       "      <td>2019-04-23</td>\n",
       "    </tr>\n",
       "  </tbody>\n",
       "</table>\n",
       "<p>200 rows × 5 columns</p>\n",
       "</div>"
      ],
      "text/plain": [
       "       顧客名      かな  地域                  メールアドレス        登録日\n",
       "0    須賀ひとみ  すが ひとみ  H市  suga_hitomi@example.com 2018-01-04\n",
       "..     ...     ...  ..                      ...        ...\n",
       "199   福井美希  ふくい みき  D市  fukui_miki1@example.com 2019-04-23\n",
       "\n",
       "[200 rows x 5 columns]"
      ]
     },
     "execution_count": 257,
     "metadata": {},
     "output_type": "execute_result"
    }
   ],
   "source": [
    "#数値から日付に補正したデータと、書式を変更したデータを結合しcustomer_data['登録日']データを更新する\n",
    "customer_data['登録日'] = pd.concat([fromSerial, fromString])\n",
    "customer_data"
   ]
  },
  {
   "cell_type": "code",
   "execution_count": 258,
   "metadata": {},
   "outputs": [
    {
     "data": {
      "text/plain": [
       "0"
      ]
     },
     "execution_count": 258,
     "metadata": {},
     "output_type": "execute_result"
    }
   ],
   "source": [
    "#データ検算 数値項目が残っていないかチェックする\n",
    "flg_is_serial = customer_data['登録日'].astype('str').str.isdigit()\n",
    "flg_is_serial.sum()"
   ]
  },
  {
   "cell_type": "markdown",
   "metadata": {},
   "source": [
    "**数値データ件数は「0件」となり、すべての数値データが日付に補正されたことが確認できた**"
   ]
  },
  {
   "cell_type": "code",
   "execution_count": 259,
   "metadata": {
    "scrolled": true
   },
   "outputs": [
    {
     "data": {
      "text/plain": [
       "0      2018/01\n",
       "        ...   \n",
       "199    2019/04\n",
       "Name: 登録年月, Length: 200, dtype: object"
      ]
     },
     "execution_count": 259,
     "metadata": {},
     "output_type": "execute_result"
    }
   ],
   "source": [
    "#登録日から登録付を算出し、集計する\n",
    "customer_data['登録年月'] = customer_data['登録日'].dt.strftime('%Y/%m')\n",
    "customer_data['登録年月']"
   ]
  },
  {
   "cell_type": "code",
   "execution_count": 260,
   "metadata": {
    "scrolled": true
   },
   "outputs": [
    {
     "name": "stdout",
     "output_type": "stream",
     "text": [
      "登録年月\n",
      "2017/01    15\n",
      "           ..\n",
      "2019/04     2\n",
      "Name: 顧客名, Length: 15, dtype: int64\n",
      "200\n"
     ]
    }
   ],
   "source": [
    "rslt = customer_data.groupby('登録年月').count()['顧客名']\n",
    "print(rslt)\n",
    "print(len(customer_data))"
   ]
  },
  {
   "cell_type": "markdown",
   "metadata": {},
   "source": [
    "---"
   ]
  },
  {
   "cell_type": "markdown",
   "metadata": {},
   "source": [
    "#### ステップ7 顧客名を主軸に2つのデータを結合（ジョイン）する\n",
    "売上げ履歴と顧客台帳を結合し、集計のベースとなるデータを作成する"
   ]
  },
  {
   "cell_type": "code",
   "execution_count": 261,
   "metadata": {},
   "outputs": [
    {
     "data": {
      "text/html": [
       "<div>\n",
       "<style scoped>\n",
       "    .dataframe tbody tr th:only-of-type {\n",
       "        vertical-align: middle;\n",
       "    }\n",
       "\n",
       "    .dataframe tbody tr th {\n",
       "        vertical-align: top;\n",
       "    }\n",
       "\n",
       "    .dataframe thead th {\n",
       "        text-align: right;\n",
       "    }\n",
       "</style>\n",
       "<table border=\"1\" class=\"dataframe\">\n",
       "  <thead>\n",
       "    <tr style=\"text-align: right;\">\n",
       "      <th></th>\n",
       "      <th>purchase_date</th>\n",
       "      <th>item_name</th>\n",
       "      <th>item_price</th>\n",
       "      <th>customer_name</th>\n",
       "      <th>purchase_month</th>\n",
       "    </tr>\n",
       "  </thead>\n",
       "  <tbody>\n",
       "    <tr>\n",
       "      <td>0</td>\n",
       "      <td>2019-06-13 18:02:34</td>\n",
       "      <td>商品A</td>\n",
       "      <td>100.0</td>\n",
       "      <td>深井菜々美</td>\n",
       "      <td>2019/06</td>\n",
       "    </tr>\n",
       "    <tr>\n",
       "      <td>...</td>\n",
       "      <td>...</td>\n",
       "      <td>...</td>\n",
       "      <td>...</td>\n",
       "      <td>...</td>\n",
       "      <td>...</td>\n",
       "    </tr>\n",
       "    <tr>\n",
       "      <td>4</td>\n",
       "      <td>2019-04-22 03:09:35</td>\n",
       "      <td>商品A</td>\n",
       "      <td>100.0</td>\n",
       "      <td>平田鉄二</td>\n",
       "      <td>2019/04</td>\n",
       "    </tr>\n",
       "  </tbody>\n",
       "</table>\n",
       "<p>5 rows × 5 columns</p>\n",
       "</div>"
      ],
      "text/plain": [
       "         purchase_date item_name  item_price customer_name purchase_month\n",
       "0  2019-06-13 18:02:34       商品A       100.0         深井菜々美        2019/06\n",
       "..                 ...       ...         ...           ...            ...\n",
       "4  2019-04-22 03:09:35       商品A       100.0          平田鉄二        2019/04\n",
       "\n",
       "[5 rows x 5 columns]"
      ]
     },
     "execution_count": 261,
     "metadata": {},
     "output_type": "execute_result"
    }
   ],
   "source": [
    "sales_data.head()"
   ]
  },
  {
   "cell_type": "code",
   "execution_count": 262,
   "metadata": {},
   "outputs": [
    {
     "data": {
      "text/html": [
       "<div>\n",
       "<style scoped>\n",
       "    .dataframe tbody tr th:only-of-type {\n",
       "        vertical-align: middle;\n",
       "    }\n",
       "\n",
       "    .dataframe tbody tr th {\n",
       "        vertical-align: top;\n",
       "    }\n",
       "\n",
       "    .dataframe thead th {\n",
       "        text-align: right;\n",
       "    }\n",
       "</style>\n",
       "<table border=\"1\" class=\"dataframe\">\n",
       "  <thead>\n",
       "    <tr style=\"text-align: right;\">\n",
       "      <th></th>\n",
       "      <th>顧客名</th>\n",
       "      <th>かな</th>\n",
       "      <th>地域</th>\n",
       "      <th>メールアドレス</th>\n",
       "      <th>登録日</th>\n",
       "      <th>登録年月</th>\n",
       "    </tr>\n",
       "  </thead>\n",
       "  <tbody>\n",
       "    <tr>\n",
       "      <td>0</td>\n",
       "      <td>須賀ひとみ</td>\n",
       "      <td>すが ひとみ</td>\n",
       "      <td>H市</td>\n",
       "      <td>suga_hitomi@example.com</td>\n",
       "      <td>2018-01-04</td>\n",
       "      <td>2018/01</td>\n",
       "    </tr>\n",
       "    <tr>\n",
       "      <td>...</td>\n",
       "      <td>...</td>\n",
       "      <td>...</td>\n",
       "      <td>...</td>\n",
       "      <td>...</td>\n",
       "      <td>...</td>\n",
       "      <td>...</td>\n",
       "    </tr>\n",
       "    <tr>\n",
       "      <td>4</td>\n",
       "      <td>栗田憲一</td>\n",
       "      <td>くりた けんいち</td>\n",
       "      <td>E市</td>\n",
       "      <td>kurita_kenichi@example.com</td>\n",
       "      <td>2018-01-29</td>\n",
       "      <td>2018/01</td>\n",
       "    </tr>\n",
       "  </tbody>\n",
       "</table>\n",
       "<p>5 rows × 6 columns</p>\n",
       "</div>"
      ],
      "text/plain": [
       "      顧客名        かな  地域                     メールアドレス        登録日     登録年月\n",
       "0   須賀ひとみ    すが ひとみ  H市     suga_hitomi@example.com 2018-01-04  2018/01\n",
       "..    ...       ...  ..                         ...        ...      ...\n",
       "4    栗田憲一  くりた けんいち  E市  kurita_kenichi@example.com 2018-01-29  2018/01\n",
       "\n",
       "[5 rows x 6 columns]"
      ]
     },
     "execution_count": 262,
     "metadata": {},
     "output_type": "execute_result"
    }
   ],
   "source": [
    "customer_data.head()"
   ]
  },
  {
   "cell_type": "markdown",
   "metadata": {},
   "source": [
    "**共通する列名がない。**"
   ]
  },
  {
   "cell_type": "code",
   "execution_count": 263,
   "metadata": {},
   "outputs": [
    {
     "data": {
      "text/html": [
       "<div>\n",
       "<style scoped>\n",
       "    .dataframe tbody tr th:only-of-type {\n",
       "        vertical-align: middle;\n",
       "    }\n",
       "\n",
       "    .dataframe tbody tr th {\n",
       "        vertical-align: top;\n",
       "    }\n",
       "\n",
       "    .dataframe thead th {\n",
       "        text-align: right;\n",
       "    }\n",
       "</style>\n",
       "<table border=\"1\" class=\"dataframe\">\n",
       "  <thead>\n",
       "    <tr style=\"text-align: right;\">\n",
       "      <th></th>\n",
       "      <th>purchase_date</th>\n",
       "      <th>item_name</th>\n",
       "      <th>item_price</th>\n",
       "      <th>customer_name</th>\n",
       "      <th>purchase_month</th>\n",
       "      <th>顧客名</th>\n",
       "      <th>かな</th>\n",
       "      <th>地域</th>\n",
       "      <th>メールアドレス</th>\n",
       "      <th>登録日</th>\n",
       "      <th>登録年月</th>\n",
       "    </tr>\n",
       "  </thead>\n",
       "  <tbody>\n",
       "    <tr>\n",
       "      <td>0</td>\n",
       "      <td>2019-06-13 18:02:34</td>\n",
       "      <td>商品A</td>\n",
       "      <td>100.0</td>\n",
       "      <td>深井菜々美</td>\n",
       "      <td>2019/06</td>\n",
       "      <td>深井菜々美</td>\n",
       "      <td>ふかい ななみ</td>\n",
       "      <td>C市</td>\n",
       "      <td>fukai_nanami@example.com</td>\n",
       "      <td>2017-01-26</td>\n",
       "      <td>2017/01</td>\n",
       "    </tr>\n",
       "    <tr>\n",
       "      <td>...</td>\n",
       "      <td>...</td>\n",
       "      <td>...</td>\n",
       "      <td>...</td>\n",
       "      <td>...</td>\n",
       "      <td>...</td>\n",
       "      <td>...</td>\n",
       "      <td>...</td>\n",
       "      <td>...</td>\n",
       "      <td>...</td>\n",
       "      <td>...</td>\n",
       "      <td>...</td>\n",
       "    </tr>\n",
       "    <tr>\n",
       "      <td>4</td>\n",
       "      <td>2019-04-22 03:09:35</td>\n",
       "      <td>商品A</td>\n",
       "      <td>100.0</td>\n",
       "      <td>平田鉄二</td>\n",
       "      <td>2019/04</td>\n",
       "      <td>平田鉄二</td>\n",
       "      <td>ひらた てつじ</td>\n",
       "      <td>D市</td>\n",
       "      <td>hirata_tetsuji@example.com</td>\n",
       "      <td>2017-06-07</td>\n",
       "      <td>2017/06</td>\n",
       "    </tr>\n",
       "  </tbody>\n",
       "</table>\n",
       "<p>5 rows × 11 columns</p>\n",
       "</div>"
      ],
      "text/plain": [
       "         purchase_date item_name  item_price customer_name purchase_month  \\\n",
       "0  2019-06-13 18:02:34       商品A       100.0         深井菜々美        2019/06   \n",
       "..                 ...       ...         ...           ...            ...   \n",
       "4  2019-04-22 03:09:35       商品A       100.0          平田鉄二        2019/04   \n",
       "\n",
       "      顧客名       かな  地域                     メールアドレス        登録日     登録年月  \n",
       "0   深井菜々美  ふかい ななみ  C市    fukai_nanami@example.com 2017-01-26  2017/01  \n",
       "..    ...      ...  ..                         ...        ...      ...  \n",
       "4    平田鉄二  ひらた てつじ  D市  hirata_tetsuji@example.com 2017-06-07  2017/06  \n",
       "\n",
       "[5 rows x 11 columns]"
      ]
     },
     "execution_count": 263,
     "metadata": {},
     "output_type": "execute_result"
    }
   ],
   "source": [
    "join_data = pd.merge(\n",
    "    sales_data, \n",
    "    customer_data, \n",
    "    left_on='customer_name', #left_onで指定した列と、right_onで指定した列を照合し、二つのデータフレームを結合する\n",
    "    right_on='顧客名', \n",
    "    how='left') #sales_dataを主としてcustomer_dataを結合する\n",
    "join_data.head()"
   ]
  },
  {
   "cell_type": "code",
   "execution_count": 264,
   "metadata": {},
   "outputs": [
    {
     "data": {
      "text/html": [
       "<div>\n",
       "<style scoped>\n",
       "    .dataframe tbody tr th:only-of-type {\n",
       "        vertical-align: middle;\n",
       "    }\n",
       "\n",
       "    .dataframe tbody tr th {\n",
       "        vertical-align: top;\n",
       "    }\n",
       "\n",
       "    .dataframe thead th {\n",
       "        text-align: right;\n",
       "    }\n",
       "</style>\n",
       "<table border=\"1\" class=\"dataframe\">\n",
       "  <thead>\n",
       "    <tr style=\"text-align: right;\">\n",
       "      <th></th>\n",
       "      <th>purchase_date</th>\n",
       "      <th>item_name</th>\n",
       "      <th>item_price</th>\n",
       "      <th>purchase_month</th>\n",
       "      <th>顧客名</th>\n",
       "      <th>かな</th>\n",
       "      <th>地域</th>\n",
       "      <th>メールアドレス</th>\n",
       "      <th>登録日</th>\n",
       "      <th>登録年月</th>\n",
       "    </tr>\n",
       "  </thead>\n",
       "  <tbody>\n",
       "    <tr>\n",
       "      <td>0</td>\n",
       "      <td>2019-06-13 18:02:34</td>\n",
       "      <td>商品A</td>\n",
       "      <td>100.0</td>\n",
       "      <td>2019/06</td>\n",
       "      <td>深井菜々美</td>\n",
       "      <td>ふかい ななみ</td>\n",
       "      <td>C市</td>\n",
       "      <td>fukai_nanami@example.com</td>\n",
       "      <td>2017-01-26</td>\n",
       "      <td>2017/01</td>\n",
       "    </tr>\n",
       "    <tr>\n",
       "      <td>...</td>\n",
       "      <td>...</td>\n",
       "      <td>...</td>\n",
       "      <td>...</td>\n",
       "      <td>...</td>\n",
       "      <td>...</td>\n",
       "      <td>...</td>\n",
       "      <td>...</td>\n",
       "      <td>...</td>\n",
       "      <td>...</td>\n",
       "      <td>...</td>\n",
       "    </tr>\n",
       "    <tr>\n",
       "      <td>4</td>\n",
       "      <td>2019-04-22 03:09:35</td>\n",
       "      <td>商品A</td>\n",
       "      <td>100.0</td>\n",
       "      <td>2019/04</td>\n",
       "      <td>平田鉄二</td>\n",
       "      <td>ひらた てつじ</td>\n",
       "      <td>D市</td>\n",
       "      <td>hirata_tetsuji@example.com</td>\n",
       "      <td>2017-06-07</td>\n",
       "      <td>2017/06</td>\n",
       "    </tr>\n",
       "  </tbody>\n",
       "</table>\n",
       "<p>5 rows × 10 columns</p>\n",
       "</div>"
      ],
      "text/plain": [
       "         purchase_date item_name  item_price purchase_month    顧客名       かな  \\\n",
       "0  2019-06-13 18:02:34       商品A       100.0        2019/06  深井菜々美  ふかい ななみ   \n",
       "..                 ...       ...         ...            ...    ...      ...   \n",
       "4  2019-04-22 03:09:35       商品A       100.0        2019/04   平田鉄二  ひらた てつじ   \n",
       "\n",
       "    地域                     メールアドレス        登録日     登録年月  \n",
       "0   C市    fukai_nanami@example.com 2017-01-26  2017/01  \n",
       "..  ..                         ...        ...      ...  \n",
       "4   D市  hirata_tetsuji@example.com 2017-06-07  2017/06  \n",
       "\n",
       "[5 rows x 10 columns]"
      ]
     },
     "execution_count": 264,
     "metadata": {},
     "output_type": "execute_result"
    }
   ],
   "source": [
    "join_data = join_data.drop('customer_name', axis=1)\n",
    "join_data.head()"
   ]
  },
  {
   "cell_type": "markdown",
   "metadata": {},
   "source": [
    "---"
   ]
  },
  {
   "cell_type": "markdown",
   "metadata": {},
   "source": [
    "#### ステップ8 クレンジングしたデータを俯瞰する\n",
    "きれいになったデータをファイル出力（ダンプ）して、分析をする際は出力ファイルから読込分析を行うことで、クレンジングのやり直しを省略する"
   ]
  },
  {
   "cell_type": "code",
   "execution_count": 265,
   "metadata": {},
   "outputs": [
    {
     "data": {
      "text/html": [
       "<div>\n",
       "<style scoped>\n",
       "    .dataframe tbody tr th:only-of-type {\n",
       "        vertical-align: middle;\n",
       "    }\n",
       "\n",
       "    .dataframe tbody tr th {\n",
       "        vertical-align: top;\n",
       "    }\n",
       "\n",
       "    .dataframe thead th {\n",
       "        text-align: right;\n",
       "    }\n",
       "</style>\n",
       "<table border=\"1\" class=\"dataframe\">\n",
       "  <thead>\n",
       "    <tr style=\"text-align: right;\">\n",
       "      <th></th>\n",
       "      <th>purchase_date</th>\n",
       "      <th>purchase_month</th>\n",
       "      <th>item_name</th>\n",
       "      <th>item_price</th>\n",
       "      <th>顧客名</th>\n",
       "      <th>かな</th>\n",
       "      <th>地域</th>\n",
       "      <th>メールアドレス</th>\n",
       "      <th>登録日</th>\n",
       "    </tr>\n",
       "  </thead>\n",
       "  <tbody>\n",
       "    <tr>\n",
       "      <td>0</td>\n",
       "      <td>2019-06-13 18:02:34</td>\n",
       "      <td>2019/06</td>\n",
       "      <td>商品A</td>\n",
       "      <td>100.0</td>\n",
       "      <td>深井菜々美</td>\n",
       "      <td>ふかい ななみ</td>\n",
       "      <td>C市</td>\n",
       "      <td>fukai_nanami@example.com</td>\n",
       "      <td>2017-01-26</td>\n",
       "    </tr>\n",
       "    <tr>\n",
       "      <td>...</td>\n",
       "      <td>...</td>\n",
       "      <td>...</td>\n",
       "      <td>...</td>\n",
       "      <td>...</td>\n",
       "      <td>...</td>\n",
       "      <td>...</td>\n",
       "      <td>...</td>\n",
       "      <td>...</td>\n",
       "      <td>...</td>\n",
       "    </tr>\n",
       "    <tr>\n",
       "      <td>4</td>\n",
       "      <td>2019-04-22 03:09:35</td>\n",
       "      <td>2019/04</td>\n",
       "      <td>商品A</td>\n",
       "      <td>100.0</td>\n",
       "      <td>平田鉄二</td>\n",
       "      <td>ひらた てつじ</td>\n",
       "      <td>D市</td>\n",
       "      <td>hirata_tetsuji@example.com</td>\n",
       "      <td>2017-06-07</td>\n",
       "    </tr>\n",
       "  </tbody>\n",
       "</table>\n",
       "<p>5 rows × 9 columns</p>\n",
       "</div>"
      ],
      "text/plain": [
       "         purchase_date purchase_month item_name  item_price    顧客名       かな  \\\n",
       "0  2019-06-13 18:02:34        2019/06       商品A       100.0  深井菜々美  ふかい ななみ   \n",
       "..                 ...            ...       ...         ...    ...      ...   \n",
       "4  2019-04-22 03:09:35        2019/04       商品A       100.0   平田鉄二  ひらた てつじ   \n",
       "\n",
       "    地域                     メールアドレス        登録日  \n",
       "0   C市    fukai_nanami@example.com 2017-01-26  \n",
       "..  ..                         ...        ...  \n",
       "4   D市  hirata_tetsuji@example.com 2017-06-07  \n",
       "\n",
       "[5 rows x 9 columns]"
      ]
     },
     "execution_count": 265,
     "metadata": {},
     "output_type": "execute_result"
    }
   ],
   "source": [
    "#ダンプする前に列を並び替え、より分かりやすくする。例えば、購入日付情報を隣り合わせにする\n",
    "dump_data = join_data[\n",
    "    [\n",
    "        'purchase_date', \n",
    "        'purchase_month', \n",
    "        'item_name', \n",
    "        'item_price', \n",
    "        '顧客名', \n",
    "        'かな', \n",
    "        '地域', \n",
    "        'メールアドレス', \n",
    "        '登録日'\n",
    "    ]\n",
    "]\n",
    "dump_data.head()"
   ]
  },
  {
   "cell_type": "code",
   "execution_count": 266,
   "metadata": {},
   "outputs": [],
   "source": [
    "#csvファイル「dump_data.csv」に出力する\n",
    "dump_data.to_csv('dump_data.csv', index=False)"
   ]
  },
  {
   "cell_type": "markdown",
   "metadata": {},
   "source": [
    "---"
   ]
  },
  {
   "cell_type": "markdown",
   "metadata": {},
   "source": [
    "#### ステップ9 データを集計する"
   ]
  },
  {
   "cell_type": "code",
   "execution_count": 267,
   "metadata": {
    "scrolled": true
   },
   "outputs": [
    {
     "data": {
      "text/html": [
       "<div>\n",
       "<style scoped>\n",
       "    .dataframe tbody tr th:only-of-type {\n",
       "        vertical-align: middle;\n",
       "    }\n",
       "\n",
       "    .dataframe tbody tr th {\n",
       "        vertical-align: top;\n",
       "    }\n",
       "\n",
       "    .dataframe thead th {\n",
       "        text-align: right;\n",
       "    }\n",
       "</style>\n",
       "<table border=\"1\" class=\"dataframe\">\n",
       "  <thead>\n",
       "    <tr style=\"text-align: right;\">\n",
       "      <th></th>\n",
       "      <th>purchase_date</th>\n",
       "      <th>purchase_month</th>\n",
       "      <th>item_name</th>\n",
       "      <th>item_price</th>\n",
       "      <th>顧客名</th>\n",
       "      <th>かな</th>\n",
       "      <th>地域</th>\n",
       "      <th>メールアドレス</th>\n",
       "      <th>登録日</th>\n",
       "    </tr>\n",
       "  </thead>\n",
       "  <tbody>\n",
       "    <tr>\n",
       "      <td>0</td>\n",
       "      <td>2019-06-13 18:02:34</td>\n",
       "      <td>2019/06</td>\n",
       "      <td>商品A</td>\n",
       "      <td>100.0</td>\n",
       "      <td>深井菜々美</td>\n",
       "      <td>ふかい ななみ</td>\n",
       "      <td>C市</td>\n",
       "      <td>fukai_nanami@example.com</td>\n",
       "      <td>2017-01-26 00:00:00</td>\n",
       "    </tr>\n",
       "    <tr>\n",
       "      <td>...</td>\n",
       "      <td>...</td>\n",
       "      <td>...</td>\n",
       "      <td>...</td>\n",
       "      <td>...</td>\n",
       "      <td>...</td>\n",
       "      <td>...</td>\n",
       "      <td>...</td>\n",
       "      <td>...</td>\n",
       "      <td>...</td>\n",
       "    </tr>\n",
       "    <tr>\n",
       "      <td>4</td>\n",
       "      <td>2019-04-22 03:09:35</td>\n",
       "      <td>2019/04</td>\n",
       "      <td>商品A</td>\n",
       "      <td>100.0</td>\n",
       "      <td>平田鉄二</td>\n",
       "      <td>ひらた てつじ</td>\n",
       "      <td>D市</td>\n",
       "      <td>hirata_tetsuji@example.com</td>\n",
       "      <td>2017-06-07 00:00:00</td>\n",
       "    </tr>\n",
       "  </tbody>\n",
       "</table>\n",
       "<p>5 rows × 9 columns</p>\n",
       "</div>"
      ],
      "text/plain": [
       "          purchase_date purchase_month item_name  item_price    顧客名       かな  \\\n",
       "0   2019-06-13 18:02:34        2019/06       商品A       100.0  深井菜々美  ふかい ななみ   \n",
       "..                  ...            ...       ...         ...    ...      ...   \n",
       "4   2019-04-22 03:09:35        2019/04       商品A       100.0   平田鉄二  ひらた てつじ   \n",
       "\n",
       "    地域                     メールアドレス                  登録日  \n",
       "0   C市    fukai_nanami@example.com  2017-01-26 00:00:00  \n",
       "..  ..                         ...                  ...  \n",
       "4   D市  hirata_tetsuji@example.com  2017-06-07 00:00:00  \n",
       "\n",
       "[5 rows x 9 columns]"
      ]
     },
     "execution_count": 267,
     "metadata": {},
     "output_type": "execute_result"
    }
   ],
   "source": [
    "#さきほどダンプした「dump_data.csv」を読み込んでデータ集計の準備をする\n",
    "import_data = pd.read_csv('dump_data.csv')\n",
    "import_data.head()"
   ]
  },
  {
   "cell_type": "code",
   "execution_count": 268,
   "metadata": {
    "scrolled": true
   },
   "outputs": [
    {
     "data": {
      "text/html": [
       "<div>\n",
       "<style scoped>\n",
       "    .dataframe tbody tr th:only-of-type {\n",
       "        vertical-align: middle;\n",
       "    }\n",
       "\n",
       "    .dataframe tbody tr th {\n",
       "        vertical-align: top;\n",
       "    }\n",
       "\n",
       "    .dataframe thead th {\n",
       "        text-align: right;\n",
       "    }\n",
       "</style>\n",
       "<table border=\"1\" class=\"dataframe\">\n",
       "  <thead>\n",
       "    <tr style=\"text-align: right;\">\n",
       "      <th>item_name</th>\n",
       "      <th>商品A</th>\n",
       "      <th>商品B</th>\n",
       "      <th>商品C</th>\n",
       "      <th>商品D</th>\n",
       "      <th>商品E</th>\n",
       "      <th>商品F</th>\n",
       "      <th>商品G</th>\n",
       "      <th>商品H</th>\n",
       "      <th>商品I</th>\n",
       "      <th>商品J</th>\n",
       "      <th>...</th>\n",
       "      <th>商品Q</th>\n",
       "      <th>商品R</th>\n",
       "      <th>商品S</th>\n",
       "      <th>商品T</th>\n",
       "      <th>商品U</th>\n",
       "      <th>商品V</th>\n",
       "      <th>商品W</th>\n",
       "      <th>商品X</th>\n",
       "      <th>商品Y</th>\n",
       "      <th>商品Z</th>\n",
       "    </tr>\n",
       "    <tr>\n",
       "      <th>purchase_month</th>\n",
       "      <th></th>\n",
       "      <th></th>\n",
       "      <th></th>\n",
       "      <th></th>\n",
       "      <th></th>\n",
       "      <th></th>\n",
       "      <th></th>\n",
       "      <th></th>\n",
       "      <th></th>\n",
       "      <th></th>\n",
       "      <th></th>\n",
       "      <th></th>\n",
       "      <th></th>\n",
       "      <th></th>\n",
       "      <th></th>\n",
       "      <th></th>\n",
       "      <th></th>\n",
       "      <th></th>\n",
       "      <th></th>\n",
       "      <th></th>\n",
       "      <th></th>\n",
       "    </tr>\n",
       "  </thead>\n",
       "  <tbody>\n",
       "    <tr>\n",
       "      <td>2019/01</td>\n",
       "      <td>18</td>\n",
       "      <td>13</td>\n",
       "      <td>19</td>\n",
       "      <td>17</td>\n",
       "      <td>18</td>\n",
       "      <td>15</td>\n",
       "      <td>11</td>\n",
       "      <td>16</td>\n",
       "      <td>18</td>\n",
       "      <td>17</td>\n",
       "      <td>...</td>\n",
       "      <td>17</td>\n",
       "      <td>21</td>\n",
       "      <td>20</td>\n",
       "      <td>17</td>\n",
       "      <td>7</td>\n",
       "      <td>22</td>\n",
       "      <td>13</td>\n",
       "      <td>14</td>\n",
       "      <td>10</td>\n",
       "      <td>0</td>\n",
       "    </tr>\n",
       "    <tr>\n",
       "      <td>...</td>\n",
       "      <td>...</td>\n",
       "      <td>...</td>\n",
       "      <td>...</td>\n",
       "      <td>...</td>\n",
       "      <td>...</td>\n",
       "      <td>...</td>\n",
       "      <td>...</td>\n",
       "      <td>...</td>\n",
       "      <td>...</td>\n",
       "      <td>...</td>\n",
       "      <td>...</td>\n",
       "      <td>...</td>\n",
       "      <td>...</td>\n",
       "      <td>...</td>\n",
       "      <td>...</td>\n",
       "      <td>...</td>\n",
       "      <td>...</td>\n",
       "      <td>...</td>\n",
       "      <td>...</td>\n",
       "      <td>...</td>\n",
       "      <td>...</td>\n",
       "    </tr>\n",
       "    <tr>\n",
       "      <td>2019/07</td>\n",
       "      <td>20</td>\n",
       "      <td>20</td>\n",
       "      <td>17</td>\n",
       "      <td>17</td>\n",
       "      <td>12</td>\n",
       "      <td>17</td>\n",
       "      <td>19</td>\n",
       "      <td>19</td>\n",
       "      <td>19</td>\n",
       "      <td>23</td>\n",
       "      <td>...</td>\n",
       "      <td>15</td>\n",
       "      <td>19</td>\n",
       "      <td>23</td>\n",
       "      <td>21</td>\n",
       "      <td>13</td>\n",
       "      <td>28</td>\n",
       "      <td>16</td>\n",
       "      <td>18</td>\n",
       "      <td>12</td>\n",
       "      <td>0</td>\n",
       "    </tr>\n",
       "  </tbody>\n",
       "</table>\n",
       "<p>7 rows × 26 columns</p>\n",
       "</div>"
      ],
      "text/plain": [
       "item_name       商品A  商品B  商品C  商品D  商品E  商品F  商品G  商品H  商品I  商品J  ...  商品Q  \\\n",
       "purchase_month                                                    ...        \n",
       "2019/01          18   13   19   17   18   15   11   16   18   17  ...   17   \n",
       "...             ...  ...  ...  ...  ...  ...  ...  ...  ...  ...  ...  ...   \n",
       "2019/07          20   20   17   17   12   17   19   19   19   23  ...   15   \n",
       "\n",
       "item_name       商品R  商品S  商品T  商品U  商品V  商品W  商品X  商品Y  商品Z  \n",
       "purchase_month                                               \n",
       "2019/01          21   20   17    7   22   13   14   10    0  \n",
       "...             ...  ...  ...  ...  ...  ...  ...  ...  ...  \n",
       "2019/07          19   23   21   13   28   16   18   12    0  \n",
       "\n",
       "[7 rows x 26 columns]"
      ]
     },
     "execution_count": 268,
     "metadata": {},
     "output_type": "execute_result"
    }
   ],
   "source": [
    "#purchase_monthを縦軸に、商品ごとの集計結果を表示する\n",
    "byItem = import_data.pivot_table(\n",
    "    index='purchase_month', \n",
    "    columns='item_name', \n",
    "    aggfunc='size', \n",
    "    fill_value=0\n",
    ")\n",
    "byItem"
   ]
  },
  {
   "cell_type": "code",
   "execution_count": 269,
   "metadata": {},
   "outputs": [
    {
     "data": {
      "text/html": [
       "<div>\n",
       "<style scoped>\n",
       "    .dataframe tbody tr th:only-of-type {\n",
       "        vertical-align: middle;\n",
       "    }\n",
       "\n",
       "    .dataframe tbody tr th {\n",
       "        vertical-align: top;\n",
       "    }\n",
       "\n",
       "    .dataframe thead th {\n",
       "        text-align: right;\n",
       "    }\n",
       "</style>\n",
       "<table border=\"1\" class=\"dataframe\">\n",
       "  <thead>\n",
       "    <tr style=\"text-align: right;\">\n",
       "      <th>item_name</th>\n",
       "      <th>商品A</th>\n",
       "      <th>商品B</th>\n",
       "      <th>商品C</th>\n",
       "      <th>商品D</th>\n",
       "      <th>商品E</th>\n",
       "      <th>商品F</th>\n",
       "      <th>商品G</th>\n",
       "      <th>商品H</th>\n",
       "      <th>商品I</th>\n",
       "      <th>商品J</th>\n",
       "      <th>...</th>\n",
       "      <th>商品Q</th>\n",
       "      <th>商品R</th>\n",
       "      <th>商品S</th>\n",
       "      <th>商品T</th>\n",
       "      <th>商品U</th>\n",
       "      <th>商品V</th>\n",
       "      <th>商品W</th>\n",
       "      <th>商品X</th>\n",
       "      <th>商品Y</th>\n",
       "      <th>商品Z</th>\n",
       "    </tr>\n",
       "    <tr>\n",
       "      <th>purchase_month</th>\n",
       "      <th></th>\n",
       "      <th></th>\n",
       "      <th></th>\n",
       "      <th></th>\n",
       "      <th></th>\n",
       "      <th></th>\n",
       "      <th></th>\n",
       "      <th></th>\n",
       "      <th></th>\n",
       "      <th></th>\n",
       "      <th></th>\n",
       "      <th></th>\n",
       "      <th></th>\n",
       "      <th></th>\n",
       "      <th></th>\n",
       "      <th></th>\n",
       "      <th></th>\n",
       "      <th></th>\n",
       "      <th></th>\n",
       "      <th></th>\n",
       "      <th></th>\n",
       "    </tr>\n",
       "  </thead>\n",
       "  <tbody>\n",
       "    <tr>\n",
       "      <td>2019/01</td>\n",
       "      <td>1800</td>\n",
       "      <td>2600</td>\n",
       "      <td>5700</td>\n",
       "      <td>6800</td>\n",
       "      <td>9000</td>\n",
       "      <td>9000</td>\n",
       "      <td>7700</td>\n",
       "      <td>12800</td>\n",
       "      <td>16200</td>\n",
       "      <td>17000</td>\n",
       "      <td>...</td>\n",
       "      <td>28900</td>\n",
       "      <td>37800</td>\n",
       "      <td>38000</td>\n",
       "      <td>34000</td>\n",
       "      <td>14700</td>\n",
       "      <td>48400</td>\n",
       "      <td>29900</td>\n",
       "      <td>33600</td>\n",
       "      <td>25000</td>\n",
       "      <td>0</td>\n",
       "    </tr>\n",
       "    <tr>\n",
       "      <td>...</td>\n",
       "      <td>...</td>\n",
       "      <td>...</td>\n",
       "      <td>...</td>\n",
       "      <td>...</td>\n",
       "      <td>...</td>\n",
       "      <td>...</td>\n",
       "      <td>...</td>\n",
       "      <td>...</td>\n",
       "      <td>...</td>\n",
       "      <td>...</td>\n",
       "      <td>...</td>\n",
       "      <td>...</td>\n",
       "      <td>...</td>\n",
       "      <td>...</td>\n",
       "      <td>...</td>\n",
       "      <td>...</td>\n",
       "      <td>...</td>\n",
       "      <td>...</td>\n",
       "      <td>...</td>\n",
       "      <td>...</td>\n",
       "      <td>...</td>\n",
       "    </tr>\n",
       "    <tr>\n",
       "      <td>2019/07</td>\n",
       "      <td>2000</td>\n",
       "      <td>4000</td>\n",
       "      <td>5100</td>\n",
       "      <td>6800</td>\n",
       "      <td>6000</td>\n",
       "      <td>10200</td>\n",
       "      <td>13300</td>\n",
       "      <td>15200</td>\n",
       "      <td>17100</td>\n",
       "      <td>23000</td>\n",
       "      <td>...</td>\n",
       "      <td>25500</td>\n",
       "      <td>34200</td>\n",
       "      <td>43700</td>\n",
       "      <td>42000</td>\n",
       "      <td>27300</td>\n",
       "      <td>61600</td>\n",
       "      <td>36800</td>\n",
       "      <td>43200</td>\n",
       "      <td>30000</td>\n",
       "      <td>0</td>\n",
       "    </tr>\n",
       "  </tbody>\n",
       "</table>\n",
       "<p>7 rows × 26 columns</p>\n",
       "</div>"
      ],
      "text/plain": [
       "item_name        商品A   商品B   商品C   商品D   商品E    商品F    商品G    商品H    商品I  \\\n",
       "purchase_month                                                             \n",
       "2019/01         1800  2600  5700  6800  9000   9000   7700  12800  16200   \n",
       "...              ...   ...   ...   ...   ...    ...    ...    ...    ...   \n",
       "2019/07         2000  4000  5100  6800  6000  10200  13300  15200  17100   \n",
       "\n",
       "item_name         商品J  ...    商品Q    商品R    商品S    商品T    商品U    商品V    商品W  \\\n",
       "purchase_month         ...                                                    \n",
       "2019/01         17000  ...  28900  37800  38000  34000  14700  48400  29900   \n",
       "...               ...  ...    ...    ...    ...    ...    ...    ...    ...   \n",
       "2019/07         23000  ...  25500  34200  43700  42000  27300  61600  36800   \n",
       "\n",
       "item_name         商品X    商品Y  商品Z  \n",
       "purchase_month                     \n",
       "2019/01         33600  25000    0  \n",
       "...               ...    ...  ...  \n",
       "2019/07         43200  30000    0  \n",
       "\n",
       "[7 rows x 26 columns]"
      ]
     },
     "execution_count": 269,
     "metadata": {},
     "output_type": "execute_result"
    }
   ],
   "source": [
    "#purchase_monthを縦軸に、商品ごとの売上金額を集計する\n",
    "byPrice = import_data.pivot_table(\n",
    "    index='purchase_month', \n",
    "    columns='item_name', \n",
    "    values='item_price', \n",
    "    aggfunc='sum', \n",
    "    fill_value=0\n",
    ")\n",
    "byPrice"
   ]
  },
  {
   "cell_type": "code",
   "execution_count": 270,
   "metadata": {},
   "outputs": [
    {
     "data": {
      "text/html": [
       "<div>\n",
       "<style scoped>\n",
       "    .dataframe tbody tr th:only-of-type {\n",
       "        vertical-align: middle;\n",
       "    }\n",
       "\n",
       "    .dataframe tbody tr th {\n",
       "        vertical-align: top;\n",
       "    }\n",
       "\n",
       "    .dataframe thead th {\n",
       "        text-align: right;\n",
       "    }\n",
       "</style>\n",
       "<table border=\"1\" class=\"dataframe\">\n",
       "  <thead>\n",
       "    <tr style=\"text-align: right;\">\n",
       "      <th>顧客名</th>\n",
       "      <th>さだ千佳子</th>\n",
       "      <th>中仁晶</th>\n",
       "      <th>中田美智子</th>\n",
       "      <th>丸山光臣</th>\n",
       "      <th>久保田倫子</th>\n",
       "      <th>亀井一徳</th>\n",
       "      <th>五十嵐春樹</th>\n",
       "      <th>井上桃子</th>\n",
       "      <th>井口寛治</th>\n",
       "      <th>井川真悠子</th>\n",
       "      <th>...</th>\n",
       "      <th>香椎優一</th>\n",
       "      <th>高原充則</th>\n",
       "      <th>高梨結衣</th>\n",
       "      <th>高沢美咲</th>\n",
       "      <th>高田さんま</th>\n",
       "      <th>鳥居広司</th>\n",
       "      <th>鶴岡薫</th>\n",
       "      <th>麻生莉緒</th>\n",
       "      <th>黄川田博之</th>\n",
       "      <th>黒谷長利</th>\n",
       "    </tr>\n",
       "    <tr>\n",
       "      <th>purchase_month</th>\n",
       "      <th></th>\n",
       "      <th></th>\n",
       "      <th></th>\n",
       "      <th></th>\n",
       "      <th></th>\n",
       "      <th></th>\n",
       "      <th></th>\n",
       "      <th></th>\n",
       "      <th></th>\n",
       "      <th></th>\n",
       "      <th></th>\n",
       "      <th></th>\n",
       "      <th></th>\n",
       "      <th></th>\n",
       "      <th></th>\n",
       "      <th></th>\n",
       "      <th></th>\n",
       "      <th></th>\n",
       "      <th></th>\n",
       "      <th></th>\n",
       "      <th></th>\n",
       "    </tr>\n",
       "  </thead>\n",
       "  <tbody>\n",
       "    <tr>\n",
       "      <td>2019/01</td>\n",
       "      <td>3</td>\n",
       "      <td>1</td>\n",
       "      <td>4</td>\n",
       "      <td>2</td>\n",
       "      <td>2</td>\n",
       "      <td>0</td>\n",
       "      <td>5</td>\n",
       "      <td>3</td>\n",
       "      <td>3</td>\n",
       "      <td>1</td>\n",
       "      <td>...</td>\n",
       "      <td>0</td>\n",
       "      <td>1</td>\n",
       "      <td>1</td>\n",
       "      <td>1</td>\n",
       "      <td>5</td>\n",
       "      <td>2</td>\n",
       "      <td>0</td>\n",
       "      <td>2</td>\n",
       "      <td>2</td>\n",
       "      <td>5</td>\n",
       "    </tr>\n",
       "    <tr>\n",
       "      <td>...</td>\n",
       "      <td>...</td>\n",
       "      <td>...</td>\n",
       "      <td>...</td>\n",
       "      <td>...</td>\n",
       "      <td>...</td>\n",
       "      <td>...</td>\n",
       "      <td>...</td>\n",
       "      <td>...</td>\n",
       "      <td>...</td>\n",
       "      <td>...</td>\n",
       "      <td>...</td>\n",
       "      <td>...</td>\n",
       "      <td>...</td>\n",
       "      <td>...</td>\n",
       "      <td>...</td>\n",
       "      <td>...</td>\n",
       "      <td>...</td>\n",
       "      <td>...</td>\n",
       "      <td>...</td>\n",
       "      <td>...</td>\n",
       "      <td>...</td>\n",
       "    </tr>\n",
       "    <tr>\n",
       "      <td>2019/07</td>\n",
       "      <td>3</td>\n",
       "      <td>0</td>\n",
       "      <td>3</td>\n",
       "      <td>2</td>\n",
       "      <td>5</td>\n",
       "      <td>3</td>\n",
       "      <td>5</td>\n",
       "      <td>2</td>\n",
       "      <td>5</td>\n",
       "      <td>5</td>\n",
       "      <td>...</td>\n",
       "      <td>2</td>\n",
       "      <td>4</td>\n",
       "      <td>4</td>\n",
       "      <td>2</td>\n",
       "      <td>0</td>\n",
       "      <td>2</td>\n",
       "      <td>4</td>\n",
       "      <td>3</td>\n",
       "      <td>4</td>\n",
       "      <td>1</td>\n",
       "    </tr>\n",
       "  </tbody>\n",
       "</table>\n",
       "<p>7 rows × 199 columns</p>\n",
       "</div>"
      ],
      "text/plain": [
       "顧客名             さだ千佳子  中仁晶  中田美智子  丸山光臣  久保田倫子  亀井一徳  五十嵐春樹  井上桃子  井口寛治  \\\n",
       "purchase_month                                                            \n",
       "2019/01             3    1      4     2      2     0      5     3     3   \n",
       "...               ...  ...    ...   ...    ...   ...    ...   ...   ...   \n",
       "2019/07             3    0      3     2      5     3      5     2     5   \n",
       "\n",
       "顧客名             井川真悠子  ...  香椎優一  高原充則  高梨結衣  高沢美咲  高田さんま  鳥居広司  鶴岡薫  麻生莉緒  \\\n",
       "purchase_month         ...                                                   \n",
       "2019/01             1  ...     0     1     1     1      5     2    0     2   \n",
       "...               ...  ...   ...   ...   ...   ...    ...   ...  ...   ...   \n",
       "2019/07             5  ...     2     4     4     2      0     2    4     3   \n",
       "\n",
       "顧客名             黄川田博之  黒谷長利  \n",
       "purchase_month               \n",
       "2019/01             2     5  \n",
       "...               ...   ...  \n",
       "2019/07             4     1  \n",
       "\n",
       "[7 rows x 199 columns]"
      ]
     },
     "execution_count": 270,
     "metadata": {},
     "output_type": "execute_result"
    }
   ],
   "source": [
    "#purchase_monthを縦軸に、各顧客の購入数を集計する\n",
    "byCustomer = import_data.pivot_table(\n",
    "    index='purchase_month', \n",
    "    columns='顧客名', \n",
    "    aggfunc='size', \n",
    "    fill_value=0\n",
    ")\n",
    "byCustomer"
   ]
  },
  {
   "cell_type": "code",
   "execution_count": 271,
   "metadata": {},
   "outputs": [
    {
     "data": {
      "text/html": [
       "<div>\n",
       "<style scoped>\n",
       "    .dataframe tbody tr th:only-of-type {\n",
       "        vertical-align: middle;\n",
       "    }\n",
       "\n",
       "    .dataframe tbody tr th {\n",
       "        vertical-align: top;\n",
       "    }\n",
       "\n",
       "    .dataframe thead th {\n",
       "        text-align: right;\n",
       "    }\n",
       "</style>\n",
       "<table border=\"1\" class=\"dataframe\">\n",
       "  <thead>\n",
       "    <tr style=\"text-align: right;\">\n",
       "      <th>地域</th>\n",
       "      <th>A市</th>\n",
       "      <th>B市</th>\n",
       "      <th>C市</th>\n",
       "      <th>D市</th>\n",
       "      <th>E市</th>\n",
       "      <th>F市</th>\n",
       "      <th>G市</th>\n",
       "      <th>H市</th>\n",
       "    </tr>\n",
       "    <tr>\n",
       "      <th>purchase_month</th>\n",
       "      <th></th>\n",
       "      <th></th>\n",
       "      <th></th>\n",
       "      <th></th>\n",
       "      <th></th>\n",
       "      <th></th>\n",
       "      <th></th>\n",
       "      <th></th>\n",
       "    </tr>\n",
       "  </thead>\n",
       "  <tbody>\n",
       "    <tr>\n",
       "      <td>2019/01</td>\n",
       "      <td>59</td>\n",
       "      <td>55</td>\n",
       "      <td>72</td>\n",
       "      <td>34</td>\n",
       "      <td>49</td>\n",
       "      <td>57</td>\n",
       "      <td>49</td>\n",
       "      <td>42</td>\n",
       "    </tr>\n",
       "    <tr>\n",
       "      <td>...</td>\n",
       "      <td>...</td>\n",
       "      <td>...</td>\n",
       "      <td>...</td>\n",
       "      <td>...</td>\n",
       "      <td>...</td>\n",
       "      <td>...</td>\n",
       "      <td>...</td>\n",
       "      <td>...</td>\n",
       "    </tr>\n",
       "    <tr>\n",
       "      <td>2019/07</td>\n",
       "      <td>76</td>\n",
       "      <td>53</td>\n",
       "      <td>61</td>\n",
       "      <td>42</td>\n",
       "      <td>54</td>\n",
       "      <td>64</td>\n",
       "      <td>47</td>\n",
       "      <td>54</td>\n",
       "    </tr>\n",
       "  </tbody>\n",
       "</table>\n",
       "<p>7 rows × 8 columns</p>\n",
       "</div>"
      ],
      "text/plain": [
       "地域              A市  B市  C市  D市  E市  F市  G市  H市\n",
       "purchase_month                                \n",
       "2019/01         59  55  72  34  49  57  49  42\n",
       "...             ..  ..  ..  ..  ..  ..  ..  ..\n",
       "2019/07         76  53  61  42  54  64  47  54\n",
       "\n",
       "[7 rows x 8 columns]"
      ]
     },
     "execution_count": 271,
     "metadata": {},
     "output_type": "execute_result"
    }
   ],
   "source": [
    "#purchase_monthを縦軸に、地域ごとの購入数を集計する\n",
    "byRegion = import_data.pivot_table(\n",
    "    index='purchase_month', \n",
    "    columns='地域', \n",
    "    aggfunc='size', \n",
    "    fill_value=0\n",
    ")\n",
    "byRegion"
   ]
  },
  {
   "cell_type": "markdown",
   "metadata": {},
   "source": [
    "#customer_dataと主としてsales_dataを結合し、集計期間で商品を購入していないユーザがいないかチェックする準備を行う\n",
    "away_data = pd.merge( \n",
    "    customer_data, \n",
    "    sales_data,\n",
    "    left_on='顧客名', \n",
    "    right_on='customer_name', \n",
    ")\n",
    "away_data.head()"
   ]
  },
  {
   "cell_type": "markdown",
   "metadata": {},
   "source": [
    "# END"
   ]
  }
 ],
 "metadata": {
  "kernelspec": {
   "display_name": "Python 3",
   "language": "python",
   "name": "python3"
  },
  "language_info": {
   "codemirror_mode": {
    "name": "ipython",
    "version": 3
   },
   "file_extension": ".py",
   "mimetype": "text/x-python",
   "name": "python",
   "nbconvert_exporter": "python",
   "pygments_lexer": "ipython3",
   "version": "3.7.3"
  }
 },
 "nbformat": 4,
 "nbformat_minor": 4
}
