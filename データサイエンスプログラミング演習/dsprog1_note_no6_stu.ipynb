{
 "cells": [
  {
   "cell_type": "markdown",
   "metadata": {},
   "source": [
    "---\n",
    "<div style=\"text-align: center;\" >\n",
    "    <h1>\n",
    "        <b>データサイエンスプログラミング演習</b>\n",
    "    </h1>\n",
    "    <h3>\n",
    "        第15,16回授業（グループワーク） →　レポート（個人ワーク）<br>\n",
    "        <span style=\"color: #ff0000\"> - 課題をクリアしたら授業終了 - </span><br>\n",
    "        <span style=\"color: #ff0000\"> - 講師のチェックを受けること - </span><br>\n",
    "        <table>\n",
    "            <tr><td>提出期限</td><td>11/22（金)23:59 </td></tr>\n",
    "            <tr><td>提出ファイル</td><td>１つのPDFファイル</td></tr>\n",
    "            <tr><td>ファイル作成方法</td><td>Markdown or Wordなど</td></tr>\n",
    "        </table>\n",
    "    </h3>\n",
    "</div>\n",
    "\n",
    "---"
   ]
  },
  {
   "cell_type": "markdown",
   "metadata": {},
   "source": [
    "<div style='padding: 10px; margin-bottom: 10px; border: 1px dashed #333333;'>\n",
    "    <h3><b>データ分析の面白さ</b></h3>\n",
    "    <b>『現在のデータ』</b>から未来の予測が可能になること<br>\n",
    "    現状を分析することで問題点を把握し、よりよい未来に変える施策を実施できること<br>\n",
    "    <br>\n",
    "    さまざまな分析手法を導入しなくても、<b>『データを適切に加工し可視化する』</b>だけでも多くの情報が得られる。結果の出せるデータ分析エンジニアは適切な加工技術を備えている。いま取り扱っているデータがどのようなものであるかを把握することで、どのような機械学習の手法を用いれば良い結果が得られるかを判断できるようになる。\n",
    "</div>"
   ]
  },
  {
   "cell_type": "markdown",
   "metadata": {},
   "source": [
    "---"
   ]
  },
  {
   "cell_type": "markdown",
   "metadata": {},
   "source": [
    "# 実践データ分析 ケース３　『スポーツジムの例』\n",
    "\n",
    "### よくある依頼事項\n",
    "- 私の経営するスポーツジムでは、これまで会員数を増やしてきましたが、ここ一年、なんとなく会員数が伸び悩んでいる気がします。データ分析をしたことがないので、どのような会員が定着しているのかなどを把握できていないのが現状です。データ分析によって傾向をつかむことはできますか？<br>\n",
    "\n",
    "### ヒアリング調査結果\n",
    "- 本ジムには、いつでも利用できるオールタイム会員、日中だけ利用できるデイタイム会員、夜のみ利用できるナイト会員の３種類の会員区分が存在します。\n",
    "- 通常、入会費が必要ですが、不定期に入会費半額キャンペーンや入会費無料キャンペーンを実施し、新規会員獲得を行なっています。\n",
    "- 退会については、月末までに申請すると翌月末に退会することができます。例：3月19日退会申請　→　4月30日退会(=end_date)\n",
    "\n",
    "### 依頼主から入手できたデータ\n",
    "- use_log.csv：会員の利用履歴。期間（2018年4月〜2019年3月）\n",
    "- customer_gym.csv：2019年3月31日時点でのすべての会員データ。ただし、2018年1月1日〜2018年12月31日の期間に退会した会員データも含まれている。\n",
    "- class_gym.csv：会員区分データ（オールタイム、デイタイム、ナイトタイム）\n",
    "- campaign_gym：キャンペーン区分データ（入会金：通常、半額キャンペーン、無料キャンペーン）\n",
    "\n",
    "# データ分析の前提条件\n",
    "> ## 依頼日＆分析日：2019/04/19\n",
    "> ## これから皆さんがデータ分析をおこなうのは、2019/11/19でなく、2019/04/19であるとする。\n",
    "\n",
    "# 課題クリア要件（以下の一覧に担当者の名前をインプットし、Slackの「021_dsプロ演」チャンネルに投稿したら作業スタート）\n",
    "1. 会員情報のデータ分析 `（必須）`\n",
    " 1. （担当：全員）データの欠損、データの揺れをチェック・補完する\n",
    " 1. （担当：全員）会員の全体像をつかむために、会員データを整理する ＝ 利用履歴以外のデータ同士を結合する\n",
    " 1. （担当：〇〇）例：会員区分別の人数を示す\n",
    " 1. （担当：〇〇）例：キャンペーン区分別の人数を示す\n",
    " 1. （担当：〇〇）例：性別の会員数を示す\n",
    " 1. （担当：〇〇）例：年別の会員数を示す\n",
    " 1. （担当：〇〇）例：年度別の入会人数を示す\n",
    " 1. （担当：〇〇）例：在籍者と退会者の割合を示す\n",
    " 1. （担当：〇〇）例：月別の入会人数を示す\n",
    " 1. （担当：〇〇）データ検算をおこなう\n",
    " 1. （担当：全員） **全体の会員データから読み取れることを調査する。例えば、どの会員区分やキャンペーン区分の会員が多いか考察する**\n",
    " \n",
    " \n",
    "2. 最新会員情報のデータ分析 `（必須）`\n",
    " 1. （担当：全員）最新会員データを示す・・・最新月の会員データを集計することで現状会員の全体像を把握する\n",
    " 1. （担当：全員）データの欠損、データの揺れをチェック・補完する\n",
    " 1. （担当：〇〇）例：最新会員データに対して会員区分別に人数を示す\n",
    " 1. （担当：〇〇）例：最新会員データに対してキャンペーン区分別に人数を示す\n",
    " 1. （担当：〇〇）例：最新会員データに対して性別人数を示す\n",
    " 1. （担当：〇〇）例：月別の入会人数を示す\n",
    " 1. （担当：〇〇）例：在籍者と退会者の割合を示す\n",
    " 1. （担当：〇〇）データ検算をおこなう\n",
    " 1. （担当：全員）**最新の会員データから読み取れることを調査する。例えば、どの会員区分やキャンペーン区分の会員が多いか、全体の会員データとの違いなどを考察する**\n",
    " \n",
    " \n",
    "3. 利用履歴のデータ分析 `（任意）`\n",
    " 1. （担当：〇〇）データの欠損、データの揺れをチェック・補完する\n",
    " 1. （担当：〇〇）全体像をつかむために、利用履歴データを整理する = 利用履歴データと会員データを結合する\n",
    " 1. （担当：〇〇）利用回数の平均値、中央値、最大値、最小値を示す\n",
    " 1. （担当：〇〇）会員別月ごとの利用回数の集計結果を示す\n",
    " 1. （担当：〇〇）会員別曜日ごとの利用回数の集計結果を示す\n",
    " 1. （担当：〇〇）定期的に利用しているかどうかを調べる ＝ 毎週通っている、毎月n回以上通っているなど\n",
    " 1. （担当：〇〇）会員期間を示す\n",
    " 1. （担当：〇〇）退会する会員と継続する会員との違いを示す"
   ]
  },
  {
   "cell_type": "code",
   "execution_count": 22,
   "metadata": {},
   "outputs": [],
   "source": [
    "#データフレームの表示数を設定する\n",
    "import pandas as pd\n",
    "#すべての行を表示する\n",
    "pd.set_option('display.max_rows', None)\n",
    "#8行分を表示する\n",
    "#pd.set_option('display.max_rows',8)"
   ]
  },
  {
   "cell_type": "code",
   "execution_count": 23,
   "metadata": {},
   "outputs": [
    {
     "data": {
      "text/html": [
       "<div>\n",
       "<style scoped>\n",
       "    .dataframe tbody tr th:only-of-type {\n",
       "        vertical-align: middle;\n",
       "    }\n",
       "\n",
       "    .dataframe tbody tr th {\n",
       "        vertical-align: top;\n",
       "    }\n",
       "\n",
       "    .dataframe thead th {\n",
       "        text-align: right;\n",
       "    }\n",
       "</style>\n",
       "<table border=\"1\" class=\"dataframe\">\n",
       "  <thead>\n",
       "    <tr style=\"text-align: right;\">\n",
       "      <th></th>\n",
       "      <th>campaign_id</th>\n",
       "      <th>campaign_name</th>\n",
       "    </tr>\n",
       "  </thead>\n",
       "  <tbody>\n",
       "    <tr>\n",
       "      <td>0</td>\n",
       "      <td>CA1</td>\n",
       "      <td>通常</td>\n",
       "    </tr>\n",
       "    <tr>\n",
       "      <td>1</td>\n",
       "      <td>CA2</td>\n",
       "      <td>入会費半額</td>\n",
       "    </tr>\n",
       "    <tr>\n",
       "      <td>2</td>\n",
       "      <td>CA3</td>\n",
       "      <td>入会費無料</td>\n",
       "    </tr>\n",
       "  </tbody>\n",
       "</table>\n",
       "</div>"
      ],
      "text/plain": [
       "  campaign_id campaign_name\n",
       "0         CA1            通常\n",
       "1         CA2         入会費半額\n",
       "2         CA3         入会費無料"
      ]
     },
     "execution_count": 23,
     "metadata": {},
     "output_type": "execute_result"
    }
   ],
   "source": [
    "#campaign_gym：キャンペーン区分データ（入会金：通常、半額キャンペーン、無料キャンペーン）\n",
    "ca_g = pd.read_csv('campaign_gym.csv', encoding='UTF-8')\n",
    "ca_g"
   ]
  },
  {
   "cell_type": "code",
   "execution_count": 24,
   "metadata": {},
   "outputs": [
    {
     "data": {
      "text/html": [
       "<div>\n",
       "<style scoped>\n",
       "    .dataframe tbody tr th:only-of-type {\n",
       "        vertical-align: middle;\n",
       "    }\n",
       "\n",
       "    .dataframe tbody tr th {\n",
       "        vertical-align: top;\n",
       "    }\n",
       "\n",
       "    .dataframe thead th {\n",
       "        text-align: right;\n",
       "    }\n",
       "</style>\n",
       "<table border=\"1\" class=\"dataframe\">\n",
       "  <thead>\n",
       "    <tr style=\"text-align: right;\">\n",
       "      <th></th>\n",
       "      <th>class</th>\n",
       "      <th>class_name</th>\n",
       "      <th>price</th>\n",
       "    </tr>\n",
       "  </thead>\n",
       "  <tbody>\n",
       "    <tr>\n",
       "      <td>0</td>\n",
       "      <td>C01</td>\n",
       "      <td>オールタイム</td>\n",
       "      <td>10500</td>\n",
       "    </tr>\n",
       "    <tr>\n",
       "      <td>1</td>\n",
       "      <td>C02</td>\n",
       "      <td>デイタイム</td>\n",
       "      <td>7500</td>\n",
       "    </tr>\n",
       "    <tr>\n",
       "      <td>2</td>\n",
       "      <td>C03</td>\n",
       "      <td>ナイト</td>\n",
       "      <td>6000</td>\n",
       "    </tr>\n",
       "  </tbody>\n",
       "</table>\n",
       "</div>"
      ],
      "text/plain": [
       "  class class_name  price\n",
       "0   C01     オールタイム  10500\n",
       "1   C02      デイタイム   7500\n",
       "2   C03        ナイト   6000"
      ]
     },
     "execution_count": 24,
     "metadata": {},
     "output_type": "execute_result"
    }
   ],
   "source": [
    "#class_gym.csv：会員区分データ（オールタイム、デイタイム、ナイトタイム）\n",
    "cl_g = pd.read_csv('class_gym.csv', encoding='UTF-8')\n",
    "cl_g"
   ]
  },
  {
   "cell_type": "code",
   "execution_count": 25,
   "metadata": {},
   "outputs": [
    {
     "data": {
      "text/html": [
       "<div>\n",
       "<style scoped>\n",
       "    .dataframe tbody tr th:only-of-type {\n",
       "        vertical-align: middle;\n",
       "    }\n",
       "\n",
       "    .dataframe tbody tr th {\n",
       "        vertical-align: top;\n",
       "    }\n",
       "\n",
       "    .dataframe thead th {\n",
       "        text-align: right;\n",
       "    }\n",
       "</style>\n",
       "<table border=\"1\" class=\"dataframe\">\n",
       "  <thead>\n",
       "    <tr style=\"text-align: right;\">\n",
       "      <th></th>\n",
       "      <th>log_id</th>\n",
       "      <th>customer_id</th>\n",
       "      <th>usedate</th>\n",
       "    </tr>\n",
       "  </thead>\n",
       "  <tbody>\n",
       "    <tr>\n",
       "      <td>0</td>\n",
       "      <td>L00000049012330</td>\n",
       "      <td>AS009373</td>\n",
       "      <td>2018-04-01</td>\n",
       "    </tr>\n",
       "    <tr>\n",
       "      <td>1</td>\n",
       "      <td>L00000049012331</td>\n",
       "      <td>AS015315</td>\n",
       "      <td>2018-04-01</td>\n",
       "    </tr>\n",
       "    <tr>\n",
       "      <td>2</td>\n",
       "      <td>L00000049012332</td>\n",
       "      <td>AS040841</td>\n",
       "      <td>2018-04-01</td>\n",
       "    </tr>\n",
       "    <tr>\n",
       "      <td>3</td>\n",
       "      <td>L00000049012333</td>\n",
       "      <td>AS046594</td>\n",
       "      <td>2018-04-01</td>\n",
       "    </tr>\n",
       "    <tr>\n",
       "      <td>4</td>\n",
       "      <td>L00000049012334</td>\n",
       "      <td>AS073285</td>\n",
       "      <td>2018-04-01</td>\n",
       "    </tr>\n",
       "  </tbody>\n",
       "</table>\n",
       "</div>"
      ],
      "text/plain": [
       "            log_id customer_id     usedate\n",
       "0  L00000049012330    AS009373  2018-04-01\n",
       "1  L00000049012331    AS015315  2018-04-01\n",
       "2  L00000049012332    AS040841  2018-04-01\n",
       "3  L00000049012333    AS046594  2018-04-01\n",
       "4  L00000049012334    AS073285  2018-04-01"
      ]
     },
     "execution_count": 25,
     "metadata": {},
     "output_type": "execute_result"
    }
   ],
   "source": [
    "#use_log.csv：会員の利用履歴。期間（2018年4月〜2019年3月）\n",
    "u_l = pd.read_csv('use_log.csv', encoding='UTF-8')\n",
    "u_l.head()"
   ]
  },
  {
   "cell_type": "code",
   "execution_count": 26,
   "metadata": {},
   "outputs": [
    {
     "name": "stdout",
     "output_type": "stream",
     "text": [
      "197428\n"
     ]
    }
   ],
   "source": [
    "print(len(u_l))"
   ]
  },
  {
   "cell_type": "code",
   "execution_count": null,
   "metadata": {},
   "outputs": [],
   "source": [
    "\"\"\"\n",
    "customer_gym.csv\n",
    "2019年3月31日時点でのすべての会員データ。\n",
    "2018年1月1日〜2018年12月31日の期間に退会した会員データも含まれている。\n",
    "\"\"\"\n",
    "cu_g = pd.read_csv('customer_gym.csv', encoding='UTF-8')\n",
    "cu_g['customer_id']=cu_g['customer_id'].str.upper()\n",
    "cu_g.head()"
   ]
  },
  {
   "cell_type": "code",
   "execution_count": 28,
   "metadata": {},
   "outputs": [
    {
     "name": "stdout",
     "output_type": "stream",
     "text": [
      "4192\n"
     ]
    }
   ],
   "source": [
    "print(len(cu_g))"
   ]
  },
  {
   "cell_type": "code",
   "execution_count": 29,
   "metadata": {},
   "outputs": [
    {
     "data": {
      "text/plain": [
       "customer_id       0\n",
       "name              0\n",
       "class             0\n",
       "gender            0\n",
       "start_date        0\n",
       "end_date       2842\n",
       "campaign_id       0\n",
       "is_deleted        0\n",
       "dtype: int64"
      ]
     },
     "execution_count": 29,
     "metadata": {},
     "output_type": "execute_result"
    }
   ],
   "source": [
    "cu_g.isnull().sum()"
   ]
  },
  {
   "cell_type": "code",
   "execution_count": 30,
   "metadata": {},
   "outputs": [
    {
     "name": "stdout",
     "output_type": "stream",
     "text": [
      "1350\n"
     ]
    }
   ],
   "source": [
    "print(len(cu_g.dropna()))"
   ]
  },
  {
   "cell_type": "code",
   "execution_count": null,
   "metadata": {},
   "outputs": [],
   "source": [
    "merged_df.groupby(\"is_deleted\").count()[\"customer_id\"]"
   ]
  },
  {
   "cell_type": "code",
   "execution_count": 48,
   "metadata": {},
   "outputs": [
    {
     "data": {
      "text/html": [
       "<div>\n",
       "<style scoped>\n",
       "    .dataframe tbody tr th:only-of-type {\n",
       "        vertical-align: middle;\n",
       "    }\n",
       "\n",
       "    .dataframe tbody tr th {\n",
       "        vertical-align: top;\n",
       "    }\n",
       "\n",
       "    .dataframe thead th {\n",
       "        text-align: right;\n",
       "    }\n",
       "</style>\n",
       "<table border=\"1\" class=\"dataframe\">\n",
       "  <thead>\n",
       "    <tr style=\"text-align: right;\">\n",
       "      <th></th>\n",
       "      <th>customer_id</th>\n",
       "      <th>name</th>\n",
       "      <th>class</th>\n",
       "      <th>gender</th>\n",
       "      <th>start_date</th>\n",
       "      <th>end_date</th>\n",
       "      <th>campaign_id</th>\n",
       "      <th>is_deleted</th>\n",
       "      <th>class_name</th>\n",
       "      <th>price</th>\n",
       "      <th>campaign_name</th>\n",
       "    </tr>\n",
       "  </thead>\n",
       "  <tbody>\n",
       "    <tr>\n",
       "      <td>0</td>\n",
       "      <td>AS058623</td>\n",
       "      <td>宇野沙弥</td>\n",
       "      <td>C01</td>\n",
       "      <td>F</td>\n",
       "      <td>2015-05-01 00:00:00</td>\n",
       "      <td>NaN</td>\n",
       "      <td>CA1</td>\n",
       "      <td>0</td>\n",
       "      <td>オールタイム</td>\n",
       "      <td>10500</td>\n",
       "      <td>通常</td>\n",
       "    </tr>\n",
       "    <tr>\n",
       "      <td>1</td>\n",
       "      <td>AS069821</td>\n",
       "      <td>小暮恵理</td>\n",
       "      <td>C03</td>\n",
       "      <td>F</td>\n",
       "      <td>2015-05-01 00:00:00</td>\n",
       "      <td>NaN</td>\n",
       "      <td>CA1</td>\n",
       "      <td>0</td>\n",
       "      <td>ナイト</td>\n",
       "      <td>6000</td>\n",
       "      <td>通常</td>\n",
       "    </tr>\n",
       "    <tr>\n",
       "      <td>2</td>\n",
       "      <td>AS183155</td>\n",
       "      <td>益子涼花</td>\n",
       "      <td>C03</td>\n",
       "      <td>F</td>\n",
       "      <td>2015-05-01 00:00:00</td>\n",
       "      <td>NaN</td>\n",
       "      <td>CA1</td>\n",
       "      <td>0</td>\n",
       "      <td>ナイト</td>\n",
       "      <td>6000</td>\n",
       "      <td>通常</td>\n",
       "    </tr>\n",
       "    <tr>\n",
       "      <td>3</td>\n",
       "      <td>AS476267</td>\n",
       "      <td>西口悠奈</td>\n",
       "      <td>C02</td>\n",
       "      <td>F</td>\n",
       "      <td>2015-05-01 00:00:00</td>\n",
       "      <td>NaN</td>\n",
       "      <td>CA1</td>\n",
       "      <td>0</td>\n",
       "      <td>デイタイム</td>\n",
       "      <td>7500</td>\n",
       "      <td>通常</td>\n",
       "    </tr>\n",
       "    <tr>\n",
       "      <td>4</td>\n",
       "      <td>AS625883</td>\n",
       "      <td>石本真紗子</td>\n",
       "      <td>C02</td>\n",
       "      <td>F</td>\n",
       "      <td>2015-05-01 00:00:00</td>\n",
       "      <td>NaN</td>\n",
       "      <td>CA1</td>\n",
       "      <td>0</td>\n",
       "      <td>デイタイム</td>\n",
       "      <td>7500</td>\n",
       "      <td>通常</td>\n",
       "    </tr>\n",
       "    <tr>\n",
       "      <td>5</td>\n",
       "      <td>AS647421</td>\n",
       "      <td>横溝奈々</td>\n",
       "      <td>C01</td>\n",
       "      <td>F</td>\n",
       "      <td>2015-05-01 00:00:00</td>\n",
       "      <td>NaN</td>\n",
       "      <td>CA1</td>\n",
       "      <td>0</td>\n",
       "      <td>オールタイム</td>\n",
       "      <td>10500</td>\n",
       "      <td>通常</td>\n",
       "    </tr>\n",
       "    <tr>\n",
       "      <td>6</td>\n",
       "      <td>AS732240</td>\n",
       "      <td>大坪柚季</td>\n",
       "      <td>C02</td>\n",
       "      <td>F</td>\n",
       "      <td>2015-05-01 00:00:00</td>\n",
       "      <td>NaN</td>\n",
       "      <td>CA1</td>\n",
       "      <td>0</td>\n",
       "      <td>デイタイム</td>\n",
       "      <td>7500</td>\n",
       "      <td>通常</td>\n",
       "    </tr>\n",
       "    <tr>\n",
       "      <td>7</td>\n",
       "      <td>AS734592</td>\n",
       "      <td>高坂亜衣</td>\n",
       "      <td>C02</td>\n",
       "      <td>F</td>\n",
       "      <td>2015-05-01 00:00:00</td>\n",
       "      <td>NaN</td>\n",
       "      <td>CA1</td>\n",
       "      <td>0</td>\n",
       "      <td>デイタイム</td>\n",
       "      <td>7500</td>\n",
       "      <td>通常</td>\n",
       "    </tr>\n",
       "    <tr>\n",
       "      <td>8</td>\n",
       "      <td>AS777651</td>\n",
       "      <td>安原国男</td>\n",
       "      <td>C01</td>\n",
       "      <td>M</td>\n",
       "      <td>2015-05-01 00:00:00</td>\n",
       "      <td>NaN</td>\n",
       "      <td>CA1</td>\n",
       "      <td>0</td>\n",
       "      <td>オールタイム</td>\n",
       "      <td>10500</td>\n",
       "      <td>通常</td>\n",
       "    </tr>\n",
       "    <tr>\n",
       "      <td>9</td>\n",
       "      <td>AS857207</td>\n",
       "      <td>千葉今日子</td>\n",
       "      <td>C02</td>\n",
       "      <td>F</td>\n",
       "      <td>2015-05-01 00:00:00</td>\n",
       "      <td>NaN</td>\n",
       "      <td>CA1</td>\n",
       "      <td>0</td>\n",
       "      <td>デイタイム</td>\n",
       "      <td>7500</td>\n",
       "      <td>通常</td>\n",
       "    </tr>\n",
       "    <tr>\n",
       "      <td>10</td>\n",
       "      <td>AS926104</td>\n",
       "      <td>米田莉桜</td>\n",
       "      <td>C03</td>\n",
       "      <td>F</td>\n",
       "      <td>2015-05-01 00:00:00</td>\n",
       "      <td>NaN</td>\n",
       "      <td>CA1</td>\n",
       "      <td>0</td>\n",
       "      <td>ナイト</td>\n",
       "      <td>6000</td>\n",
       "      <td>通常</td>\n",
       "    </tr>\n",
       "  </tbody>\n",
       "</table>\n",
       "</div>"
      ],
      "text/plain": [
       "   customer_id   name class gender           start_date end_date campaign_id  \\\n",
       "0     AS058623   宇野沙弥   C01      F  2015-05-01 00:00:00      NaN         CA1   \n",
       "1     AS069821   小暮恵理   C03      F  2015-05-01 00:00:00      NaN         CA1   \n",
       "2     AS183155   益子涼花   C03      F  2015-05-01 00:00:00      NaN         CA1   \n",
       "3     AS476267   西口悠奈   C02      F  2015-05-01 00:00:00      NaN         CA1   \n",
       "4     AS625883  石本真紗子   C02      F  2015-05-01 00:00:00      NaN         CA1   \n",
       "5     AS647421   横溝奈々   C01      F  2015-05-01 00:00:00      NaN         CA1   \n",
       "6     AS732240   大坪柚季   C02      F  2015-05-01 00:00:00      NaN         CA1   \n",
       "7     AS734592   高坂亜衣   C02      F  2015-05-01 00:00:00      NaN         CA1   \n",
       "8     AS777651   安原国男   C01      M  2015-05-01 00:00:00      NaN         CA1   \n",
       "9     AS857207  千葉今日子   C02      F  2015-05-01 00:00:00      NaN         CA1   \n",
       "10    AS926104   米田莉桜   C03      F  2015-05-01 00:00:00      NaN         CA1   \n",
       "\n",
       "    is_deleted class_name  price campaign_name  \n",
       "0            0     オールタイム  10500            通常  \n",
       "1            0        ナイト   6000            通常  \n",
       "2            0        ナイト   6000            通常  \n",
       "3            0      デイタイム   7500            通常  \n",
       "4            0      デイタイム   7500            通常  \n",
       "5            0     オールタイム  10500            通常  \n",
       "6            0      デイタイム   7500            通常  \n",
       "7            0      デイタイム   7500            通常  \n",
       "8            0     オールタイム  10500            通常  \n",
       "9            0      デイタイム   7500            通常  \n",
       "10           0        ナイト   6000            通常  "
      ]
     },
     "execution_count": 48,
     "metadata": {},
     "output_type": "execute_result"
    }
   ],
   "source": [
    "merged_df=pd.merge(cu_g,cl_g,on=\"class\",how=\"left\")\n",
    "merged_df=pd.merge(merged_df,ca_g,on=\"campaign_id\",how=\"left\")\n",
    "merged_df.loc[0:10]"
   ]
  },
  {
   "cell_type": "code",
   "execution_count": 15,
   "metadata": {},
   "outputs": [
    {
     "name": "stdout",
     "output_type": "stream",
     "text": [
      "4192\n",
      "4192\n"
     ]
    }
   ],
   "source": [
    "print(len(cu_g))\n",
    "print(len(merged_df))"
   ]
  },
  {
   "cell_type": "code",
   "execution_count": 35,
   "metadata": {},
   "outputs": [
    {
     "data": {
      "text/plain": [
       "customer_id         0\n",
       "name                0\n",
       "class               0\n",
       "gender              0\n",
       "start_date          0\n",
       "end_date         2842\n",
       "campaign_id         0\n",
       "is_deleted          0\n",
       "class_name          0\n",
       "price               0\n",
       "campaign_name       0\n",
       "dtype: int64"
      ]
     },
     "execution_count": 35,
     "metadata": {},
     "output_type": "execute_result"
    }
   ],
   "source": [
    "merged_df.isnull().sum()"
   ]
  },
  {
   "cell_type": "code",
   "execution_count": 43,
   "metadata": {},
   "outputs": [
    {
     "name": "stdout",
     "output_type": "stream",
     "text": [
      "2953\n"
     ]
    },
    {
     "data": {
      "text/html": [
       "<div>\n",
       "<style scoped>\n",
       "    .dataframe tbody tr th:only-of-type {\n",
       "        vertical-align: middle;\n",
       "    }\n",
       "\n",
       "    .dataframe tbody tr th {\n",
       "        vertical-align: top;\n",
       "    }\n",
       "\n",
       "    .dataframe thead th {\n",
       "        text-align: right;\n",
       "    }\n",
       "</style>\n",
       "<table border=\"1\" class=\"dataframe\">\n",
       "  <thead>\n",
       "    <tr style=\"text-align: right;\">\n",
       "      <th></th>\n",
       "      <th>customer_id</th>\n",
       "      <th>name</th>\n",
       "      <th>class</th>\n",
       "      <th>gender</th>\n",
       "      <th>start_date</th>\n",
       "      <th>end_date</th>\n",
       "      <th>campaign_id</th>\n",
       "      <th>is_deleted</th>\n",
       "      <th>class_name</th>\n",
       "      <th>price</th>\n",
       "      <th>campaign_name</th>\n",
       "    </tr>\n",
       "  </thead>\n",
       "  <tbody>\n",
       "    <tr>\n",
       "      <td>0</td>\n",
       "      <td>AS058623</td>\n",
       "      <td>宇野沙弥</td>\n",
       "      <td>C01</td>\n",
       "      <td>F</td>\n",
       "      <td>2015-05-01 00:00:00</td>\n",
       "      <td>NaT</td>\n",
       "      <td>CA1</td>\n",
       "      <td>0</td>\n",
       "      <td>オールタイム</td>\n",
       "      <td>10500</td>\n",
       "      <td>通常</td>\n",
       "    </tr>\n",
       "    <tr>\n",
       "      <td>1</td>\n",
       "      <td>AS069821</td>\n",
       "      <td>小暮恵理</td>\n",
       "      <td>C03</td>\n",
       "      <td>F</td>\n",
       "      <td>2015-05-01 00:00:00</td>\n",
       "      <td>NaT</td>\n",
       "      <td>CA1</td>\n",
       "      <td>0</td>\n",
       "      <td>ナイト</td>\n",
       "      <td>6000</td>\n",
       "      <td>通常</td>\n",
       "    </tr>\n",
       "    <tr>\n",
       "      <td>2</td>\n",
       "      <td>AS183155</td>\n",
       "      <td>益子涼花</td>\n",
       "      <td>C03</td>\n",
       "      <td>F</td>\n",
       "      <td>2015-05-01 00:00:00</td>\n",
       "      <td>NaT</td>\n",
       "      <td>CA1</td>\n",
       "      <td>0</td>\n",
       "      <td>ナイト</td>\n",
       "      <td>6000</td>\n",
       "      <td>通常</td>\n",
       "    </tr>\n",
       "    <tr>\n",
       "      <td>3</td>\n",
       "      <td>AS476267</td>\n",
       "      <td>西口悠奈</td>\n",
       "      <td>C02</td>\n",
       "      <td>F</td>\n",
       "      <td>2015-05-01 00:00:00</td>\n",
       "      <td>NaT</td>\n",
       "      <td>CA1</td>\n",
       "      <td>0</td>\n",
       "      <td>デイタイム</td>\n",
       "      <td>7500</td>\n",
       "      <td>通常</td>\n",
       "    </tr>\n",
       "    <tr>\n",
       "      <td>4</td>\n",
       "      <td>AS625883</td>\n",
       "      <td>石本真紗子</td>\n",
       "      <td>C02</td>\n",
       "      <td>F</td>\n",
       "      <td>2015-05-01 00:00:00</td>\n",
       "      <td>NaT</td>\n",
       "      <td>CA1</td>\n",
       "      <td>0</td>\n",
       "      <td>デイタイム</td>\n",
       "      <td>7500</td>\n",
       "      <td>通常</td>\n",
       "    </tr>\n",
       "  </tbody>\n",
       "</table>\n",
       "</div>"
      ],
      "text/plain": [
       "  customer_id   name class gender           start_date end_date campaign_id  \\\n",
       "0    AS058623   宇野沙弥   C01      F  2015-05-01 00:00:00      NaT         CA1   \n",
       "1    AS069821   小暮恵理   C03      F  2015-05-01 00:00:00      NaT         CA1   \n",
       "2    AS183155   益子涼花   C03      F  2015-05-01 00:00:00      NaT         CA1   \n",
       "3    AS476267   西口悠奈   C02      F  2015-05-01 00:00:00      NaT         CA1   \n",
       "4    AS625883  石本真紗子   C02      F  2015-05-01 00:00:00      NaT         CA1   \n",
       "\n",
       "   is_deleted class_name  price campaign_name  \n",
       "0           0     オールタイム  10500            通常  \n",
       "1           0        ナイト   6000            通常  \n",
       "2           0        ナイト   6000            通常  \n",
       "3           0      デイタイム   7500            通常  \n",
       "4           0      デイタイム   7500            通常  "
      ]
     },
     "execution_count": 43,
     "metadata": {},
     "output_type": "execute_result"
    }
   ],
   "source": [
    "merged_df[\"end_date\"]=pd.to_datetime(merged_df[\"end_date\"])\n",
    "customer_newer=merged_df.loc[(merged_df[\"end_date\"]>=pd.to_datetime(\"20190301\"))|(merged_df[\"end_date\"].isna())]\n",
    "print(len(customer_newer))\n",
    "customer_newer.head()"
   ]
  },
  {
   "cell_type": "code",
   "execution_count": 41,
   "metadata": {},
   "outputs": [
    {
     "data": {
      "text/plain": [
       "class_name\n",
       "オールタイム    1444\n",
       "デイタイム      696\n",
       "ナイト        813\n",
       "Name: customer_id, dtype: int64"
      ]
     },
     "execution_count": 41,
     "metadata": {},
     "output_type": "execute_result"
    }
   ],
   "source": [
    "customer_newer.groupby(\"class_name\").count()[\"customer_id\"]"
   ]
  },
  {
   "cell_type": "code",
   "execution_count": 50,
   "metadata": {},
   "outputs": [
    {
     "data": {
      "text/plain": [
       "customer_id         0\n",
       "name                0\n",
       "class               0\n",
       "gender              0\n",
       "start_date          0\n",
       "end_date         2842\n",
       "campaign_id         0\n",
       "is_deleted          0\n",
       "class_name          0\n",
       "price               0\n",
       "campaign_name       0\n",
       "dtype: int64"
      ]
     },
     "execution_count": 50,
     "metadata": {},
     "output_type": "execute_result"
    }
   ],
   "source": [
    "customer_newer.isnull().sum()"
   ]
  }
 ],
 "metadata": {
  "kernelspec": {
   "display_name": "Python 3",
   "language": "python",
   "name": "python3"
  },
  "language_info": {
   "codemirror_mode": {
    "name": "ipython",
    "version": 3
   },
   "file_extension": ".py",
   "mimetype": "text/x-python",
   "name": "python",
   "nbconvert_exporter": "python",
   "pygments_lexer": "ipython3",
   "version": "3.7.3"
  }
 },
 "nbformat": 4,
 "nbformat_minor": 4
}
