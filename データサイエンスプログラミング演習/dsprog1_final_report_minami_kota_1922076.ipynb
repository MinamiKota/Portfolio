{
 "cells": [
  {
   "cell_type": "markdown",
   "metadata": {},
   "source": [
    "---\n",
    "<div style=\"text-align: center;\" >\n",
    "    <h3>\n",
    "        授業名 : データサイエンスプログラミング演習Ⅰ\n",
    "    </h3>\n",
    "    <h1>\n",
    "        <b>レポート : スポーツジムにおける会員データ分析</b>\n",
    "    </h1>\n",
    "</div>\n",
    "<div style=\"text-align: left\">\n",
    "    学籍番号 : 1922076<br/>\n",
    "    氏名 : 南 昂汰\n",
    "</div>\n",
    "\n",
    "---"
   ]
  },
  {
   "cell_type": "markdown",
   "metadata": {},
   "source": [
    "1 . 全体の会員データから読み取れることを調査する。例えば、どの会員区分やキャンペーン区分の会員が多いか。"
   ]
  },
  {
   "cell_type": "code",
   "execution_count": 2,
   "metadata": {},
   "outputs": [],
   "source": [
    "import pandas as pd\n",
    "ca_g=pd.read_csv(\"campaign_gym.csv\",encoding=\"UTF-8\")\n",
    "cl_g=pd.read_csv(\"class_gym.csv\",encoding=\"UTF-8\")\n",
    "u_l=pd.read_csv(\"use_log.csv\",encoding=\"UTF-8\")\n",
    "cu_g=pd.read_csv(\"customer_gym.csv\",encoding=\"UTF-8\")\n",
    "cu_g[\"customer_id\"]=cu_g[\"customer_id\"].str.upper()\n",
    "joined=pd.merge(cu_g,cl_g,on=\"class\",how=\"left\")\n",
    "joined=pd.merge(joined,ca_g,on=\"campaign_id\",how=\"left\")"
   ]
  },
  {
   "cell_type": "code",
   "execution_count": 3,
   "metadata": {},
   "outputs": [
    {
     "data": {
      "text/plain": [
       "class_name\n",
       "オールタイム    2045\n",
       "デイタイム     1019\n",
       "ナイト       1128\n",
       "Name: customer_id, dtype: int64"
      ]
     },
     "execution_count": 3,
     "metadata": {},
     "output_type": "execute_result"
    }
   ],
   "source": [
    "joined.groupby(\"class_name\").count()[\"customer_id\"]"
   ]
  },
  {
   "cell_type": "markdown",
   "metadata": {},
   "source": [
    "Out[3]より、オールタイムの契約が最も多い2045人であることが分かる。これはデイタイムの契約数1019人の約2倍である。"
   ]
  },
  {
   "cell_type": "markdown",
   "metadata": {},
   "source": [
    "<br>\n",
    "<br>\n",
    "<br>\n",
    "<br>\n",
    "<br>"
   ]
  },
  {
   "cell_type": "code",
   "execution_count": 4,
   "metadata": {},
   "outputs": [
    {
     "data": {
      "text/plain": [
       "campaign_name\n",
       "入会費半額     650\n",
       "入会費無料     492\n",
       "通常       3050\n",
       "Name: customer_id, dtype: int64"
      ]
     },
     "execution_count": 4,
     "metadata": {},
     "output_type": "execute_result"
    }
   ],
   "source": [
    "joined.groupby(\"campaign_name\").count()[\"customer_id\"]"
   ]
  },
  {
   "cell_type": "code",
   "execution_count": 5,
   "metadata": {},
   "outputs": [
    {
     "name": "stdout",
     "output_type": "stream",
     "text": [
      "27.24236641221374\n"
     ]
    }
   ],
   "source": [
    "print(len(joined[joined[\"campaign_name\"].isin([\"入会費半額\",\"入会費無料\"])])/len(joined)*100)"
   ]
  },
  {
   "cell_type": "markdown",
   "metadata": {},
   "source": [
    "Out[4]と[5]より、キャンペーンで入会した人は全体の27%であり、無料で入会した人数が最も少ないことが分かる。"
   ]
  },
  {
   "cell_type": "code",
   "execution_count": 6,
   "metadata": {},
   "outputs": [
    {
     "data": {
      "text/plain": [
       "gender\n",
       "F    1983\n",
       "M    2209\n",
       "Name: customer_id, dtype: int64"
      ]
     },
     "execution_count": 6,
     "metadata": {},
     "output_type": "execute_result"
    }
   ],
   "source": [
    "joined.groupby(\"gender\").count()[\"customer_id\"]"
   ]
  },
  {
   "cell_type": "markdown",
   "metadata": {},
   "source": [
    "Out[6]より、性別にあまり大差はないが、男性のほうが多いことが分かる。"
   ]
  },
  {
   "cell_type": "code",
   "execution_count": 7,
   "metadata": {},
   "outputs": [
    {
     "data": {
      "text/plain": [
       "start_year\n",
       "2015     492\n",
       "2016     781\n",
       "2017    1223\n",
       "2018    1467\n",
       "2019     229\n",
       "Name: customer_id, dtype: int64"
      ]
     },
     "execution_count": 7,
     "metadata": {},
     "output_type": "execute_result"
    }
   ],
   "source": [
    "joined[\"start_date\"]=pd.to_datetime(joined[\"start_date\"])\n",
    "joined[\"start_year\"]=joined[\"start_date\"].dt.strftime(\"%Y\")\n",
    "joined.groupby(\"start_year\").count()[\"customer_id\"]"
   ]
  },
  {
   "cell_type": "markdown",
   "metadata": {},
   "source": [
    "Out[7]より、2018年に入会した人が最も多く、入会人数は年を追うごとに増加していることが分かる。"
   ]
  },
  {
   "cell_type": "code",
   "execution_count": 8,
   "metadata": {},
   "outputs": [
    {
     "data": {
      "text/plain": [
       "is_deleted\n",
       "0    2842\n",
       "1    1350\n",
       "Name: customer_id, dtype: int64"
      ]
     },
     "execution_count": 8,
     "metadata": {},
     "output_type": "execute_result"
    }
   ],
   "source": [
    "joined.groupby(\"is_deleted\").count()[\"customer_id\"]"
   ]
  },
  {
   "cell_type": "code",
   "execution_count": 9,
   "metadata": {},
   "outputs": [
    {
     "name": "stdout",
     "output_type": "stream",
     "text": [
      "32.20419847328244\n"
     ]
    }
   ],
   "source": [
    "print(len(joined[joined[\"is_deleted\"].isin([1])])/len(joined)*100)"
   ]
  },
  {
   "cell_type": "markdown",
   "metadata": {},
   "source": [
    "Out[8]と[9]より、会員の32%が退会していることが分かる。"
   ]
  },
  {
   "cell_type": "code",
   "execution_count": 10,
   "metadata": {},
   "outputs": [
    {
     "data": {
      "text/plain": [
       "start_month\n",
       "01    343\n",
       "02    300\n",
       "03    286\n",
       "04    331\n",
       "05    416\n",
       "06    406\n",
       "07    357\n",
       "08    354\n",
       "09    349\n",
       "10    289\n",
       "11    301\n",
       "12    460\n",
       "Name: customer_id, dtype: int64"
      ]
     },
     "execution_count": 10,
     "metadata": {},
     "output_type": "execute_result"
    }
   ],
   "source": [
    "joined[\"start_date\"]=pd.to_datetime(joined[\"start_date\"])\n",
    "joined[\"start_month\"]=joined[\"start_date\"].dt.strftime(\"%m\")\n",
    "joined.groupby(\"start_month\").count()[\"customer_id\"]"
   ]
  },
  {
   "cell_type": "markdown",
   "metadata": {},
   "source": [
    "Out[10]より、3月に入会した人数が286人と最も少なく、12月が最も多い460人であることが分かる。"
   ]
  },
  {
   "cell_type": "markdown",
   "metadata": {},
   "source": [
    "<br>\n",
    "<br>\n",
    "<br>\n",
    "<br>\n",
    "<br>\n",
    "<br>\n",
    "<br>\n",
    "<br>\n",
    "<br>\n",
    "<br>"
   ]
  },
  {
   "cell_type": "markdown",
   "metadata": {},
   "source": [
    "<br>\n",
    "<br>"
   ]
  },
  {
   "cell_type": "markdown",
   "metadata": {},
   "source": [
    "2 . 最新の会員データから読み取れることを調査する。例えば、どの会員区分やキャンペーン区分の会員が多いか、全体の会員データとの違いなどを考察する。"
   ]
  },
  {
   "cell_type": "code",
   "execution_count": 11,
   "metadata": {},
   "outputs": [],
   "source": [
    "joined[\"end_date\"]=pd.to_datetime(joined[\"end_date\"])\n",
    "newer=joined.loc[(joined[\"end_date\"]>=pd.to_datetime(\"20190401\"))|(joined[\"end_date\"].isna())]"
   ]
  },
  {
   "cell_type": "code",
   "execution_count": 12,
   "metadata": {},
   "outputs": [
    {
     "data": {
      "text/plain": [
       "class_name\n",
       "オールタイム    1381\n",
       "デイタイム      675\n",
       "ナイト        786\n",
       "Name: customer_id, dtype: int64"
      ]
     },
     "execution_count": 12,
     "metadata": {},
     "output_type": "execute_result"
    }
   ],
   "source": [
    "newer.groupby(\"class_name\").count()[\"customer_id\"]"
   ]
  },
  {
   "cell_type": "markdown",
   "metadata": {},
   "source": [
    "全体のオールタイムの契約数が2045人ということが1ページ目のOut[3]より判明したが、そのうちの1381人が最新の会員であることがOut[12]より分かる。これは全体のデータのうち、**「67.5%」**である。<br>\n",
    "全体のデイタイムの契約数が1019人ということが1ページ目のOut[3]より判明したが、そのうちの675人が最新の会員であることがOut[12]より分かる。これは全体のデータのうち、**「66.2%」**である。<br>\n",
    "全体のナイトの契約数が1128人ということが1ページ目のOut[3]より判明したが、そのうちの786人が最新の会員であることがOut[12]より分かる。これは全体のデータのうち、**「69.6%」**である。"
   ]
  },
  {
   "cell_type": "markdown",
   "metadata": {},
   "source": [
    "<br>\n",
    "<br>"
   ]
  },
  {
   "cell_type": "markdown",
   "metadata": {},
   "source": [
    "3 . 利用履歴から読み取れること、退会しやすい会員や継続しやすい会員の特徴などを分析する。"
   ]
  },
  {
   "cell_type": "markdown",
   "metadata": {},
   "source": [
    "さきほどのデータから分かったをまとめると、<br>\n",
    "最新のデイタイム会員が全体のデイタイム会員に占める割合：66.2%<br>\n",
    "最新のオールタイム会員が全体のオールタイム会員に占める割合：67.5%<br>\n",
    "最新のナイト会員が全体のナイト会員に占める割合：69.6%<br>\n",
    "<br>\n",
    "つまり、ナイト会員が継続しやすく、デイタイム会員が退会しやすいという傾向があると言える。"
   ]
  }
 ],
 "metadata": {
  "kernelspec": {
   "display_name": "Python 3",
   "language": "python",
   "name": "python3"
  },
  "language_info": {
   "codemirror_mode": {
    "name": "ipython",
    "version": 3
   },
   "file_extension": ".py",
   "mimetype": "text/x-python",
   "name": "python",
   "nbconvert_exporter": "python",
   "pygments_lexer": "ipython3",
   "version": "3.7.3"
  }
 },
 "nbformat": 4,
 "nbformat_minor": 4
}
