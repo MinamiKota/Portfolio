{
 "cells": [
  {
   "cell_type": "markdown",
   "metadata": {},
   "source": [
    "---\n",
    "<div style=\"text-align: center;\" >\n",
    "    <h1>\n",
    "        <b>データサイエンスプログラミング演習</b>\n",
    "    </h1>\n",
    "    <h3>\n",
    "        第1,2回授業ノート\n",
    "    </h3>\n",
    "</div>\n",
    "<div style=\"text-align: right\">\n",
    "    1922076<br/>\n",
    "    南昂汰\n",
    "</div>\n",
    "\n",
    "---"
   ]
  },
  {
   "cell_type": "markdown",
   "metadata": {},
   "source": [
    "授業の目的：データの加工、分析、可視化技術を身につける = データの前処理"
   ]
  },
  {
   "cell_type": "markdown",
   "metadata": {},
   "source": [
    "方法：Python(pandas, numpy, matplotlib, pillow) ,unixコマンド(pwd ,ls ,mkdir ,cd ,cp ,mv ,cat) ,docker, JupyterLab, Markdown"
   ]
  },
  {
   "cell_type": "markdown",
   "metadata": {},
   "source": [
    "__pandas__  \n",
    "Pandasを使用するとデータの統計量を表示したり、グラフ化するなどデータ分析（データサイエンス）や機械学習で必要となる作業を行うことができるようになるようになる。 Pythonのデータ分析を行うには必須のアプリ。"
   ]
  },
  {
   "cell_type": "markdown",
   "metadata": {},
   "source": [
    "__numpy__  \n",
    "numpyは配列(リスト)計算を高速にするためのPythonのライブラリである。numpyがPythonより優れている点は、次の3点。\n",
    "1. 処理速度が早くなる\n",
    "1. 配列の扱い方が柔軟\n",
    "1. コードがシンプルで綺麗になる"
   ]
  },
  {
   "cell_type": "markdown",
   "metadata": {},
   "source": [
    "__matplotlib__  \n",
    "Pythonでグラフを描画するときなどに使われる標準的なライブラリ。"
   ]
  },
  {
   "cell_type": "markdown",
   "metadata": {},
   "source": [
    "__pillow__  \n",
    "Python Image Libraryからフォークされた画像処理ライブラリ。"
   ]
  },
  {
   "cell_type": "markdown",
   "metadata": {},
   "source": [
    "__pwd__  \n",
    "Print Working Directoryの略。現在いるディレクトリーを返すコマンド。"
   ]
  },
  {
   "cell_type": "markdown",
   "metadata": {},
   "source": [
    "__ls__  \n",
    "Listの略。現在のディレクトリー内のフォルダ及びファイルの一覧を表示。"
   ]
  },
  {
   "cell_type": "markdown",
   "metadata": {},
   "source": [
    "__mkdir__  \n",
    "UNIXやLinuxでディレクトリを作成する時に使用するコマンド"
   ]
  },
  {
   "cell_type": "markdown",
   "metadata": {},
   "source": [
    "__cd__  \n",
    "ディレクトリを移動する際に使用するコマンド"
   ]
  },
  {
   "cell_type": "markdown",
   "metadata": {},
   "source": [
    "__cp__  \n",
    "ファイルやディレクトリをコピーするのに使う。  \n",
    "＄ cp コピーするもの コピー先"
   ]
  },
  {
   "cell_type": "markdown",
   "metadata": {},
   "source": [
    "__mv__  \n",
    "ディレクトリごと移動するのに使う。  \n",
    "mkdirであらかじめ移動先を作ってから行う。"
   ]
  },
  {
   "cell_type": "markdown",
   "metadata": {},
   "source": [
    "__cat__  \n",
    "cat X  \n",
    "ファイルXの中身を標準出力(ファイルの閲覧)  \n",
    "cat X > Y  \n",
    "ファイルYにファイルXの中身を上書きして出力  \n",
    "cat X >> Y  \n",
    "ファイルYにファイルXの中身を追加して出力  \n",
    "cat A B C D ...  \n",
    "ファイルAとファイルBとファイルCとファイルDと...を連結して標準出力  \n",
    "cat -n X  \n",
    "ファイルXの中身を空白行を入れて行番号をつけて標準出力  \n",
    "cat -b X  \n",
    "ファイルXの中身を空白行を入れずに行番号をつけて標準出力  \n",
    "cat -s X  \n",
    "ファイルXの中身を連続した空白行を1行の空白にまとめて標準出力  \n",
    "cat -E X  \n",
    "ファイルXの中身を各行の最後に$をつけて標準出力  \n",
    "cat -T X  \n",
    "ファイルXの中身をタブを^Iに置き換えて標準出力  "
   ]
  },
  {
   "cell_type": "markdown",
   "metadata": {},
   "source": [
    "Data Preparation データの準備  \n",
    "処理/分析前に生データをクレンジングして変換するプロセス = データの前処理"
   ]
  },
  {
   "cell_type": "markdown",
   "metadata": {},
   "source": [
    "__クレンジング__  \n",
    "データの中から、重複や誤記、表記の揺れなどを探し出し、削除や修正、正規化などを行い、データの品質を高める"
   ]
  },
  {
   "cell_type": "markdown",
   "metadata": {},
   "source": [
    "<font color=\"Blue\">Dockerを用いたJupyterLabの起動手順</font>  \n",
    "1. Dockerfileとdocker-compose.ymlが置かれたディレクトリに移動  \n",
    "1. docker-compose up -dで起動  \n",
    "初回起動時またはDockerfileやdocker-compose.ymlを書き換えた場合はdocker-compose up --build -d  \n",
    "&nbsp;-d：バックグラウンドでコマンドを実行するという命令オプション  \n",
    "1. Webブラウザでlocalhost:8888にアクセス"
   ]
  },
  {
   "cell_type": "markdown",
   "metadata": {},
   "source": [
    "### ターミナル、Unixコマンドの基本"
   ]
  },
  {
   "cell_type": "markdown",
   "metadata": {},
   "source": [
    "- プロンプトの表示を変更する(短くして可読性を上げる)  \n",
    "PS1='\\w \\t:' (現在のディレクトリ 現在の時間)\n",
    "\n",
    "- ディレクトリの作成方法  \n",
    "mkdir ディレクトリ名\n",
    "\n",
    "- 作業ディレクトリの変更方法  \n",
    "cd ../ ディレクトリ名　（１個上の階層にいく）\n",
    "\n",
    "- ファイルの移動方法  \n",
    "mv ファイル名 移動先のディレクトリ名\n",
    "\n",
    "- ファイル内容の簡易表示方法  \n",
    "ls カレントディレクトリにあるファイルを表示する"
   ]
  },
  {
   "cell_type": "markdown",
   "metadata": {},
   "source": [
    "<font color=\"Red\">JupyterLabの終了手順</font>  \n",
    "1. メニューのFileからShut Downを選択  \n",
    "1. 表示されるウィンドウでShut Downを選択  \n",
    "1. ターミナルに戻ってdocker-compose down"
   ]
  },
  {
   "cell_type": "markdown",
   "metadata": {},
   "source": [
    "### JupyterLabとは  \n",
    "- Jupyterとは、Pythonの対話型シェルである「IPython」から派生したプロジェクト  \n",
    "- Notebookと呼ばれる、Webベースの実行環境を利用しPythonのソースコードを記述・実行することができる  \n",
    "- Markdown記法によるドキュメント作成も可能、ソースコードと組み合わせた技術ノートの作成に最適  \n",
    "- その他の言語にも対応：Ruby,JavaScript,PHP,C#など  \n",
    "  \n",
    "Jupyter + Notebook = Jupyter Notebook と呼ばれる ⇨ UIが進化 ⇨ JupyterLab"
   ]
  },
  {
   "cell_type": "markdown",
   "metadata": {},
   "source": [
    "### JupyterLabの基本操作"
   ]
  },
  {
   "cell_type": "markdown",
   "metadata": {},
   "source": [
    "__ホストPC（MacやWindowsなどの）と接続されているディレクトリ＝JupyterLabでのファイル保存場所、ノートブックの作成__  \n",
    "ホストPC：サービスを提供しているコンピューターのこと、サーバーと呼ばれることが多い。今回の場合はDockerでJupyter Labのインスタンスを実行しているパソコン (MacBook等)のことを指す。"
   ]
  },
  {
   "cell_type": "markdown",
   "metadata": {},
   "source": [
    "__スクリプト（Python）の記述と実行__  \n",
    "スクリプト: コンパイル (コンピューターが理解できる状態に変換する作業)の必要がなく、即座に実行できるコンピュータープログラムのこと。"
   ]
  },
  {
   "cell_type": "markdown",
   "metadata": {},
   "source": [
    "__セルの実行__  \n",
    "左上再生ボタンをクリックかshiftキー＋enterキー"
   ]
  },
  {
   "cell_type": "markdown",
   "metadata": {},
   "source": [
    "__ノートブック（ファイル）名の変更__  \n",
    "左上FileからRename Notebookを開く"
   ]
  },
  {
   "cell_type": "markdown",
   "metadata": {},
   "source": [
    "__ノートブック（ファイル）の保存__  \n",
    "command Sか上のフロッピーのフォルダーのマークを押す。"
   ]
  },
  {
   "cell_type": "markdown",
   "metadata": {},
   "source": [
    "__セルの追加、削除__  \n",
    "Shift+Enter 下にセルがない場合に追加する。  \n",
    "Option+Enter 実行して下にセルを追加する。  \n",
    "dd(dをダブル入力)でセル削除。  \n",
    "セルを選択してダブルクリックDelete Cellでセル削除。"
   ]
  },
  {
   "cell_type": "markdown",
   "metadata": {},
   "source": [
    "__コマンドモードへ切り替え__  \n",
    "Escキー"
   ]
  },
  {
   "cell_type": "markdown",
   "metadata": {},
   "source": [
    "__Codeモード・Markdownモードへ切り替え__  \n",
    "コマンドモード中に  \n",
    "Yキー：Codeモード  \n",
    "Mキー：Markdownモード"
   ]
  },
  {
   "cell_type": "markdown",
   "metadata": {},
   "source": [
    "### Markdown文書作成でよくあるエラー"
   ]
  },
  {
   "cell_type": "markdown",
   "metadata": {},
   "source": [
    "モードがCodeのままになっている  \n",
    "Markdownに変更し実行する"
   ]
  },
  {
   "cell_type": "markdown",
   "metadata": {},
   "source": [
    "### Markdown練習1"
   ]
  },
  {
   "cell_type": "markdown",
   "metadata": {},
   "source": [
    "# 見出し1  \n",
    "## 見出し2  \n",
    "### 見出し3  \n",
    "#### 見出し4  \n",
    "***\n",
    "リスト  \n",
    "- 項目1\n",
    "- 項目2\n",
    "- 項目3\n",
    "***\n",
    "番号付リスト\n",
    "1. 上林\n",
    "1. ウィラット\n",
    "1. ソム\n",
    "1. 中西\n",
    "1. 佐々木\n",
    "1. 福原\n",
    "1. 林\n",
    "1. 長谷川\n",
    "1. 秘密1\n",
    "1. 秘密2\n",
    "1. 秘密3\n",
    "1. 中村"
   ]
  }
 ],
 "metadata": {
  "kernelspec": {
   "display_name": "Python 3",
   "language": "python",
   "name": "python3"
  },
  "language_info": {
   "codemirror_mode": {
    "name": "ipython",
    "version": 3
   },
   "file_extension": ".py",
   "mimetype": "text/x-python",
   "name": "python",
   "nbconvert_exporter": "python",
   "pygments_lexer": "ipython3",
   "version": "3.7.3"
  }
 },
 "nbformat": 4,
 "nbformat_minor": 4
}
