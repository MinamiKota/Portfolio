{
 "cells": [
  {
   "cell_type": "markdown",
   "metadata": {},
   "source": [
    "---\n",
    "<div style=\"text-align: center;\" >\n",
    "    <h3>\n",
    "        授業名 : 人類と人工知能（AI）\n",
    "    </h3>\n",
    "    <h1>\n",
    "        <b>12月24日の個人レポート課題</b>\n",
    "    </h1>\n",
    "</div>\n",
    "<div style=\"text-align: left\">\n",
    "    学籍番号 : 1922076<br/>\n",
    "    氏名 : 南 昂汰\n",
    "</div>\n",
    "\n",
    "---"
   ]
  },
  {
   "cell_type": "markdown",
   "metadata": {},
   "source": [
    "fludata.csvは、各年のインフルエンザの定点あたりの報告者数(一週間に一つの定点からどのくらいの報告があったかを表す数値)を示している。このデータをPythonで分析、可視化した上で、何がわかるのかを述べてください。また、別途プログラムリストを添付すること。"
   ]
  },
  {
   "cell_type": "code",
   "execution_count": 90,
   "metadata": {},
   "outputs": [
    {
     "data": {
      "image/png": "[encoded data removed]",
      "text/plain": [
       "<Figure size 720x576 with 12 Axes>"
      ]
     },
     "metadata": {
      "needs_background": "light"
     },
     "output_type": "display_data"
    }
   ],
   "source": [
    "import pandas as pd\n",
    "import numpy as np\n",
    "import matplotlib.pyplot as plt\n",
    "from pylab import rcParams\n",
    "rcParams[\"figure.figsize\"]=10,8\n",
    "flu=pd.read_csv(\"fludata.csv\",encoding=\"UTF-8\")\n",
    "flu.hist(bins=20)\n",
    "plt.tight_layout()\n",
    "plt.show()"
   ]
  },
  {
   "cell_type": "code",
   "execution_count": 105,
   "metadata": {},
   "outputs": [
    {
     "data": {
      "text/plain": [
       "(-0.001, 10.0]    29\n",
       "(10.0, 20.0]      10\n",
       "(20.0, 30.0]       5\n",
       "(30.0, 40.0]       8\n",
       "(40.0, 50.0]       0\n",
       "(50.0, 60.0]       0\n",
       "Name: 2009, dtype: int64"
      ]
     },
     "execution_count": 105,
     "metadata": {},
     "output_type": "execute_result"
    }
   ],
   "source": [
    "flu[\"2009\"].value_counts(bins=[i for i in np.arange(0,70,10)],sort=False)"
   ]
  },
  {
   "cell_type": "code",
   "execution_count": 106,
   "metadata": {},
   "outputs": [
    {
     "data": {
      "text/plain": [
       "629.28"
      ]
     },
     "execution_count": 106,
     "metadata": {},
     "output_type": "execute_result"
    }
   ],
   "source": [
    "flu[\"2009\"].sum()"
   ]
  },
  {
   "cell_type": "code",
   "execution_count": 107,
   "metadata": {},
   "outputs": [
    {
     "data": {
      "text/plain": [
       "(-0.001, 10.0]    52\n",
       "(10.0, 20.0]       0\n",
       "(20.0, 30.0]       0\n",
       "(30.0, 40.0]       0\n",
       "(40.0, 50.0]       0\n",
       "(50.0, 60.0]       0\n",
       "Name: 2010, dtype: int64"
      ]
     },
     "execution_count": 107,
     "metadata": {},
     "output_type": "execute_result"
    }
   ],
   "source": [
    "flu[\"2010\"].value_counts(bins=[i for i in np.arange(0,70,10)],sort=False)"
   ]
  },
  {
   "cell_type": "code",
   "execution_count": 117,
   "metadata": {},
   "outputs": [
    {
     "data": {
      "text/plain": [
       "56.03999999999999"
      ]
     },
     "execution_count": 117,
     "metadata": {},
     "output_type": "execute_result"
    }
   ],
   "source": [
    "flu[\"2010\"].sum()"
   ]
  },
  {
   "cell_type": "code",
   "execution_count": 108,
   "metadata": {},
   "outputs": [
    {
     "data": {
      "text/plain": [
       "(-0.001, 10.0]    40\n",
       "(10.0, 20.0]       8\n",
       "(20.0, 30.0]       3\n",
       "(30.0, 40.0]       1\n",
       "(40.0, 50.0]       0\n",
       "(50.0, 60.0]       0\n",
       "Name: 2011, dtype: int64"
      ]
     },
     "execution_count": 108,
     "metadata": {},
     "output_type": "execute_result"
    }
   ],
   "source": [
    "flu[\"2011\"].value_counts(bins=[i for i in np.arange(0,70,10)],sort=False)"
   ]
  },
  {
   "cell_type": "code",
   "execution_count": 118,
   "metadata": {},
   "outputs": [
    {
     "data": {
      "text/plain": [
       "277.43"
      ]
     },
     "execution_count": 118,
     "metadata": {},
     "output_type": "execute_result"
    }
   ],
   "source": [
    "flu[\"2011\"].sum()"
   ]
  },
  {
   "cell_type": "code",
   "execution_count": 109,
   "metadata": {},
   "outputs": [
    {
     "data": {
      "text/plain": [
       "(-0.001, 10.0]    41\n",
       "(10.0, 20.0]       3\n",
       "(20.0, 30.0]       4\n",
       "(30.0, 40.0]       2\n",
       "(40.0, 50.0]       2\n",
       "(50.0, 60.0]       0\n",
       "Name: 2012, dtype: int64"
      ]
     },
     "execution_count": 109,
     "metadata": {},
     "output_type": "execute_result"
    }
   ],
   "source": [
    "flu[\"2012\"].value_counts(bins=[i for i in np.arange(0,70,10)],sort=False)"
   ]
  },
  {
   "cell_type": "code",
   "execution_count": 119,
   "metadata": {},
   "outputs": [
    {
     "data": {
      "text/plain": [
       "339.3500000000001"
      ]
     },
     "execution_count": 119,
     "metadata": {},
     "output_type": "execute_result"
    }
   ],
   "source": [
    "flu[\"2012\"].sum()"
   ]
  },
  {
   "cell_type": "code",
   "execution_count": 110,
   "metadata": {},
   "outputs": [
    {
     "data": {
      "text/plain": [
       "(-0.001, 10.0]    43\n",
       "(10.0, 20.0]       5\n",
       "(20.0, 30.0]       2\n",
       "(30.0, 40.0]       2\n",
       "(40.0, 50.0]       0\n",
       "(50.0, 60.0]       0\n",
       "Name: 2013, dtype: int64"
      ]
     },
     "execution_count": 110,
     "metadata": {},
     "output_type": "execute_result"
    }
   ],
   "source": [
    "flu[\"2013\"].value_counts(bins=[i for i in np.arange(0,70,10)],sort=False)"
   ]
  },
  {
   "cell_type": "code",
   "execution_count": 120,
   "metadata": {},
   "outputs": [
    {
     "data": {
      "text/plain": [
       "235.79999999999995"
      ]
     },
     "execution_count": 120,
     "metadata": {},
     "output_type": "execute_result"
    }
   ],
   "source": [
    "flu[\"2013\"].sum()"
   ]
  },
  {
   "cell_type": "code",
   "execution_count": 111,
   "metadata": {},
   "outputs": [
    {
     "data": {
      "text/plain": [
       "(-0.001, 10.0]    39\n",
       "(10.0, 20.0]       4\n",
       "(20.0, 30.0]       7\n",
       "(30.0, 40.0]       2\n",
       "(40.0, 50.0]       0\n",
       "(50.0, 60.0]       0\n",
       "Name: 2014, dtype: int64"
      ]
     },
     "execution_count": 111,
     "metadata": {},
     "output_type": "execute_result"
    }
   ],
   "source": [
    "flu[\"2014\"].value_counts(bins=[i for i in np.arange(0,70,10)],sort=False)"
   ]
  },
  {
   "cell_type": "code",
   "execution_count": 121,
   "metadata": {},
   "outputs": [
    {
     "data": {
      "text/plain": [
       "351.65000000000003"
      ]
     },
     "execution_count": 121,
     "metadata": {},
     "output_type": "execute_result"
    }
   ],
   "source": [
    "flu[\"2014\"].sum()"
   ]
  },
  {
   "cell_type": "code",
   "execution_count": 112,
   "metadata": {},
   "outputs": [
    {
     "data": {
      "text/plain": [
       "(-0.001, 10.0]    45\n",
       "(10.0, 20.0]       2\n",
       "(20.0, 30.0]       2\n",
       "(30.0, 40.0]       3\n",
       "(40.0, 50.0]       0\n",
       "(50.0, 60.0]       0\n",
       "Name: 2015, dtype: int64"
      ]
     },
     "execution_count": 112,
     "metadata": {},
     "output_type": "execute_result"
    }
   ],
   "source": [
    "flu[\"2015\"].value_counts(bins=[i for i in np.arange(0,70,10)],sort=False)"
   ]
  },
  {
   "cell_type": "code",
   "execution_count": 122,
   "metadata": {},
   "outputs": [
    {
     "data": {
      "text/plain": [
       "236.14000000000001"
      ]
     },
     "execution_count": 122,
     "metadata": {},
     "output_type": "execute_result"
    }
   ],
   "source": [
    "flu[\"2015\"].sum()"
   ]
  },
  {
   "cell_type": "code",
   "execution_count": 113,
   "metadata": {},
   "outputs": [
    {
     "data": {
      "text/plain": [
       "(-0.001, 10.0]    41\n",
       "(10.0, 20.0]       3\n",
       "(20.0, 30.0]       3\n",
       "(30.0, 40.0]       5\n",
       "(40.0, 50.0]       0\n",
       "(50.0, 60.0]       0\n",
       "Name: 2016, dtype: int64"
      ]
     },
     "execution_count": 113,
     "metadata": {},
     "output_type": "execute_result"
    }
   ],
   "source": [
    "flu[\"2016\"].value_counts(bins=[i for i in np.arange(0,70,10)],sort=False)"
   ]
  },
  {
   "cell_type": "code",
   "execution_count": 123,
   "metadata": {},
   "outputs": [
    {
     "data": {
      "text/plain": [
       "353.1"
      ]
     },
     "execution_count": 123,
     "metadata": {},
     "output_type": "execute_result"
    }
   ],
   "source": [
    "flu[\"2016\"].sum()"
   ]
  },
  {
   "cell_type": "code",
   "execution_count": 114,
   "metadata": {},
   "outputs": [
    {
     "data": {
      "text/plain": [
       "(-0.001, 10.0]    39\n",
       "(10.0, 20.0]       8\n",
       "(20.0, 30.0]       3\n",
       "(30.0, 40.0]       2\n",
       "(40.0, 50.0]       0\n",
       "(50.0, 60.0]       0\n",
       "Name: 2017, dtype: int64"
      ]
     },
     "execution_count": 114,
     "metadata": {},
     "output_type": "execute_result"
    }
   ],
   "source": [
    "flu[\"2017\"].value_counts(bins=[i for i in np.arange(0,70,10)],sort=False)"
   ]
  },
  {
   "cell_type": "code",
   "execution_count": 124,
   "metadata": {},
   "outputs": [
    {
     "data": {
      "text/plain": [
       "325.01"
      ]
     },
     "execution_count": 124,
     "metadata": {},
     "output_type": "execute_result"
    }
   ],
   "source": [
    "flu[\"2017\"].sum()"
   ]
  },
  {
   "cell_type": "code",
   "execution_count": 115,
   "metadata": {},
   "outputs": [
    {
     "data": {
      "text/plain": [
       "(-0.001, 10.0]    41\n",
       "(10.0, 20.0]       4\n",
       "(20.0, 30.0]       3\n",
       "(30.0, 40.0]       0\n",
       "(40.0, 50.0]       1\n",
       "(50.0, 60.0]       3\n",
       "Name: 2018, dtype: int64"
      ]
     },
     "execution_count": 115,
     "metadata": {},
     "output_type": "execute_result"
    }
   ],
   "source": [
    "flu[\"2018\"].value_counts(bins=[i for i in np.arange(0,70,10)],sort=False)"
   ]
  },
  {
   "cell_type": "code",
   "execution_count": 125,
   "metadata": {},
   "outputs": [
    {
     "data": {
      "text/plain": [
       "383.12000000000006"
      ]
     },
     "execution_count": 125,
     "metadata": {},
     "output_type": "execute_result"
    }
   ],
   "source": [
    "flu[\"2018\"].sum()"
   ]
  },
  {
   "cell_type": "code",
   "execution_count": 116,
   "metadata": {},
   "outputs": [
    {
     "data": {
      "text/plain": [
       "(-0.001, 10.0]    39\n",
       "(10.0, 20.0]       2\n",
       "(20.0, 30.0]       1\n",
       "(30.0, 40.0]       1\n",
       "(40.0, 50.0]       1\n",
       "(50.0, 60.0]       2\n",
       "Name: 2019, dtype: int64"
      ]
     },
     "execution_count": 116,
     "metadata": {},
     "output_type": "execute_result"
    }
   ],
   "source": [
    "flu[\"2019\"].value_counts(bins=[i for i in np.arange(0,70,10)],sort=False)"
   ]
  },
  {
   "cell_type": "code",
   "execution_count": 126,
   "metadata": {},
   "outputs": [
    {
     "data": {
      "text/plain": [
       "299.87"
      ]
     },
     "execution_count": 126,
     "metadata": {},
     "output_type": "execute_result"
    }
   ],
   "source": [
    "flu[\"2019\"].sum()"
   ]
  },
  {
   "cell_type": "markdown",
   "metadata": {},
   "source": [
    "<br>\n",
    "分析・何がわかるか<br>\n",
    "<br>\n",
    "fludata.csvをヒストグラムおよび度数分布表で可視化した。2009年では、報告者数が10以下の週が29週と最も少なく、報告者数が10から40の間の週が23週と最大である。合計報告者数は最大の629であり、最もインフルエンザの報告がある年である。これは**新型インフルエンザの流行**が原因だと考えられる。2010年は全ての週の報告者数がそれぞれ10以下となっており、合計報告者数が53と最もインフルエンザの報告が少ない年である。原因としては**従来12月から流行が始まるインフルエンザが他の時期に流行し、fludata.csvに記録する時期には流行しなかった**ということが考えられる。2009年と2010年を除いた年では、いずれも報告者数が10以下の週は40週程度であり、2009年と2010年は他の年とはかなり異なっていることが分かる。2018年と2019年では報告者数が50を超える週が存在し、何週にも渡るのではなく、1週間で多くの報告が確認されるようになってきている。"
   ]
  }
 ],
 "metadata": {
  "kernelspec": {
   "display_name": "Python 3",
   "language": "python",
   "name": "python3"
  },
  "language_info": {
   "codemirror_mode": {
    "name": "ipython",
    "version": 3
   },
   "file_extension": ".py",
   "mimetype": "text/x-python",
   "name": "python",
   "nbconvert_exporter": "python",
   "pygments_lexer": "ipython3",
   "version": "3.7.3"
  }
 },
 "nbformat": 4,
 "nbformat_minor": 4
}
