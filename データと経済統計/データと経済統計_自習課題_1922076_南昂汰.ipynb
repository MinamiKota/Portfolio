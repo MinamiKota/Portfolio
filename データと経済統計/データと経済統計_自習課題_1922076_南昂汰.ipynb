{
  "nbformat": 4,
  "nbformat_minor": 0,
  "metadata": {
    "colab": {
      "name": "データと経済統計_自習課題_1922076_南昂汰.ipynb",
      "provenance": [],
      "collapsed_sections": []
    },
    "kernelspec": {
      "name": "python3",
      "display_name": "Python 3"
    }
  },
  "cells": [
    {
      "cell_type": "markdown",
      "metadata": {
        "id": "9hDYHDHdbPXh"
      },
      "source": [
        "1922076 南昂汰"
      ]
    },
    {
      "cell_type": "markdown",
      "metadata": {
        "id": "nNvCYGkpbbKm"
      },
      "source": [
        "1．6面ダイスを任意の回数（nとして後で変更できるようにすること）投げるとき，投げた回数までに出た目の平均値を描画するプログラムを描け．ただし，ダイスの目が出るそれぞれ確率は1/6とする．（x軸に試行回数，y軸に平均値）\n",
        "\n",
        "2-1．前回の授業で使った正規分布関数（np.random.normal）を用い，平均50，標準偏差10の10000個の正規分布に従うデータを生成し，その中からn個のサンプル抽出し平均値を求めるという作業を1万回試行した際の，サンプルの平均値の分布をグラフ化（ヒストグラム）せよ．\n",
        "\n",
        "2−2．上記プログラムのnの値を3から徐々に増やし，ヒストグラムがどのような変化をするか観察しなさい．"
      ]
    },
    {
      "cell_type": "code",
      "metadata": {
        "id": "3qU3zJ1Q7agD"
      },
      "source": [
        "# 配列処理や数値計算\n",
        "import numpy as np\n",
        "\n",
        "# 科学計算処理\n",
        "import scipy as sp\n",
        "from scipy import stats\n",
        "from scipy.stats import norm\n",
        "from scipy.stats import poisson\n",
        "\n",
        "# Scikit-Learnから線形モデルをインポート\n",
        "from sklearn import linear_model\n",
        "\n",
        "# データ加工\n",
        "import pandas as pd\n",
        "from pandas import Series,DataFrame\n",
        "\n",
        "# 可視化\n",
        "import matplotlib as mpl\n",
        "import matplotlib.pyplot as plt\n",
        "import seaborn as sns\n",
        "sns.set()"
      ],
      "execution_count": 7,
      "outputs": []
    },
    {
      "cell_type": "markdown",
      "metadata": {
        "id": "eEmWMnIIqXNJ"
      },
      "source": [
        "1"
      ]
    },
    {
      "cell_type": "code",
      "metadata": {
        "id": "7F64DAaRq4mK",
        "outputId": "060b2d1a-9a1c-451e-df54-abd1d9943400",
        "colab": {
          "base_uri": "https://localhost:8080/",
          "height": 34
        }
      },
      "source": [
        "# 6面ダイス\n",
        "dice=np.array([1,2,3,4,5,6])\n",
        "\n",
        "# 試行回数\n",
        "n=10000\n",
        "rolls=np.random.choice(dice,n)\n",
        "rolls"
      ],
      "execution_count": 157,
      "outputs": [
        {
          "output_type": "execute_result",
          "data": {
            "text/plain": [
              "array([3, 6, 6, ..., 5, 2, 6])"
            ]
          },
          "metadata": {
            "tags": []
          },
          "execution_count": 157
        }
      ]
    },
    {
      "cell_type": "code",
      "metadata": {
        "id": "AhyJ7YtyuJEl",
        "outputId": "e2809ead-9d04-4dd1-96df-4f398f5fc400",
        "colab": {
          "base_uri": "https://localhost:8080/",
          "height": 51
        }
      },
      "source": [
        "# 平均値を格納するもの\n",
        "ave=np.array([])\n",
        "\n",
        "# 平均値(出た目の合計/試行回数)を格納していく\n",
        "for i in range(1,n+1):\n",
        "  ave=np.append( ave,np.sum(rolls[0:i])/i )\n",
        "ave"
      ],
      "execution_count": 158,
      "outputs": [
        {
          "output_type": "execute_result",
          "data": {
            "text/plain": [
              "array([3.        , 4.5       , 5.        , ..., 3.5055011 , 3.50535054,\n",
              "       3.5056    ])"
            ]
          },
          "metadata": {
            "tags": []
          },
          "execution_count": 158
        }
      ]
    },
    {
      "cell_type": "code",
      "metadata": {
        "id": "S4TjDxaW94fy",
        "outputId": "eb042b20-4d9a-456b-db2b-68c8bb59b080",
        "colab": {
          "base_uri": "https://localhost:8080/",
          "height": 268
        }
      },
      "source": [
        "# グラフ\n",
        "x=np.linspace(1,n,n)\n",
        "y=ave\n",
        "plt.grid(True)\n",
        "plt.plot(x, y);"
      ],
      "execution_count": 160,
      "outputs": [
        {
          "output_type": "display_data",
          "data": {
            "image/png": "[encoded data removed]",
            "text/plain": [
              "<Figure size 432x288 with 1 Axes>"
            ]
          },
          "metadata": {
            "tags": []
          }
        }
      ]
    },
    {
      "cell_type": "markdown",
      "metadata": {
        "id": "4VcIM_3cqU-z"
      },
      "source": [
        "2-1"
      ]
    },
    {
      "cell_type": "code",
      "metadata": {
        "id": "bPsMPEC7q5FZ",
        "outputId": "082d5da4-64b5-484f-f82a-ea44bb3b5d1c",
        "colab": {
          "base_uri": "https://localhost:8080/",
          "height": 370
        }
      },
      "source": [
        "nr=np.random.normal(50,10,10000)\n",
        "n_arr=np.array([])\n",
        "\n",
        "# n個サンプル抽出\n",
        "n=3\n",
        "\n",
        "for i in range(0,10000): \n",
        "  arr=np.random.choice(nr,n)\n",
        "  n_arr=np.append(n_arr,arr.mean())\n",
        "\n",
        "plt.hist(n_arr)"
      ],
      "execution_count": 173,
      "outputs": [
        {
          "output_type": "execute_result",
          "data": {
            "text/plain": [
              "(array([  10.,   50.,  305.,  979., 2281., 2793., 2184., 1049.,  303.,\n",
              "          46.]),\n",
              " array([27.20521074, 31.40908651, 35.61296229, 39.81683806, 44.02071384,\n",
              "        48.22458961, 52.42846538, 56.63234116, 60.83621693, 65.04009271,\n",
              "        69.24396848]),\n",
              " <a list of 10 Patch objects>)"
            ]
          },
          "metadata": {
            "tags": []
          },
          "execution_count": 173
        },
        {
          "output_type": "display_data",
          "data": {
            "image/png": "[encoded data removed]",
            "text/plain": [
              "<Figure size 432x288 with 1 Axes>"
            ]
          },
          "metadata": {
            "tags": []
          }
        }
      ]
    },
    {
      "cell_type": "markdown",
      "metadata": {
        "id": "kSAPrBeEfOM1"
      },
      "source": [
        "2-2"
      ]
    },
    {
      "cell_type": "code",
      "metadata": {
        "id": "e92dJ6qgHrru",
        "outputId": "c96a5bf6-aa51-4399-f1ef-c1b8103e5a93",
        "colab": {
          "base_uri": "https://localhost:8080/",
          "height": 370
        }
      },
      "source": [
        "nr=np.random.normal(50,10,10000)\n",
        "n_arr=np.array([])\n",
        "\n",
        "# n個サンプル抽出\n",
        "n=10\n",
        "\n",
        "for i in range(0,10000): \n",
        "  arr=np.random.choice(nr,n)\n",
        "  n_arr=np.append(n_arr,arr.mean())\n",
        "\n",
        "plt.hist(n_arr)"
      ],
      "execution_count": 183,
      "outputs": [
        {
          "output_type": "execute_result",
          "data": {
            "text/plain": [
              "(array([3.000e+00, 5.000e+01, 2.750e+02, 1.088e+03, 2.431e+03, 3.010e+03,\n",
              "        2.152e+03, 7.980e+02, 1.780e+02, 1.500e+01]),\n",
              " array([36.7729268 , 39.23061012, 41.68829343, 44.14597674, 46.60366005,\n",
              "        49.06134336, 51.51902667, 53.97670998, 56.4343933 , 58.89207661,\n",
              "        61.34975992]),\n",
              " <a list of 10 Patch objects>)"
            ]
          },
          "metadata": {
            "tags": []
          },
          "execution_count": 183
        },
        {
          "output_type": "display_data",
          "data": {
            "image/png": "[encoded data removed]",
            "text/plain": [
              "<Figure size 432x288 with 1 Axes>"
            ]
          },
          "metadata": {
            "tags": []
          }
        }
      ]
    },
    {
      "cell_type": "code",
      "metadata": {
        "id": "AxWFRSB0HIh7",
        "outputId": "10f8d58f-cb33-4427-f51e-8c988e76a5ee",
        "colab": {
          "base_uri": "https://localhost:8080/",
          "height": 370
        }
      },
      "source": [
        "nr=np.random.normal(50,10,10000)\n",
        "n_arr=np.array([])\n",
        "\n",
        "# n個サンプル抽出\n",
        "n=100\n",
        "\n",
        "for i in range(0,10000): \n",
        "  arr=np.random.choice(nr,n)\n",
        "  n_arr=np.append(n_arr,arr.mean())\n",
        "\n",
        "plt.hist(n_arr)"
      ],
      "execution_count": 182,
      "outputs": [
        {
          "output_type": "execute_result",
          "data": {
            "text/plain": [
              "(array([  23.,  139.,  658., 1736., 2735., 2597., 1445.,  559.,   94.,\n",
              "          14.]),\n",
              " array([46.45947794, 47.18567144, 47.91186495, 48.63805845, 49.36425195,\n",
              "        50.09044545, 50.81663896, 51.54283246, 52.26902596, 52.99521946,\n",
              "        53.72141297]),\n",
              " <a list of 10 Patch objects>)"
            ]
          },
          "metadata": {
            "tags": []
          },
          "execution_count": 182
        },
        {
          "output_type": "display_data",
          "data": {
            "image/png": "[encoded data removed]",
            "text/plain": [
              "<Figure size 432x288 with 1 Axes>"
            ]
          },
          "metadata": {
            "tags": []
          }
        }
      ]
    },
    {
      "cell_type": "code",
      "metadata": {
        "id": "Ix9IDjX0HTKa",
        "outputId": "d9c7d241-39cd-4fbc-8148-02de5eb37600",
        "colab": {
          "base_uri": "https://localhost:8080/",
          "height": 370
        }
      },
      "source": [
        "nr=np.random.normal(50,10,10000)\n",
        "n_arr=np.array([])\n",
        "\n",
        "# n個サンプル抽出\n",
        "n=1000\n",
        "\n",
        "for i in range(0,10000): \n",
        "  arr=np.random.choice(nr,n)\n",
        "  n_arr=np.append(n_arr,arr.mean())\n",
        "\n",
        "plt.hist(n_arr)"
      ],
      "execution_count": 181,
      "outputs": [
        {
          "output_type": "execute_result",
          "data": {
            "text/plain": [
              "(array([  26.,  184.,  744., 2026., 2980., 2432., 1175.,  365.,   61.,\n",
              "           7.]),\n",
              " array([48.75593281, 48.99022018, 49.22450755, 49.45879492, 49.69308229,\n",
              "        49.92736966, 50.16165703, 50.3959444 , 50.63023177, 50.86451914,\n",
              "        51.09880651]),\n",
              " <a list of 10 Patch objects>)"
            ]
          },
          "metadata": {
            "tags": []
          },
          "execution_count": 181
        },
        {
          "output_type": "display_data",
          "data": {
            "image/png": "[encoded data removed]",
            "text/plain": [
              "<Figure size 432x288 with 1 Axes>"
            ]
          },
          "metadata": {
            "tags": []
          }
        }
      ]
    }
  ]
}