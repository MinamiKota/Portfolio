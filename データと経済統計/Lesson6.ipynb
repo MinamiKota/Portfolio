{
  "nbformat": 4,
  "nbformat_minor": 0,
  "metadata": {
    "colab": {
      "name": "Untitled8.ipynb",
      "provenance": [],
      "collapsed_sections": []
    },
    "kernelspec": {
      "name": "python3",
      "display_name": "Python 3"
    }
  },
  "cells": [
    {
      "cell_type": "markdown",
      "metadata": {
        "id": "MYlYsV2yP1Vc"
      },
      "source": [
        "# ライブラリのインポート"
      ]
    },
    {
      "cell_type": "code",
      "metadata": {
        "id": "K0eKTKQYPp5c"
      },
      "source": [
        "# # 配列処理や数値計算\n",
        "import numpy as np\n",
        "\n",
        "# 科学計算処理\n",
        "import scipy as sp\n",
        "from scipy import stats\n",
        "\n",
        "# Scikit-Learnから線形モデルをインポート\n",
        "from sklearn import linear_model\n",
        "\n",
        "# データ加工\n",
        "import pandas as pd\n",
        "from pandas import Series, DataFrame\n",
        "\n",
        "# 可視化\n",
        "import matplotlib.pyplot as plt\n",
        "import matplotlib as mpl\n",
        "import seaborn as sns\n",
        "sns.set()\n",
        "\n",
        "import math\n",
        "\n",
        "# ランダムシード値の固定\n",
        "np.random.seed(0)"
      ],
      "execution_count": 1,
      "outputs": []
    },
    {
      "cell_type": "markdown",
      "metadata": {
        "id": "LTTXp72_Pwgf"
      },
      "source": [
        "# 母平均の推定\n",
        "\n",
        "| 母標準偏差 | 母集団正規性 | n | 推定手法 |\n",
        "|----|----|----|----|\n",
        "| 既知 | 分布はなんでもよい | いくつでもよい | z推定 |\n",
        "| 未知 | 正規分布 | 30以上 | z推定 |\n",
        "| 未知 | 正規分布 | 30未満 | t推定 |\n",
        "| 未知 | 不明 | 30以上 | t推定 |\n",
        "\n",
        "### 前回の授業の例題2\n",
        "全国の歯科医院の数は約7万施設である．その中から1000施設を無作為に抽出し，そこの施設で1年間に診察した歯の疾患の患者数を調べた．標本平均は26.3人，標本標準偏差は20.0人であった．\n",
        "歯科医院7万施設における歯の疾患患者数を信頼度99％で求めよ．"
      ]
    },
    {
      "cell_type": "code",
      "metadata": {
        "id": "yDlGYizLQfTl",
        "outputId": "3f137942-f9b2-4612-a40b-268691e5496d",
        "colab": {
          "base_uri": "https://localhost:8080/"
        }
      },
      "source": [
        "# 信頼度\n",
        "alpha = 0.99\n",
        "# 標本サイズ\n",
        "n = 1000\n",
        "# 標本平均\n",
        "sample_mean = 26.3\n",
        "# 標本標準偏差\n",
        "sample_deviation = 20.0\n",
        "# 標準誤差 SE\n",
        "se = sample_deviation / math.sqrt(n)\n",
        "\n",
        "# 信頼度から求まる定数\n",
        "# ｚ推定の場合の定数\n",
        "# z = stats.norm.ppf(1-(1-alpha)/2)\n",
        "# ｔ推定の場合の定数\n",
        "# t = stats.t.ppf(1-(1-alpha)/2, n-1)\n",
        "\n",
        "# bottom = sample_mean - t * se\n",
        "# up = sample_mean + t * se\n",
        "\n",
        "# ｔ分布による推定\n",
        "bottom, up = stats.t.interval(alpha=alpha, loc=sample_mean, scale=se, df=n-1)\n",
        "print(bottom, '< x <', up)"
      ],
      "execution_count": 6,
      "outputs": [
        {
          "output_type": "stream",
          "text": [
            "24.667784290560867 < x < 27.932215709439134\n"
          ],
          "name": "stdout"
        }
      ]
    },
    {
      "cell_type": "markdown",
      "metadata": {
        "id": "9rNAXLWQVH45"
      },
      "source": [
        "# 母比率の推定\n",
        "\n",
        "### 例題1\n",
        "日本に血液型がAB型の人がどれくらいいるかを推計するために，無作為に2,000人を抽出しアンケート調査を行った． アンケート調査の結果，AB型の割合は9%でした．信頼度95％で日本の血液型AB型の人の割合を推定しなさい．\n",
        "\n",
        "\n",
        "\n"
      ]
    },
    {
      "cell_type": "code",
      "metadata": {
        "id": "APBE9DISXctp",
        "outputId": "c8fd1bb0-3755-4106-90c1-3478dec6e140",
        "colab": {
          "base_uri": "https://localhost:8080/"
        }
      },
      "source": [
        "# 信頼度\n",
        "alpha = 0.95\n",
        "# 標本サイズ\n",
        "n = 2000\n",
        "# 標本比率\n",
        "p = 0.09\n",
        "# 標準誤差\n",
        "se = math.sqrt(p * (1 - p)) / math.sqrt(n)\n",
        "# 信頼度から求まる定数\n",
        "z = stats.norm.ppf(1 - (1 - alpha) / 2)\n",
        "\n",
        "# 手計算\n",
        "# bottom = p - z * se\n",
        "# up = p + z * se\n",
        "\n",
        "# 関数を使う（ｚ推定）\n",
        "bottom, up = stats.norm.interval(alpha=alpha, loc=p, scale=se)\n",
        "\n",
        "# 関数を使う（二項分布：nが十分大きいとき)\n",
        "bottom_binom, up_binom = stats.binom.interval(alpha=alpha, n=n, p=p, loc=0)\n",
        "\n",
        "print(bottom, '< x <', up)\n",
        "print(bottom_binom/n, '< x <', up_binom/n)"
      ],
      "execution_count": 17,
      "outputs": [
        {
          "output_type": "stream",
          "text": [
            "0.07745776181427635 < x < 0.10254223818572364\n",
            "0.0775 < x < 0.1025\n"
          ],
          "name": "stdout"
        }
      ]
    },
    {
      "cell_type": "markdown",
      "metadata": {
        "id": "u7WzVAujeXub"
      },
      "source": [
        "### 例題2\n",
        "東京都に居住する有権者の内閣支持率を調べるためにn=400の標本調査を行いました．その結果内閣を支持する人の割合は30%でした．信頼度95%で東京都に居住する有権者の内閣支持率を推定しなさい．"
      ]
    },
    {
      "cell_type": "code",
      "metadata": {
        "id": "0HkwbZTUe9jH",
        "outputId": "b1759a60-5b31-4bfa-a5bf-d378152d27c7",
        "colab": {
          "base_uri": "https://localhost:8080/"
        }
      },
      "source": [
        "# 信頼度\n",
        "alpha = 0.95\n",
        "# 標本サイズ\n",
        "n = 400\n",
        "# 標本比率\n",
        "p = 0.3\n",
        "# 標準誤差\n",
        "se = math.sqrt(p * (1 - p)) / math.sqrt(n)\n",
        "# 信頼度から求まる定数\n",
        "z = stats.norm.ppf(1 - (1 - alpha) / 2)\n",
        "\n",
        "# 関数を使う（ｚ推定）\n",
        "bottom, up = stats.norm.interval(alpha=alpha, loc=p, scale=se)\n",
        "\n",
        "print(bottom, '< x <', up)"
      ],
      "execution_count": 18,
      "outputs": [
        {
          "output_type": "stream",
          "text": [
            "0.2550915834072897 < x < 0.34490841659271027\n"
          ],
          "name": "stdout"
        }
      ]
    },
    {
      "cell_type": "markdown",
      "metadata": {
        "id": "Zx8myc8xer4j"
      },
      "source": [
        "# 有限母集団での推定\n",
        "### 例題3\n",
        "2年生全体の血液型がAB型の割合を推定してみる．\n",
        "\n",
        "N = 67\n",
        "\n",
        "* A:20\n",
        "* B:12\n",
        "* AB:5\n",
        "* O:14\n"
      ]
    },
    {
      "cell_type": "code",
      "metadata": {
        "id": "bvmcyy77iuWR",
        "outputId": "3d264bf0-3ae7-406f-c453-5055b1290afa",
        "colab": {
          "base_uri": "https://localhost:8080/"
        }
      },
      "source": [
        "# 信頼度\n",
        "alpha = 0.95\n",
        "# 母集団サイズ\n",
        "N = 67\n",
        "# 標本サイズ\n",
        "n = 51\n",
        "# 標本比率\n",
        "p = 5 / n\n",
        "# 標準誤差\n",
        "se = math.sqrt(p * (1 - p)) / math.sqrt(n)\n",
        "# 信頼度から求まる定数\n",
        "z = stats.norm.ppf(1 - (1 - alpha) / 2)\n",
        "# 有限母集団における補正項\n",
        "ct = math.sqrt((N-n)/(N-1))\n",
        "\n",
        "# 手計算\n",
        "bottom = p - z * se * ct\n",
        "up = p + z * se * ct\n",
        "\n",
        "# 関数を使う（ｚ推定）\n",
        "# bottom, up = stats.norm.interval(alpha=alpha, loc=p, scale=se)\n",
        "\n",
        "print(bottom * N, '< x <', up * N)"
      ],
      "execution_count": 22,
      "outputs": [
        {
          "output_type": "stream",
          "text": [
            "3.8763515043368217 < x < 9.260903397623963\n"
          ],
          "name": "stdout"
        }
      ]
    },
    {
      "cell_type": "markdown",
      "metadata": {
        "id": "OEp7jzwGoBxi"
      },
      "source": [
        "# サンプルサイズの決め方\n",
        "### 例題4\n",
        "東京都の小学生のお年玉金額の平均値を推計する場合，何人の生徒を調査すればよいか．平均値は 30,000円，標準偏差は 15,000円，信頼区間 E=2,000円，信頼度95%と想定して求めよ．"
      ]
    },
    {
      "cell_type": "code",
      "metadata": {
        "id": "a2YLJHO5oFrq",
        "outputId": "1a7d2d7f-3ba8-4d4a-97b1-524f64589ac5",
        "colab": {
          "base_uri": "https://localhost:8080/"
        }
      },
      "source": [
        "# 信頼度\n",
        "alpha = 0.95\n",
        "# 標本標準偏差\n",
        "s = 15000\n",
        "# 信頼区間\n",
        "E = 2000\n",
        "# 定数\n",
        "z = stats.norm.ppf(1 - (1 - alpha) / 2)\n",
        "\n",
        "ｎ = s**2 / (E / z)**2\n",
        "\n",
        "# もしくはべき乗関数を使って\n",
        "n = pow(s / (E / z), 2)\n",
        "\n",
        "print(n)"
      ],
      "execution_count": 29,
      "outputs": [
        {
          "output_type": "stream",
          "text": [
            "216.08205866404455\n"
          ],
          "name": "stdout"
        }
      ]
    }
  ]
}