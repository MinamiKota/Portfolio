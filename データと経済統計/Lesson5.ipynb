{
  "nbformat": 4,
  "nbformat_minor": 0,
  "metadata": {
    "colab": {
      "name": "Untitled7.ipynb",
      "provenance": [],
      "collapsed_sections": []
    },
    "kernelspec": {
      "name": "python3",
      "display_name": "Python 3"
    }
  },
  "cells": [
    {
      "cell_type": "markdown",
      "metadata": {
        "id": "-h5K07ejNEmH"
      },
      "source": [
        "# ライブラリのインポート"
      ]
    },
    {
      "cell_type": "code",
      "metadata": {
        "id": "lqp6FU22NAe0"
      },
      "source": [
        "# 配列処理や数値計算\n",
        "import numpy as np\n",
        "\n",
        "# 科学計算処理\n",
        "import scipy as sp\n",
        "from scipy import stats\n",
        "\n",
        "# Scikit-Learnから線形モデルをインポート\n",
        "from sklearn import linear_model\n",
        "\n",
        "# データ加工\n",
        "import pandas as pd\n",
        "from pandas import Series, DataFrame\n",
        "\n",
        "# 可視化\n",
        "import matplotlib.pyplot as plt\n",
        "import matplotlib as mpl\n",
        "import seaborn as sns\n",
        "sns.set()\n",
        "\n",
        "import math\n",
        "\n",
        "# ランダムシード値の固定\n",
        "np.random.seed(0)"
      ],
      "execution_count": 1,
      "outputs": []
    },
    {
      "cell_type": "markdown",
      "metadata": {
        "id": "lOj_zyXdNRJ5"
      },
      "source": [
        "# 課題1（大数の法則）\n",
        "6面ダイスを任意の回数（nとして後で変更できるようにすること）投げるとき，投げた回数までに出た目の平均値を描画するプログラムを描け．ただし，ダイスの目が出るそれぞれ確率は1/6とする．（x軸に試行回数，y軸に平均値）"
      ]
    },
    {
      "cell_type": "code",
      "metadata": {
        "id": "Ao4Omec9MTSd",
        "outputId": "8344cb8e-4da4-4771-a909-393a57ccf0e9",
        "colab": {
          "base_uri": "https://localhost:8080/",
          "height": 268
        }
      },
      "source": [
        "# ダイスの目\n",
        "# dice = np.array([1,2,3,4,5,6])\n",
        "dice = np.arange(1, 7)\n",
        "\n",
        "# ダイスを振る回数\n",
        "n = 100000\n",
        "count = np.arange(1, n+1)\n",
        "\n",
        "for i in range(4):\n",
        "  p = np.random.choice(dice, n).cumsum()\n",
        "  plt.plot(p/count)\n",
        "  plt.grid(True)\n"
      ],
      "execution_count": null,
      "outputs": [
        {
          "output_type": "display_data",
          "data": {
            "image/png": "[encoded data removed]",
            "text/plain": [
              "<Figure size 432x288 with 1 Axes>"
            ]
          },
          "metadata": {
            "tags": []
          }
        }
      ]
    },
    {
      "cell_type": "markdown",
      "metadata": {
        "id": "E0hfPRfbPbx6"
      },
      "source": [
        "# 中心極限定理\n",
        "前回の授業で使った正規分布関数（np.random.normal）を用い，平均50，標準偏差10の10000個の正規分布に従うデータを生成し，その中からN個のサンプル抽出し平均値を求めるという作業を1万回試行した際の，サンプルの平均値の分布をグラフ化（ヒストグラム）せよ．"
      ]
    },
    {
      "cell_type": "code",
      "metadata": {
        "id": "4Q6zdQ9mPglf",
        "outputId": "5b440efe-e15c-4e2d-9703-9d0207a24f1c",
        "colab": {
          "base_uri": "https://localhost:8080/",
          "height": 404
        }
      },
      "source": [
        "# 母集団のサイズ\n",
        "size = 10000\n",
        "\n",
        "# 分布配列\n",
        "# 正規分布に従う分布配列\n",
        "# dist = np.random.normal(50, 10, size)\n",
        "\n",
        "# ダイスによる一様分布配列\n",
        "# dist = np.random.choice(dice, size)\n",
        "\n",
        "# ポアソン分布に従う分布配列\n",
        "dist = np.random.poisson(1, size)\n",
        "\n",
        "\n",
        "print('母平均：', dist.mean())\n",
        "print('母分散：', dist.var(ddof=0))\n",
        "\n",
        "# plt.hist(dist)\n",
        "\n",
        "# 標本サイズ\n",
        "N = 10\n",
        "# 標本数\n",
        "n = 10000\n",
        "\n",
        "# 標本平均を格納する配列\n",
        "sample_mean = np.array([])\n",
        "\n",
        "for _ in range(n):\n",
        "\n",
        "  # 母集団からN個分ランダムに抽出\n",
        "  choice = np.random.choice(dist, N)\n",
        "\n",
        "  # 抽出したデータの平均値を求める\n",
        "  choice_mean = choice.mean()\n",
        "\n",
        "  # 求めた標本平均を配列に格納する\n",
        "  sample_mean = np.append(sample_mean, choice_mean)\n",
        "\n",
        "print('標本平均の平均：', sample_mean.mean())\n",
        "print('標本平均の分散：', sample_mean.var(ddof=1))\n",
        "\n",
        "plt.hist(dist, alpha=0.5)\n",
        "plt.hist(sample_mean)\n",
        "\n"
      ],
      "execution_count": null,
      "outputs": [
        {
          "output_type": "stream",
          "text": [
            "母平均： 1.016\n",
            "母分散： 1.0053440000000002\n",
            "標本平均の平均： 1.0127300000000001\n",
            "標本平均の分散： 0.1024131884188419\n"
          ],
          "name": "stdout"
        },
        {
          "output_type": "execute_result",
          "data": {
            "text/plain": [
              "(array([  29.,  581., 1523., 3501., 2156., 1679.,  447.,   56.,   24.,\n",
              "           4.]),\n",
              " array([0.  , 0.26, 0.52, 0.78, 1.04, 1.3 , 1.56, 1.82, 2.08, 2.34, 2.6 ]),\n",
              " <a list of 10 Patch objects>)"
            ]
          },
          "metadata": {
            "tags": []
          },
          "execution_count": 40
        },
        {
          "output_type": "display_data",
          "data": {
            "image/png": "[encoded data removed]",
            "text/plain": [
              "<Figure size 432x288 with 1 Axes>"
            ]
          },
          "metadata": {
            "tags": []
          }
        }
      ]
    },
    {
      "cell_type": "markdown",
      "metadata": {
        "id": "df3vsAu0e1zN"
      },
      "source": [
        "# カイ二乗分布"
      ]
    },
    {
      "cell_type": "code",
      "metadata": {
        "id": "181FRgFDe1AS",
        "outputId": "966f295b-f754-477a-f8d7-09e98d5b3d09",
        "colab": {
          "base_uri": "https://localhost:8080/",
          "height": 271
        }
      },
      "source": [
        "# カイ二乗分布\n",
        "# 自由度ddof = 2, 10, 100に従うカイ二乗分布が生成する乱数のヒストグラム\n",
        "\n",
        "for ddof, c in zip([2,10,100], 'bgr'):\n",
        "  x = np.random.chisquare(ddof, 1000)\n",
        "  plt.hist(x, 20, color=c)\n",
        "  \n",
        "plt.grid(True)\n"
      ],
      "execution_count": null,
      "outputs": [
        {
          "output_type": "display_data",
          "data": {
            "image/png": "[encoded data removed]",
            "text/plain": [
              "<Figure size 432x288 with 1 Axes>"
            ]
          },
          "metadata": {
            "tags": []
          }
        }
      ]
    },
    {
      "cell_type": "markdown",
      "metadata": {
        "id": "4XLqP1CegiCb"
      },
      "source": [
        "# ｔ分布（ステューデントのt分布）"
      ]
    },
    {
      "cell_type": "code",
      "metadata": {
        "id": "ndkLJKwHgyxN",
        "outputId": "869cb1ab-93f4-4692-a84b-06f9c595b2dc",
        "colab": {
          "base_uri": "https://localhost:8080/",
          "height": 355
        }
      },
      "source": [
        "# t分布\n",
        "# 自由度\n",
        "ddof = 5\n",
        "x = np.random.standard_t(ddof, 1000)\n",
        "plt.hist(x)"
      ],
      "execution_count": null,
      "outputs": [
        {
          "output_type": "execute_result",
          "data": {
            "text/plain": [
              "(array([  1.,   2.,  10.,  51., 268., 481., 151.,  29.,   3.,   4.]),\n",
              " array([-7.19048923, -5.84739149, -4.50429374, -3.161196  , -1.81809826,\n",
              "        -0.47500051,  0.86809723,  2.21119498,  3.55429272,  4.89739047,\n",
              "         6.24048821]),\n",
              " <a list of 10 Patch objects>)"
            ]
          },
          "metadata": {
            "tags": []
          },
          "execution_count": 43
        },
        {
          "output_type": "display_data",
          "data": {
            "image/png": "[encoded data removed]",
            "text/plain": [
              "<Figure size 432x288 with 1 Axes>"
            ]
          },
          "metadata": {
            "tags": []
          }
        }
      ]
    },
    {
      "cell_type": "markdown",
      "metadata": {
        "id": "HVo-uhVAmuQn"
      },
      "source": [
        "# 母平均の推定\n",
        "\n",
        "| 母標準偏差 | 母集団正規性 | n | 推定手法 |\n",
        "|----|----|----|----|\n",
        "| 既知 | 分布はなんでもよい | いくつでもよい | z推定 |\n",
        "| 未知 | 正規分布 | 30以上 | z推定 |\n",
        "| 未知 | 正規分布 | 30未満 | t推定 |\n",
        "| 未知 | 不明 | 30以上 | t推定 |\n",
        "\n",
        "### 例題1\n",
        "ある都市の中学生の学生数は10,000人です．この都市の中学生全体のお年玉平均金額を調べたい．そこで n = 400人の標本調査を行った．標本平均は28,000円，標本標準偏差は3,060円だった．この都市の中学生全体のお年玉の平均値を信頼度95％で推定せよ．ただし，母集団のお年玉金額の標準偏差は未知だが正規分布に従うものとする． "
      ]
    },
    {
      "cell_type": "code",
      "metadata": {
        "id": "bcGVZIgNmtD_",
        "outputId": "7eec8b7c-3edb-48c7-a59a-f61fb825e4cc",
        "colab": {
          "base_uri": "https://localhost:8080/",
          "height": 51
        }
      },
      "source": [
        "# 信頼度\n",
        "alpha = 0.95\n",
        "# 標本サイズ\n",
        "n = 400\n",
        "# 標本平均\n",
        "sample_mean = 28000\n",
        "# 標本標準偏差\n",
        "sample_deviation = 3060\n",
        "# 標準誤差\n",
        "se = sample_deviation / math.sqrt(n)\n",
        "\n",
        "# 信頼度から求まる定数\n",
        "const = stats.norm.ppf(1-(1-alpha)/2)\n",
        "print(const)\n",
        "\n",
        "# bottom = sample_mean - const * se\n",
        "# up = sample_mean + const * se\n",
        "\n",
        "# 母集団の標準偏差不明，母集団は正規分布に従う，n>30 よって，正規分布から推定する．\n",
        "bottom, up = stats.norm.interval(alpha=alpha, loc=sample_mean, scale=se)\n",
        "print(bottom, '< x <', up)"
      ],
      "execution_count": 12,
      "outputs": [
        {
          "output_type": "stream",
          "text": [
            "1.959963984540054\n",
            "27700.12551036537 < x < 28299.87448963463\n"
          ],
          "name": "stdout"
        }
      ]
    },
    {
      "cell_type": "markdown",
      "metadata": {
        "id": "bhaX53agrARw"
      },
      "source": [
        "### 例題2\n",
        "全国の歯科医院の数は約7万施設である．その中から1000施設を無作為に抽出し，そこの施設で1年間に診察した歯の疾患の患者数を調べた．標本平均は26.3人，標本標準偏差は20.0人であった．\n",
        "歯科医院7万施設における歯の疾患患者数を信頼度99％で求めよ．"
      ]
    },
    {
      "cell_type": "code",
      "metadata": {
        "id": "aorhs15_0vWy",
        "outputId": "4c2f9834-7bf5-40c1-bf45-075a1659b465",
        "colab": {
          "base_uri": "https://localhost:8080/",
          "height": 51
        }
      },
      "source": [
        "# 信頼度\n",
        "alpha = 0.99\n",
        "# 標本サイズ\n",
        "n = 1000\n",
        "# 標本平均\n",
        "sample_mean = 26.3\n",
        "# 標本標準偏差\n",
        "sample_deviation = 20.0\n",
        "# 標準誤差 SE\n",
        "se = sample_deviation / math.sqrt(n)\n",
        "\n",
        "# 信頼度から求まる定数\n",
        "# ｚ推定の場合の定数\n",
        "# z = stats.norm.ppf(1-(1-alpha)/2)\n",
        "# ｔ推定の場合の定数\n",
        "# t = stats.t.ppf(1-(1-alpha)/2, n-1)\n",
        "\n",
        "# bottom = sample_mean - t * se\n",
        "# up = sample_mean + t * se\n",
        "\n",
        "# ｔ分布による推定\n",
        "bottom, up = stats.t.interval(alpha=alpha, loc=sample_mean, scale=se, df=n-1)\n",
        "print(bottom, '< x <', up)"
      ],
      "execution_count": 10,
      "outputs": [
        {
          "output_type": "stream",
          "text": [
            "2.580759637267628\n",
            "24.667784290560867 < x < 27.932215709439134\n"
          ],
          "name": "stdout"
        }
      ]
    }
  ]
}