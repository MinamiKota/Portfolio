{
  "nbformat": 4,
  "nbformat_minor": 0,
  "metadata": {
    "colab": {
      "name": "データと経済統計_個人課題2_1922076_南昂汰.ipynb",
      "provenance": [],
      "collapsed_sections": []
    },
    "kernelspec": {
      "name": "python3",
      "display_name": "Python 3"
    }
  },
  "cells": [
    {
      "cell_type": "markdown",
      "metadata": {
        "id": "9hDYHDHdbPXh"
      },
      "source": [
        "1922076 南昂汰"
      ]
    },
    {
      "cell_type": "markdown",
      "metadata": {
        "id": "nNvCYGkpbbKm"
      },
      "source": [
        "1−3. 日本国内である病気になっている人の割合は0.1%である.その病気を発見するための検査方法には下記の特徴がある.<br>\n",
        "・真陽性の確率:80%<br>\n",
        "・偽陽性の確率:3%<br>\n",
        "あなたはこの検査を受けたところ陽性反応が出た．<br>\n",
        "あなたがこの病気に感染している確率は何%か．<br>\n",
        "（計算式のみでよい）<br>\n",
        "\n",
        "2-2. 全住民の5%がある感染症に罹患しており，その中から無作為に500人抽出する．<br>\n",
        "このとき抽出された集弾の中に罹患者が30 人以上いる確率を求めよ．\n",
        "\n",
        "2-3. 今日今までに来たLineのメッセージは7時間で10通である.後1時間で1通のみ来る確率を求めよ．\n",
        "\n",
        "2-4. 平均0，分散1の正規分布からn=100の標本抽出を10,000回繰り返して，標本平均の分布（ヒストグラム）を描け．"
      ]
    },
    {
      "cell_type": "code",
      "metadata": {
        "id": "3qU3zJ1Q7agD"
      },
      "source": [
        "# 配列処理や数値計算\n",
        "import numpy as np\n",
        "\n",
        "# 科学計算処理\n",
        "import scipy as sp\n",
        "from scipy import stats\n",
        "from scipy.stats import norm\n",
        "from scipy.stats import poisson\n",
        "\n",
        "# Scikit-Learnから線形モデルをインポート\n",
        "from sklearn import linear_model\n",
        "\n",
        "# データ加工\n",
        "import pandas as pd\n",
        "from pandas import Series,DataFrame\n",
        "\n",
        "# 可視化\n",
        "import matplotlib as mpl\n",
        "import matplotlib.pyplot as plt\n",
        "import seaborn as sns\n",
        "sns.set()\n",
        "\n",
        "# シード値\n",
        "np.random.seed(0)"
      ],
      "execution_count": 45,
      "outputs": []
    },
    {
      "cell_type": "markdown",
      "metadata": {
        "id": "eEmWMnIIqXNJ"
      },
      "source": [
        "1-3"
      ]
    },
    {
      "cell_type": "code",
      "metadata": {
        "id": "7F64DAaRq4mK",
        "outputId": "6c23c93f-cc4d-4a0c-958b-fc6329b0ba54",
        "colab": {
          "base_uri": "https://localhost:8080/",
          "height": 34
        }
      },
      "source": [
        "(0.001*0.80)/(0.001*0.80+0.999*0.03)"
      ],
      "execution_count": 46,
      "outputs": [
        {
          "output_type": "execute_result",
          "data": {
            "text/plain": [
              "0.025999350016249596"
            ]
          },
          "metadata": {
            "tags": []
          },
          "execution_count": 46
        }
      ]
    },
    {
      "cell_type": "markdown",
      "metadata": {
        "id": "4VcIM_3cqU-z"
      },
      "source": [
        "2-2"
      ]
    },
    {
      "cell_type": "code",
      "metadata": {
        "id": "bPsMPEC7q5FZ",
        "outputId": "2df31188-b000-4d34-89a2-1ec59d0b4062",
        "colab": {
          "base_uri": "https://localhost:8080/",
          "height": 34
        }
      },
      "source": [
        "n=500\n",
        "p=.05\n",
        "\n",
        "sum(np.random.binomial(n,p,1000)>=30)/1000."
      ],
      "execution_count": 47,
      "outputs": [
        {
          "output_type": "execute_result",
          "data": {
            "text/plain": [
              "0.182"
            ]
          },
          "metadata": {
            "tags": []
          },
          "execution_count": 47
        }
      ]
    },
    {
      "cell_type": "markdown",
      "metadata": {
        "id": "kSAPrBeEfOM1"
      },
      "source": [
        "2-3"
      ]
    },
    {
      "cell_type": "code",
      "metadata": {
        "id": "Jnp2A8A1fIPM",
        "outputId": "f6ff4493-4d5e-4ef6-f76c-672682e4fb15",
        "colab": {
          "base_uri": "https://localhost:8080/",
          "height": 34
        }
      },
      "source": [
        "n=1\n",
        "p=10/7\n",
        "k=1\n",
        "\n",
        "poisson.pmf(k,n*p)"
      ],
      "execution_count": 48,
      "outputs": [
        {
          "output_type": "execute_result",
          "data": {
            "text/plain": [
              "0.34235862348825113"
            ]
          },
          "metadata": {
            "tags": []
          },
          "execution_count": 48
        }
      ]
    },
    {
      "cell_type": "markdown",
      "metadata": {
        "id": "eKsle7DNfEJB"
      },
      "source": [
        "2-4"
      ]
    },
    {
      "cell_type": "code",
      "metadata": {
        "id": "MCG3Yc3hq-KD",
        "outputId": "74fe1e5b-8ff5-4026-b154-b3e5902b4314",
        "colab": {
          "base_uri": "https://localhost:8080/",
          "height": 272
        }
      },
      "source": [
        "mu=0\n",
        "sigma=1\n",
        "stdev=np.sqrt(sigma)\n",
        "N=100\n",
        "mu0=0\n",
        "simu=10000\n",
        "t_hist=[]\n",
        "\n",
        "for i in range(simu):\n",
        "    samples=norm.rvs(loc=mu,scale=stdev,size=N) # 標本平均,標本分散\n",
        "    m=np.average(samples) # 標本平均からt検定の検定統計量算出\n",
        "    s=np.std(samples,ddof=1) # 標本標準偏差からt検定の検定統計量算出\n",
        "    t=(m-mu0)/(s/np.sqrt(N)) # t検定の検定統計量\n",
        "    t_hist=np.append(t_hist,t)\n",
        "\n",
        "plt.hist(t_hist,bins=int(simu/100))\n",
        "plt.xlim(-5,5)\n",
        "plt.ylim(0,500)\n",
        "plt.grid(True)"
      ],
      "execution_count": 49,
      "outputs": [
        {
          "output_type": "display_data",
          "data": {
            "image/png": "[encoded data removed]",
            "text/plain": [
              "<Figure size 432x288 with 1 Axes>"
            ]
          },
          "metadata": {
            "tags": []
          }
        }
      ]
    }
  ]
}