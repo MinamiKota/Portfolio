{
  "nbformat": 4,
  "nbformat_minor": 0,
  "metadata": {
    "colab": {
      "name": "2020.10.5.ipynb",
      "provenance": [],
      "toc_visible": true
    },
    "kernelspec": {
      "name": "python3",
      "display_name": "Python 3"
    }
  },
  "cells": [
    {
      "cell_type": "markdown",
      "metadata": {
        "id": "GTISmxn7FtzU"
      },
      "source": [
        "# ライブラリのインポート"
      ]
    },
    {
      "cell_type": "code",
      "metadata": {
        "id": "TqMhl0eyFlt1"
      },
      "source": [
        "# 配列処理や数値計算\n",
        "import numpy as np\n",
        "\n",
        "# 科学計算処理\n",
        "import scipy as sp\n",
        "from scipy import stats\n",
        "\n",
        "# Scikit-Learnから線形モデルをインポート\n",
        "from sklearn import linear_model\n",
        "\n",
        "# データ加工\n",
        "import pandas as pd\n",
        "from pandas import Series, DataFrame\n",
        "\n",
        "# 可視化\n",
        "import matplotlib.pyplot as plt\n",
        "import matplotlib as mpl\n",
        "import seaborn as sns\n",
        "sns.set()\n",
        "\n",
        "# ランダムシード値の固定\n",
        "np.random.seed(0)"
      ],
      "execution_count": null,
      "outputs": []
    },
    {
      "cell_type": "markdown",
      "metadata": {
        "id": "HYTcYe-eKgye"
      },
      "source": [
        "# 練習 サイコロ"
      ]
    },
    {
      "cell_type": "code",
      "metadata": {
        "id": "cctueEPDGlKf",
        "outputId": "fdbe6883-1319-401d-a702-6ba49098c0c9",
        "colab": {
          "base_uri": "https://localhost:8080/",
          "height": 136
        }
      },
      "source": [
        "# ダイスの目\n",
        "dice = np.array([1,2,3,4,5,6])\n",
        "\n",
        "print('1つランダムに抽出：', np.random.choice(dice, 1))\n",
        "\n",
        "# ダイスを1000回振る\n",
        "steps = 1000\n",
        "rolls = np.random.choice(dice, steps)\n",
        "\n",
        "\n",
        "# それぞれの目が出る確率を求める\n",
        "for i in range(1, 7):\n",
        "  p = len(rolls[rolls == i]) / steps\n",
        "  print(i, p)"
      ],
      "execution_count": null,
      "outputs": [
        {
          "output_type": "stream",
          "text": [
            "1つランダムに抽出： [1]\n",
            "1 0.163\n",
            "2 0.165\n",
            "3 0.171\n",
            "4 0.181\n",
            "5 0.157\n",
            "6 0.163\n"
          ],
          "name": "stdout"
        }
      ]
    },
    {
      "cell_type": "markdown",
      "metadata": {
        "id": "VBmEVlNTKl5k"
      },
      "source": [
        "# 個人課題\n",
        "1. コイン投げを1000回試行し表と裏の確率をそれぞれ求めよ.\n",
        "2. 1000本のくじの中に100本の当たりがあるとき，AとBが順番にくじを引き両方 が当たりを引く確率を求めよ.ただし，引いたくじは戻さない.\n",
        "3. 日本国内である病気になっている人の割合は0.1%である.その病気を発見する\n",
        "ための検査方法には次の特徴がある.\n",
        "・真陽性の確率:80%\n",
        "・偽陽性の確率:3%\n",
        "あなたはこの検査を受けたところ陽性反応が出ました.あなたがこの病気に感染 している確率は何%でしょうか."
      ]
    },
    {
      "cell_type": "code",
      "metadata": {
        "id": "c7z2Wwy8NK3i",
        "outputId": "15a460c7-c8db-4722-8e30-601c5298724e",
        "colab": {
          "base_uri": "https://localhost:8080/",
          "height": 68
        }
      },
      "source": [
        "# コイン\n",
        "coin = np.array([0, 1])\n",
        "n = 1000\n",
        "coins = np.random.choice(coin, n)\n",
        "coins\n",
        "\n",
        "for i in [0, 1]:\n",
        "  print(i, len(coins[coins == i]) / n)\n",
        "\n",
        "\n",
        "(100/1000) * (99/999)"
      ],
      "execution_count": null,
      "outputs": [
        {
          "output_type": "stream",
          "text": [
            "0 0.497\n",
            "1 0.503\n"
          ],
          "name": "stdout"
        },
        {
          "output_type": "execute_result",
          "data": {
            "text/plain": [
              "0.009909909909909911"
            ]
          },
          "metadata": {
            "tags": []
          },
          "execution_count": 16
        }
      ]
    },
    {
      "cell_type": "markdown",
      "metadata": {
        "id": "FtScoEEWTiPh"
      },
      "source": [
        "# 分布関数"
      ]
    },
    {
      "cell_type": "code",
      "metadata": {
        "id": "lnkyCQAYTk8Z",
        "outputId": "c434e328-4b8d-47bb-ad5e-6c63e4056cbd",
        "colab": {
          "base_uri": "https://localhost:8080/",
          "height": 387
        }
      },
      "source": [
        "# 一様分布\n",
        "# ダイスの目\n",
        "dice = np.array([1,2,3,4,5,6])\n",
        "\n",
        "print('1つランダムに抽出：', np.random.choice(dice, 1))\n",
        "\n",
        "# ダイスを1000回振る\n",
        "steps = 1000000\n",
        "rolls = np.random.choice(dice, steps)\n",
        "\n",
        "\n",
        "prob = np.array([])\n",
        "# それぞれの目が出る確率を求める\n",
        "for i in range(1, 7):\n",
        "  p = len(rolls[rolls == i]) / steps\n",
        "  prob = np.append(prob, p)\n",
        "  print(i, p)\n",
        "\n",
        "plt.bar(dice, prob)\n",
        "plt.grid(True)\n"
      ],
      "execution_count": null,
      "outputs": [
        {
          "output_type": "stream",
          "text": [
            "1つランダムに抽出： [6]\n",
            "1 0.167107\n",
            "2 0.165954\n",
            "3 0.166638\n",
            "4 0.167123\n",
            "5 0.166986\n",
            "6 0.166192\n"
          ],
          "name": "stdout"
        },
        {
          "output_type": "display_data",
          "data": {
            "image/png": "[encoded data removed]",
            "text/plain": [
              "<Figure size 432x288 with 1 Axes>"
            ]
          },
          "metadata": {
            "tags": []
          }
        }
      ]
    },
    {
      "cell_type": "code",
      "metadata": {
        "id": "uVxyEunwU3FN",
        "outputId": "2984062c-e5d8-44df-8e0a-c1da8882359b",
        "colab": {
          "base_uri": "https://localhost:8080/",
          "height": 353
        }
      },
      "source": [
        "# ベルヌーイ分布\n",
        "\n",
        "# コイン\n",
        "coin = np.array([0, 1])\n",
        "n = 10\n",
        "coins = np.random.choice(coin, n)\n",
        "coins\n",
        "\n",
        "prob_be = np.array([])\n",
        "\n",
        "for i in [0, 1]:\n",
        "\n",
        "  p = len(coins[coins == i]) / n\n",
        "  prob_be = np.append(prob_be, p)\n",
        "\n",
        "  print(i, len(coins[coins == i]) / n)\n",
        "\n",
        "\n",
        "plt.bar([0, 1], prob_be)\n",
        "plt.xticks([0, 1], ['head', 'tail'])"
      ],
      "execution_count": null,
      "outputs": [
        {
          "output_type": "stream",
          "text": [
            "0 0.7\n",
            "1 0.3\n"
          ],
          "name": "stdout"
        },
        {
          "output_type": "execute_result",
          "data": {
            "text/plain": [
              "([<matplotlib.axis.XTick at 0x7f0f3908d6a0>,\n",
              "  <matplotlib.axis.XTick at 0x7f0f3908d668>],\n",
              " [Text(0, 0, 'head'), Text(0, 0, 'tail')])"
            ]
          },
          "metadata": {
            "tags": []
          },
          "execution_count": 24
        },
        {
          "output_type": "display_data",
          "data": {
            "image/png": "[encoded data removed]",
            "text/plain": [
              "<Figure size 432x288 with 1 Axes>"
            ]
          },
          "metadata": {
            "tags": []
          }
        }
      ]
    },
    {
      "cell_type": "code",
      "metadata": {
        "id": "xULO67NRWSxA",
        "outputId": "da26051d-5ece-4098-b868-0c682b30fe3d",
        "colab": {
          "base_uri": "https://localhost:8080/",
          "height": 34
        }
      },
      "source": [
        "# 2項分布（独立なベルヌーイ試行をn回繰り返したもの）\n",
        "n=10000\n",
        "tmp = np.array([])\n",
        "# 100回コインを投げる試行を1000回繰り返す場合の分布\n",
        "hogehoge = np.random.binomial(5, 0.6, n)\n",
        "s1 = sum(hogehoge==0) / n\n",
        "s2 = sum(hogehoge==1) / n\n",
        "s3 = sum(hogehoge==2) / n\n",
        "s1 + s2 + s3\n",
        "# plt.hist(hogehoge)\n"
      ],
      "execution_count": null,
      "outputs": [
        {
          "output_type": "execute_result",
          "data": {
            "text/plain": [
              "0.31410000000000005"
            ]
          },
          "metadata": {
            "tags": []
          },
          "execution_count": 51
        }
      ]
    },
    {
      "cell_type": "code",
      "metadata": {
        "id": "-0TR1_wwY4gQ",
        "outputId": "323e6f21-3237-4861-da01-3110cb257f67",
        "colab": {
          "base_uri": "https://localhost:8080/",
          "height": 319
        }
      },
      "source": [
        "# ポアソン分布\n",
        "\n",
        "plt.hist(np.random.poisson(6, 1000))"
      ],
      "execution_count": null,
      "outputs": [
        {
          "output_type": "execute_result",
          "data": {
            "text/plain": [
              "(array([ 58., 225., 166., 295., 108.,  99.,  37.,   5.,   6.,   1.]),\n",
              " array([ 1. ,  2.6,  4.2,  5.8,  7.4,  9. , 10.6, 12.2, 13.8, 15.4, 17. ]),\n",
              " <a list of 10 Patch objects>)"
            ]
          },
          "metadata": {
            "tags": []
          },
          "execution_count": 33
        },
        {
          "output_type": "display_data",
          "data": {
            "image/png": "[encoded data removed]",
            "text/plain": [
              "<Figure size 432x288 with 1 Axes>"
            ]
          },
          "metadata": {
            "tags": []
          }
        }
      ]
    },
    {
      "cell_type": "code",
      "metadata": {
        "id": "pXKFV15QaDN-",
        "outputId": "bf1892ea-79fb-451f-ef4c-485bd4d40b20",
        "colab": {
          "base_uri": "https://localhost:8080/",
          "height": 336
        }
      },
      "source": [
        "# 正規分布\n",
        "\n",
        "plt.hist(np.random.normal(5, 10, 10000))"
      ],
      "execution_count": null,
      "outputs": [
        {
          "output_type": "execute_result",
          "data": {
            "text/plain": [
              "(array([   6.,   96.,  552., 1863., 3108., 2731., 1325.,  275.,   40.,\n",
              "           4.]), array([-34.63590777, -26.37411613, -18.1123245 ,  -9.85053286,\n",
              "         -1.58874122,   6.67305041,  14.93484205,  23.19663369,\n",
              "         31.45842532,  39.72021696,  47.98200859]), <a list of 10 Patch objects>)"
            ]
          },
          "metadata": {
            "tags": []
          },
          "execution_count": 35
        },
        {
          "output_type": "display_data",
          "data": {
            "image/png": "[encoded data removed]",
            "text/plain": [
              "<Figure size 432x288 with 1 Axes>"
            ]
          },
          "metadata": {
            "tags": []
          }
        }
      ]
    },
    {
      "cell_type": "code",
      "metadata": {
        "id": "k3ygyXtNbR7j",
        "outputId": "3459a239-a890-47ff-ab00-a2a1758310e1",
        "colab": {
          "base_uri": "https://localhost:8080/",
          "height": 285
        }
      },
      "source": [
        "# カーネル密度関数\n",
        "student_data_math = pd.read_csv('student-mat.csv', sep=';')\n",
        "student_data_math.absences.hist(density=True)\n",
        "\n",
        "student_data_math.absences.plot(kind='kde')"
      ],
      "execution_count": null,
      "outputs": [
        {
          "output_type": "execute_result",
          "data": {
            "text/plain": [
              "<matplotlib.axes._subplots.AxesSubplot at 0x7f0f38af0198>"
            ]
          },
          "metadata": {
            "tags": []
          },
          "execution_count": 42
        },
        {
          "output_type": "display_data",
          "data": {
            "image/png": "[encoded data removed]",
            "text/plain": [
              "<Figure size 432x288 with 1 Axes>"
            ]
          },
          "metadata": {
            "tags": []
          }
        }
      ]
    },
    {
      "cell_type": "code",
      "metadata": {
        "id": "PYfJ2B4Hid3I",
        "outputId": "ff28c688-cce1-47b5-dfeb-b92fd113a170",
        "colab": {
          "base_uri": "https://localhost:8080/",
          "height": 34
        }
      },
      "source": [
        "# 課題1\n",
        "# 2項分布\n",
        "\n",
        "# 男性が抽出される確率は60%\n",
        "p = 0.6\n",
        "n = 100000\n",
        "\n",
        "dist = np.random.binomial(5, p, n)\n",
        "dist\n",
        "\n",
        "s0 = len(np.where(dist == 0)[0]) / n\n",
        "s1 = len(np.where(dist == 1)[0]) / n\n",
        "s2 = len(np.where(dist == 2)[0]) / n\n",
        "\n",
        "s0 + s1 + s2"
      ],
      "execution_count": null,
      "outputs": [
        {
          "output_type": "execute_result",
          "data": {
            "text/plain": [
              "0.31736"
            ]
          },
          "metadata": {
            "tags": []
          },
          "execution_count": 77
        }
      ]
    }
  ]
}