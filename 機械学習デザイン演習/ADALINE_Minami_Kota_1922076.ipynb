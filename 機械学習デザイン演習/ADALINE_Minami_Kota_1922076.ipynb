{
  "cells": [
    {
      "cell_type": "code",
      "execution_count": null,
      "metadata": {
        "colab": {},
        "colab_type": "code",
        "id": "aMNX0n-rCwmG"
      },
      "outputs": [],
      "source": [
        "#ライブラリのインポート\n",
        "#グラフ描画用\n",
        "import matplotlib.pyplot as plt\n",
        "#行列ベクトル配列計算\n",
        "import numpy as np\n",
        "#データ読み込み配列操作グラフ化\n",
        "import pandas as pd"
      ]
    },
    {
      "cell_type": "code",
      "execution_count": null,
      "metadata": {
        "colab": {},
        "colab_type": "code",
        "id": "rXtgIDgr2MNJ"
      },
      "outputs": [],
      "source": [
        "class ADALINE(object):\n",
        "    #クラスをインスタンス化する時の初期化関数\n",
        "    #コンストラクタ\n",
        "    def __init__(self,eta=0.01,n_iter=50):\n",
        "        self.eta=eta\n",
        "        self.n_iter=n_iter\n",
        "    #トレーニングする関数\n",
        "    def fit(self,X,y):\n",
        "        #重みを乱数（正規分布）から生成する\n",
        "        self.w_=np.zeros(1+X.shape[1])\n",
        "        self.cost_=[]\n",
        "        #トレーニング回数分トレーニングデータを反復\n",
        "        for i in range(self.n_iter):\n",
        "            #活性化関数の出力の計算\n",
        "            output=self.net_input(X)\n",
        "            #誤差計算\n",
        "            errors=(y-output)\n",
        "            #w1以降の更新\n",
        "            self.w_[1:]+=self.eta*X.T.dot(errors)\n",
        "            #w0更新\n",
        "            self.w_[0]+=self.eta*errors.sum()\n",
        "            #コスト関数計算(勾配降下法)\n",
        "            cost=(errors**2).sum()/2.0\n",
        "            #コスト格納\n",
        "            self.cost_.append(cost)\n",
        "        return self\n",
        "    #挿入力の計算\n",
        "    def net_input(self,X):\n",
        "        return np.dot(X,self.w_[1:])+self.w_[0]\n",
        "    #活性化関数の出力を計算\n",
        "    def activation(self,X):\n",
        "        return self.net_input(X)\n",
        "    #1ステップ後のクラスラベルを返す\n",
        "    def predict(self,X):\n",
        "        return np.where(self.activation(X)>=0.0,1,-1)"
      ]
    },
    {
      "cell_type": "code",
      "execution_count": 22,
      "metadata": {
        "colab": {
          "base_uri": "https://localhost:8080/",
          "height": 279
        },
        "colab_type": "code",
        "id": "M2zMibEZ2R3P",
        "outputId": "5cd17c6b-2687-4e6b-ee8f-cafd48b32363"
      },
      "outputs": [
        {
          "data": {
            "image/png": "[encoded data removed]",
            "text/plain": [
              "<Figure size 432x288 with 1 Axes>"
            ]
          },
          "metadata": {
            "needs_background": "light",
            "tags": []
          },
          "output_type": "display_data"
        }
      ],
      "source": [
        "#Irisデータセットの入手\n",
        "df=pd.read_csv(\"https://archive.ics.uci.edu/ml/machine-learning-databases/iris/iris.data\",header=None)\n",
        "#1〜100まで目的変数抽出\n",
        "y=df.iloc[0:100,4].values\n",
        "#Iris-setosa:-1　iris-versicolor:1\n",
        "y=np.where(y==\"Iris-setosa\",-1,1)\n",
        "#1-100行目の1,3列めの抽出\n",
        "X=df.iloc[0:100,[0,2]].values\n",
        "#グラフのプロット\n",
        "plt.scatter(X[:50,0],X[:50,1],color=\"red\",marker=\"o\",label=\"setosa\")\n",
        "plt.scatter(X[50:100,0],X[50:100,1],color=\"blue\",marker=\"*\",label=\"versicolor\")\n",
        "#軸ラベルの設定\n",
        "plt.xlabel(\"speal length [cm]\")\n",
        "plt.ylabel(\"petal length [cm]\")\n",
        "plt.show()"
      ]
    },
    {
      "cell_type": "code",
      "execution_count": null,
      "metadata": {
        "colab": {},
        "colab_type": "code",
        "id": "DNkKb0ti5pUR"
      },
      "outputs": [],
      "source": [
        "#データのコピー\n",
        "X_std=np.copy(X)\n",
        "#各列の標準化\n",
        "X_std[:,0]=(X[:,0]-X[:,0].mean())/X[:,0].std()\n",
        "X_std[:,1]=(X[:,1]-X[:,1].mean())/X[:,1].std()"
      ]
    },
    {
      "cell_type": "code",
      "execution_count": null,
      "metadata": {
        "colab": {},
        "colab_type": "code",
        "id": "4z_fNDu32SuZ"
      },
      "outputs": [],
      "source": [
        "from matplotlib.colors import ListedColormap\n",
        "\n",
        "def plot_decision_regions(X,y,classifier,resolution=0.02):\n",
        "    #マーカーとカラーマップの用意\n",
        "    markers=(\"s\",\"x\",\"o\",\"^\",\"v\")\n",
        "    colors=(\"red\",\"blue\",\"lightgreen\",\"gray\",\"cyan\")\n",
        "    cmap=ListedColormap(colors[:len(np.unique(y))])\n",
        "    #決定領域のプロット\n",
        "    x1_min,x1_max=X[:,0].min()-1,X[:,0].max()+1\n",
        "    x2_min,x2_max=X[:,1].min()-1,X[:,1].max()+1\n",
        "    #グリッドポイントの作成\n",
        "    xx1,xx2=np.meshgrid(np.arange(x1_min,x1_max,resolution),\n",
        "                         np.arange(x2_min,x2_max,resolution))\n",
        "    #特徴量を一次元配列に変換して予測を実行する\n",
        "    Z=classifier.predict(np.array([xx1.ravel(),xx2.ravel()]).T)\n",
        "    #予測結果をグリッドポイントのデータサイズに変換\n",
        "    Z=Z.reshape(xx1.shape)\n",
        "    #グリッドポイントの等高線のプロット\n",
        "    plt.contourf(xx1,xx2,Z,alpha=0.4,cmap=cmap)\n",
        "    #軸の範囲の設定\n",
        "    plt.xlim(xx1.min(),xx1.max())\n",
        "    plt.ylim(xx2.min(),xx2.max())\n",
        "    #クラスごとにサンプルをプロット\n",
        "    #matplotlibが1.5.0以下ならc=cmapをc=colors[idx]に変更\n",
        "    for idx,cl in enumerate(np.unique(y)):\n",
        "        plt.scatter(x=X[y==cl,0],y=X[y==cl,1],alpha=0.8,c=cmap(idx),marker=markers[idx],label=cl)"
      ]
    },
    {
      "cell_type": "code",
      "execution_count": 25,
      "metadata": {
        "colab": {
          "base_uri": "https://localhost:8080/",
          "height": 319
        },
        "colab_type": "code",
        "id": "inFLVM8t5ljH",
        "outputId": "2a38ae8c-c5dd-436f-933d-cf3de8c6de06"
      },
      "outputs": [
        {
          "name": "stderr",
          "output_type": "stream",
          "text": [
            "'c' argument looks like a single numeric RGB or RGBA sequence, which should be avoided as value-mapping will have precedence in case its length matches with 'x' & 'y'.  Please use a 2-D array with a single row if you really want to specify the same RGB or RGBA value for all points.\n",
            "'c' argument looks like a single numeric RGB or RGBA sequence, which should be avoided as value-mapping will have precedence in case its length matches with 'x' & 'y'.  Please use a 2-D array with a single row if you really want to specify the same RGB or RGBA value for all points.\n"
          ]
        },
        {
          "data": {
            "image/png": "[encoded data removed]",
            "text/plain": [
              "<Figure size 432x288 with 1 Axes>"
            ]
          },
          "metadata": {
            "needs_background": "light",
            "tags": []
          },
          "output_type": "display_data"
        }
      ],
      "source": [
        "#勾配降下法によるADALINEの学習(標準化後)\n",
        "ada=ADALINE(n_iter=15,eta=0.01)\n",
        "#モデルの適合\n",
        "ada.fit(X_std,y)\n",
        "#境界領域のプロット\n",
        "plot_decision_regions(X_std,y,classifier=ada)\n",
        "#プロット\n",
        "plt.show()"
      ]
    }
  ],
  "metadata": {
    "colab": {
      "collapsed_sections": [],
      "name": "ADALINE_Minami_Kota_1922076",
      "provenance": []
    },
    "kernelspec": {
      "display_name": "Python 3",
      "name": "python3"
    }
  },
  "nbformat": 4,
  "nbformat_minor": 0
}
