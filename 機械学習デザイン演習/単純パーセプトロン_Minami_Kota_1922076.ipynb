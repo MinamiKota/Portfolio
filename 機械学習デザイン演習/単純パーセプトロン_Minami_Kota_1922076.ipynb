{
  "cells": [
    {
      "cell_type": "code",
      "execution_count": null,
      "metadata": {
        "colab": {},
        "colab_type": "code",
        "id": "HII2yfwmh8dr"
      },
      "outputs": [],
      "source": [
        "#ライブラリのインポート\n",
        "#グラフ描画用\n",
        "import matplotlib.pyplot as plt\n",
        "#行列ベクトル配列計算\n",
        "import numpy as np\n",
        "#データ読み込み配列操作グラフ化\n",
        "import pandas as pd"
      ]
    },
    {
      "cell_type": "code",
      "execution_count": 26,
      "metadata": {
        "colab": {
          "base_uri": "https://localhost:8080/",
          "height": 419
        },
        "colab_type": "code",
        "id": "jve5HgdpiAQD",
        "outputId": "c61c315f-fab4-45e6-afea-b393e4086cb5"
      },
      "outputs": [
        {
          "data": {
            "text/html": [
              "<div>\n",
              "<style scoped>\n",
              "    .dataframe tbody tr th:only-of-type {\n",
              "        vertical-align: middle;\n",
              "    }\n",
              "\n",
              "    .dataframe tbody tr th {\n",
              "        vertical-align: top;\n",
              "    }\n",
              "\n",
              "    .dataframe thead th {\n",
              "        text-align: right;\n",
              "    }\n",
              "</style>\n",
              "<table border=\"1\" class=\"dataframe\">\n",
              "  <thead>\n",
              "    <tr style=\"text-align: right;\">\n",
              "      <th></th>\n",
              "      <th>0</th>\n",
              "      <th>1</th>\n",
              "      <th>2</th>\n",
              "      <th>3</th>\n",
              "      <th>4</th>\n",
              "    </tr>\n",
              "  </thead>\n",
              "  <tbody>\n",
              "    <tr>\n",
              "      <th>0</th>\n",
              "      <td>5.1</td>\n",
              "      <td>3.5</td>\n",
              "      <td>1.4</td>\n",
              "      <td>0.2</td>\n",
              "      <td>Iris-setosa</td>\n",
              "    </tr>\n",
              "    <tr>\n",
              "      <th>1</th>\n",
              "      <td>4.9</td>\n",
              "      <td>3.0</td>\n",
              "      <td>1.4</td>\n",
              "      <td>0.2</td>\n",
              "      <td>Iris-setosa</td>\n",
              "    </tr>\n",
              "    <tr>\n",
              "      <th>2</th>\n",
              "      <td>4.7</td>\n",
              "      <td>3.2</td>\n",
              "      <td>1.3</td>\n",
              "      <td>0.2</td>\n",
              "      <td>Iris-setosa</td>\n",
              "    </tr>\n",
              "    <tr>\n",
              "      <th>3</th>\n",
              "      <td>4.6</td>\n",
              "      <td>3.1</td>\n",
              "      <td>1.5</td>\n",
              "      <td>0.2</td>\n",
              "      <td>Iris-setosa</td>\n",
              "    </tr>\n",
              "    <tr>\n",
              "      <th>4</th>\n",
              "      <td>5.0</td>\n",
              "      <td>3.6</td>\n",
              "      <td>1.4</td>\n",
              "      <td>0.2</td>\n",
              "      <td>Iris-setosa</td>\n",
              "    </tr>\n",
              "    <tr>\n",
              "      <th>...</th>\n",
              "      <td>...</td>\n",
              "      <td>...</td>\n",
              "      <td>...</td>\n",
              "      <td>...</td>\n",
              "      <td>...</td>\n",
              "    </tr>\n",
              "    <tr>\n",
              "      <th>145</th>\n",
              "      <td>6.7</td>\n",
              "      <td>3.0</td>\n",
              "      <td>5.2</td>\n",
              "      <td>2.3</td>\n",
              "      <td>Iris-virginica</td>\n",
              "    </tr>\n",
              "    <tr>\n",
              "      <th>146</th>\n",
              "      <td>6.3</td>\n",
              "      <td>2.5</td>\n",
              "      <td>5.0</td>\n",
              "      <td>1.9</td>\n",
              "      <td>Iris-virginica</td>\n",
              "    </tr>\n",
              "    <tr>\n",
              "      <th>147</th>\n",
              "      <td>6.5</td>\n",
              "      <td>3.0</td>\n",
              "      <td>5.2</td>\n",
              "      <td>2.0</td>\n",
              "      <td>Iris-virginica</td>\n",
              "    </tr>\n",
              "    <tr>\n",
              "      <th>148</th>\n",
              "      <td>6.2</td>\n",
              "      <td>3.4</td>\n",
              "      <td>5.4</td>\n",
              "      <td>2.3</td>\n",
              "      <td>Iris-virginica</td>\n",
              "    </tr>\n",
              "    <tr>\n",
              "      <th>149</th>\n",
              "      <td>5.9</td>\n",
              "      <td>3.0</td>\n",
              "      <td>5.1</td>\n",
              "      <td>1.8</td>\n",
              "      <td>Iris-virginica</td>\n",
              "    </tr>\n",
              "  </tbody>\n",
              "</table>\n",
              "<p>150 rows × 5 columns</p>\n",
              "</div>"
            ],
            "text/plain": [
              "       0    1    2    3               4\n",
              "0    5.1  3.5  1.4  0.2     Iris-setosa\n",
              "1    4.9  3.0  1.4  0.2     Iris-setosa\n",
              "2    4.7  3.2  1.3  0.2     Iris-setosa\n",
              "3    4.6  3.1  1.5  0.2     Iris-setosa\n",
              "4    5.0  3.6  1.4  0.2     Iris-setosa\n",
              "..   ...  ...  ...  ...             ...\n",
              "145  6.7  3.0  5.2  2.3  Iris-virginica\n",
              "146  6.3  2.5  5.0  1.9  Iris-virginica\n",
              "147  6.5  3.0  5.2  2.0  Iris-virginica\n",
              "148  6.2  3.4  5.4  2.3  Iris-virginica\n",
              "149  5.9  3.0  5.1  1.8  Iris-virginica\n",
              "\n",
              "[150 rows x 5 columns]"
            ]
          },
          "execution_count": 26,
          "metadata": {
            "tags": []
          },
          "output_type": "execute_result"
        }
      ],
      "source": [
        "#Webからデータを直接読み込む\n",
        "df=pd.read_csv(\"https://archive.ics.uci.edu/ml/machine-learning-databases/iris/iris.data\",header=None)\n",
        "df"
      ]
    },
    {
      "cell_type": "code",
      "execution_count": 27,
      "metadata": {
        "colab": {
          "base_uri": "https://localhost:8080/",
          "height": 34
        },
        "colab_type": "code",
        "id": "Njy-zd7PknDy",
        "outputId": "432e425c-2011-49a0-865b-e3ecf709ebcc"
      },
      "outputs": [
        {
          "data": {
            "text/plain": [
              "'\\n#アップロードしたデータを読み込む\\ndf=pd.read_csv(\"iris-data.csv\",header=None)\\ndf\\n'"
            ]
          },
          "execution_count": 27,
          "metadata": {
            "tags": []
          },
          "output_type": "execute_result"
        }
      ],
      "source": [
        "\"\"\"\n",
        "#アップロードしたデータを読み込む\n",
        "df=pd.read_csv(\"iris-data.csv\",header=None)\n",
        "df\n",
        "\"\"\""
      ]
    },
    {
      "cell_type": "code",
      "execution_count": 28,
      "metadata": {
        "colab": {
          "base_uri": "https://localhost:8080/",
          "height": 265
        },
        "colab_type": "code",
        "id": "i4jU4vFeiIwZ",
        "outputId": "ac2f55f9-1395-47a4-a884-ee8b3defec04"
      },
      "outputs": [
        {
          "data": {
            "image/png": "[encoded data removed]",
            "text/plain": [
              "<Figure size 432x288 with 1 Axes>"
            ]
          },
          "metadata": {
            "needs_background": "light",
            "tags": []
          },
          "output_type": "display_data"
        }
      ],
      "source": [
        "#グラフでデータを確認する\n",
        "#必要なデータを抽出する\n",
        "X=df.iloc[0:100,[0,2]].values\n",
        "X\n",
        "#グラフの描画\n",
        "plt.scatter(X[:50,0],X[:50,1],color=\"green\",marker=\"o\",label=\"setosa\")\n",
        "plt.scatter(X[50:,0],X[50:,1],color=\"orange\",marker=\"x\",label=\"versicolor\")\n",
        "plt.show()"
      ]
    },
    {
      "cell_type": "code",
      "execution_count": null,
      "metadata": {
        "colab": {},
        "colab_type": "code",
        "id": "piWurPNXlDLp"
      },
      "outputs": [],
      "source": [
        "#パーセプトロンの実装\n",
        "#使う変数の整理\n",
        "eta=0.5 #学習率（0<eta<1） 型：float\n",
        "epoch=100 #トレーニング回数\n",
        "#重み\n",
        "w0=0.5 #バイアス\n",
        "w1=0.5\n",
        "w2=0.5\n",
        "#特徴データ\n",
        "X1=df.iloc[0:100,0].values\n",
        "X2=df.iloc[0:100,2].values\n",
        "#正解ラベル\n",
        "Y=df.iloc[0:100,4].values\n",
        "Y=np.where(Y==\"Iris-setosa\",0,1)\n",
        "\n",
        "#エラーの数\n",
        "errors=[]\n",
        "\n",
        "#内側のfor文が外側のfor文で100回ループ(epochの数だけループ)\n",
        "for _ in range(epoch):\n",
        "  #エポック毎のエラーをカウントする\n",
        "  error=0\n",
        "  for x1,x2,target in zip(X1,X2,Y):\n",
        "    #print(x1,x2,target)\n",
        "    #総入力値計算\n",
        "    in_=w1*x1+w2*x2+w0\n",
        "    #活性化関数による出力の計算(ステップ関数)\n",
        "    out_=0\n",
        "    if(in_>=0):\n",
        "      out_=1\n",
        "    else:\n",
        "      out_=0\n",
        "    #重みの更新\n",
        "    update=eta*(target-out_)\n",
        "    w0+=update\n",
        "    w1+=update*x1\n",
        "    w2+=update*x2\n",
        "    \n",
        "    #誤差が0でない場合はエラーとしてカウントする\n",
        "    if(update!=0):\n",
        "      error+=1\n",
        "\n",
        "    #print(x1,x2,in_,out_,w0,w1,w2))\n",
        "\n",
        "  #エポック毎のエラーを配列に格納する\n",
        "  errors.append(error)\n",
        "\n",
        "#errors"
      ]
    },
    {
      "cell_type": "code",
      "execution_count": 32,
      "metadata": {
        "colab": {
          "base_uri": "https://localhost:8080/",
          "height": 265
        },
        "colab_type": "code",
        "id": "wub6dl2Cvfep",
        "outputId": "56d7e70b-de55-4f39-db67-60057ff46bbb"
      },
      "outputs": [
        {
          "data": {
            "image/png": "[encoded data removed]",
            "text/plain": [
              "<Figure size 432x288 with 1 Axes>"
            ]
          },
          "metadata": {
            "needs_background": "light",
            "tags": []
          },
          "output_type": "display_data"
        }
      ],
      "source": [
        "#トレーニングデータと決定境界を描画する\n",
        "plt.scatter(X[:50,0],X[:50,1],color=\"green\",marker=\"o\",label=\"setosa\")\n",
        "plt.scatter(X[50:,0],X[50:,1],color=\"orange\",marker=\"x\",label=\"versicolor\")\n",
        "\n",
        "#グラフをプロット\n",
        "for i in range(300,800):\n",
        "  plt.scatter(i/100,-(w0+w1*(i/100))/w2,color=\"black\",marker=\"o\")\n",
        "\n",
        "plt.show()"
      ]
    }
  ],
  "metadata": {
    "colab": {
      "collapsed_sections": [],
      "name": "単純パーセプトロン_Minami_Kota",
      "provenance": []
    },
    "kernelspec": {
      "display_name": "Python 3",
      "name": "python3"
    }
  },
  "nbformat": 4,
  "nbformat_minor": 0
}
