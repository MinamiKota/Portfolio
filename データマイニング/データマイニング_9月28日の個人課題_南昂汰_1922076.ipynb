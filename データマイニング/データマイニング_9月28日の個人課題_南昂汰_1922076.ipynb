{
  "nbformat": 4,
  "nbformat_minor": 0,
  "metadata": {
    "colab": {
      "name": "データマイニング_9月28日の個人課題_南昂汰_1922076.ipynb",
      "provenance": [],
      "collapsed_sections": []
    },
    "kernelspec": {
      "name": "python3",
      "display_name": "Python 3"
    },
    "language_info": {
      "name": "python"
    }
  },
  "cells": [
    {
      "cell_type": "markdown",
      "metadata": {
        "id": "EGbV4_LyQUvg"
      },
      "source": [
        "南昂汰 1922076"
      ]
    },
    {
      "cell_type": "markdown",
      "metadata": {
        "id": "8LwSfW_qTdu4"
      },
      "source": [
        "1.次の問題をプログラミングすることによって解くこと。"
      ]
    },
    {
      "cell_type": "markdown",
      "metadata": {
        "id": "nzmHcQygISDZ"
      },
      "source": [
        "## 個人演習\n",
        "[橋本洋志,牧野浩二, \"Python コンピュータシミュレーション 人文・自然・社会科学の数理モデル,\"  オーム社, p.146, 2021]\n",
        "- ある商品の輸送問題を考える。倉庫A,Bに、ある同じ商品がそれぞれ20個、22個ある。商店X,Y,Zの注文はそれぞれ18個、14個、10個である。倉庫から商店までの輸送コストを下記の表に示す。輸送費を最小にする配送計画を求めよ。\n",
        "\n",
        "| |X店|Y店|Z店|\n",
        "|---|---|---|---|\n",
        "|倉庫A|¥125|¥160|¥175|\n",
        "|倉庫B|¥145|¥92|¥125|\n"
      ]
    },
    {
      "cell_type": "code",
      "metadata": {
        "id": "j-tbIekHgjM6",
        "colab": {
          "base_uri": "https://localhost:8080/"
        },
        "outputId": "bb394168-c120-44c0-d74f-c3aad54b0052"
      },
      "source": [
        "!pip install pulp"
      ],
      "execution_count": 1,
      "outputs": [
        {
          "output_type": "stream",
          "name": "stdout",
          "text": [
            "Collecting pulp\n",
            "  Downloading PuLP-2.5.1-py3-none-any.whl (41.2 MB)\n",
            "\u001b[K     |████████████████████████████████| 41.2 MB 70 kB/s \n",
            "\u001b[?25hInstalling collected packages: pulp\n",
            "Successfully installed pulp-2.5.1\n"
          ]
        }
      ]
    },
    {
      "cell_type": "code",
      "metadata": {
        "colab": {
          "base_uri": "https://localhost:8080/"
        },
        "id": "1AwjB1QGNpZf",
        "outputId": "9be0729b-90a0-440f-f69f-bc5c965887f2"
      },
      "source": [
        "import pulp\n",
        "prob = pulp.LpProblem(\"Transpose\",pulp.LpMinimize)\n",
        "\n",
        "x1a=pulp.LpVariable('x1a',0,None,'Integer') #倉庫Aから商店Xへ\n",
        "x1b=pulp.LpVariable('x1b',0,None,'Integer') #倉庫Aから商店Yへ\n",
        "x1c=pulp.LpVariable('x1c',0,None,'Integer') #倉庫Aから商店Zへ\n",
        "x2a=pulp.LpVariable('x2a',0,None,'Integer') #倉庫Bから商店Xへ\n",
        "x2b=pulp.LpVariable('x2b',0,None,'Integer') #倉庫Bから商店Yへ\n",
        "x2c=pulp.LpVariable('x2c',0,None,'Integer') #倉庫Bから商店Zへ\n",
        "\n",
        "prob += x1a + x2a ==18 #商店X\n",
        "prob += x1b + x2b ==14 #商店Y\n",
        "prob += x1c + x2c ==10 #商店Z\n",
        "prob += x1a + x1b + x1c <= 20 #倉庫A\n",
        "prob += x2a + x2b + x2c <= 22 #倉庫B\n",
        "prob += 125 * x1a + 160 * x1b +175 * x1c +145 * x2a +92 * x2b +125 * x2c\n",
        "\n",
        "status = prob.solve()\n",
        "\n",
        "print(pulp.LpStatus[status])\n",
        "\n",
        "print(x1a.value())\n",
        "print(x1b.value())\n",
        "print(x1c.value())\n",
        "print(x2a.value())\n",
        "print(x2b.value())\n",
        "print(x2c.value())"
      ],
      "execution_count": 2,
      "outputs": [
        {
          "output_type": "stream",
          "name": "stdout",
          "text": [
            "Optimal\n",
            "18.0\n",
            "0.0\n",
            "2.0\n",
            "0.0\n",
            "14.0\n",
            "8.0\n"
          ]
        }
      ]
    },
    {
      "cell_type": "markdown",
      "metadata": {
        "id": "zzI56zQ2Sb-h"
      },
      "source": [
        "回答  \n",
        "倉庫Aから商店Xへ18個配送  \n",
        "倉庫Aから商店Zへ2個配送  \n",
        "倉庫Bから商店Yへ14個配送  \n",
        "倉庫Bから商店Zへ8個配送"
      ]
    },
    {
      "cell_type": "markdown",
      "metadata": {
        "id": "a2ScG2-xTXun"
      },
      "source": [
        "2.線形計画法で解決できる実問題を調べよ"
      ]
    },
    {
      "cell_type": "markdown",
      "metadata": {
        "id": "9S_6vOzbTqF8"
      },
      "source": [
        "最適セールス・ミックスは線形計画問題としてモデル化し最適解を求めることができる。利益が最大になる時の生産量と販売量の組み合わせを線形計画法によって解決できる。\n",
        "\n",
        "https://profession-net.com/professionjournal/management-accounting-article-48/"
      ]
    }
  ]
}