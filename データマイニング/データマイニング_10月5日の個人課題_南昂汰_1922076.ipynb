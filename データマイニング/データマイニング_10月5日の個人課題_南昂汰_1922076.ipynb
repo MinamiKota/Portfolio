{
  "nbformat": 4,
  "nbformat_minor": 0,
  "metadata": {
    "colab": {
      "name": "データマイニング_10月5日の個人課題_南昂汰_1922076.ipynb",
      "provenance": [],
      "collapsed_sections": []
    },
    "kernelspec": {
      "name": "python3",
      "display_name": "Python 3"
    },
    "language_info": {
      "name": "python"
    }
  },
  "cells": [
    {
      "cell_type": "markdown",
      "metadata": {
        "id": "yQ-OJBUQVAu_"
      },
      "source": [
        "南昂汰 1922076"
      ]
    },
    {
      "cell_type": "markdown",
      "metadata": {
        "id": "OKlIr0yDUpm7"
      },
      "source": [
        "|品物|重さ(g)|価値(円)|\n",
        "|----|----|----|\n",
        "|A|80|100|\n",
        "|B|70|130|\n",
        "|C|60|70|\n",
        "|D|50|40|\n",
        "|E|40|90|\n",
        "|F|30|30|\n",
        "|G|20|20|\n",
        "|H|10|20|"
      ]
    },
    {
      "cell_type": "code",
      "metadata": {
        "id": "OF_jwRO0UKau"
      },
      "source": [
        "import numpy as np\n",
        "import cvxpy as cp"
      ],
      "execution_count": 9,
      "outputs": []
    },
    {
      "cell_type": "code",
      "metadata": {
        "colab": {
          "base_uri": "https://localhost:8080/"
        },
        "id": "cybSzJ2KXnGz",
        "outputId": "591135d0-09f7-4343-9627-13e71f92c5d3"
      },
      "source": [
        "a = ([80,70,60,50,40,30,20,10]) #重さ(g)\n",
        "b = np.array([100,130,70,40,90,30,20,20]).T #価値(円)\n",
        "x = cp.Variable(8,boolean=True)\n",
        "obj = cp.Maximize(b.T*x)\n",
        "cons = [a*x <= 100]\n",
        "P = cp.Problem(obj,cons)\n",
        "P.solve(verbose=True)"
      ],
      "execution_count": 10,
      "outputs": [
        {
          "output_type": "execute_result",
          "data": {
            "text/plain": [
              "170.0"
            ]
          },
          "metadata": {},
          "execution_count": 10
        }
      ]
    },
    {
      "cell_type": "markdown",
      "metadata": {
        "id": "YKNxElqqeV86"
      },
      "source": [
        "170円が最大である。"
      ]
    },
    {
      "cell_type": "code",
      "metadata": {
        "colab": {
          "base_uri": "https://localhost:8080/"
        },
        "id": "zDscy62OXtDy",
        "outputId": "98d83caf-72e6-48cb-b8c4-d284ec7b5992"
      },
      "source": [
        "x.value"
      ],
      "execution_count": 11,
      "outputs": [
        {
          "output_type": "execute_result",
          "data": {
            "text/plain": [
              "array([0., 1., 0., 0., 0., 0., 1., 1.])"
            ]
          },
          "metadata": {},
          "execution_count": 11
        }
      ]
    },
    {
      "cell_type": "markdown",
      "metadata": {
        "id": "uqI_CaJcY-yK"
      },
      "source": [
        "B G H を詰め込むと良い。"
      ]
    }
  ]
}