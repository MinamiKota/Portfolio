{
  "nbformat": 4,
  "nbformat_minor": 0,
  "metadata": {
    "colab": {
      "name": "データマイニング_10月12日の個人課題_南昂汰_1922076.ipynb",
      "provenance": [],
      "collapsed_sections": []
    },
    "kernelspec": {
      "name": "python3",
      "display_name": "Python 3"
    },
    "language_info": {
      "name": "python"
    }
  },
  "cells": [
    {
      "cell_type": "markdown",
      "metadata": {
        "id": "YXdnjnTKp902"
      },
      "source": [
        "南昂汰 1922076"
      ]
    },
    {
      "cell_type": "markdown",
      "metadata": {
        "id": "CpxpcCNyFMKv"
      },
      "source": [
        "|駅|駅|移動時間(分)|\n",
        "|----|----|----|\n",
        "|東京|品川|8|\n",
        "|品川|渋谷|13|\n",
        "|渋谷|新宿|6|\n",
        "|新宿|神田|12|\n",
        "|東京|神田|2|\n",
        "|神田|上野|5|\n",
        "|上野|日暮里|4|\n",
        "|日暮里|池袋|12|\n",
        "|池袋|新宿|6|\n",
        "|品川|川崎|14|\n",
        "|川崎|横浜|12|"
      ]
    },
    {
      "cell_type": "code",
      "metadata": {
        "colab": {
          "base_uri": "https://localhost:8080/"
        },
        "id": "3Ybq1kYgFFPj",
        "outputId": "ef87e7b9-80b4-40d7-c986-351161491b86"
      },
      "source": [
        "# 日本語化\n",
        "!pip install japanize-matplotlib"
      ],
      "execution_count": 1,
      "outputs": [
        {
          "output_type": "stream",
          "name": "stdout",
          "text": [
            "Requirement already satisfied: japanize-matplotlib in /usr/local/lib/python3.7/dist-packages (1.1.3)\n",
            "Requirement already satisfied: matplotlib in /usr/local/lib/python3.7/dist-packages (from japanize-matplotlib) (3.2.2)\n",
            "Requirement already satisfied: python-dateutil>=2.1 in /usr/local/lib/python3.7/dist-packages (from matplotlib->japanize-matplotlib) (2.8.2)\n",
            "Requirement already satisfied: cycler>=0.10 in /usr/local/lib/python3.7/dist-packages (from matplotlib->japanize-matplotlib) (0.10.0)\n",
            "Requirement already satisfied: numpy>=1.11 in /usr/local/lib/python3.7/dist-packages (from matplotlib->japanize-matplotlib) (1.19.5)\n",
            "Requirement already satisfied: pyparsing!=2.0.4,!=2.1.2,!=2.1.6,>=2.0.1 in /usr/local/lib/python3.7/dist-packages (from matplotlib->japanize-matplotlib) (2.4.7)\n",
            "Requirement already satisfied: kiwisolver>=1.0.1 in /usr/local/lib/python3.7/dist-packages (from matplotlib->japanize-matplotlib) (1.3.2)\n",
            "Requirement already satisfied: six in /usr/local/lib/python3.7/dist-packages (from cycler>=0.10->matplotlib->japanize-matplotlib) (1.15.0)\n"
          ]
        }
      ]
    },
    {
      "cell_type": "code",
      "metadata": {
        "id": "Zoy6BSnDFkAQ",
        "colab": {
          "base_uri": "https://localhost:8080/"
        },
        "outputId": "91c7e75c-776e-4e52-8cee-1c452746ec5b"
      },
      "source": [
        "# 「IPA」フォントをインストール\n",
        "!apt-get -y install fonts-ipafont-gothic\n",
        "# matplotlibのキャッシュをクリア\n",
        "!rm /root/.cache/matplotlib/fontlist-v300.json"
      ],
      "execution_count": 2,
      "outputs": [
        {
          "output_type": "stream",
          "name": "stdout",
          "text": [
            "Reading package lists... Done\n",
            "Building dependency tree       \n",
            "Reading state information... Done\n",
            "fonts-ipafont-gothic is already the newest version (00303-18ubuntu1).\n",
            "0 upgraded, 0 newly installed, 0 to remove and 37 not upgraded.\n",
            "rm: cannot remove '/root/.cache/matplotlib/fontlist-v300.json': No such file or directory\n"
          ]
        }
      ]
    },
    {
      "cell_type": "code",
      "metadata": {
        "id": "4FFuXIRvFn-O"
      },
      "source": [
        "import networkx as nx\n",
        "import matplotlib.pyplot as plt\n",
        "import japanize_matplotlib "
      ],
      "execution_count": 3,
      "outputs": []
    },
    {
      "cell_type": "code",
      "metadata": {
        "id": "kTDkGks0FvOn"
      },
      "source": [
        "# 0〜9までの駅コード\n",
        "station_def=['東京','神田','上野','日暮里','池袋','渋谷','品川','新宿','川崎','横浜']\n",
        "\n",
        "G=nx.Graph()\n",
        "G.add_nodes_from(station_def)\n",
        "G.add_weighted_edges_from([\n",
        "                           ('東京','品川',8),\n",
        "                           ('品川','渋谷',13),\n",
        "                           ('渋谷','新宿',6),\n",
        "                           ('新宿','神田',12),\n",
        "                           ('東京','神田',2),\n",
        "                           ('神田','上野',5),\n",
        "                           ('上野','日暮里',4),\n",
        "                           ('日暮里','池袋',12),\n",
        "                           ('池袋','新宿',6),\n",
        "                           ('品川','川崎',14),\n",
        "                           ('川崎','横浜',12)\n",
        "                           ])"
      ],
      "execution_count": 4,
      "outputs": []
    },
    {
      "cell_type": "code",
      "metadata": {
        "id": "l-BiAUboF1FQ",
        "colab": {
          "base_uri": "https://localhost:8080/",
          "height": 1000
        },
        "outputId": "2292d2da-39b0-4213-adea-7ccc4e9cc86d"
      },
      "source": [
        "pos = {'横浜':(0,-1),'川崎':(1,-1),'品川':(2,-1),'渋谷':(2,0),'新宿':(2,1),'池袋':(3,1),'東京':(3,-1),'日暮里':(4,1),'上野':(4,0),'神田':(4,-1)}\n",
        "edge_labels = {(i, j): w['weight'] for i, j, w in G.edges(data=True)}\n",
        "\n",
        "# ノードを描画\n",
        "nx.draw_networkx_nodes(G, pos, node_size=500)\n",
        "\n",
        "# エッジを描画\n",
        "nx.draw_networkx_edges(G, pos, width=3)\n",
        "\n",
        "# ノードのラベルを描画\n",
        "nx.draw_networkx_labels(G, pos)\n",
        "\n",
        "# エッジのラベルを描画\n",
        "nx.draw_networkx_edge_labels(G, pos, edge_labels=edge_labels)\n",
        "\n",
        "plt.show()"
      ],
      "execution_count": 5,
      "outputs": [
        {
          "output_type": "stream",
          "name": "stderr",
          "text": [
            "/usr/local/lib/python3.7/dist-packages/matplotlib/backends/backend_agg.py:214: RuntimeWarning: Glyph 26481 missing from current font.\n",
            "  font.set_text(s, 0.0, flags=flags)\n",
            "/usr/local/lib/python3.7/dist-packages/matplotlib/backends/backend_agg.py:214: RuntimeWarning: Glyph 20140 missing from current font.\n",
            "  font.set_text(s, 0.0, flags=flags)\n",
            "/usr/local/lib/python3.7/dist-packages/matplotlib/backends/backend_agg.py:214: RuntimeWarning: Glyph 31070 missing from current font.\n",
            "  font.set_text(s, 0.0, flags=flags)\n",
            "/usr/local/lib/python3.7/dist-packages/matplotlib/backends/backend_agg.py:214: RuntimeWarning: Glyph 30000 missing from current font.\n",
            "  font.set_text(s, 0.0, flags=flags)\n",
            "/usr/local/lib/python3.7/dist-packages/matplotlib/backends/backend_agg.py:214: RuntimeWarning: Glyph 19978 missing from current font.\n",
            "  font.set_text(s, 0.0, flags=flags)\n",
            "/usr/local/lib/python3.7/dist-packages/matplotlib/backends/backend_agg.py:214: RuntimeWarning: Glyph 37326 missing from current font.\n",
            "  font.set_text(s, 0.0, flags=flags)\n",
            "/usr/local/lib/python3.7/dist-packages/matplotlib/backends/backend_agg.py:214: RuntimeWarning: Glyph 26085 missing from current font.\n",
            "  font.set_text(s, 0.0, flags=flags)\n",
            "/usr/local/lib/python3.7/dist-packages/matplotlib/backends/backend_agg.py:214: RuntimeWarning: Glyph 26286 missing from current font.\n",
            "  font.set_text(s, 0.0, flags=flags)\n",
            "/usr/local/lib/python3.7/dist-packages/matplotlib/backends/backend_agg.py:214: RuntimeWarning: Glyph 37324 missing from current font.\n",
            "  font.set_text(s, 0.0, flags=flags)\n",
            "/usr/local/lib/python3.7/dist-packages/matplotlib/backends/backend_agg.py:214: RuntimeWarning: Glyph 27744 missing from current font.\n",
            "  font.set_text(s, 0.0, flags=flags)\n",
            "/usr/local/lib/python3.7/dist-packages/matplotlib/backends/backend_agg.py:214: RuntimeWarning: Glyph 34955 missing from current font.\n",
            "  font.set_text(s, 0.0, flags=flags)\n",
            "/usr/local/lib/python3.7/dist-packages/matplotlib/backends/backend_agg.py:214: RuntimeWarning: Glyph 28171 missing from current font.\n",
            "  font.set_text(s, 0.0, flags=flags)\n",
            "/usr/local/lib/python3.7/dist-packages/matplotlib/backends/backend_agg.py:214: RuntimeWarning: Glyph 35895 missing from current font.\n",
            "  font.set_text(s, 0.0, flags=flags)\n",
            "/usr/local/lib/python3.7/dist-packages/matplotlib/backends/backend_agg.py:214: RuntimeWarning: Glyph 21697 missing from current font.\n",
            "  font.set_text(s, 0.0, flags=flags)\n",
            "/usr/local/lib/python3.7/dist-packages/matplotlib/backends/backend_agg.py:214: RuntimeWarning: Glyph 24029 missing from current font.\n",
            "  font.set_text(s, 0.0, flags=flags)\n",
            "/usr/local/lib/python3.7/dist-packages/matplotlib/backends/backend_agg.py:214: RuntimeWarning: Glyph 26032 missing from current font.\n",
            "  font.set_text(s, 0.0, flags=flags)\n",
            "/usr/local/lib/python3.7/dist-packages/matplotlib/backends/backend_agg.py:214: RuntimeWarning: Glyph 23487 missing from current font.\n",
            "  font.set_text(s, 0.0, flags=flags)\n",
            "/usr/local/lib/python3.7/dist-packages/matplotlib/backends/backend_agg.py:214: RuntimeWarning: Glyph 23822 missing from current font.\n",
            "  font.set_text(s, 0.0, flags=flags)\n",
            "/usr/local/lib/python3.7/dist-packages/matplotlib/backends/backend_agg.py:214: RuntimeWarning: Glyph 27178 missing from current font.\n",
            "  font.set_text(s, 0.0, flags=flags)\n",
            "/usr/local/lib/python3.7/dist-packages/matplotlib/backends/backend_agg.py:214: RuntimeWarning: Glyph 27996 missing from current font.\n",
            "  font.set_text(s, 0.0, flags=flags)\n",
            "/usr/local/lib/python3.7/dist-packages/matplotlib/backends/backend_agg.py:183: RuntimeWarning: Glyph 26481 missing from current font.\n",
            "  font.set_text(s, 0, flags=flags)\n",
            "/usr/local/lib/python3.7/dist-packages/matplotlib/backends/backend_agg.py:183: RuntimeWarning: Glyph 20140 missing from current font.\n",
            "  font.set_text(s, 0, flags=flags)\n",
            "/usr/local/lib/python3.7/dist-packages/matplotlib/backends/backend_agg.py:183: RuntimeWarning: Glyph 31070 missing from current font.\n",
            "  font.set_text(s, 0, flags=flags)\n",
            "/usr/local/lib/python3.7/dist-packages/matplotlib/backends/backend_agg.py:183: RuntimeWarning: Glyph 30000 missing from current font.\n",
            "  font.set_text(s, 0, flags=flags)\n",
            "/usr/local/lib/python3.7/dist-packages/matplotlib/backends/backend_agg.py:183: RuntimeWarning: Glyph 19978 missing from current font.\n",
            "  font.set_text(s, 0, flags=flags)\n",
            "/usr/local/lib/python3.7/dist-packages/matplotlib/backends/backend_agg.py:183: RuntimeWarning: Glyph 37326 missing from current font.\n",
            "  font.set_text(s, 0, flags=flags)\n",
            "/usr/local/lib/python3.7/dist-packages/matplotlib/backends/backend_agg.py:183: RuntimeWarning: Glyph 26085 missing from current font.\n",
            "  font.set_text(s, 0, flags=flags)\n",
            "/usr/local/lib/python3.7/dist-packages/matplotlib/backends/backend_agg.py:183: RuntimeWarning: Glyph 26286 missing from current font.\n",
            "  font.set_text(s, 0, flags=flags)\n",
            "/usr/local/lib/python3.7/dist-packages/matplotlib/backends/backend_agg.py:183: RuntimeWarning: Glyph 37324 missing from current font.\n",
            "  font.set_text(s, 0, flags=flags)\n",
            "/usr/local/lib/python3.7/dist-packages/matplotlib/backends/backend_agg.py:183: RuntimeWarning: Glyph 27744 missing from current font.\n",
            "  font.set_text(s, 0, flags=flags)\n",
            "/usr/local/lib/python3.7/dist-packages/matplotlib/backends/backend_agg.py:183: RuntimeWarning: Glyph 34955 missing from current font.\n",
            "  font.set_text(s, 0, flags=flags)\n",
            "/usr/local/lib/python3.7/dist-packages/matplotlib/backends/backend_agg.py:183: RuntimeWarning: Glyph 28171 missing from current font.\n",
            "  font.set_text(s, 0, flags=flags)\n",
            "/usr/local/lib/python3.7/dist-packages/matplotlib/backends/backend_agg.py:183: RuntimeWarning: Glyph 35895 missing from current font.\n",
            "  font.set_text(s, 0, flags=flags)\n",
            "/usr/local/lib/python3.7/dist-packages/matplotlib/backends/backend_agg.py:183: RuntimeWarning: Glyph 21697 missing from current font.\n",
            "  font.set_text(s, 0, flags=flags)\n",
            "/usr/local/lib/python3.7/dist-packages/matplotlib/backends/backend_agg.py:183: RuntimeWarning: Glyph 24029 missing from current font.\n",
            "  font.set_text(s, 0, flags=flags)\n",
            "/usr/local/lib/python3.7/dist-packages/matplotlib/backends/backend_agg.py:183: RuntimeWarning: Glyph 26032 missing from current font.\n",
            "  font.set_text(s, 0, flags=flags)\n",
            "/usr/local/lib/python3.7/dist-packages/matplotlib/backends/backend_agg.py:183: RuntimeWarning: Glyph 23487 missing from current font.\n",
            "  font.set_text(s, 0, flags=flags)\n",
            "/usr/local/lib/python3.7/dist-packages/matplotlib/backends/backend_agg.py:183: RuntimeWarning: Glyph 23822 missing from current font.\n",
            "  font.set_text(s, 0, flags=flags)\n",
            "/usr/local/lib/python3.7/dist-packages/matplotlib/backends/backend_agg.py:183: RuntimeWarning: Glyph 27178 missing from current font.\n",
            "  font.set_text(s, 0, flags=flags)\n",
            "/usr/local/lib/python3.7/dist-packages/matplotlib/backends/backend_agg.py:183: RuntimeWarning: Glyph 27996 missing from current font.\n",
            "  font.set_text(s, 0, flags=flags)\n"
          ]
        },
        {
          "output_type": "display_data",
          "data": {
            "image/png": "[encoded data removed]",
            "text/plain": [
              "<Figure size 432x288 with 1 Axes>"
            ]
          },
          "metadata": {}
        }
      ]
    },
    {
      "cell_type": "code",
      "metadata": {
        "colab": {
          "base_uri": "https://localhost:8080/"
        },
        "id": "75Vx-DL4F3Aj",
        "outputId": "c662a1b4-269f-4182-884f-13acfe9df529"
      },
      "source": [
        "nx.dijkstra_path(G,'横浜','日暮里')"
      ],
      "execution_count": 6,
      "outputs": [
        {
          "output_type": "execute_result",
          "data": {
            "text/plain": [
              "['横浜', '川崎', '品川', '東京', '神田', '上野', '日暮里']"
            ]
          },
          "metadata": {},
          "execution_count": 6
        }
      ]
    },
    {
      "cell_type": "code",
      "metadata": {
        "colab": {
          "base_uri": "https://localhost:8080/"
        },
        "id": "oxQyEQucHHPy",
        "outputId": "46442cba-0caf-4aad-bc56-dd901b444cd0"
      },
      "source": [
        "# ダイクストラ法\n",
        "for i in range(len(station_def)):\n",
        "  for u in range(len(station_def)):\n",
        "    print( nx.dijkstra_path(G,station_def[i],station_def[u]) )"
      ],
      "execution_count": 7,
      "outputs": [
        {
          "output_type": "stream",
          "name": "stdout",
          "text": [
            "['東京']\n",
            "['東京', '神田']\n",
            "['東京', '神田', '上野']\n",
            "['東京', '神田', '上野', '日暮里']\n",
            "['東京', '神田', '新宿', '池袋']\n",
            "['東京', '神田', '新宿', '渋谷']\n",
            "['東京', '品川']\n",
            "['東京', '神田', '新宿']\n",
            "['東京', '品川', '川崎']\n",
            "['東京', '品川', '川崎', '横浜']\n",
            "['神田', '東京']\n",
            "['神田']\n",
            "['神田', '上野']\n",
            "['神田', '上野', '日暮里']\n",
            "['神田', '新宿', '池袋']\n",
            "['神田', '新宿', '渋谷']\n",
            "['神田', '東京', '品川']\n",
            "['神田', '新宿']\n",
            "['神田', '東京', '品川', '川崎']\n",
            "['神田', '東京', '品川', '川崎', '横浜']\n",
            "['上野', '神田', '東京']\n",
            "['上野', '神田']\n",
            "['上野']\n",
            "['上野', '日暮里']\n",
            "['上野', '日暮里', '池袋']\n",
            "['上野', '神田', '新宿', '渋谷']\n",
            "['上野', '神田', '東京', '品川']\n",
            "['上野', '神田', '新宿']\n",
            "['上野', '神田', '東京', '品川', '川崎']\n",
            "['上野', '神田', '東京', '品川', '川崎', '横浜']\n",
            "['日暮里', '上野', '神田', '東京']\n",
            "['日暮里', '上野', '神田']\n",
            "['日暮里', '上野']\n",
            "['日暮里']\n",
            "['日暮里', '池袋']\n",
            "['日暮里', '池袋', '新宿', '渋谷']\n",
            "['日暮里', '上野', '神田', '東京', '品川']\n",
            "['日暮里', '池袋', '新宿']\n",
            "['日暮里', '上野', '神田', '東京', '品川', '川崎']\n",
            "['日暮里', '上野', '神田', '東京', '品川', '川崎', '横浜']\n",
            "['池袋', '新宿', '神田', '東京']\n",
            "['池袋', '新宿', '神田']\n",
            "['池袋', '日暮里', '上野']\n",
            "['池袋', '日暮里']\n",
            "['池袋']\n",
            "['池袋', '新宿', '渋谷']\n",
            "['池袋', '新宿', '渋谷', '品川']\n",
            "['池袋', '新宿']\n",
            "['池袋', '新宿', '渋谷', '品川', '川崎']\n",
            "['池袋', '新宿', '渋谷', '品川', '川崎', '横浜']\n",
            "['渋谷', '新宿', '神田', '東京']\n",
            "['渋谷', '新宿', '神田']\n",
            "['渋谷', '新宿', '神田', '上野']\n",
            "['渋谷', '新宿', '池袋', '日暮里']\n",
            "['渋谷', '新宿', '池袋']\n",
            "['渋谷']\n",
            "['渋谷', '品川']\n",
            "['渋谷', '新宿']\n",
            "['渋谷', '品川', '川崎']\n",
            "['渋谷', '品川', '川崎', '横浜']\n",
            "['品川', '東京']\n",
            "['品川', '東京', '神田']\n",
            "['品川', '東京', '神田', '上野']\n",
            "['品川', '東京', '神田', '上野', '日暮里']\n",
            "['品川', '渋谷', '新宿', '池袋']\n",
            "['品川', '渋谷']\n",
            "['品川']\n",
            "['品川', '渋谷', '新宿']\n",
            "['品川', '川崎']\n",
            "['品川', '川崎', '横浜']\n",
            "['新宿', '神田', '東京']\n",
            "['新宿', '神田']\n",
            "['新宿', '神田', '上野']\n",
            "['新宿', '池袋', '日暮里']\n",
            "['新宿', '池袋']\n",
            "['新宿', '渋谷']\n",
            "['新宿', '渋谷', '品川']\n",
            "['新宿']\n",
            "['新宿', '渋谷', '品川', '川崎']\n",
            "['新宿', '渋谷', '品川', '川崎', '横浜']\n",
            "['川崎', '品川', '東京']\n",
            "['川崎', '品川', '東京', '神田']\n",
            "['川崎', '品川', '東京', '神田', '上野']\n",
            "['川崎', '品川', '東京', '神田', '上野', '日暮里']\n",
            "['川崎', '品川', '渋谷', '新宿', '池袋']\n",
            "['川崎', '品川', '渋谷']\n",
            "['川崎', '品川']\n",
            "['川崎', '品川', '渋谷', '新宿']\n",
            "['川崎']\n",
            "['川崎', '横浜']\n",
            "['横浜', '川崎', '品川', '東京']\n",
            "['横浜', '川崎', '品川', '東京', '神田']\n",
            "['横浜', '川崎', '品川', '東京', '神田', '上野']\n",
            "['横浜', '川崎', '品川', '東京', '神田', '上野', '日暮里']\n",
            "['横浜', '川崎', '品川', '渋谷', '新宿', '池袋']\n",
            "['横浜', '川崎', '品川', '渋谷']\n",
            "['横浜', '川崎', '品川']\n",
            "['横浜', '川崎', '品川', '渋谷', '新宿']\n",
            "['横浜', '川崎']\n",
            "['横浜']\n"
          ]
        }
      ]
    }
  ]
}