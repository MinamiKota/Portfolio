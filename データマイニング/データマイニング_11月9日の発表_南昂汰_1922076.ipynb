{
  "nbformat": 4,
  "nbformat_minor": 0,
  "metadata": {
    "colab": {
      "name": "データマイニング_11月9日の発表_南昂汰_1922076.ipynb",
      "provenance": [],
      "collapsed_sections": []
    },
    "kernelspec": {
      "name": "python3",
      "display_name": "Python 3"
    },
    "language_info": {
      "name": "python"
    }
  },
  "cells": [
    {
      "cell_type": "markdown",
      "metadata": {
        "id": "yQ-OJBUQVAu_"
      },
      "source": [
        "南昂汰 1922076 ナップサック問題 くら寿司"
      ]
    },
    {
      "cell_type": "code",
      "metadata": {
        "id": "OF_jwRO0UKau"
      },
      "source": [
        "import numpy as np\n",
        "import cvxpy as cp"
      ],
      "execution_count": 146,
      "outputs": []
    },
    {
      "cell_type": "code",
      "metadata": {
        "id": "yxE70dnNVuq-"
      },
      "source": [
        "menuname = []\n",
        "menucost = []\n",
        "menu = []\n",
        "\n",
        "money = 1100 #払える金額\n",
        "\n",
        "menuname.append(\"極み熟成 まぐろ\")\n",
        "menucost.append(110)\n",
        "menu.append(2) #どのくらい食べたいかを数値で入力\n",
        "\n",
        "menuname.append(\"極み熟成 漬けまぐろ\")\n",
        "menucost.append(110)\n",
        "menu.append(2) #どのくらい食べたいかを数値で入力\n",
        "\n",
        "menuname.append(\"漬けびんちょうまぐろ\")\n",
        "menucost.append(110)\n",
        "menu.append(2) #どのくらい食べたいかを数値で入力\n",
        "\n",
        "menuname.append(\"サーモン\")\n",
        "menucost.append(110)\n",
        "menu.append(5) #どのくらい食べたいかを数値で入力\n",
        "\n",
        "menuname.append(\"オニオンサーモン\")\n",
        "menucost.append(110)\n",
        "menu.append(2) #どのくらい食べたいかを数値で入力\n",
        "\n",
        "menuname.append(\"はまち\")\n",
        "menucost.append(110)\n",
        "menu.append(1) #どのくらい食べたいかを数値で入力\n",
        "\n",
        "menuname.append(\"ゆず塩かつおたたき\")\n",
        "menucost.append(110)\n",
        "menu.append(2) #どのくらい食べたいかを数値で入力\n",
        "\n",
        "menuname.append(\"えび\")\n",
        "menucost.append(110)\n",
        "menu.append(3) #どのくらい食べたいかを数値で入力\n",
        "\n",
        "menuname.append(\"甘えび\")\n",
        "menucost.append(110)\n",
        "menu.append(2) #どのくらい食べたいかを数値で入力\n",
        "\n",
        "menuname.append(\"肉厚とろ〆さば\")\n",
        "menucost.append(110)\n",
        "menu.append(5) #どのくらい食べたいかを数値で入力\n",
        "\n",
        "menuname.append(\"真いわし\")\n",
        "menucost.append(110)\n",
        "menu.append(4) #どのくらい食べたいかを数値で入力\n",
        "\n",
        "menuname.append(\"あじ\")\n",
        "menucost.append(110)\n",
        "menu.append(4) #どのくらい食べたいかを数値で入力\n",
        "\n",
        "menuname.append(\"大葉真いか\")\n",
        "menucost.append(110)\n",
        "menu.append(3) #どのくらい食べたいかを数値で入力\n",
        "\n",
        "menuname.append(\"真たこ\")\n",
        "menucost.append(110)\n",
        "menu.append(1) #どのくらい食べたいかを数値で入力\n",
        "\n",
        "menuname.append(\"つぶ貝\")\n",
        "menucost.append(110)\n",
        "menu.append(1) #どのくらい食べたいかを数値で入力\n",
        "\n",
        "menuname.append(\"たまご焼き\")\n",
        "menucost.append(110)\n",
        "menu.append(2) #どのくらい食べたいかを数値で入力\n",
        "\n",
        "menuname.append(\"あぶりチーズサーモン\")\n",
        "menucost.append(110)\n",
        "menu.append(2) #どのくらい食べたいかを数値で入力\n",
        "\n",
        "menuname.append(\"ハンバーグ\")\n",
        "menucost.append(110)\n",
        "menu.append(2) #どのくらい食べたいかを数値で入力\n",
        "\n",
        "menuname.append(\"味付いくら\")\n",
        "menucost.append(110)\n",
        "menu.append(2) #どのくらい食べたいかを数値で入力\n",
        "\n",
        "menuname.append(\"ねぎまぐろ\")\n",
        "menucost.append(110)\n",
        "menu.append(2) #どのくらい食べたいかを数値で入力\n",
        "\n",
        "menuname.append(\"コーン\")\n",
        "menucost.append(110)\n",
        "menu.append(4) #どのくらい食べたいかを数値で入力\n",
        "\n",
        "menuname.append(\"まぐろユッケ\")\n",
        "menucost.append(110)\n",
        "menu.append(3) #どのくらい食べたいかを数値で入力\n",
        "\n",
        "menuname.append(\"いなり\")\n",
        "menucost.append(110)\n",
        "menu.append(2) #どのくらい食べたいかを数値で入力"
      ],
      "execution_count": 147,
      "outputs": []
    },
    {
      "cell_type": "code",
      "metadata": {
        "colab": {
          "base_uri": "https://localhost:8080/"
        },
        "id": "0YrnUPugq4y6",
        "outputId": "43385af4-c5da-4bbb-d3f1-3a694d300cce"
      },
      "source": [
        "len(menu)"
      ],
      "execution_count": 148,
      "outputs": [
        {
          "output_type": "execute_result",
          "data": {
            "text/plain": [
              "23"
            ]
          },
          "metadata": {},
          "execution_count": 148
        }
      ]
    },
    {
      "cell_type": "code",
      "metadata": {
        "colab": {
          "base_uri": "https://localhost:8080/"
        },
        "id": "3_7QDnv2iQhm",
        "outputId": "daa2cd6c-d192-4b5f-d1ec-80c55554c911"
      },
      "source": [
        "a = (menucost) #値段(円)\n",
        "a"
      ],
      "execution_count": 149,
      "outputs": [
        {
          "output_type": "execute_result",
          "data": {
            "text/plain": [
              "[110,\n",
              " 110,\n",
              " 110,\n",
              " 110,\n",
              " 110,\n",
              " 110,\n",
              " 110,\n",
              " 110,\n",
              " 110,\n",
              " 110,\n",
              " 110,\n",
              " 110,\n",
              " 110,\n",
              " 110,\n",
              " 110,\n",
              " 110,\n",
              " 110,\n",
              " 110,\n",
              " 110,\n",
              " 110,\n",
              " 110,\n",
              " 110,\n",
              " 110]"
            ]
          },
          "metadata": {},
          "execution_count": 149
        }
      ]
    },
    {
      "cell_type": "code",
      "metadata": {
        "colab": {
          "base_uri": "https://localhost:8080/"
        },
        "id": "rFe8kV5yecfU",
        "outputId": "5cac7b29-56f0-4504-dfe7-c9ce4f545768"
      },
      "source": [
        "b = np.array(menu).T #価値（食べたさ)\n",
        "b"
      ],
      "execution_count": 150,
      "outputs": [
        {
          "output_type": "execute_result",
          "data": {
            "text/plain": [
              "array([2, 2, 2, 5, 2, 1, 2, 3, 2, 5, 4, 4, 3, 1, 1, 2, 2, 2, 2, 2, 4, 3,\n",
              "       2])"
            ]
          },
          "metadata": {},
          "execution_count": 150
        }
      ]
    },
    {
      "cell_type": "code",
      "metadata": {
        "colab": {
          "base_uri": "https://localhost:8080/"
        },
        "id": "cybSzJ2KXnGz",
        "outputId": "52604b62-ea76-493e-862a-014dd47fa4e0"
      },
      "source": [
        "x = cp.Variable(len(menu),boolean=True)\n",
        "obj = cp.Maximize(b.T*x)\n",
        "cons = [a*x <= money]\n",
        "P = cp.Problem(obj,cons)\n",
        "P.solve(verbose=True)"
      ],
      "execution_count": 151,
      "outputs": [
        {
          "output_type": "execute_result",
          "data": {
            "text/plain": [
              "35.0"
            ]
          },
          "metadata": {},
          "execution_count": 151
        }
      ]
    },
    {
      "cell_type": "code",
      "metadata": {
        "colab": {
          "base_uri": "https://localhost:8080/"
        },
        "id": "zDscy62OXtDy",
        "outputId": "b4d387c4-affe-4e32-cbcc-bec5d01ebc46"
      },
      "source": [
        "x.value"
      ],
      "execution_count": 152,
      "outputs": [
        {
          "output_type": "execute_result",
          "data": {
            "text/plain": [
              "array([1., 1., 0., 1., 0., 0., 0., 1., 0., 1., 1., 1., 1., 0., 0., 0., 0.,\n",
              "       0., 0., 0., 1., 1., 0.])"
            ]
          },
          "metadata": {},
          "execution_count": 152
        }
      ]
    },
    {
      "cell_type": "code",
      "metadata": {
        "colab": {
          "base_uri": "https://localhost:8080/"
        },
        "id": "gPQ6IT14XxW5",
        "outputId": "064ca6d5-e970-473f-fda5-b9e45c144f93"
      },
      "source": [
        "y = []\n",
        "\n",
        "for i in range(len(menu)):\n",
        "  if x.value[i] == 1:\n",
        "    y.append(menuname[i])\n",
        "\n",
        "bikkurapon = money // 550\n",
        "y.append(\"ビッくらポンは\"+str(bikkurapon)+\"回実施できます\")\n",
        "\n",
        "y"
      ],
      "execution_count": 153,
      "outputs": [
        {
          "output_type": "execute_result",
          "data": {
            "text/plain": [
              "['極み熟成 まぐろ',\n",
              " '極み熟成 漬けまぐろ',\n",
              " 'サーモン',\n",
              " 'えび',\n",
              " '肉厚とろ〆さば',\n",
              " '真いわし',\n",
              " 'あじ',\n",
              " '大葉真いか',\n",
              " 'コーン',\n",
              " 'まぐろユッケ',\n",
              " 'ビッくらポンは2回実施できます']"
            ]
          },
          "metadata": {},
          "execution_count": 153
        }
      ]
    }
  ]
}